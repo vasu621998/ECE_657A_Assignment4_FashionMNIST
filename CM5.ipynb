{
 "cells": [
  {
   "cell_type": "markdown",
   "id": "obvious-handy",
   "metadata": {
    "papermill": {
     "duration": 0.032486,
     "end_time": "2021-04-26T05:19:33.495705",
     "exception": false,
     "start_time": "2021-04-26T05:19:33.463219",
     "status": "completed"
    },
    "tags": []
   },
   "source": [
    "# <div align=\"center\">CM5</div>\n",
    "\n",
    "## 5.1 Importing libraries"
   ]
  },
  {
   "cell_type": "code",
   "execution_count": 1,
   "id": "eleven-dependence",
   "metadata": {
    "execution": {
     "iopub.execute_input": "2021-04-26T05:19:33.567853Z",
     "iopub.status.busy": "2021-04-26T05:19:33.567312Z",
     "iopub.status.idle": "2021-04-26T05:19:39.373036Z",
     "shell.execute_reply": "2021-04-26T05:19:39.373637Z"
    },
    "papermill": {
     "duration": 5.848181,
     "end_time": "2021-04-26T05:19:39.373991",
     "exception": false,
     "start_time": "2021-04-26T05:19:33.525810",
     "status": "completed"
    },
    "tags": []
   },
   "outputs": [
    {
     "name": "stdout",
     "output_type": "stream",
     "text": [
      "/kaggle/input/fashionmnist/fashion_mnist_dataset_train.npy\n"
     ]
    }
   ],
   "source": [
    "# Handle table-like data and matrices :\n",
    "import numpy as np \n",
    "import pandas as pd \n",
    "\n",
    "\n",
    "import os\n",
    "for dirname, _, filenames in os.walk('/kaggle/input'):\n",
    "    for filename in filenames:\n",
    "        print(os.path.join(dirname, filename))\n",
    "\n",
    "        \n",
    "# Modelling Helpers Libraries\n",
    "from sklearn.model_selection import train_test_split\n",
    "from sklearn.metrics import confusion_matrix, classification_report\n",
    "from sklearn.model_selection import GridSearchCV , KFold , cross_val_score\n",
    "\n",
    "# Deep Learning Libraries\n",
    "import tensorflow as tf\n",
    "from keras.utils import to_categorical\n",
    "from keras.models import Sequential, load_model\n",
    "from keras.layers import Dense, Dropout, Flatten\n",
    "from keras.layers import Conv2D, MaxPooling2D, BatchNormalization\n",
    "from keras.optimizers import Adam,SGD,Adagrad,Adadelta,RMSprop\n",
    "from keras.preprocessing.image import ImageDataGenerator\n",
    "from keras.callbacks import ReduceLROnPlateau, LearningRateScheduler\n",
    "\n",
    "# Resnet \n",
    "import keras\n",
    "from keras.layers import AveragePooling2D, Input, Flatten\n",
    "from keras.layers import Dense, Conv2D, BatchNormalization, Activation\n",
    "from keras.regularizers import l2\n",
    "from keras.models import Model\n",
    "import os\n",
    "from keras.callbacks import ModelCheckpoint, ReduceLROnPlateau\n",
    "\n",
    "# Machine Learning Model\n",
    "from sklearn.model_selection import GridSearchCV\n",
    "from sklearn.ensemble import RandomForestClassifier\n",
    "from sklearn import metrics\n",
    "\n",
    "# Visualisation\n",
    "import seaborn as sns\n",
    "import matplotlib.pyplot as plt\n",
    "\n",
    "# Time library\n",
    "import time \n",
    "\n",
    "\n",
    "# Classification\n",
    "from sklearn.metrics import accuracy_score,precision_score,recall_score,f1_score,confusion_matrix,classification_report\n",
    "import itertools"
   ]
  },
  {
   "cell_type": "markdown",
   "id": "endless-consequence",
   "metadata": {
    "papermill": {
     "duration": 0.046705,
     "end_time": "2021-04-26T05:19:39.465989",
     "exception": false,
     "start_time": "2021-04-26T05:19:39.419284",
     "status": "completed"
    },
    "tags": []
   },
   "source": [
    "## 5.2 Dataset Extract "
   ]
  },
  {
   "cell_type": "code",
   "execution_count": 2,
   "id": "facial-carrier",
   "metadata": {
    "execution": {
     "iopub.execute_input": "2021-04-26T05:19:39.669483Z",
     "iopub.status.busy": "2021-04-26T05:19:39.668947Z",
     "iopub.status.idle": "2021-04-26T05:19:44.896584Z",
     "shell.execute_reply": "2021-04-26T05:19:44.895693Z"
    },
    "papermill": {
     "duration": 5.278841,
     "end_time": "2021-04-26T05:19:44.896714",
     "exception": false,
     "start_time": "2021-04-26T05:19:39.617873",
     "status": "completed"
    },
    "tags": []
   },
   "outputs": [
    {
     "data": {
      "text/html": [
       "<div>\n",
       "<style scoped>\n",
       "    .dataframe tbody tr th:only-of-type {\n",
       "        vertical-align: middle;\n",
       "    }\n",
       "\n",
       "    .dataframe tbody tr th {\n",
       "        vertical-align: top;\n",
       "    }\n",
       "\n",
       "    .dataframe thead th {\n",
       "        text-align: right;\n",
       "    }\n",
       "</style>\n",
       "<table border=\"1\" class=\"dataframe\">\n",
       "  <thead>\n",
       "    <tr style=\"text-align: right;\">\n",
       "      <th></th>\n",
       "      <th>pixel0</th>\n",
       "      <th>pixel1</th>\n",
       "      <th>pixel2</th>\n",
       "      <th>pixel3</th>\n",
       "      <th>pixel4</th>\n",
       "      <th>pixel5</th>\n",
       "      <th>pixel6</th>\n",
       "      <th>pixel7</th>\n",
       "      <th>pixel8</th>\n",
       "      <th>pixel9</th>\n",
       "      <th>...</th>\n",
       "      <th>pixel775</th>\n",
       "      <th>pixel776</th>\n",
       "      <th>pixel777</th>\n",
       "      <th>pixel778</th>\n",
       "      <th>pixel779</th>\n",
       "      <th>pixel780</th>\n",
       "      <th>pixel781</th>\n",
       "      <th>pixel782</th>\n",
       "      <th>pixel783</th>\n",
       "      <th>target</th>\n",
       "    </tr>\n",
       "  </thead>\n",
       "  <tbody>\n",
       "    <tr>\n",
       "      <th>0</th>\n",
       "      <td>0.0</td>\n",
       "      <td>0.0</td>\n",
       "      <td>0.0</td>\n",
       "      <td>0.0</td>\n",
       "      <td>0.0</td>\n",
       "      <td>0.000000</td>\n",
       "      <td>0.0</td>\n",
       "      <td>0.0</td>\n",
       "      <td>0.000000</td>\n",
       "      <td>0.000000</td>\n",
       "      <td>...</td>\n",
       "      <td>0.000000</td>\n",
       "      <td>0.000000</td>\n",
       "      <td>0.000000</td>\n",
       "      <td>0.0</td>\n",
       "      <td>0.0</td>\n",
       "      <td>0.0</td>\n",
       "      <td>0.0</td>\n",
       "      <td>0.0</td>\n",
       "      <td>0.0</td>\n",
       "      <td>4.0</td>\n",
       "    </tr>\n",
       "    <tr>\n",
       "      <th>1</th>\n",
       "      <td>0.0</td>\n",
       "      <td>0.0</td>\n",
       "      <td>0.0</td>\n",
       "      <td>0.0</td>\n",
       "      <td>0.0</td>\n",
       "      <td>0.003922</td>\n",
       "      <td>0.0</td>\n",
       "      <td>0.0</td>\n",
       "      <td>0.000000</td>\n",
       "      <td>0.000000</td>\n",
       "      <td>...</td>\n",
       "      <td>0.447059</td>\n",
       "      <td>0.509804</td>\n",
       "      <td>0.298039</td>\n",
       "      <td>0.0</td>\n",
       "      <td>0.0</td>\n",
       "      <td>0.0</td>\n",
       "      <td>0.0</td>\n",
       "      <td>0.0</td>\n",
       "      <td>0.0</td>\n",
       "      <td>1.0</td>\n",
       "    </tr>\n",
       "    <tr>\n",
       "      <th>2</th>\n",
       "      <td>0.0</td>\n",
       "      <td>0.0</td>\n",
       "      <td>0.0</td>\n",
       "      <td>0.0</td>\n",
       "      <td>0.0</td>\n",
       "      <td>0.000000</td>\n",
       "      <td>0.0</td>\n",
       "      <td>0.0</td>\n",
       "      <td>0.000000</td>\n",
       "      <td>0.086275</td>\n",
       "      <td>...</td>\n",
       "      <td>0.000000</td>\n",
       "      <td>0.003922</td>\n",
       "      <td>0.000000</td>\n",
       "      <td>0.0</td>\n",
       "      <td>0.0</td>\n",
       "      <td>0.0</td>\n",
       "      <td>0.0</td>\n",
       "      <td>0.0</td>\n",
       "      <td>0.0</td>\n",
       "      <td>0.0</td>\n",
       "    </tr>\n",
       "    <tr>\n",
       "      <th>3</th>\n",
       "      <td>0.0</td>\n",
       "      <td>0.0</td>\n",
       "      <td>0.0</td>\n",
       "      <td>0.0</td>\n",
       "      <td>0.0</td>\n",
       "      <td>0.000000</td>\n",
       "      <td>0.0</td>\n",
       "      <td>0.0</td>\n",
       "      <td>0.129412</td>\n",
       "      <td>0.376471</td>\n",
       "      <td>...</td>\n",
       "      <td>0.000000</td>\n",
       "      <td>0.000000</td>\n",
       "      <td>0.000000</td>\n",
       "      <td>0.0</td>\n",
       "      <td>0.0</td>\n",
       "      <td>0.0</td>\n",
       "      <td>0.0</td>\n",
       "      <td>0.0</td>\n",
       "      <td>0.0</td>\n",
       "      <td>1.0</td>\n",
       "    </tr>\n",
       "    <tr>\n",
       "      <th>4</th>\n",
       "      <td>0.0</td>\n",
       "      <td>0.0</td>\n",
       "      <td>0.0</td>\n",
       "      <td>0.0</td>\n",
       "      <td>0.0</td>\n",
       "      <td>0.000000</td>\n",
       "      <td>0.0</td>\n",
       "      <td>0.0</td>\n",
       "      <td>0.000000</td>\n",
       "      <td>0.000000</td>\n",
       "      <td>...</td>\n",
       "      <td>0.000000</td>\n",
       "      <td>0.000000</td>\n",
       "      <td>0.000000</td>\n",
       "      <td>0.0</td>\n",
       "      <td>0.0</td>\n",
       "      <td>0.0</td>\n",
       "      <td>0.0</td>\n",
       "      <td>0.0</td>\n",
       "      <td>0.0</td>\n",
       "      <td>0.0</td>\n",
       "    </tr>\n",
       "  </tbody>\n",
       "</table>\n",
       "<p>5 rows × 785 columns</p>\n",
       "</div>"
      ],
      "text/plain": [
       "   pixel0  pixel1  pixel2  pixel3  pixel4    pixel5  pixel6  pixel7    pixel8  \\\n",
       "0     0.0     0.0     0.0     0.0     0.0  0.000000     0.0     0.0  0.000000   \n",
       "1     0.0     0.0     0.0     0.0     0.0  0.003922     0.0     0.0  0.000000   \n",
       "2     0.0     0.0     0.0     0.0     0.0  0.000000     0.0     0.0  0.000000   \n",
       "3     0.0     0.0     0.0     0.0     0.0  0.000000     0.0     0.0  0.129412   \n",
       "4     0.0     0.0     0.0     0.0     0.0  0.000000     0.0     0.0  0.000000   \n",
       "\n",
       "     pixel9  ...  pixel775  pixel776  pixel777  pixel778  pixel779  pixel780  \\\n",
       "0  0.000000  ...  0.000000  0.000000  0.000000       0.0       0.0       0.0   \n",
       "1  0.000000  ...  0.447059  0.509804  0.298039       0.0       0.0       0.0   \n",
       "2  0.086275  ...  0.000000  0.003922  0.000000       0.0       0.0       0.0   \n",
       "3  0.376471  ...  0.000000  0.000000  0.000000       0.0       0.0       0.0   \n",
       "4  0.000000  ...  0.000000  0.000000  0.000000       0.0       0.0       0.0   \n",
       "\n",
       "   pixel781  pixel782  pixel783  target  \n",
       "0       0.0       0.0       0.0     4.0  \n",
       "1       0.0       0.0       0.0     1.0  \n",
       "2       0.0       0.0       0.0     0.0  \n",
       "3       0.0       0.0       0.0     1.0  \n",
       "4       0.0       0.0       0.0     0.0  \n",
       "\n",
       "[5 rows x 785 columns]"
      ]
     },
     "execution_count": 2,
     "metadata": {},
     "output_type": "execute_result"
    }
   ],
   "source": [
    "data = np.load('../input/fashionmnist/fashion_mnist_dataset_train.npy', allow_pickle=True).item()\n",
    "data = np.array(data)\n",
    "my_dict = data[()]\n",
    "features = my_dict.get('features')\n",
    "target = my_dict.get('target')\n",
    "farray = features.reshape(features.shape[0], (features.shape[1]*features.shape[2]))\n",
    "column_names = []\n",
    "[column_names.append(\"pixel\"+str(x)) for x in range(0, 784)]\n",
    "f1 = pd.DataFrame(farray , columns = column_names)\n",
    "column_names = ['target']\n",
    "t1  = pd.DataFrame(target , columns = column_names)\n",
    "f1['target'] = t1['target'] - 1\n",
    "f1.head()"
   ]
  },
  {
   "cell_type": "markdown",
   "id": "destroyed-syndicate",
   "metadata": {
    "papermill": {
     "duration": 0.03175,
     "end_time": "2021-04-26T05:19:44.960188",
     "exception": false,
     "start_time": "2021-04-26T05:19:44.928438",
     "status": "completed"
    },
    "tags": []
   },
   "source": [
    "## 5.3 Dataset visualization"
   ]
  },
  {
   "cell_type": "code",
   "execution_count": 3,
   "id": "hidden-parcel",
   "metadata": {
    "execution": {
     "iopub.execute_input": "2021-04-26T05:19:45.026304Z",
     "iopub.status.busy": "2021-04-26T05:19:45.025731Z",
     "iopub.status.idle": "2021-04-26T05:19:45.029735Z",
     "shell.execute_reply": "2021-04-26T05:19:45.029328Z"
    },
    "papermill": {
     "duration": 0.038718,
     "end_time": "2021-04-26T05:19:45.029889",
     "exception": false,
     "start_time": "2021-04-26T05:19:44.991171",
     "status": "completed"
    },
    "tags": []
   },
   "outputs": [],
   "source": [
    "clothing2 = {0 : '1',\n",
    "            1 : '2',\n",
    "            2 : '3',\n",
    "            3 : '4',\n",
    "            4 : '5'}"
   ]
  },
  {
   "cell_type": "code",
   "execution_count": 4,
   "id": "cooked-worse",
   "metadata": {
    "execution": {
     "iopub.execute_input": "2021-04-26T05:19:45.110884Z",
     "iopub.status.busy": "2021-04-26T05:19:45.110105Z",
     "iopub.status.idle": "2021-04-26T05:19:48.169149Z",
     "shell.execute_reply": "2021-04-26T05:19:48.168709Z"
    },
    "papermill": {
     "duration": 3.108709,
     "end_time": "2021-04-26T05:19:48.169271",
     "exception": false,
     "start_time": "2021-04-26T05:19:45.060562",
     "status": "completed"
    },
    "tags": []
   },
   "outputs": [
    {
     "data": {
      "image/png": "[encoded data removed]",
      "text/plain": [
       "<Figure size 1080x1080 with 16 Axes>"
      ]
     },
     "metadata": {
      "needs_background": "light"
     },
     "output_type": "display_data"
    }
   ],
   "source": [
    "fig, axes = plt.subplots(4, 4, figsize = (15,15))\n",
    "for row in axes:\n",
    "    for axe in row:\n",
    "        index = np.random.randint(60000)\n",
    "        img = f1.drop('target', axis=1).values[index].reshape(28,28)\n",
    "        cloths = f1['target'][index]\n",
    "        axe.imshow(img, cmap='gray')\n",
    "        axe.set_title(clothing2[cloths])\n",
    "        axe.set_axis_off()"
   ]
  },
  {
   "cell_type": "markdown",
   "id": "manufactured-frank",
   "metadata": {
    "papermill": {
     "duration": 0.032035,
     "end_time": "2021-04-26T05:19:48.234310",
     "exception": false,
     "start_time": "2021-04-26T05:19:48.202275",
     "status": "completed"
    },
    "tags": []
   },
   "source": [
    "## 5.3 Data Preprocessing"
   ]
  },
  {
   "cell_type": "markdown",
   "id": "quarterly-senate",
   "metadata": {
    "papermill": {
     "duration": 0.032694,
     "end_time": "2021-04-26T05:19:48.299380",
     "exception": false,
     "start_time": "2021-04-26T05:19:48.266686",
     "status": "completed"
    },
    "tags": []
   },
   "source": [
    "### 5.3.1 Setting Random Seeds for Reproducibilty :"
   ]
  },
  {
   "cell_type": "code",
   "execution_count": 5,
   "id": "promising-institution",
   "metadata": {
    "execution": {
     "iopub.execute_input": "2021-04-26T05:19:48.369750Z",
     "iopub.status.busy": "2021-04-26T05:19:48.368568Z",
     "iopub.status.idle": "2021-04-26T05:19:48.371466Z",
     "shell.execute_reply": "2021-04-26T05:19:48.371061Z"
    },
    "papermill": {
     "duration": 0.039222,
     "end_time": "2021-04-26T05:19:48.371571",
     "exception": false,
     "start_time": "2021-04-26T05:19:48.332349",
     "status": "completed"
    },
    "tags": []
   },
   "outputs": [],
   "source": [
    "seed = 66\n",
    "np.random.seed(seed)"
   ]
  },
  {
   "cell_type": "markdown",
   "id": "cordless-flower",
   "metadata": {
    "papermill": {
     "duration": 0.0323,
     "end_time": "2021-04-26T05:19:48.436502",
     "exception": false,
     "start_time": "2021-04-26T05:19:48.404202",
     "status": "completed"
    },
    "tags": []
   },
   "source": [
    "### 5.3.2 Splitting Data into Train and Validation Set :"
   ]
  },
  {
   "cell_type": "code",
   "execution_count": 6,
   "id": "medium-distribution",
   "metadata": {
    "execution": {
     "iopub.execute_input": "2021-04-26T05:19:48.510185Z",
     "iopub.status.busy": "2021-04-26T05:19:48.509416Z",
     "iopub.status.idle": "2021-04-26T05:19:48.877930Z",
     "shell.execute_reply": "2021-04-26T05:19:48.877447Z"
    },
    "papermill": {
     "duration": 0.409164,
     "end_time": "2021-04-26T05:19:48.878059",
     "exception": false,
     "start_time": "2021-04-26T05:19:48.468895",
     "status": "completed"
    },
    "tags": []
   },
   "outputs": [],
   "source": [
    "X = f1.iloc[:, :-1]\n",
    "Y = f1.iloc[:,784]\n",
    "x_train1, x_valtest, y_train, y_valtest = train_test_split(X, Y, test_size=0.2, random_state=seed)\n",
    "x_val1,x_test1,y_val,y_test = train_test_split(x_valtest, y_valtest, test_size=0.5, random_state=seed)"
   ]
  },
  {
   "cell_type": "markdown",
   "id": "federal-bunny",
   "metadata": {
    "papermill": {
     "duration": 0.03241,
     "end_time": "2021-04-26T05:19:48.943523",
     "exception": false,
     "start_time": "2021-04-26T05:19:48.911113",
     "status": "completed"
    },
    "tags": []
   },
   "source": [
    "### 5.3.3 Reshaping Image :"
   ]
  },
  {
   "cell_type": "code",
   "execution_count": 7,
   "id": "complicated-paste",
   "metadata": {
    "execution": {
     "iopub.execute_input": "2021-04-26T05:19:49.015342Z",
     "iopub.status.busy": "2021-04-26T05:19:49.014572Z",
     "iopub.status.idle": "2021-04-26T05:19:49.017374Z",
     "shell.execute_reply": "2021-04-26T05:19:49.016963Z"
    },
    "papermill": {
     "duration": 0.040473,
     "end_time": "2021-04-26T05:19:49.017484",
     "exception": false,
     "start_time": "2021-04-26T05:19:48.977011",
     "status": "completed"
    },
    "tags": []
   },
   "outputs": [],
   "source": [
    "x_train = x_train1.values.reshape((-1, 28, 28, 1))\n",
    "x_val = x_val1.values.reshape((-1, 28, 28, 1))\n",
    "x_test = x_test1.values.reshape((-1, 28, 28, 1))"
   ]
  },
  {
   "cell_type": "markdown",
   "id": "looking-foundation",
   "metadata": {
    "papermill": {
     "duration": 0.032641,
     "end_time": "2021-04-26T05:19:49.082798",
     "exception": false,
     "start_time": "2021-04-26T05:19:49.050157",
     "status": "completed"
    },
    "tags": []
   },
   "source": [
    "### 5.3.4 One Hot Encoding :"
   ]
  },
  {
   "cell_type": "code",
   "execution_count": 8,
   "id": "superb-local",
   "metadata": {
    "execution": {
     "iopub.execute_input": "2021-04-26T05:19:49.153870Z",
     "iopub.status.busy": "2021-04-26T05:19:49.152720Z",
     "iopub.status.idle": "2021-04-26T05:19:49.161279Z",
     "shell.execute_reply": "2021-04-26T05:19:49.161995Z"
    },
    "papermill": {
     "duration": 0.046633,
     "end_time": "2021-04-26T05:19:49.162194",
     "exception": false,
     "start_time": "2021-04-26T05:19:49.115561",
     "status": "completed"
    },
    "tags": []
   },
   "outputs": [],
   "source": [
    "y_train = to_categorical(y_train, num_classes=5)\n",
    "y_val = to_categorical(y_val, num_classes=5)\n",
    "y_test = to_categorical(y_test, num_classes=5)"
   ]
  },
  {
   "cell_type": "markdown",
   "id": "fitting-theology",
   "metadata": {
    "papermill": {
     "duration": 0.05469,
     "end_time": "2021-04-26T05:19:49.273568",
     "exception": false,
     "start_time": "2021-04-26T05:19:49.218878",
     "status": "completed"
    },
    "tags": []
   },
   "source": [
    "## 5.4 Convolutional Neural Network :\n"
   ]
  },
  {
   "cell_type": "markdown",
   "id": "flush-playing",
   "metadata": {
    "papermill": {
     "duration": 0.051586,
     "end_time": "2021-04-26T05:19:49.376155",
     "exception": false,
     "start_time": "2021-04-26T05:19:49.324569",
     "status": "completed"
    },
    "tags": []
   },
   "source": [
    "### 5.4.1 The design of Convolution neural networks definition :\n",
    "\n",
    "1) Firstly we used **Sequential Keras API** which is just a linear stack of layers.\n",
    "\n",
    "2) Then we include **Convolutional Layers**, this operation performs below operations :\n",
    "\n",
    "    1. Apply filters to extract features.\n",
    "\n",
    "    2. Apply activation function( in our case 'relu' ) on every every input value of feature maps.\n",
    "\n",
    "    3. Filters are composed of small kernels learned.\n",
    "\n",
    "3) Next we apply **Batch Normalization** to achieve zero mean and zero variance on image pixels after each convolution.\n",
    "\n",
    "4) Then we add **Max Pooling Layers**, which are used for Dimensionality Reduction or DownSampling the Input. These are used where we have lot of Input Features. It reduces the amount of Parameters and Computational power required drastically, thus reducing Overfitting. These along with Convolutional layers are able to learn more Complex features of the Image.\n",
    "\n",
    "5) We add **Dropout Layers** to avoid Overfitting. DropOut is a Regularization Technique, which Penalizes the Parameters. We DropOutRate to 0.25. Usually in general we can set this rate between 0.2-0.5.\n",
    "\n",
    "6) Then we include **Flatten layer** to map the input to a 1D vector. We then add Fully connected Layers after some convolutional/pooling layers.\n",
    "\n",
    "7) Lastly, we add the **Dense (Output) Layer**. It has units equal to the number of classes to be identified.Here, we use 'softmax' function since it is Multi-Class Classification. For binary classification we can use 'sigmoid' function."
   ]
  },
  {
   "cell_type": "code",
   "execution_count": 9,
   "id": "fleet-peter",
   "metadata": {
    "execution": {
     "iopub.execute_input": "2021-04-26T05:19:49.488546Z",
     "iopub.status.busy": "2021-04-26T05:19:49.487736Z",
     "iopub.status.idle": "2021-04-26T05:19:52.525384Z",
     "shell.execute_reply": "2021-04-26T05:19:52.524450Z"
    },
    "papermill": {
     "duration": 3.096586,
     "end_time": "2021-04-26T05:19:52.525520",
     "exception": false,
     "start_time": "2021-04-26T05:19:49.428934",
     "status": "completed"
    },
    "tags": []
   },
   "outputs": [],
   "source": [
    "model = Sequential()\n",
    "model.add(Conv2D(filters=32, kernel_size=(3, 3), activation='relu', strides=1, padding='same', \n",
    "                 data_format='channels_last', input_shape=(28,28,1)))\n",
    "model.add(BatchNormalization())\n",
    "\n",
    "model.add(Conv2D(filters=32, kernel_size=(3, 3), activation='relu', strides=1, padding='same', \n",
    "                 data_format='channels_last'))\n",
    "model.add(BatchNormalization())\n",
    "model.add(Dropout(0.25))\n",
    "\n",
    "model.add(Conv2D(filters=64, kernel_size=(3, 3), activation='relu', strides=1, padding='same', \n",
    "                 data_format='channels_last'))\n",
    "model.add(MaxPooling2D(pool_size=(2, 2)))\n",
    "model.add(Dropout(0.25))\n",
    "    \n",
    "    \n",
    "model.add(Conv2D(filters=128, kernel_size=(3, 3), activation='relu', strides=1, padding='same', \n",
    "                 data_format='channels_last'))\n",
    "model.add(BatchNormalization())\n",
    "model.add(Dropout(0.25))\n",
    "\n",
    "model.add(Flatten())\n",
    "model.add(Dense(512, activation='relu'))\n",
    "model.add(BatchNormalization())\n",
    "model.add(Dropout(0.5))\n",
    "model.add(Dense(128, activation='relu'))\n",
    "model.add(BatchNormalization())\n",
    "model.add(Dropout(0.5))\n",
    "model.add(Dense(5, activation='softmax'))"
   ]
  },
  {
   "cell_type": "markdown",
   "id": "chief-senate",
   "metadata": {
    "papermill": {
     "duration": 0.032832,
     "end_time": "2021-04-26T05:19:52.591635",
     "exception": false,
     "start_time": "2021-04-26T05:19:52.558803",
     "status": "completed"
    },
    "tags": []
   },
   "source": [
    "### 5.4.2 Optimizer of the model :\n",
    "\n",
    "- Before model compilation we need to set optimizer used by the model. We have multiple options for optimizer e.g ADAM, SGD, ADAGRAD, ADADELTA, RMSPROP.\n",
    "\n",
    "**Parameters for Adam optimizer:**\n",
    "\n",
    "- learning rate : the learning rate is a configurable hyperparameter used in the training of neural networks. The learning rate controls how quickly the model is adapted to the problem.\n",
    "\n",
    "- beta1 : The exponential decay rate for the first moment estimates (e.g. 0.9).\n",
    "\n",
    "- beta2 : The exponential decay rate for the second-moment estimates (e.g. 0.999).\n",
    "\n",
    "![](http://www.linkpicture.com/q/1_osB82GKHBOT8k1idLqiqA-99.png)\n",
    "\n"
   ]
  },
  {
   "cell_type": "markdown",
   "id": "single-longitude",
   "metadata": {
    "papermill": {
     "duration": 0.033106,
     "end_time": "2021-04-26T05:19:52.658005",
     "exception": false,
     "start_time": "2021-04-26T05:19:52.624899",
     "status": "completed"
    },
    "tags": []
   },
   "source": [
    "**Learning rate adjustment :**\n",
    "\n",
    "- The learning rate controls how quickly the model is adapted to the problem.\n",
    "- Smaller learning rates require more training epochs given the smaller changes made to the weights each update.\n",
    "- Larger learning rates result in rapid changes and require fewer training epochs.\n",
    "\n",
    "**Problem with too large or small learning rate value :**\n",
    "\n",
    "- A learning rate that is too large can cause the model to converge too quickly to a suboptimal solution.\n",
    "- A learning rate that is too small can cause the process to get stuck.\n",
    "\n",
    "**Note :**\n",
    "\n",
    "The learning rate is perhaps the most important hyperparameter for each optimizer."
   ]
  },
  {
   "cell_type": "code",
   "execution_count": 10,
   "id": "average-match",
   "metadata": {
    "execution": {
     "iopub.execute_input": "2021-04-26T05:19:52.733893Z",
     "iopub.status.busy": "2021-04-26T05:19:52.732087Z",
     "iopub.status.idle": "2021-04-26T05:19:52.734446Z",
     "shell.execute_reply": "2021-04-26T05:19:52.734873Z"
    },
    "papermill": {
     "duration": 0.043388,
     "end_time": "2021-04-26T05:19:52.735005",
     "exception": false,
     "start_time": "2021-04-26T05:19:52.691617",
     "status": "completed"
    },
    "tags": []
   },
   "outputs": [],
   "source": [
    "optimizer = tf.keras.optimizers.Adam(learning_rate=0.01, beta_1=0.9, beta_2=0.999)\n",
    "\n",
    "# SGD \n",
    "optimizer_sgd = tf.keras.optimizers.SGD(learning_rate=0.01)\n",
    "\n",
    "# RMSProp\n",
    "from keras.optimizers import RMSprop\n",
    "optimizer_rmsprop = tf.keras.optimizers.RMSprop(learning_rate=0.01)\n",
    "\n",
    "# Adagrad\n",
    "from keras.optimizers import Adagrad\n",
    "optimizer_adagrad = tf.keras.optimizers.Adagrad(learning_rate=0.01)\n",
    "\n",
    "# Adadelta\n",
    "from keras.optimizers import Adagrad\n",
    "optimizer_adadelta = tf.keras.optimizers.Adadelta(learning_rate=0.01)"
   ]
  },
  {
   "cell_type": "markdown",
   "id": "intimate-massachusetts",
   "metadata": {
    "papermill": {
     "duration": 0.032943,
     "end_time": "2021-04-26T05:19:52.801169",
     "exception": false,
     "start_time": "2021-04-26T05:19:52.768226",
     "status": "completed"
    },
    "tags": []
   },
   "source": [
    "### 5.4.3 Model compilation :\n",
    "\n",
    "- During model compile we need to specify the loss function for the neural network which we want to minimize. For Multi-class Classification we use \"categorical_crossentropy\" and for Binary Classification we use \"binary_crossentropy\".\n",
    "\n",
    "- We need to specify the metric to evaluate our models performance. Here we used accuracy."
   ]
  },
  {
   "cell_type": "code",
   "execution_count": 11,
   "id": "beautiful-welding",
   "metadata": {
    "execution": {
     "iopub.execute_input": "2021-04-26T05:19:52.873176Z",
     "iopub.status.busy": "2021-04-26T05:19:52.872434Z",
     "iopub.status.idle": "2021-04-26T05:19:52.884396Z",
     "shell.execute_reply": "2021-04-26T05:19:52.883954Z"
    },
    "papermill": {
     "duration": 0.050398,
     "end_time": "2021-04-26T05:19:52.884504",
     "exception": false,
     "start_time": "2021-04-26T05:19:52.834106",
     "status": "completed"
    },
    "tags": []
   },
   "outputs": [],
   "source": [
    "model.compile(optimizer=optimizer, loss=\"categorical_crossentropy\", metrics=[\"accuracy\"])"
   ]
  },
  {
   "cell_type": "markdown",
   "id": "limiting-switzerland",
   "metadata": {
    "papermill": {
     "duration": 0.032739,
     "end_time": "2021-04-26T05:19:52.950252",
     "exception": false,
     "start_time": "2021-04-26T05:19:52.917513",
     "status": "completed"
    },
    "tags": []
   },
   "source": [
    "### 5.4.4 Model Summary :\n",
    "\n",
    "Summary shows below things of our model :\n",
    "\n",
    "* The layers and their order in the model.\n",
    "* The output shape of each layer.\n",
    "* The number of parameters (weights) in each layer.\n",
    "* The total number of parameters (weights) in the model."
   ]
  },
  {
   "cell_type": "code",
   "execution_count": 12,
   "id": "parallel-scholarship",
   "metadata": {
    "execution": {
     "iopub.execute_input": "2021-04-26T05:19:53.025482Z",
     "iopub.status.busy": "2021-04-26T05:19:53.024624Z",
     "iopub.status.idle": "2021-04-26T05:19:53.036798Z",
     "shell.execute_reply": "2021-04-26T05:19:53.036400Z"
    },
    "papermill": {
     "duration": 0.053239,
     "end_time": "2021-04-26T05:19:53.036935",
     "exception": false,
     "start_time": "2021-04-26T05:19:52.983696",
     "status": "completed"
    },
    "tags": []
   },
   "outputs": [
    {
     "name": "stdout",
     "output_type": "stream",
     "text": [
      "Model: \"sequential\"\n",
      "_________________________________________________________________\n",
      "Layer (type)                 Output Shape              Param #   \n",
      "=================================================================\n",
      "conv2d (Conv2D)              (None, 28, 28, 32)        320       \n",
      "_________________________________________________________________\n",
      "batch_normalization (BatchNo (None, 28, 28, 32)        128       \n",
      "_________________________________________________________________\n",
      "conv2d_1 (Conv2D)            (None, 28, 28, 32)        9248      \n",
      "_________________________________________________________________\n",
      "batch_normalization_1 (Batch (None, 28, 28, 32)        128       \n",
      "_________________________________________________________________\n",
      "dropout (Dropout)            (None, 28, 28, 32)        0         \n",
      "_________________________________________________________________\n",
      "conv2d_2 (Conv2D)            (None, 28, 28, 64)        18496     \n",
      "_________________________________________________________________\n",
      "max_pooling2d (MaxPooling2D) (None, 14, 14, 64)        0         \n",
      "_________________________________________________________________\n",
      "dropout_1 (Dropout)          (None, 14, 14, 64)        0         \n",
      "_________________________________________________________________\n",
      "conv2d_3 (Conv2D)            (None, 14, 14, 128)       73856     \n",
      "_________________________________________________________________\n",
      "batch_normalization_2 (Batch (None, 14, 14, 128)       512       \n",
      "_________________________________________________________________\n",
      "dropout_2 (Dropout)          (None, 14, 14, 128)       0         \n",
      "_________________________________________________________________\n",
      "flatten (Flatten)            (None, 25088)             0         \n",
      "_________________________________________________________________\n",
      "dense (Dense)                (None, 512)               12845568  \n",
      "_________________________________________________________________\n",
      "batch_normalization_3 (Batch (None, 512)               2048      \n",
      "_________________________________________________________________\n",
      "dropout_3 (Dropout)          (None, 512)               0         \n",
      "_________________________________________________________________\n",
      "dense_1 (Dense)              (None, 128)               65664     \n",
      "_________________________________________________________________\n",
      "batch_normalization_4 (Batch (None, 128)               512       \n",
      "_________________________________________________________________\n",
      "dropout_4 (Dropout)          (None, 128)               0         \n",
      "_________________________________________________________________\n",
      "dense_2 (Dense)              (None, 5)                 645       \n",
      "=================================================================\n",
      "Total params: 13,017,125\n",
      "Trainable params: 13,015,461\n",
      "Non-trainable params: 1,664\n",
      "_________________________________________________________________\n"
     ]
    }
   ],
   "source": [
    "model.summary()"
   ]
  },
  {
   "cell_type": "markdown",
   "id": "flexible-generator",
   "metadata": {
    "papermill": {
     "duration": 0.033437,
     "end_time": "2021-04-26T05:19:53.104297",
     "exception": false,
     "start_time": "2021-04-26T05:19:53.070860",
     "status": "completed"
    },
    "tags": []
   },
   "source": [
    "### 5.4.5 Learning Rate Decay :\n",
    "\n",
    "- We should tuned our learning so that it is not too high to take very large steps, neither it should be too small which not change weights and bias of the model.\n",
    "- We use LearningRateScheduler here, which takes the step decay function as argument and return the updated learning rates for use in optimzer at every epoch stage.\n",
    "- So at every epoch learning rate will be change by LearningRateScheduler.\n",
    "- LearningRateScheduler callback that allows you to specify a function that is called each epoch in order to adjust the learning rate."
   ]
  },
  {
   "cell_type": "code",
   "execution_count": 13,
   "id": "massive-speech",
   "metadata": {
    "execution": {
     "iopub.execute_input": "2021-04-26T05:19:53.177826Z",
     "iopub.status.busy": "2021-04-26T05:19:53.176360Z",
     "iopub.status.idle": "2021-04-26T05:19:53.178829Z",
     "shell.execute_reply": "2021-04-26T05:19:53.179236Z"
    },
    "papermill": {
     "duration": 0.041488,
     "end_time": "2021-04-26T05:19:53.179366",
     "exception": false,
     "start_time": "2021-04-26T05:19:53.137878",
     "status": "completed"
    },
    "tags": []
   },
   "outputs": [],
   "source": [
    "reduce_lr = LearningRateScheduler(lambda x: 1e-3 * 0.9 ** x)"
   ]
  },
  {
   "cell_type": "markdown",
   "id": "verified-abuse",
   "metadata": {
    "papermill": {
     "duration": 0.033321,
     "end_time": "2021-04-26T05:19:53.246618",
     "exception": false,
     "start_time": "2021-04-26T05:19:53.213297",
     "status": "completed"
    },
    "tags": []
   },
   "source": [
    "- As an alternate solution of LearningRateScheduler we can also use **ReduceLROnPlateau**.\n",
    "- The ReduceLROnPlateau that will adjust the learning rate when a plateau in model performance is detected.\n",
    "- This callback is designed to reduce the learning rate after the model stops improving with the hope of fine-tuning model weights.\n",
    "- ReduceLROnPlateau works like EarlyStopping, with three parameters: monitor, patience and mode"
   ]
  },
  {
   "cell_type": "markdown",
   "id": "unlikely-intervention",
   "metadata": {
    "papermill": {
     "duration": 0.033509,
     "end_time": "2021-04-26T05:19:53.313492",
     "exception": false,
     "start_time": "2021-04-26T05:19:53.279983",
     "status": "completed"
    },
    "tags": []
   },
   "source": [
    "**Parameters of ReduceLROnPlateau :**\n",
    "\n",
    "1) min_lr : The lowest value for the learning rate in model.\n",
    "\n",
    "2) patience : number of epochs with no improvement after which learning rate will be reduced.\n",
    "\n",
    "3) monitor: quantity to be monitored. (i.e val_loss, val_accuracy)"
   ]
  },
  {
   "cell_type": "code",
   "execution_count": 14,
   "id": "structured-sixth",
   "metadata": {
    "execution": {
     "iopub.execute_input": "2021-04-26T05:19:53.385482Z",
     "iopub.status.busy": "2021-04-26T05:19:53.384956Z",
     "iopub.status.idle": "2021-04-26T05:19:53.388649Z",
     "shell.execute_reply": "2021-04-26T05:19:53.388143Z"
    },
    "papermill": {
     "duration": 0.041239,
     "end_time": "2021-04-26T05:19:53.388752",
     "exception": false,
     "start_time": "2021-04-26T05:19:53.347513",
     "status": "completed"
    },
    "tags": []
   },
   "outputs": [],
   "source": [
    "#Learning Rate Annealer\n",
    "lrr= ReduceLROnPlateau(monitor='val_accuracy', factor=.01,  patience=3, min_lr=1e-5) "
   ]
  },
  {
   "cell_type": "markdown",
   "id": "cosmetic-today",
   "metadata": {
    "papermill": {
     "duration": 0.033489,
     "end_time": "2021-04-26T05:19:53.456106",
     "exception": false,
     "start_time": "2021-04-26T05:19:53.422617",
     "status": "completed"
    },
    "tags": []
   },
   "source": [
    "### 5.4.6 Data Augmentation :\n",
    "\n",
    "- Data Augmentation is like adding a data and/or noise to a dataset, so that model can perform well in various patterns.\n",
    "- For example, what if our images will have object at some angle ? In that case mostly our model will fail to predict right label.\n",
    "- So using data augmentation our model will build with different variations so that model performance on variety of input will remain same.\n",
    "- Image data augmentation is supported in the Keras deep learning library via the ImageDataGenerator class.\n",
    "\n",
    "**Parameters we used in  ImageDataGenerator :**\n",
    "\n",
    "1) **rotation_range :** (Integer) Degree range for random rotations.\n",
    "\n",
    "2) **zoom_range :** (Float or [lower, upper]) Range for random zoom.\n",
    "\n",
    "3) **shear_range :** (Float) Shear Intensity (Shear angle in counter-clockwise direction in degrees).\n",
    "\n",
    "4) **width_shift_range :** (Float, 1-D array-like or int - float) fraction of total width, if < 1, or pixels if >= 1. - 1-D array-like: random elements from the array. - int: integer number of pixels from interval.\n",
    "\n",
    "5) **height_shift_range :** (Float, 1-D array-like or int - float) fraction of total height, if < 1, or pixels if >= 1. - 1-D array-like: random elements from the array. - int: integer number of pixels from interval.\n",
    "\n",
    "6) **vertical_flip :** (Boolean) Randomly flip inputs vertically."
   ]
  },
  {
   "cell_type": "code",
   "execution_count": 15,
   "id": "organizational-albert",
   "metadata": {
    "execution": {
     "iopub.execute_input": "2021-04-26T05:19:53.529693Z",
     "iopub.status.busy": "2021-04-26T05:19:53.527975Z",
     "iopub.status.idle": "2021-04-26T05:19:53.530334Z",
     "shell.execute_reply": "2021-04-26T05:19:53.530757Z"
    },
    "papermill": {
     "duration": 0.041126,
     "end_time": "2021-04-26T05:19:53.530895",
     "exception": false,
     "start_time": "2021-04-26T05:19:53.489769",
     "status": "completed"
    },
    "tags": []
   },
   "outputs": [],
   "source": [
    "datagen = ImageDataGenerator(\n",
    "        rotation_range = 8,  # randomly rotate images in the range (degrees, 0 to 180)\n",
    "        zoom_range = 0.1, # Randomly zoom image \n",
    "        shear_range = 0.3,# shear angle in counter-clockwise direction in degrees  \n",
    "        width_shift_range=0.08,  # randomly shift images horizontally (fraction of total width)\n",
    "        height_shift_range=0.08,  # randomly shift images vertically (fraction of total height)\n",
    "        vertical_flip=True)"
   ]
  },
  {
   "cell_type": "code",
   "execution_count": 16,
   "id": "amateur-bahrain",
   "metadata": {
    "execution": {
     "iopub.execute_input": "2021-04-26T05:19:53.603308Z",
     "iopub.status.busy": "2021-04-26T05:19:53.602268Z",
     "iopub.status.idle": "2021-04-26T05:19:53.715583Z",
     "shell.execute_reply": "2021-04-26T05:19:53.715125Z"
    },
    "papermill": {
     "duration": 0.150631,
     "end_time": "2021-04-26T05:19:53.715711",
     "exception": false,
     "start_time": "2021-04-26T05:19:53.565080",
     "status": "completed"
    },
    "tags": []
   },
   "outputs": [],
   "source": [
    "datagen.fit(x_train)"
   ]
  },
  {
   "cell_type": "markdown",
   "id": "laden-farming",
   "metadata": {
    "papermill": {
     "duration": 0.034275,
     "end_time": "2021-04-26T05:19:53.784763",
     "exception": false,
     "start_time": "2021-04-26T05:19:53.750488",
     "status": "completed"
    },
    "tags": []
   },
   "source": [
    "### 5.4.7 Model fitting :\n",
    "\n",
    "- **batch size :** The batch size is a hyperparameter that defines the number of samples to work through before updating the internal model parameters.\n",
    "- **epochs :** The number of epochs is a hyperparameter that defines the number times that the learning algorithm will work through the entire training dataset."
   ]
  },
  {
   "cell_type": "code",
   "execution_count": 17,
   "id": "deadly-rhythm",
   "metadata": {
    "execution": {
     "iopub.execute_input": "2021-04-26T05:19:53.857875Z",
     "iopub.status.busy": "2021-04-26T05:19:53.857072Z",
     "iopub.status.idle": "2021-04-26T05:19:53.859386Z",
     "shell.execute_reply": "2021-04-26T05:19:53.859899Z"
    },
    "papermill": {
     "duration": 0.041245,
     "end_time": "2021-04-26T05:19:53.860029",
     "exception": false,
     "start_time": "2021-04-26T05:19:53.818784",
     "status": "completed"
    },
    "tags": []
   },
   "outputs": [],
   "source": [
    "batch_size = 128\n",
    "epochs = 25"
   ]
  },
  {
   "cell_type": "code",
   "execution_count": 18,
   "id": "indonesian-guyana",
   "metadata": {
    "execution": {
     "iopub.execute_input": "2021-04-26T05:19:53.934608Z",
     "iopub.status.busy": "2021-04-26T05:19:53.933612Z",
     "iopub.status.idle": "2021-04-26T05:26:34.592531Z",
     "shell.execute_reply": "2021-04-26T05:26:34.591935Z"
    },
    "papermill": {
     "duration": 400.698393,
     "end_time": "2021-04-26T05:26:34.592696",
     "exception": false,
     "start_time": "2021-04-26T05:19:53.894303",
     "status": "completed"
    },
    "tags": []
   },
   "outputs": [
    {
     "name": "stdout",
     "output_type": "stream",
     "text": [
      "Epoch 1/25\n",
      "375/375 - 20s - loss: 0.8106 - accuracy: 0.6799 - val_loss: 2.1567 - val_accuracy: 0.3357\n",
      "Epoch 2/25\n",
      "375/375 - 15s - loss: 0.5759 - accuracy: 0.7659 - val_loss: 0.5030 - val_accuracy: 0.7878\n",
      "Epoch 3/25\n",
      "375/375 - 15s - loss: 0.5204 - accuracy: 0.7875 - val_loss: 0.4177 - val_accuracy: 0.8318\n",
      "Epoch 4/25\n",
      "375/375 - 17s - loss: 0.4909 - accuracy: 0.8031 - val_loss: 0.5545 - val_accuracy: 0.7827\n",
      "Epoch 5/25\n",
      "375/375 - 16s - loss: 0.4641 - accuracy: 0.8135 - val_loss: 0.3826 - val_accuracy: 0.8477\n",
      "Epoch 6/25\n",
      "375/375 - 16s - loss: 0.4483 - accuracy: 0.8198 - val_loss: 0.4014 - val_accuracy: 0.8283\n",
      "Epoch 7/25\n",
      "375/375 - 15s - loss: 0.4383 - accuracy: 0.8236 - val_loss: 0.3356 - val_accuracy: 0.8635\n",
      "Epoch 8/25\n",
      "375/375 - 16s - loss: 0.4191 - accuracy: 0.8316 - val_loss: 0.4851 - val_accuracy: 0.8005\n",
      "Epoch 9/25\n",
      "375/375 - 15s - loss: 0.4138 - accuracy: 0.8355 - val_loss: 0.3199 - val_accuracy: 0.8703\n",
      "Epoch 10/25\n",
      "375/375 - 16s - loss: 0.3981 - accuracy: 0.8423 - val_loss: 0.3404 - val_accuracy: 0.8545\n",
      "Epoch 11/25\n",
      "375/375 - 15s - loss: 0.3982 - accuracy: 0.8407 - val_loss: 0.3041 - val_accuracy: 0.8720\n",
      "Epoch 12/25\n",
      "375/375 - 16s - loss: 0.3867 - accuracy: 0.8440 - val_loss: 0.3602 - val_accuracy: 0.8447\n",
      "Epoch 13/25\n",
      "375/375 - 16s - loss: 0.3781 - accuracy: 0.8508 - val_loss: 0.3642 - val_accuracy: 0.8445\n",
      "Epoch 14/25\n",
      "375/375 - 16s - loss: 0.3705 - accuracy: 0.8541 - val_loss: 0.3734 - val_accuracy: 0.8415\n",
      "Epoch 15/25\n",
      "375/375 - 16s - loss: 0.3718 - accuracy: 0.8503 - val_loss: 0.5279 - val_accuracy: 0.7862\n",
      "Epoch 16/25\n",
      "375/375 - 16s - loss: 0.3653 - accuracy: 0.8557 - val_loss: 0.3531 - val_accuracy: 0.8472\n",
      "Epoch 17/25\n",
      "375/375 - 16s - loss: 0.3582 - accuracy: 0.8581 - val_loss: 0.3650 - val_accuracy: 0.8433\n",
      "Epoch 18/25\n",
      "375/375 - 16s - loss: 0.3541 - accuracy: 0.8604 - val_loss: 0.2928 - val_accuracy: 0.8770\n",
      "Epoch 19/25\n",
      "375/375 - 16s - loss: 0.3511 - accuracy: 0.8603 - val_loss: 0.3113 - val_accuracy: 0.8698\n",
      "Epoch 20/25\n",
      "375/375 - 16s - loss: 0.3501 - accuracy: 0.8617 - val_loss: 0.3845 - val_accuracy: 0.8360\n",
      "Epoch 21/25\n",
      "375/375 - 15s - loss: 0.3431 - accuracy: 0.8654 - val_loss: 0.3851 - val_accuracy: 0.8360\n",
      "Epoch 22/25\n",
      "375/375 - 16s - loss: 0.3412 - accuracy: 0.8671 - val_loss: 0.4382 - val_accuracy: 0.8218\n",
      "Epoch 23/25\n",
      "375/375 - 17s - loss: 0.3426 - accuracy: 0.8632 - val_loss: 0.4460 - val_accuracy: 0.8177\n",
      "Epoch 24/25\n",
      "375/375 - 16s - loss: 0.3358 - accuracy: 0.8670 - val_loss: 0.3110 - val_accuracy: 0.8688\n",
      "Epoch 25/25\n",
      "375/375 - 16s - loss: 0.3341 - accuracy: 0.8681 - val_loss: 0.4659 - val_accuracy: 0.8095\n",
      "--- 400.65404772758484 seconds ---\n"
     ]
    }
   ],
   "source": [
    "start_time = time.time() \n",
    "history = model.fit(datagen.flow(x_train, y_train, batch_size = batch_size), epochs = epochs, \n",
    "                              validation_data = (x_val, y_val), verbose=2, \n",
    "                              steps_per_epoch=x_train.shape[0] // batch_size,\n",
    "                              callbacks = [reduce_lr])\n",
    "print(\"--- %s seconds ---\" % (time.time() - start_time))"
   ]
  },
  {
   "cell_type": "code",
   "execution_count": 19,
   "id": "technological-ethiopia",
   "metadata": {
    "execution": {
     "iopub.execute_input": "2021-04-26T05:26:34.697087Z",
     "iopub.status.busy": "2021-04-26T05:26:34.696142Z",
     "iopub.status.idle": "2021-04-26T05:26:35.301653Z",
     "shell.execute_reply": "2021-04-26T05:26:35.301014Z"
    },
    "papermill": {
     "duration": 0.659485,
     "end_time": "2021-04-26T05:26:35.301837",
     "exception": false,
     "start_time": "2021-04-26T05:26:34.642352",
     "status": "completed"
    },
    "tags": []
   },
   "outputs": [
    {
     "name": "stdout",
     "output_type": "stream",
     "text": [
      "188/188 [==============================] - 1s 3ms/step - loss: 0.4659 - accuracy: 0.8095\n",
      "Loss: 0.4659\n",
      "Accuracy: 0.8095\n",
      "--- 0.6016826629638672 seconds ---\n"
     ]
    }
   ],
   "source": [
    "start_time = time.time() \n",
    "score = model.evaluate(x_val, y_val)\n",
    "\n",
    "print('Loss: {:.4f}'.format(score[0]))\n",
    "print('Accuracy: {:.4f}'.format(score[1]))\n",
    "print(\"--- %s seconds ---\" % (time.time() - start_time))"
   ]
  },
  {
   "cell_type": "markdown",
   "id": "minus-billion",
   "metadata": {
    "papermill": {
     "duration": 0.051568,
     "end_time": "2021-04-26T05:26:35.406689",
     "exception": false,
     "start_time": "2021-04-26T05:26:35.355121",
     "status": "completed"
    },
    "tags": []
   },
   "source": [
    "### 5.4.7 Optimization and result with model :\n",
    "\n",
    "\n",
    "1. **AdamGrad ( Learning rate : 0.01 ) :**\n",
    "- Epoch 5/5\n",
    "375/375 - 246s - loss: 0.9002 - accuracy: 0.6537 - val_loss: 0.5834 - val_accuracy: 0.7535\n",
    "\n",
    "- Adaptive Gradient Algorithm (Adagrad) is an algorithm for gradient-based optimization. ... It performs smaller updates As a result, it is well-suited when dealing with sparse data (NLP or image recognition).\n",
    "\n",
    "\n",
    "2. **Adam ( Learning rate : 0.01 ) :**\n",
    "\n",
    "- Epoch 5/5\n",
    "375/375 - 256s - loss: 0.4789 - accuracy: 0.8052 - val_loss: 0.4912 - val_accuracy: 0.7988\n",
    "\n",
    "- Adam combines the best properties of the AdaGrad and RMSProp algorithms to provide an optimization algorithm that can handle sparse gradients on noisy problems.\n",
    "\n",
    "\n",
    "3. **SGD ( Learning rate : 0.01 ) :**\n",
    "- Epoch 5/5\n",
    "375/375 - 227s - loss: 1.0482 - accuracy: 0.6044 - val_loss: 0.6966 - val_accuracy: 0.7113\n",
    "\n",
    "- The SGD class that implements the stochastic gradient descent optimizer with a learning rate and momentum.\n",
    "\n",
    "4. **RMSProp ( Learning rate : 0.01 ) :**\n",
    "\n",
    "- Epoch 5/5\n",
    "375/375 - 271s - loss: 0.4527 - accuracy: 0.8188 - val_loss: 0.5517 - val_accuracy: 0.7843\n",
    "\n",
    "- RmsProp optimizer is an optimizer that utilizes the magnitude of recent gradients to normalize the gradients.\n",
    "\n",
    "\n",
    "\n",
    "5. **Adadelta ( Learning rate : 0.01 ) :**\n",
    "\n",
    "- Epoch 5/5\n",
    "375/375 - 255s - loss: 1.6791 - accuracy: 0.4668 - val_loss: 1.0540 - val_accuracy: 0.6050\n",
    "\n",
    "\n",
    "**Note :**\n",
    "- Result of every epoch are included in CM6.\n"
   ]
  },
  {
   "cell_type": "markdown",
   "id": "wrong-hopkins",
   "metadata": {
    "papermill": {
     "duration": 0.050871,
     "end_time": "2021-04-26T05:26:35.509808",
     "exception": false,
     "start_time": "2021-04-26T05:26:35.458937",
     "status": "completed"
    },
    "tags": []
   },
   "source": [
    "## 5.5 Resnet ( Model 2 )"
   ]
  },
  {
   "cell_type": "markdown",
   "id": "bizarre-covering",
   "metadata": {
    "papermill": {
     "duration": 0.052033,
     "end_time": "2021-04-26T05:26:35.614159",
     "exception": false,
     "start_time": "2021-04-26T05:26:35.562126",
     "status": "completed"
    },
    "tags": []
   },
   "source": [
    "- In Resnet model we have to create residuals mappings. Residual mapping is the difference between the input and output of the residual block under question.\n",
    "- In other words, residual mapping is the value that will be added to the input to approximate the final function of the block.\n",
    "- We can consider the residual mapping is the amount of error which can be added to input so as to reach the final destination i.e. to approximate the final function.\n",
    "\n",
    "![](https://cdn-5f733ed3c1ac190fbc56ef88.closte.com/wp-content/uploads/2019/07/visualize_identity_mapping.png)\n",
    "\n",
    "- From above figure the Residual Mapping is acting as a bridge between the input and the output of the block.\n",
    "\n",
    "**Note :**\n",
    "- The weight layers and activation function are not shown in the diagram but they are actually present in the network.\n",
    "\n",
    "- The function which should be learned as a final result of the block is represented as H(x). The input to the block is x and the residual mapping.\n",
    "\n",
    "\n",
    "A RESIDUAL FUNCTION i.e. **F(x) = H(x) – x**.\n",
    "\n",
    "**Residual function in Resnet model :**\n",
    "\n",
    "1. During training the deep residual network, the main focus is to learn the residual function i.e. F(x). So, if the network will somehow learn the difference (F(x)) between the input and output, then the overall accuracy can be increased. \n",
    "\n",
    "2. In other words, the residual value should be learned in a way such that it approaches zero, therefore making the identity mapping optimal.\n",
    "\n",
    "3. In this way, all the layers in the network will always produce the optimal feature maps i.e. the best case feature map after the convolution, pooling and activation operations.\n",
    "\n",
    "\n",
    "**Other parameters we used in Resnet in Conv2D :**\n",
    "1. **kernel_initializer:** Initializer for the kernel weights matrix.\n",
    "2. **kernel_regularizer:** Regularizer function applied to the kernel weights matrix.\n",
    "\n"
   ]
  },
  {
   "cell_type": "code",
   "execution_count": 20,
   "id": "environmental-gathering",
   "metadata": {
    "execution": {
     "iopub.execute_input": "2021-04-26T05:26:35.733615Z",
     "iopub.status.busy": "2021-04-26T05:26:35.732718Z",
     "iopub.status.idle": "2021-04-26T05:26:36.069087Z",
     "shell.execute_reply": "2021-04-26T05:26:36.068066Z"
    },
    "papermill": {
     "duration": 0.403701,
     "end_time": "2021-04-26T05:26:36.069221",
     "exception": false,
     "start_time": "2021-04-26T05:26:35.665520",
     "status": "completed"
    },
    "tags": []
   },
   "outputs": [],
   "source": [
    "input_size = (28, 28,1)\n",
    "num_filters = 64\n",
    "use_max_pool = False\n",
    "num_blocks = 4\n",
    "num_sub_blocks = 2\n",
    "num_classes = 5\n",
    "inputs = Input(shape=input_size)\n",
    "con_x = Conv2D(num_filters, padding='same', \n",
    "           kernel_initializer='he_normal', \n",
    "           kernel_size=7, strides=2,\n",
    "           kernel_regularizer=l2(1e-4))(inputs)\n",
    "con_x = BatchNormalization()(con_x)\n",
    "con_x = Activation('relu')(con_x)\n",
    "\n",
    "#Check by applying max pooling later (setting it false as size of image is small i.e. 28x28)\n",
    "if use_max_pool:\n",
    "    con_x = MaxPooling2D(pool_size=3,padding='same', strides=2)(con_x)\n",
    "    num_blocks =3\n",
    "#Creating Conv base stack \n",
    "\n",
    "# Instantiate convolutional base (stack of blocks).\n",
    "for i in range(num_blocks):\n",
    "    for j in range(num_sub_blocks):\n",
    "        strides = 1\n",
    "        is_first_layer_but_not_first_block = j == 0 and i > 0\n",
    "        if is_first_layer_but_not_first_block:\n",
    "            strides = 2\n",
    "        #Creating residual mapping using y\n",
    "        con_y = Conv2D(num_filters,\n",
    "                   kernel_size=3,\n",
    "                   padding='same',\n",
    "                   strides=strides,\n",
    "                   kernel_initializer='he_normal',\n",
    "                   kernel_regularizer=l2(1e-4))(con_x)\n",
    "        con_y = BatchNormalization()(con_y)\n",
    "        con_y = Activation('relu')(con_y)\n",
    "        con_y = Conv2D(num_filters,\n",
    "                   kernel_size=3,\n",
    "                   padding='same',\n",
    "                   kernel_initializer='he_normal',\n",
    "                   kernel_regularizer=l2(1e-4))(con_y)\n",
    "        con_y = BatchNormalization()(con_y)\n",
    "        if is_first_layer_but_not_first_block:\n",
    "            con_x = Conv2D(num_filters,\n",
    "                       kernel_size=1,\n",
    "                       padding='same',\n",
    "                       strides=2,\n",
    "                       kernel_initializer='he_normal',\n",
    "                       kernel_regularizer=l2(1e-4))(con_x)\n",
    "        #Adding back residual mapping\n",
    "        con_x = keras.layers.add([con_x, con_y])\n",
    "        con_x = Activation('relu')(con_x)\n",
    "\n",
    "    num_filters = 2 * num_filters\n",
    "\n",
    "# Add classifier on top.\n",
    "con_x = AveragePooling2D()(con_x)\n",
    "con_y = Flatten()(con_x)\n",
    "outputs = Dense(num_classes,\n",
    "                activation='softmax',\n",
    "                kernel_initializer='he_normal')(con_y)"
   ]
  },
  {
   "cell_type": "code",
   "execution_count": 21,
   "id": "pressed-license",
   "metadata": {
    "execution": {
     "iopub.execute_input": "2021-04-26T05:26:36.186184Z",
     "iopub.status.busy": "2021-04-26T05:26:36.182150Z",
     "iopub.status.idle": "2021-04-26T05:26:36.215260Z",
     "shell.execute_reply": "2021-04-26T05:26:36.215641Z"
    },
    "papermill": {
     "duration": 0.092865,
     "end_time": "2021-04-26T05:26:36.215788",
     "exception": false,
     "start_time": "2021-04-26T05:26:36.122923",
     "status": "completed"
    },
    "tags": []
   },
   "outputs": [
    {
     "name": "stdout",
     "output_type": "stream",
     "text": [
      "Model: \"model\"\n",
      "__________________________________________________________________________________________________\n",
      "Layer (type)                    Output Shape         Param #     Connected to                     \n",
      "==================================================================================================\n",
      "input_1 (InputLayer)            [(None, 28, 28, 1)]  0                                            \n",
      "__________________________________________________________________________________________________\n",
      "conv2d_4 (Conv2D)               (None, 14, 14, 64)   3200        input_1[0][0]                    \n",
      "__________________________________________________________________________________________________\n",
      "batch_normalization_5 (BatchNor (None, 14, 14, 64)   256         conv2d_4[0][0]                   \n",
      "__________________________________________________________________________________________________\n",
      "activation (Activation)         (None, 14, 14, 64)   0           batch_normalization_5[0][0]      \n",
      "__________________________________________________________________________________________________\n",
      "conv2d_5 (Conv2D)               (None, 14, 14, 64)   36928       activation[0][0]                 \n",
      "__________________________________________________________________________________________________\n",
      "batch_normalization_6 (BatchNor (None, 14, 14, 64)   256         conv2d_5[0][0]                   \n",
      "__________________________________________________________________________________________________\n",
      "activation_1 (Activation)       (None, 14, 14, 64)   0           batch_normalization_6[0][0]      \n",
      "__________________________________________________________________________________________________\n",
      "conv2d_6 (Conv2D)               (None, 14, 14, 64)   36928       activation_1[0][0]               \n",
      "__________________________________________________________________________________________________\n",
      "batch_normalization_7 (BatchNor (None, 14, 14, 64)   256         conv2d_6[0][0]                   \n",
      "__________________________________________________________________________________________________\n",
      "add (Add)                       (None, 14, 14, 64)   0           activation[0][0]                 \n",
      "                                                                 batch_normalization_7[0][0]      \n",
      "__________________________________________________________________________________________________\n",
      "activation_2 (Activation)       (None, 14, 14, 64)   0           add[0][0]                        \n",
      "__________________________________________________________________________________________________\n",
      "conv2d_7 (Conv2D)               (None, 14, 14, 64)   36928       activation_2[0][0]               \n",
      "__________________________________________________________________________________________________\n",
      "batch_normalization_8 (BatchNor (None, 14, 14, 64)   256         conv2d_7[0][0]                   \n",
      "__________________________________________________________________________________________________\n",
      "activation_3 (Activation)       (None, 14, 14, 64)   0           batch_normalization_8[0][0]      \n",
      "__________________________________________________________________________________________________\n",
      "conv2d_8 (Conv2D)               (None, 14, 14, 64)   36928       activation_3[0][0]               \n",
      "__________________________________________________________________________________________________\n",
      "batch_normalization_9 (BatchNor (None, 14, 14, 64)   256         conv2d_8[0][0]                   \n",
      "__________________________________________________________________________________________________\n",
      "add_1 (Add)                     (None, 14, 14, 64)   0           activation_2[0][0]               \n",
      "                                                                 batch_normalization_9[0][0]      \n",
      "__________________________________________________________________________________________________\n",
      "activation_4 (Activation)       (None, 14, 14, 64)   0           add_1[0][0]                      \n",
      "__________________________________________________________________________________________________\n",
      "conv2d_9 (Conv2D)               (None, 7, 7, 128)    73856       activation_4[0][0]               \n",
      "__________________________________________________________________________________________________\n",
      "batch_normalization_10 (BatchNo (None, 7, 7, 128)    512         conv2d_9[0][0]                   \n",
      "__________________________________________________________________________________________________\n",
      "activation_5 (Activation)       (None, 7, 7, 128)    0           batch_normalization_10[0][0]     \n",
      "__________________________________________________________________________________________________\n",
      "conv2d_10 (Conv2D)              (None, 7, 7, 128)    147584      activation_5[0][0]               \n",
      "__________________________________________________________________________________________________\n",
      "conv2d_11 (Conv2D)              (None, 7, 7, 128)    8320        activation_4[0][0]               \n",
      "__________________________________________________________________________________________________\n",
      "batch_normalization_11 (BatchNo (None, 7, 7, 128)    512         conv2d_10[0][0]                  \n",
      "__________________________________________________________________________________________________\n",
      "add_2 (Add)                     (None, 7, 7, 128)    0           conv2d_11[0][0]                  \n",
      "                                                                 batch_normalization_11[0][0]     \n",
      "__________________________________________________________________________________________________\n",
      "activation_6 (Activation)       (None, 7, 7, 128)    0           add_2[0][0]                      \n",
      "__________________________________________________________________________________________________\n",
      "conv2d_12 (Conv2D)              (None, 7, 7, 128)    147584      activation_6[0][0]               \n",
      "__________________________________________________________________________________________________\n",
      "batch_normalization_12 (BatchNo (None, 7, 7, 128)    512         conv2d_12[0][0]                  \n",
      "__________________________________________________________________________________________________\n",
      "activation_7 (Activation)       (None, 7, 7, 128)    0           batch_normalization_12[0][0]     \n",
      "__________________________________________________________________________________________________\n",
      "conv2d_13 (Conv2D)              (None, 7, 7, 128)    147584      activation_7[0][0]               \n",
      "__________________________________________________________________________________________________\n",
      "batch_normalization_13 (BatchNo (None, 7, 7, 128)    512         conv2d_13[0][0]                  \n",
      "__________________________________________________________________________________________________\n",
      "add_3 (Add)                     (None, 7, 7, 128)    0           activation_6[0][0]               \n",
      "                                                                 batch_normalization_13[0][0]     \n",
      "__________________________________________________________________________________________________\n",
      "activation_8 (Activation)       (None, 7, 7, 128)    0           add_3[0][0]                      \n",
      "__________________________________________________________________________________________________\n",
      "conv2d_14 (Conv2D)              (None, 4, 4, 256)    295168      activation_8[0][0]               \n",
      "__________________________________________________________________________________________________\n",
      "batch_normalization_14 (BatchNo (None, 4, 4, 256)    1024        conv2d_14[0][0]                  \n",
      "__________________________________________________________________________________________________\n",
      "activation_9 (Activation)       (None, 4, 4, 256)    0           batch_normalization_14[0][0]     \n",
      "__________________________________________________________________________________________________\n",
      "conv2d_15 (Conv2D)              (None, 4, 4, 256)    590080      activation_9[0][0]               \n",
      "__________________________________________________________________________________________________\n",
      "conv2d_16 (Conv2D)              (None, 4, 4, 256)    33024       activation_8[0][0]               \n",
      "__________________________________________________________________________________________________\n",
      "batch_normalization_15 (BatchNo (None, 4, 4, 256)    1024        conv2d_15[0][0]                  \n",
      "__________________________________________________________________________________________________\n",
      "add_4 (Add)                     (None, 4, 4, 256)    0           conv2d_16[0][0]                  \n",
      "                                                                 batch_normalization_15[0][0]     \n",
      "__________________________________________________________________________________________________\n",
      "activation_10 (Activation)      (None, 4, 4, 256)    0           add_4[0][0]                      \n",
      "__________________________________________________________________________________________________\n",
      "conv2d_17 (Conv2D)              (None, 4, 4, 256)    590080      activation_10[0][0]              \n",
      "__________________________________________________________________________________________________\n",
      "batch_normalization_16 (BatchNo (None, 4, 4, 256)    1024        conv2d_17[0][0]                  \n",
      "__________________________________________________________________________________________________\n",
      "activation_11 (Activation)      (None, 4, 4, 256)    0           batch_normalization_16[0][0]     \n",
      "__________________________________________________________________________________________________\n",
      "conv2d_18 (Conv2D)              (None, 4, 4, 256)    590080      activation_11[0][0]              \n",
      "__________________________________________________________________________________________________\n",
      "batch_normalization_17 (BatchNo (None, 4, 4, 256)    1024        conv2d_18[0][0]                  \n",
      "__________________________________________________________________________________________________\n",
      "add_5 (Add)                     (None, 4, 4, 256)    0           activation_10[0][0]              \n",
      "                                                                 batch_normalization_17[0][0]     \n",
      "__________________________________________________________________________________________________\n",
      "activation_12 (Activation)      (None, 4, 4, 256)    0           add_5[0][0]                      \n",
      "__________________________________________________________________________________________________\n",
      "conv2d_19 (Conv2D)              (None, 2, 2, 512)    1180160     activation_12[0][0]              \n",
      "__________________________________________________________________________________________________\n",
      "batch_normalization_18 (BatchNo (None, 2, 2, 512)    2048        conv2d_19[0][0]                  \n",
      "__________________________________________________________________________________________________\n",
      "activation_13 (Activation)      (None, 2, 2, 512)    0           batch_normalization_18[0][0]     \n",
      "__________________________________________________________________________________________________\n",
      "conv2d_20 (Conv2D)              (None, 2, 2, 512)    2359808     activation_13[0][0]              \n",
      "__________________________________________________________________________________________________\n",
      "conv2d_21 (Conv2D)              (None, 2, 2, 512)    131584      activation_12[0][0]              \n",
      "__________________________________________________________________________________________________\n",
      "batch_normalization_19 (BatchNo (None, 2, 2, 512)    2048        conv2d_20[0][0]                  \n",
      "__________________________________________________________________________________________________\n",
      "add_6 (Add)                     (None, 2, 2, 512)    0           conv2d_21[0][0]                  \n",
      "                                                                 batch_normalization_19[0][0]     \n",
      "__________________________________________________________________________________________________\n",
      "activation_14 (Activation)      (None, 2, 2, 512)    0           add_6[0][0]                      \n",
      "__________________________________________________________________________________________________\n",
      "conv2d_22 (Conv2D)              (None, 2, 2, 512)    2359808     activation_14[0][0]              \n",
      "__________________________________________________________________________________________________\n",
      "batch_normalization_20 (BatchNo (None, 2, 2, 512)    2048        conv2d_22[0][0]                  \n",
      "__________________________________________________________________________________________________\n",
      "activation_15 (Activation)      (None, 2, 2, 512)    0           batch_normalization_20[0][0]     \n",
      "__________________________________________________________________________________________________\n",
      "conv2d_23 (Conv2D)              (None, 2, 2, 512)    2359808     activation_15[0][0]              \n",
      "__________________________________________________________________________________________________\n",
      "batch_normalization_21 (BatchNo (None, 2, 2, 512)    2048        conv2d_23[0][0]                  \n",
      "__________________________________________________________________________________________________\n",
      "add_7 (Add)                     (None, 2, 2, 512)    0           activation_14[0][0]              \n",
      "                                                                 batch_normalization_21[0][0]     \n",
      "__________________________________________________________________________________________________\n",
      "activation_16 (Activation)      (None, 2, 2, 512)    0           add_7[0][0]                      \n",
      "__________________________________________________________________________________________________\n",
      "average_pooling2d (AveragePooli (None, 1, 1, 512)    0           activation_16[0][0]              \n",
      "__________________________________________________________________________________________________\n",
      "flatten_1 (Flatten)             (None, 512)          0           average_pooling2d[0][0]          \n",
      "__________________________________________________________________________________________________\n",
      "dense_3 (Dense)                 (None, 5)            2565        flatten_1[0][0]                  \n",
      "==================================================================================================\n",
      "Total params: 11,183,621\n",
      "Trainable params: 11,175,813\n",
      "Non-trainable params: 7,808\n",
      "__________________________________________________________________________________________________\n"
     ]
    }
   ],
   "source": [
    "# Instantiate and compile model.\n",
    "resmodel = Model(inputs=inputs, outputs=outputs)\n",
    "resmodel.compile(loss='categorical_crossentropy',\n",
    "              optimizer='adam',\n",
    "              metrics=['accuracy'])\n",
    "resmodel.summary()"
   ]
  },
  {
   "cell_type": "code",
   "execution_count": 22,
   "id": "attempted-campus",
   "metadata": {
    "execution": {
     "iopub.execute_input": "2021-04-26T05:26:36.338327Z",
     "iopub.status.busy": "2021-04-26T05:26:36.334907Z",
     "iopub.status.idle": "2021-04-26T05:26:36.341315Z",
     "shell.execute_reply": "2021-04-26T05:26:36.341702Z"
    },
    "papermill": {
     "duration": 0.062674,
     "end_time": "2021-04-26T05:26:36.341845",
     "exception": false,
     "start_time": "2021-04-26T05:26:36.279171",
     "status": "completed"
    },
    "tags": []
   },
   "outputs": [
    {
     "name": "stdout",
     "output_type": "stream",
     "text": [
      "/kaggle/working/saved_model/fmnist_resnet_model.h5\n"
     ]
    }
   ],
   "source": [
    "import os\n",
    "save_dir = os.path.join(os.getcwd(), 'saved_model')\n",
    "model_name = 'fmnist_resnet_model.h5'\n",
    "if not os.path.isdir(save_dir):\n",
    "    os.makedirs(save_dir)\n",
    "filepath = os.path.join(save_dir,model_name)\n",
    "print(filepath)"
   ]
  },
  {
   "cell_type": "markdown",
   "id": "adult-median",
   "metadata": {
    "papermill": {
     "duration": 0.052072,
     "end_time": "2021-04-26T05:26:36.445881",
     "exception": false,
     "start_time": "2021-04-26T05:26:36.393809",
     "status": "completed"
    },
    "tags": []
   },
   "source": [
    "**ModelCheckpoint :**\n",
    "\n",
    "- ModelCheckpoint save the best version of your model after a single training.\n",
    "- During saving we can select save_best_only and save_weights_only: The first will save the complete model with better training performance; The other will save only the weight values for this model.\n"
   ]
  },
  {
   "cell_type": "code",
   "execution_count": 23,
   "id": "dental-amber",
   "metadata": {
    "execution": {
     "iopub.execute_input": "2021-04-26T05:26:36.557930Z",
     "iopub.status.busy": "2021-04-26T05:26:36.556097Z",
     "iopub.status.idle": "2021-04-26T05:26:36.558483Z",
     "shell.execute_reply": "2021-04-26T05:26:36.558882Z"
    },
    "papermill": {
     "duration": 0.060385,
     "end_time": "2021-04-26T05:26:36.559010",
     "exception": false,
     "start_time": "2021-04-26T05:26:36.498625",
     "status": "completed"
    },
    "tags": []
   },
   "outputs": [],
   "source": [
    "from keras.callbacks import ModelCheckpoint, ReduceLROnPlateau\n",
    "checkpoint = ModelCheckpoint(filepath=filepath,\n",
    "                             verbose=1,\n",
    "                             save_best_only=True)\n",
    "lr_reducer = ReduceLROnPlateau(factor=np.sqrt(0.1),\n",
    "                               cooldown=0,\n",
    "                               patience=5,\n",
    "                               min_lr=0.5e-6)\n",
    "callbacks = [checkpoint, lr_reducer]"
   ]
  },
  {
   "cell_type": "markdown",
   "id": "racial-pacific",
   "metadata": {
    "papermill": {
     "duration": 0.051903,
     "end_time": "2021-04-26T05:26:36.663287",
     "exception": false,
     "start_time": "2021-04-26T05:26:36.611384",
     "status": "completed"
    },
    "tags": []
   },
   "source": [
    "#### Comparision of LearningRateScheduler and ReduceLROnPlateau are included in CM6."
   ]
  },
  {
   "cell_type": "code",
   "execution_count": 24,
   "id": "varying-empty",
   "metadata": {
    "execution": {
     "iopub.execute_input": "2021-04-26T05:26:36.789961Z",
     "iopub.status.busy": "2021-04-26T05:26:36.789140Z",
     "iopub.status.idle": "2021-04-26T05:31:28.283701Z",
     "shell.execute_reply": "2021-04-26T05:31:28.284281Z"
    },
    "papermill": {
     "duration": 291.56875,
     "end_time": "2021-04-26T05:31:28.284497",
     "exception": false,
     "start_time": "2021-04-26T05:26:36.715747",
     "status": "completed"
    },
    "tags": []
   },
   "outputs": [
    {
     "name": "stdout",
     "output_type": "stream",
     "text": [
      "Epoch 1/25\n",
      "375/375 [==============================] - 15s 32ms/step - loss: 1.6841 - accuracy: 0.7555 - val_loss: 1.1087 - val_accuracy: 0.8332\n",
      "\n",
      "Epoch 00001: val_loss improved from inf to 1.10869, saving model to /kaggle/working/saved_model/fmnist_resnet_model.h5\n",
      "Epoch 2/25\n",
      "375/375 [==============================] - 11s 30ms/step - loss: 0.9823 - accuracy: 0.8681 - val_loss: 0.8282 - val_accuracy: 0.8767\n",
      "\n",
      "Epoch 00002: val_loss improved from 1.10869 to 0.82815, saving model to /kaggle/working/saved_model/fmnist_resnet_model.h5\n",
      "Epoch 3/25\n",
      "375/375 [==============================] - 11s 30ms/step - loss: 0.7506 - accuracy: 0.8941 - val_loss: 0.7199 - val_accuracy: 0.8740\n",
      "\n",
      "Epoch 00003: val_loss improved from 0.82815 to 0.71990, saving model to /kaggle/working/saved_model/fmnist_resnet_model.h5\n",
      "Epoch 4/25\n",
      "375/375 [==============================] - 11s 30ms/step - loss: 0.6387 - accuracy: 0.8999 - val_loss: 0.6921 - val_accuracy: 0.8643\n",
      "\n",
      "Epoch 00004: val_loss improved from 0.71990 to 0.69214, saving model to /kaggle/working/saved_model/fmnist_resnet_model.h5\n",
      "Epoch 5/25\n",
      "375/375 [==============================] - 11s 30ms/step - loss: 0.5522 - accuracy: 0.9104 - val_loss: 0.6032 - val_accuracy: 0.8812\n",
      "\n",
      "Epoch 00005: val_loss improved from 0.69214 to 0.60323, saving model to /kaggle/working/saved_model/fmnist_resnet_model.h5\n",
      "Epoch 6/25\n",
      "375/375 [==============================] - 11s 30ms/step - loss: 0.5021 - accuracy: 0.9155 - val_loss: 0.9253 - val_accuracy: 0.7907\n",
      "\n",
      "Epoch 00006: val_loss did not improve from 0.60323\n",
      "Epoch 7/25\n",
      "375/375 [==============================] - 11s 30ms/step - loss: 0.4579 - accuracy: 0.9219 - val_loss: 0.5643 - val_accuracy: 0.8748\n",
      "\n",
      "Epoch 00007: val_loss improved from 0.60323 to 0.56433, saving model to /kaggle/working/saved_model/fmnist_resnet_model.h5\n",
      "Epoch 8/25\n",
      "375/375 [==============================] - 11s 30ms/step - loss: 0.4205 - accuracy: 0.9291 - val_loss: 0.5172 - val_accuracy: 0.8932\n",
      "\n",
      "Epoch 00008: val_loss improved from 0.56433 to 0.51716, saving model to /kaggle/working/saved_model/fmnist_resnet_model.h5\n",
      "Epoch 9/25\n",
      "375/375 [==============================] - 11s 30ms/step - loss: 0.4025 - accuracy: 0.9301 - val_loss: 0.6454 - val_accuracy: 0.8533\n",
      "\n",
      "Epoch 00009: val_loss did not improve from 0.51716\n",
      "Epoch 10/25\n",
      "375/375 [==============================] - 11s 30ms/step - loss: 0.3829 - accuracy: 0.9334 - val_loss: 0.5331 - val_accuracy: 0.8867\n",
      "\n",
      "Epoch 00010: val_loss did not improve from 0.51716\n",
      "Epoch 11/25\n",
      "375/375 [==============================] - 11s 30ms/step - loss: 0.3689 - accuracy: 0.9380 - val_loss: 0.6069 - val_accuracy: 0.8627\n",
      "\n",
      "Epoch 00011: val_loss did not improve from 0.51716\n",
      "Epoch 12/25\n",
      "375/375 [==============================] - 11s 30ms/step - loss: 0.3559 - accuracy: 0.9398 - val_loss: 0.5403 - val_accuracy: 0.8740\n",
      "\n",
      "Epoch 00012: val_loss did not improve from 0.51716\n",
      "Epoch 13/25\n",
      "375/375 [==============================] - 11s 30ms/step - loss: 0.3346 - accuracy: 0.9462 - val_loss: 0.5604 - val_accuracy: 0.8695\n",
      "\n",
      "Epoch 00013: val_loss did not improve from 0.51716\n",
      "Epoch 14/25\n",
      "375/375 [==============================] - 11s 30ms/step - loss: 0.2793 - accuracy: 0.9656 - val_loss: 0.5032 - val_accuracy: 0.9002\n",
      "\n",
      "Epoch 00014: val_loss improved from 0.51716 to 0.50325, saving model to /kaggle/working/saved_model/fmnist_resnet_model.h5\n",
      "Epoch 15/25\n",
      "375/375 [==============================] - 11s 30ms/step - loss: 0.2293 - accuracy: 0.9798 - val_loss: 0.5364 - val_accuracy: 0.9003\n",
      "\n",
      "Epoch 00015: val_loss did not improve from 0.50325\n",
      "Epoch 16/25\n",
      "375/375 [==============================] - 11s 30ms/step - loss: 0.2120 - accuracy: 0.9817 - val_loss: 0.5712 - val_accuracy: 0.8937\n",
      "\n",
      "Epoch 00016: val_loss did not improve from 0.50325\n",
      "Epoch 17/25\n",
      "375/375 [==============================] - 11s 30ms/step - loss: 0.2072 - accuracy: 0.9817 - val_loss: 0.5480 - val_accuracy: 0.9012\n",
      "\n",
      "Epoch 00017: val_loss did not improve from 0.50325\n",
      "Epoch 18/25\n",
      "375/375 [==============================] - 11s 30ms/step - loss: 0.1944 - accuracy: 0.9842 - val_loss: 0.5718 - val_accuracy: 0.8958\n",
      "\n",
      "Epoch 00018: val_loss did not improve from 0.50325\n",
      "Epoch 19/25\n",
      "375/375 [==============================] - 11s 30ms/step - loss: 0.1874 - accuracy: 0.9848 - val_loss: 0.6879 - val_accuracy: 0.8830\n",
      "\n",
      "Epoch 00019: val_loss did not improve from 0.50325\n",
      "Epoch 20/25\n",
      "375/375 [==============================] - 11s 30ms/step - loss: 0.1634 - accuracy: 0.9930 - val_loss: 0.5765 - val_accuracy: 0.9072\n",
      "\n",
      "Epoch 00020: val_loss did not improve from 0.50325\n",
      "Epoch 21/25\n",
      "375/375 [==============================] - 11s 31ms/step - loss: 0.1496 - accuracy: 0.9965 - val_loss: 0.5778 - val_accuracy: 0.9118\n",
      "\n",
      "Epoch 00021: val_loss did not improve from 0.50325\n",
      "Epoch 22/25\n",
      "375/375 [==============================] - 11s 30ms/step - loss: 0.1447 - accuracy: 0.9972 - val_loss: 0.6340 - val_accuracy: 0.9060\n",
      "\n",
      "Epoch 00022: val_loss did not improve from 0.50325\n",
      "Epoch 23/25\n",
      "375/375 [==============================] - 11s 30ms/step - loss: 0.1396 - accuracy: 0.9974 - val_loss: 0.6178 - val_accuracy: 0.9033\n",
      "\n",
      "Epoch 00023: val_loss did not improve from 0.50325\n",
      "Epoch 24/25\n",
      "375/375 [==============================] - 12s 31ms/step - loss: 0.1367 - accuracy: 0.9976 - val_loss: 0.6877 - val_accuracy: 0.8993\n",
      "\n",
      "Epoch 00024: val_loss did not improve from 0.50325\n",
      "Epoch 25/25\n",
      "375/375 [==============================] - 11s 30ms/step - loss: 0.1348 - accuracy: 0.9979 - val_loss: 0.6234 - val_accuracy: 0.9110\n",
      "\n",
      "Epoch 00025: val_loss did not improve from 0.50325\n",
      "--- 291.4898257255554 seconds ---\n"
     ]
    }
   ],
   "source": [
    "start_time = time.time() \n",
    "resmodel.fit(x_train, y_train, batch_size=batch_size,\n",
    "              epochs=epochs,\n",
    "              validation_data=(x_val, y_val),\n",
    "              shuffle=True,\n",
    "              callbacks=callbacks)\n",
    "print(\"--- %s seconds ---\" % (time.time() - start_time))"
   ]
  },
  {
   "cell_type": "code",
   "execution_count": 25,
   "id": "interior-symposium",
   "metadata": {
    "execution": {
     "iopub.execute_input": "2021-04-26T05:31:30.868960Z",
     "iopub.status.busy": "2021-04-26T05:31:30.868028Z",
     "iopub.status.idle": "2021-04-26T05:31:32.300096Z",
     "shell.execute_reply": "2021-04-26T05:31:32.300683Z"
    },
    "papermill": {
     "duration": 2.728859,
     "end_time": "2021-04-26T05:31:32.300897",
     "exception": false,
     "start_time": "2021-04-26T05:31:29.572038",
     "status": "completed"
    },
    "tags": []
   },
   "outputs": [
    {
     "name": "stdout",
     "output_type": "stream",
     "text": [
      "188/188 [==============================] - 1s 7ms/step - loss: 0.6234 - accuracy: 0.9110\n",
      "Loss: 0.6234\n",
      "Accuracy: 0.9110\n",
      "--- 1.429495096206665 seconds ---\n"
     ]
    }
   ],
   "source": [
    "start_time = time.time() \n",
    "score = resmodel.evaluate(x_val, y_val)\n",
    "\n",
    "print('Loss: {:.4f}'.format(score[0]))\n",
    "print('Accuracy: {:.4f}'.format(score[1]))\n",
    "print(\"--- %s seconds ---\" % (time.time() - start_time))"
   ]
  },
  {
   "cell_type": "markdown",
   "id": "placed-grant",
   "metadata": {
    "papermill": {
     "duration": 1.557559,
     "end_time": "2021-04-26T05:31:35.184848",
     "exception": false,
     "start_time": "2021-04-26T05:31:33.627289",
     "status": "completed"
    },
    "tags": []
   },
   "source": [
    "**Advantages of Resnet :**\n",
    "- ResNet uses Batch Normalization at its core. The Batch Normalization adjusts the input layer to increase the performance of the network.\n",
    "- ResNet makes use of the Identity Connection, which helps to protect the network from vanishing gradient problem.\n",
    "- Deep Residual Network uses bottleneck residual block design to increase the performance of the network.\n",
    "\n",
    "**Limitations of Resnet :**\n",
    "- Increased complexity of architecture.\n",
    "- Deeper network usually requires weeks for training, making it practically infeasible in real-world applications.\n",
    "- Implementation of Batch normalization layers since ResNet heavily depends on it.\n",
    "- The dimensionality between the different layers which can become a headache while adding skip connections in model."
   ]
  },
  {
   "cell_type": "markdown",
   "id": "documentary-findings",
   "metadata": {
    "papermill": {
     "duration": 1.30157,
     "end_time": "2021-04-26T05:31:37.788847",
     "exception": false,
     "start_time": "2021-04-26T05:31:36.487277",
     "status": "completed"
    },
    "tags": []
   },
   "source": [
    "## 5.6 ML model ( Random Forest with Gridsearch ) :\n",
    "\n",
    "**Parameters :**\n",
    "\n",
    "- **n_estimators :** number of trees in the forest.\n",
    "- **max_depth :** max number of levels in each decision tree.\n",
    "- **bootstrap :** method for sampling data points (with or without replacement).\n",
    "\n",
    "Other parameters can use :\n",
    "\n",
    "- **max_features :** max number of features considered for splitting a node.\n",
    "- **min_samples_split :** min number of data points placed in a node before the node is split.\n",
    "- **min_samples_leaf :** min number of data points allowed in a leaf node.\n",
    "\n",
    "**GridSearchCV :**\n",
    "\n",
    "- GridSearchCV exhaustively generates candidates from a grid of parameter values specified with the param_grid parameter.\n",
    "\n",
    "\n",
    "**Note :**\n",
    "\n",
    "- Instead of GridSearchCV we can also use RandomizedSearchCV, which implements a randomized search over parameters, where each setting is sampled from a distribution over possible parameter values."
   ]
  },
  {
   "cell_type": "code",
   "execution_count": 26,
   "id": "attempted-semiconductor",
   "metadata": {
    "execution": {
     "iopub.execute_input": "2021-04-26T05:31:40.410558Z",
     "iopub.status.busy": "2021-04-26T05:31:40.409616Z",
     "iopub.status.idle": "2021-04-26T05:31:40.411348Z",
     "shell.execute_reply": "2021-04-26T05:31:40.412128Z"
    },
    "papermill": {
     "duration": 1.299357,
     "end_time": "2021-04-26T05:31:40.412278",
     "exception": false,
     "start_time": "2021-04-26T05:31:39.112921",
     "status": "completed"
    },
    "tags": []
   },
   "outputs": [],
   "source": [
    "param_grid = {\n",
    "    'bootstrap': [True],\n",
    "    'max_depth': [3,5,10, None],\n",
    "    'n_estimators': [5,10,50, 150, 200]\n",
    "}\n",
    "# Create a based model\n",
    "rfc = RandomForestClassifier()\n",
    "# Instantiate the grid search model\n",
    "grid_search = GridSearchCV(estimator = rfc, param_grid = param_grid, \n",
    "                          cv = 3, n_jobs = -1, verbose = 2)"
   ]
  },
  {
   "cell_type": "code",
   "execution_count": 27,
   "id": "promotional-junction",
   "metadata": {
    "execution": {
     "iopub.execute_input": "2021-04-26T05:31:43.003260Z",
     "iopub.status.busy": "2021-04-26T05:31:43.002394Z",
     "iopub.status.idle": "2021-04-26T05:50:44.614803Z",
     "shell.execute_reply": "2021-04-26T05:50:44.615336Z"
    },
    "papermill": {
     "duration": 1142.910024,
     "end_time": "2021-04-26T05:50:44.615494",
     "exception": false,
     "start_time": "2021-04-26T05:31:41.705470",
     "status": "completed"
    },
    "tags": []
   },
   "outputs": [
    {
     "name": "stdout",
     "output_type": "stream",
     "text": [
      "Fitting 3 folds for each of 20 candidates, totalling 60 fits\n"
     ]
    },
    {
     "data": {
      "text/plain": [
       "{'bootstrap': True, 'max_depth': None, 'n_estimators': 200}"
      ]
     },
     "execution_count": 27,
     "metadata": {},
     "output_type": "execute_result"
    }
   ],
   "source": [
    "grid_search.fit(x_train1,y_train)\n",
    "grid_search.best_params_"
   ]
  },
  {
   "cell_type": "code",
   "execution_count": 28,
   "id": "subtle-kazakhstan",
   "metadata": {
    "execution": {
     "iopub.execute_input": "2021-04-26T05:50:47.187760Z",
     "iopub.status.busy": "2021-04-26T05:50:47.186686Z",
     "iopub.status.idle": "2021-04-26T05:50:47.825176Z",
     "shell.execute_reply": "2021-04-26T05:50:47.824618Z"
    },
    "papermill": {
     "duration": 1.94203,
     "end_time": "2021-04-26T05:50:47.825321",
     "exception": false,
     "start_time": "2021-04-26T05:50:45.883291",
     "status": "completed"
    },
    "tags": []
   },
   "outputs": [],
   "source": [
    "y_pred_rf = grid_search.predict(x_val1)"
   ]
  },
  {
   "cell_type": "code",
   "execution_count": 29,
   "id": "joined-seminar",
   "metadata": {
    "execution": {
     "iopub.execute_input": "2021-04-26T05:50:50.703971Z",
     "iopub.status.busy": "2021-04-26T05:50:50.703219Z",
     "iopub.status.idle": "2021-04-26T05:50:50.712467Z",
     "shell.execute_reply": "2021-04-26T05:50:50.711801Z"
    },
    "papermill": {
     "duration": 1.301518,
     "end_time": "2021-04-26T05:50:50.712617",
     "exception": false,
     "start_time": "2021-04-26T05:50:49.411099",
     "status": "completed"
    },
    "tags": []
   },
   "outputs": [
    {
     "name": "stdout",
     "output_type": "stream",
     "text": [
      "Accuracy : 0.8116666666666666\n"
     ]
    }
   ],
   "source": [
    "print('Accuracy :',metrics.accuracy_score(y_val,y_pred_rf))"
   ]
  },
  {
   "cell_type": "markdown",
   "id": "aerial-biography",
   "metadata": {
    "papermill": {
     "duration": 1.262632,
     "end_time": "2021-04-26T05:50:53.278744",
     "exception": false,
     "start_time": "2021-04-26T05:50:52.016112",
     "status": "completed"
    },
    "tags": []
   },
   "source": [
    "## 5.7 Simple Neural Networks"
   ]
  },
  {
   "cell_type": "markdown",
   "id": "desperate-disposition",
   "metadata": {
    "papermill": {
     "duration": 1.271601,
     "end_time": "2021-04-26T05:50:55.840239",
     "exception": false,
     "start_time": "2021-04-26T05:50:54.568638",
     "status": "completed"
    },
    "tags": []
   },
   "source": [
    "- In this model we havn't use any convolution or max polling layer in model. We simply use Flatter and Dense in model and trained it with learning rate.\n",
    "\n",
    "- We try to create a model on paper below is an overview on a model :\n",
    "\n",
    "![](http://www.linkpicture.com/q/0001_33.jpg)"
   ]
  },
  {
   "cell_type": "code",
   "execution_count": 30,
   "id": "neutral-spine",
   "metadata": {
    "execution": {
     "iopub.execute_input": "2021-04-26T05:50:58.464759Z",
     "iopub.status.busy": "2021-04-26T05:50:58.463774Z",
     "iopub.status.idle": "2021-04-26T05:50:58.489717Z",
     "shell.execute_reply": "2021-04-26T05:50:58.489219Z"
    },
    "papermill": {
     "duration": 1.355131,
     "end_time": "2021-04-26T05:50:58.489864",
     "exception": false,
     "start_time": "2021-04-26T05:50:57.134733",
     "status": "completed"
    },
    "tags": []
   },
   "outputs": [],
   "source": [
    "model3 = keras.Sequential([\n",
    "    keras.layers.Flatten(input_shape=(28, 28)),\n",
    "    keras.layers.Dense(128, activation='relu'),\n",
    "    keras.layers.Dense(5, activation='softmax')\n",
    "])"
   ]
  },
  {
   "cell_type": "code",
   "execution_count": 31,
   "id": "trained-tiger",
   "metadata": {
    "execution": {
     "iopub.execute_input": "2021-04-26T05:51:01.433549Z",
     "iopub.status.busy": "2021-04-26T05:51:01.432633Z",
     "iopub.status.idle": "2021-04-26T05:51:01.437975Z",
     "shell.execute_reply": "2021-04-26T05:51:01.438673Z"
    },
    "papermill": {
     "duration": 1.580513,
     "end_time": "2021-04-26T05:51:01.438863",
     "exception": false,
     "start_time": "2021-04-26T05:50:59.858350",
     "status": "completed"
    },
    "tags": []
   },
   "outputs": [
    {
     "name": "stdout",
     "output_type": "stream",
     "text": [
      "Model: \"sequential_1\"\n",
      "_________________________________________________________________\n",
      "Layer (type)                 Output Shape              Param #   \n",
      "=================================================================\n",
      "flatten_2 (Flatten)          (None, 784)               0         \n",
      "_________________________________________________________________\n",
      "dense_4 (Dense)              (None, 128)               100480    \n",
      "_________________________________________________________________\n",
      "dense_5 (Dense)              (None, 5)                 645       \n",
      "=================================================================\n",
      "Total params: 101,125\n",
      "Trainable params: 101,125\n",
      "Non-trainable params: 0\n",
      "_________________________________________________________________\n"
     ]
    }
   ],
   "source": [
    "model3.summary()"
   ]
  },
  {
   "cell_type": "code",
   "execution_count": 32,
   "id": "described-matthew",
   "metadata": {
    "execution": {
     "iopub.execute_input": "2021-04-26T05:51:04.016096Z",
     "iopub.status.busy": "2021-04-26T05:51:04.015183Z",
     "iopub.status.idle": "2021-04-26T05:51:04.020376Z",
     "shell.execute_reply": "2021-04-26T05:51:04.019858Z"
    },
    "papermill": {
     "duration": 1.28832,
     "end_time": "2021-04-26T05:51:04.020487",
     "exception": false,
     "start_time": "2021-04-26T05:51:02.732167",
     "status": "completed"
    },
    "tags": []
   },
   "outputs": [],
   "source": [
    "model3.compile(optimizer='adam', loss=\"categorical_crossentropy\", metrics=[\"accuracy\"])"
   ]
  },
  {
   "cell_type": "code",
   "execution_count": 33,
   "id": "utility-alberta",
   "metadata": {
    "execution": {
     "iopub.execute_input": "2021-04-26T05:51:07.050808Z",
     "iopub.status.busy": "2021-04-26T05:51:07.049324Z",
     "iopub.status.idle": "2021-04-26T05:57:35.337334Z",
     "shell.execute_reply": "2021-04-26T05:57:35.337737Z"
    },
    "papermill": {
     "duration": 389.575032,
     "end_time": "2021-04-26T05:57:35.337940",
     "exception": false,
     "start_time": "2021-04-26T05:51:05.762908",
     "status": "completed"
    },
    "tags": []
   },
   "outputs": [
    {
     "name": "stdout",
     "output_type": "stream",
     "text": [
      "Epoch 1/25\n",
      "375/375 - 15s - loss: 0.9691 - accuracy: 0.5913 - val_loss: 0.8071 - val_accuracy: 0.6923\n",
      "Epoch 2/25\n",
      "375/375 - 14s - loss: 0.7936 - accuracy: 0.6748 - val_loss: 0.6961 - val_accuracy: 0.7185\n",
      "Epoch 3/25\n",
      "375/375 - 14s - loss: 0.7313 - accuracy: 0.7015 - val_loss: 0.6656 - val_accuracy: 0.7337\n",
      "Epoch 4/25\n",
      "375/375 - 15s - loss: 0.6941 - accuracy: 0.7187 - val_loss: 0.6353 - val_accuracy: 0.7482\n",
      "Epoch 5/25\n",
      "375/375 - 15s - loss: 0.6693 - accuracy: 0.7317 - val_loss: 0.6087 - val_accuracy: 0.7493\n",
      "Epoch 6/25\n",
      "375/375 - 14s - loss: 0.6530 - accuracy: 0.7361 - val_loss: 0.5939 - val_accuracy: 0.7665\n",
      "Epoch 7/25\n",
      "375/375 - 16s - loss: 0.6419 - accuracy: 0.7423 - val_loss: 0.5875 - val_accuracy: 0.7712\n",
      "Epoch 8/25\n",
      "375/375 - 14s - loss: 0.6286 - accuracy: 0.7491 - val_loss: 0.5946 - val_accuracy: 0.7533\n",
      "Epoch 9/25\n",
      "375/375 - 15s - loss: 0.6226 - accuracy: 0.7502 - val_loss: 0.5776 - val_accuracy: 0.7630\n",
      "Epoch 10/25\n",
      "375/375 - 15s - loss: 0.6153 - accuracy: 0.7529 - val_loss: 0.5784 - val_accuracy: 0.7775\n",
      "Epoch 11/25\n",
      "375/375 - 39s - loss: 0.6099 - accuracy: 0.7563 - val_loss: 0.5543 - val_accuracy: 0.7717\n",
      "Epoch 12/25\n",
      "375/375 - 16s - loss: 0.6030 - accuracy: 0.7586 - val_loss: 0.5602 - val_accuracy: 0.7798\n",
      "Epoch 13/25\n",
      "375/375 - 14s - loss: 0.5973 - accuracy: 0.7636 - val_loss: 0.5616 - val_accuracy: 0.7782\n",
      "Epoch 14/25\n",
      "375/375 - 14s - loss: 0.5940 - accuracy: 0.7634 - val_loss: 0.5448 - val_accuracy: 0.7855\n",
      "Epoch 15/25\n",
      "375/375 - 15s - loss: 0.5893 - accuracy: 0.7668 - val_loss: 0.5427 - val_accuracy: 0.7870\n",
      "Epoch 16/25\n",
      "375/375 - 14s - loss: 0.5867 - accuracy: 0.7663 - val_loss: 0.5423 - val_accuracy: 0.7952\n",
      "Epoch 17/25\n",
      "375/375 - 14s - loss: 0.5859 - accuracy: 0.7670 - val_loss: 0.5363 - val_accuracy: 0.7940\n",
      "Epoch 18/25\n",
      "375/375 - 15s - loss: 0.5780 - accuracy: 0.7712 - val_loss: 0.5339 - val_accuracy: 0.7985\n",
      "Epoch 19/25\n",
      "375/375 - 15s - loss: 0.5775 - accuracy: 0.7720 - val_loss: 0.5283 - val_accuracy: 0.7935\n",
      "Epoch 20/25\n",
      "375/375 - 14s - loss: 0.5726 - accuracy: 0.7736 - val_loss: 0.5255 - val_accuracy: 0.7937\n",
      "Epoch 21/25\n",
      "375/375 - 15s - loss: 0.5734 - accuracy: 0.7716 - val_loss: 0.5227 - val_accuracy: 0.7960\n",
      "Epoch 22/25\n",
      "375/375 - 14s - loss: 0.5695 - accuracy: 0.7749 - val_loss: 0.5186 - val_accuracy: 0.7912\n",
      "Epoch 23/25\n",
      "375/375 - 14s - loss: 0.5698 - accuracy: 0.7759 - val_loss: 0.5159 - val_accuracy: 0.8007\n",
      "Epoch 24/25\n",
      "375/375 - 15s - loss: 0.5666 - accuracy: 0.7764 - val_loss: 0.5207 - val_accuracy: 0.7982\n",
      "Epoch 25/25\n",
      "375/375 - 14s - loss: 0.5651 - accuracy: 0.7780 - val_loss: 0.5196 - val_accuracy: 0.7983\n",
      "--- 388.28542041778564 seconds ---\n"
     ]
    }
   ],
   "source": [
    "start_time = time.time()\n",
    "history3 = model3.fit(datagen.flow(x_train, y_train, batch_size = batch_size), epochs = epochs, \n",
    "                              validation_data = (x_val, y_val), verbose=2, \n",
    "                              steps_per_epoch=x_train.shape[0] // batch_size,\n",
    "                              callbacks = [reduce_lr])\n",
    "print(\"--- %s seconds ---\" % (time.time() - start_time))"
   ]
  },
  {
   "cell_type": "code",
   "execution_count": 34,
   "id": "seasonal-collector",
   "metadata": {
    "execution": {
     "iopub.execute_input": "2021-04-26T05:57:38.189896Z",
     "iopub.status.busy": "2021-04-26T05:57:38.188958Z",
     "iopub.status.idle": "2021-04-26T05:57:38.568037Z",
     "shell.execute_reply": "2021-04-26T05:57:38.568453Z"
    },
    "papermill": {
     "duration": 1.714059,
     "end_time": "2021-04-26T05:57:38.568611",
     "exception": false,
     "start_time": "2021-04-26T05:57:36.854552",
     "status": "completed"
    },
    "tags": []
   },
   "outputs": [
    {
     "name": "stdout",
     "output_type": "stream",
     "text": [
      "188/188 [==============================] - 0s 2ms/step - loss: 0.5196 - accuracy: 0.7983\n",
      "Loss: 0.5196\n",
      "Accuracy: 0.7983\n",
      "--- 0.3760824203491211 seconds ---\n"
     ]
    }
   ],
   "source": [
    "start_time = time.time() \n",
    "score = model3.evaluate(x_val, y_val)\n",
    "\n",
    "print('Loss: {:.4f}'.format(score[0]))\n",
    "print('Accuracy: {:.4f}'.format(score[1]))\n",
    "print(\"--- %s seconds ---\" % (time.time() - start_time))"
   ]
  },
  {
   "cell_type": "markdown",
   "id": "engaged-honduras",
   "metadata": {
    "papermill": {
     "duration": 1.776878,
     "end_time": "2021-04-26T05:57:41.615465",
     "exception": false,
     "start_time": "2021-04-26T05:57:39.838587",
     "status": "completed"
    },
    "tags": []
   },
   "source": [
    "**Note :**\n",
    "- Each model evaluation, performance and comparision performed in CM6."
   ]
  }
 ],
 "metadata": {
  "kernelspec": {
   "display_name": "Python 3",
   "language": "python",
   "name": "python3"
  },
  "language_info": {
   "codemirror_mode": {
    "name": "ipython",
    "version": 3
   },
   "file_extension": ".py",
   "mimetype": "text/x-python",
   "name": "python",
   "nbconvert_exporter": "python",
   "pygments_lexer": "ipython3",
   "version": "3.9.1"
  },
  "papermill": {
   "default_parameters": {},
   "duration": 2297.950887,
   "end_time": "2021-04-26T05:57:46.197251",
   "environment_variables": {},
   "exception": null,
   "input_path": "__notebook__.ipynb",
   "output_path": "__notebook__.ipynb",
   "parameters": {},
   "start_time": "2021-04-26T05:19:28.246364",
   "version": "2.3.2"
  }
 },
 "nbformat": 4,
 "nbformat_minor": 5
}
