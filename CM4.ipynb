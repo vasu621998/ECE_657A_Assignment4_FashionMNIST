{
 "cells": [
  {
   "cell_type": "markdown",
   "id": "portuguese-patient",
   "metadata": {
    "papermill": {
     "duration": 0.049526,
     "end_time": "2021-04-26T04:07:19.257414",
     "exception": false,
     "start_time": "2021-04-26T04:07:19.207888",
     "status": "completed"
    },
    "tags": []
   },
   "source": [
    "# <div align=\"center\">CM4</div>"
   ]
  },
  {
   "cell_type": "markdown",
   "id": "hired-watershed",
   "metadata": {
    "papermill": {
     "duration": 0.048168,
     "end_time": "2021-04-26T04:07:19.353966",
     "exception": false,
     "start_time": "2021-04-26T04:07:19.305798",
     "status": "completed"
    },
    "tags": []
   },
   "source": [
    "## 4.1 Importing Libraries"
   ]
  },
  {
   "cell_type": "code",
   "execution_count": 1,
   "id": "honest-slovenia",
   "metadata": {
    "execution": {
     "iopub.execute_input": "2021-04-26T04:07:19.463647Z",
     "iopub.status.busy": "2021-04-26T04:07:19.463013Z",
     "iopub.status.idle": "2021-04-26T04:07:25.858500Z",
     "shell.execute_reply": "2021-04-26T04:07:25.857868Z"
    },
    "papermill": {
     "duration": 6.456198,
     "end_time": "2021-04-26T04:07:25.858645",
     "exception": false,
     "start_time": "2021-04-26T04:07:19.402447",
     "status": "completed"
    },
    "tags": []
   },
   "outputs": [
    {
     "name": "stdout",
     "output_type": "stream",
     "text": [
      "/kaggle/input/asgn4fashionmnist/fashion_mnist_dataset_train.npy\n"
     ]
    }
   ],
   "source": [
    "# Handle table-like data and matrices :\n",
    "import numpy as np \n",
    "import pandas as pd \n",
    "\n",
    "\n",
    "import os\n",
    "for dirname, _, filenames in os.walk('/kaggle/input'):\n",
    "    for filename in filenames:\n",
    "        print(os.path.join(dirname, filename))\n",
    "\n",
    "        \n",
    "# Modelling Helpers Libraries\n",
    "from sklearn.model_selection import train_test_split\n",
    "from sklearn.metrics import confusion_matrix, classification_report\n",
    "from sklearn.model_selection import GridSearchCV , KFold , cross_val_score\n",
    "\n",
    "# Deep Learning Libraries\n",
    "import tensorflow as tf\n",
    "from keras.utils import to_categorical\n",
    "from keras.models import Sequential, load_model\n",
    "from keras.layers import Dense, Dropout, Flatten\n",
    "from keras.layers import Conv2D, MaxPooling2D, BatchNormalization\n",
    "from keras.optimizers import Adam,SGD,Adagrad,Adadelta,RMSprop\n",
    "from keras.preprocessing.image import ImageDataGenerator\n",
    "from keras.callbacks import ReduceLROnPlateau, LearningRateScheduler\n",
    "\n",
    "# Resnet \n",
    "import keras\n",
    "from keras.layers import AveragePooling2D, Input, Flatten\n",
    "from keras.layers import Dense, Conv2D, BatchNormalization, Activation\n",
    "from keras.regularizers import l2\n",
    "from keras.models import Model\n",
    "import os\n",
    "from keras.callbacks import ModelCheckpoint, ReduceLROnPlateau\n",
    "\n",
    "# Machine Learning Model\n",
    "from sklearn.model_selection import GridSearchCV\n",
    "from sklearn.ensemble import RandomForestClassifier\n",
    "from sklearn import metrics\n",
    "\n",
    "# Visualisation\n",
    "import seaborn as sns\n",
    "import matplotlib.pyplot as plt\n",
    "\n",
    "# Time library\n",
    "import time \n",
    "\n",
    "\n",
    "# Classification\n",
    "from sklearn.metrics import accuracy_score,precision_score,recall_score,f1_score,confusion_matrix,classification_report\n",
    "import itertools\n",
    "\n"
   ]
  },
  {
   "cell_type": "markdown",
   "id": "quiet-finland",
   "metadata": {
    "papermill": {
     "duration": 0.049437,
     "end_time": "2021-04-26T04:07:25.958369",
     "exception": false,
     "start_time": "2021-04-26T04:07:25.908932",
     "status": "completed"
    },
    "tags": []
   },
   "source": [
    "## 4.2 Extract Dataset\n",
    "\n",
    "- Dataset is in .npy file and after extract it converted into 0-D array.\n",
    "- We converted 0-D array to dictionary and then created Dataframe using pandas library."
   ]
  },
  {
   "cell_type": "code",
   "execution_count": 2,
   "id": "impaired-individual",
   "metadata": {
    "execution": {
     "iopub.execute_input": "2021-04-26T04:07:26.065124Z",
     "iopub.status.busy": "2021-04-26T04:07:26.064399Z",
     "iopub.status.idle": "2021-04-26T04:07:29.377581Z",
     "shell.execute_reply": "2021-04-26T04:07:29.376528Z"
    },
    "papermill": {
     "duration": 3.369965,
     "end_time": "2021-04-26T04:07:29.377727",
     "exception": false,
     "start_time": "2021-04-26T04:07:26.007762",
     "status": "completed"
    },
    "tags": []
   },
   "outputs": [],
   "source": [
    "data = np.load('../input/asgn4fashionmnist/fashion_mnist_dataset_train.npy', allow_pickle=True).item()\n",
    "data = np.array(data)\n",
    "my_dict = data[()]"
   ]
  },
  {
   "cell_type": "code",
   "execution_count": 3,
   "id": "stainless-extraction",
   "metadata": {
    "execution": {
     "iopub.execute_input": "2021-04-26T04:07:29.482717Z",
     "iopub.status.busy": "2021-04-26T04:07:29.480987Z",
     "iopub.status.idle": "2021-04-26T04:07:29.483346Z",
     "shell.execute_reply": "2021-04-26T04:07:29.483746Z"
    },
    "papermill": {
     "duration": 0.056394,
     "end_time": "2021-04-26T04:07:29.483874",
     "exception": false,
     "start_time": "2021-04-26T04:07:29.427480",
     "status": "completed"
    },
    "tags": []
   },
   "outputs": [],
   "source": [
    "features = my_dict.get('features')\n",
    "target = my_dict.get('target')"
   ]
  },
  {
   "cell_type": "code",
   "execution_count": 4,
   "id": "greater-conclusion",
   "metadata": {
    "execution": {
     "iopub.execute_input": "2021-04-26T04:07:29.589741Z",
     "iopub.status.busy": "2021-04-26T04:07:29.588002Z",
     "iopub.status.idle": "2021-04-26T04:07:29.590333Z",
     "shell.execute_reply": "2021-04-26T04:07:29.590742Z"
    },
    "papermill": {
     "duration": 0.057413,
     "end_time": "2021-04-26T04:07:29.590885",
     "exception": false,
     "start_time": "2021-04-26T04:07:29.533472",
     "status": "completed"
    },
    "tags": []
   },
   "outputs": [],
   "source": [
    "farray = features.reshape(features.shape[0], (features.shape[1]*features.shape[2]))"
   ]
  },
  {
   "cell_type": "code",
   "execution_count": 5,
   "id": "chief-climb",
   "metadata": {
    "execution": {
     "iopub.execute_input": "2021-04-26T04:07:29.697712Z",
     "iopub.status.busy": "2021-04-26T04:07:29.697004Z",
     "iopub.status.idle": "2021-04-26T04:07:29.699281Z",
     "shell.execute_reply": "2021-04-26T04:07:29.699654Z"
    },
    "papermill": {
     "duration": 0.059351,
     "end_time": "2021-04-26T04:07:29.699799",
     "exception": false,
     "start_time": "2021-04-26T04:07:29.640448",
     "status": "completed"
    },
    "tags": []
   },
   "outputs": [],
   "source": [
    "column_names = []\n",
    "[column_names.append(\"pixel\"+str(x)) for x in range(0, 784)]\n",
    "f1 = pd.DataFrame(farray , columns = column_names)"
   ]
  },
  {
   "cell_type": "code",
   "execution_count": 6,
   "id": "wrong-prototype",
   "metadata": {
    "execution": {
     "iopub.execute_input": "2021-04-26T04:07:29.811336Z",
     "iopub.status.busy": "2021-04-26T04:07:29.810679Z",
     "iopub.status.idle": "2021-04-26T04:07:29.838585Z",
     "shell.execute_reply": "2021-04-26T04:07:29.838982Z"
    },
    "papermill": {
     "duration": 0.089881,
     "end_time": "2021-04-26T04:07:29.839146",
     "exception": false,
     "start_time": "2021-04-26T04:07:29.749265",
     "status": "completed"
    },
    "tags": []
   },
   "outputs": [
    {
     "data": {
      "text/html": [
       "<div>\n",
       "<style scoped>\n",
       "    .dataframe tbody tr th:only-of-type {\n",
       "        vertical-align: middle;\n",
       "    }\n",
       "\n",
       "    .dataframe tbody tr th {\n",
       "        vertical-align: top;\n",
       "    }\n",
       "\n",
       "    .dataframe thead th {\n",
       "        text-align: right;\n",
       "    }\n",
       "</style>\n",
       "<table border=\"1\" class=\"dataframe\">\n",
       "  <thead>\n",
       "    <tr style=\"text-align: right;\">\n",
       "      <th></th>\n",
       "      <th>pixel0</th>\n",
       "      <th>pixel1</th>\n",
       "      <th>pixel2</th>\n",
       "      <th>pixel3</th>\n",
       "      <th>pixel4</th>\n",
       "      <th>pixel5</th>\n",
       "      <th>pixel6</th>\n",
       "      <th>pixel7</th>\n",
       "      <th>pixel8</th>\n",
       "      <th>pixel9</th>\n",
       "      <th>...</th>\n",
       "      <th>pixel774</th>\n",
       "      <th>pixel775</th>\n",
       "      <th>pixel776</th>\n",
       "      <th>pixel777</th>\n",
       "      <th>pixel778</th>\n",
       "      <th>pixel779</th>\n",
       "      <th>pixel780</th>\n",
       "      <th>pixel781</th>\n",
       "      <th>pixel782</th>\n",
       "      <th>pixel783</th>\n",
       "    </tr>\n",
       "  </thead>\n",
       "  <tbody>\n",
       "    <tr>\n",
       "      <th>0</th>\n",
       "      <td>0.0</td>\n",
       "      <td>0.0</td>\n",
       "      <td>0.0</td>\n",
       "      <td>0.0</td>\n",
       "      <td>0.0</td>\n",
       "      <td>0.000000</td>\n",
       "      <td>0.0</td>\n",
       "      <td>0.0</td>\n",
       "      <td>0.000000</td>\n",
       "      <td>0.000000</td>\n",
       "      <td>...</td>\n",
       "      <td>0.000000</td>\n",
       "      <td>0.000000</td>\n",
       "      <td>0.000000</td>\n",
       "      <td>0.000000</td>\n",
       "      <td>0.0</td>\n",
       "      <td>0.0</td>\n",
       "      <td>0.0</td>\n",
       "      <td>0.0</td>\n",
       "      <td>0.0</td>\n",
       "      <td>0.0</td>\n",
       "    </tr>\n",
       "    <tr>\n",
       "      <th>1</th>\n",
       "      <td>0.0</td>\n",
       "      <td>0.0</td>\n",
       "      <td>0.0</td>\n",
       "      <td>0.0</td>\n",
       "      <td>0.0</td>\n",
       "      <td>0.003922</td>\n",
       "      <td>0.0</td>\n",
       "      <td>0.0</td>\n",
       "      <td>0.000000</td>\n",
       "      <td>0.000000</td>\n",
       "      <td>...</td>\n",
       "      <td>0.466667</td>\n",
       "      <td>0.447059</td>\n",
       "      <td>0.509804</td>\n",
       "      <td>0.298039</td>\n",
       "      <td>0.0</td>\n",
       "      <td>0.0</td>\n",
       "      <td>0.0</td>\n",
       "      <td>0.0</td>\n",
       "      <td>0.0</td>\n",
       "      <td>0.0</td>\n",
       "    </tr>\n",
       "    <tr>\n",
       "      <th>2</th>\n",
       "      <td>0.0</td>\n",
       "      <td>0.0</td>\n",
       "      <td>0.0</td>\n",
       "      <td>0.0</td>\n",
       "      <td>0.0</td>\n",
       "      <td>0.000000</td>\n",
       "      <td>0.0</td>\n",
       "      <td>0.0</td>\n",
       "      <td>0.000000</td>\n",
       "      <td>0.086275</td>\n",
       "      <td>...</td>\n",
       "      <td>0.000000</td>\n",
       "      <td>0.000000</td>\n",
       "      <td>0.003922</td>\n",
       "      <td>0.000000</td>\n",
       "      <td>0.0</td>\n",
       "      <td>0.0</td>\n",
       "      <td>0.0</td>\n",
       "      <td>0.0</td>\n",
       "      <td>0.0</td>\n",
       "      <td>0.0</td>\n",
       "    </tr>\n",
       "    <tr>\n",
       "      <th>3</th>\n",
       "      <td>0.0</td>\n",
       "      <td>0.0</td>\n",
       "      <td>0.0</td>\n",
       "      <td>0.0</td>\n",
       "      <td>0.0</td>\n",
       "      <td>0.000000</td>\n",
       "      <td>0.0</td>\n",
       "      <td>0.0</td>\n",
       "      <td>0.129412</td>\n",
       "      <td>0.376471</td>\n",
       "      <td>...</td>\n",
       "      <td>0.000000</td>\n",
       "      <td>0.000000</td>\n",
       "      <td>0.000000</td>\n",
       "      <td>0.000000</td>\n",
       "      <td>0.0</td>\n",
       "      <td>0.0</td>\n",
       "      <td>0.0</td>\n",
       "      <td>0.0</td>\n",
       "      <td>0.0</td>\n",
       "      <td>0.0</td>\n",
       "    </tr>\n",
       "    <tr>\n",
       "      <th>4</th>\n",
       "      <td>0.0</td>\n",
       "      <td>0.0</td>\n",
       "      <td>0.0</td>\n",
       "      <td>0.0</td>\n",
       "      <td>0.0</td>\n",
       "      <td>0.000000</td>\n",
       "      <td>0.0</td>\n",
       "      <td>0.0</td>\n",
       "      <td>0.000000</td>\n",
       "      <td>0.000000</td>\n",
       "      <td>...</td>\n",
       "      <td>0.000000</td>\n",
       "      <td>0.000000</td>\n",
       "      <td>0.000000</td>\n",
       "      <td>0.000000</td>\n",
       "      <td>0.0</td>\n",
       "      <td>0.0</td>\n",
       "      <td>0.0</td>\n",
       "      <td>0.0</td>\n",
       "      <td>0.0</td>\n",
       "      <td>0.0</td>\n",
       "    </tr>\n",
       "  </tbody>\n",
       "</table>\n",
       "<p>5 rows × 784 columns</p>\n",
       "</div>"
      ],
      "text/plain": [
       "   pixel0  pixel1  pixel2  pixel3  pixel4    pixel5  pixel6  pixel7    pixel8  \\\n",
       "0     0.0     0.0     0.0     0.0     0.0  0.000000     0.0     0.0  0.000000   \n",
       "1     0.0     0.0     0.0     0.0     0.0  0.003922     0.0     0.0  0.000000   \n",
       "2     0.0     0.0     0.0     0.0     0.0  0.000000     0.0     0.0  0.000000   \n",
       "3     0.0     0.0     0.0     0.0     0.0  0.000000     0.0     0.0  0.129412   \n",
       "4     0.0     0.0     0.0     0.0     0.0  0.000000     0.0     0.0  0.000000   \n",
       "\n",
       "     pixel9  ...  pixel774  pixel775  pixel776  pixel777  pixel778  pixel779  \\\n",
       "0  0.000000  ...  0.000000  0.000000  0.000000  0.000000       0.0       0.0   \n",
       "1  0.000000  ...  0.466667  0.447059  0.509804  0.298039       0.0       0.0   \n",
       "2  0.086275  ...  0.000000  0.000000  0.003922  0.000000       0.0       0.0   \n",
       "3  0.376471  ...  0.000000  0.000000  0.000000  0.000000       0.0       0.0   \n",
       "4  0.000000  ...  0.000000  0.000000  0.000000  0.000000       0.0       0.0   \n",
       "\n",
       "   pixel780  pixel781  pixel782  pixel783  \n",
       "0       0.0       0.0       0.0       0.0  \n",
       "1       0.0       0.0       0.0       0.0  \n",
       "2       0.0       0.0       0.0       0.0  \n",
       "3       0.0       0.0       0.0       0.0  \n",
       "4       0.0       0.0       0.0       0.0  \n",
       "\n",
       "[5 rows x 784 columns]"
      ]
     },
     "execution_count": 6,
     "metadata": {},
     "output_type": "execute_result"
    }
   ],
   "source": [
    "f1.head()"
   ]
  },
  {
   "cell_type": "code",
   "execution_count": 7,
   "id": "governing-animal",
   "metadata": {
    "execution": {
     "iopub.execute_input": "2021-04-26T04:07:29.952015Z",
     "iopub.status.busy": "2021-04-26T04:07:29.951113Z",
     "iopub.status.idle": "2021-04-26T04:07:29.955196Z",
     "shell.execute_reply": "2021-04-26T04:07:29.955733Z"
    },
    "papermill": {
     "duration": 0.065606,
     "end_time": "2021-04-26T04:07:29.955898",
     "exception": false,
     "start_time": "2021-04-26T04:07:29.890292",
     "status": "completed"
    },
    "tags": []
   },
   "outputs": [
    {
     "data": {
      "text/html": [
       "<div>\n",
       "<style scoped>\n",
       "    .dataframe tbody tr th:only-of-type {\n",
       "        vertical-align: middle;\n",
       "    }\n",
       "\n",
       "    .dataframe tbody tr th {\n",
       "        vertical-align: top;\n",
       "    }\n",
       "\n",
       "    .dataframe thead th {\n",
       "        text-align: right;\n",
       "    }\n",
       "</style>\n",
       "<table border=\"1\" class=\"dataframe\">\n",
       "  <thead>\n",
       "    <tr style=\"text-align: right;\">\n",
       "      <th></th>\n",
       "      <th>target</th>\n",
       "    </tr>\n",
       "  </thead>\n",
       "  <tbody>\n",
       "    <tr>\n",
       "      <th>0</th>\n",
       "      <td>5.0</td>\n",
       "    </tr>\n",
       "    <tr>\n",
       "      <th>1</th>\n",
       "      <td>2.0</td>\n",
       "    </tr>\n",
       "    <tr>\n",
       "      <th>2</th>\n",
       "      <td>1.0</td>\n",
       "    </tr>\n",
       "    <tr>\n",
       "      <th>3</th>\n",
       "      <td>2.0</td>\n",
       "    </tr>\n",
       "    <tr>\n",
       "      <th>4</th>\n",
       "      <td>1.0</td>\n",
       "    </tr>\n",
       "  </tbody>\n",
       "</table>\n",
       "</div>"
      ],
      "text/plain": [
       "   target\n",
       "0     5.0\n",
       "1     2.0\n",
       "2     1.0\n",
       "3     2.0\n",
       "4     1.0"
      ]
     },
     "execution_count": 7,
     "metadata": {},
     "output_type": "execute_result"
    }
   ],
   "source": [
    "column_names = ['target']\n",
    "t1  = pd.DataFrame(target , columns = column_names)\n",
    "t1.head()"
   ]
  },
  {
   "cell_type": "markdown",
   "id": "animal-mileage",
   "metadata": {
    "papermill": {
     "duration": 0.05169,
     "end_time": "2021-04-26T04:07:30.066182",
     "exception": false,
     "start_time": "2021-04-26T04:07:30.014492",
     "status": "completed"
    },
    "tags": []
   },
   "source": [
    "**Note :**\n",
    "- As we are going to apply One hot encoding on target variable we decrease target values by 1.\n",
    "- Otherwise during One Hot encoding we faced error of IndexOutOfBound error for last target value in to_categorical."
   ]
  },
  {
   "cell_type": "code",
   "execution_count": 8,
   "id": "different-vertical",
   "metadata": {
    "execution": {
     "iopub.execute_input": "2021-04-26T04:07:30.175866Z",
     "iopub.status.busy": "2021-04-26T04:07:30.175266Z",
     "iopub.status.idle": "2021-04-26T04:07:30.193949Z",
     "shell.execute_reply": "2021-04-26T04:07:30.193069Z"
    },
    "papermill": {
     "duration": 0.075491,
     "end_time": "2021-04-26T04:07:30.194098",
     "exception": false,
     "start_time": "2021-04-26T04:07:30.118607",
     "status": "completed"
    },
    "tags": []
   },
   "outputs": [],
   "source": [
    "f1['target'] = t1['target'] - 1"
   ]
  },
  {
   "cell_type": "markdown",
   "id": "overall-newcastle",
   "metadata": {
    "papermill": {
     "duration": 0.050614,
     "end_time": "2021-04-26T04:07:30.295481",
     "exception": false,
     "start_time": "2021-04-26T04:07:30.244867",
     "status": "completed"
    },
    "tags": []
   },
   "source": [
    "### 4.3 Dataset overview \n",
    "\n",
    "1. Dataset contains 28*28 size 60000 images and one target feature as a label.\n",
    "2. Compare to FashionMNIST original dataset instead of 10 this dataset contains only 5 labels.\n",
    "3. Each label contains around 12000 images so images are equally distributed across labels."
   ]
  },
  {
   "cell_type": "code",
   "execution_count": 9,
   "id": "romantic-number",
   "metadata": {
    "execution": {
     "iopub.execute_input": "2021-04-26T04:07:30.427104Z",
     "iopub.status.busy": "2021-04-26T04:07:30.423592Z",
     "iopub.status.idle": "2021-04-26T04:07:30.432606Z",
     "shell.execute_reply": "2021-04-26T04:07:30.432121Z"
    },
    "papermill": {
     "duration": 0.086331,
     "end_time": "2021-04-26T04:07:30.432732",
     "exception": false,
     "start_time": "2021-04-26T04:07:30.346401",
     "status": "completed"
    },
    "tags": []
   },
   "outputs": [
    {
     "data": {
      "text/html": [
       "<div>\n",
       "<style scoped>\n",
       "    .dataframe tbody tr th:only-of-type {\n",
       "        vertical-align: middle;\n",
       "    }\n",
       "\n",
       "    .dataframe tbody tr th {\n",
       "        vertical-align: top;\n",
       "    }\n",
       "\n",
       "    .dataframe thead th {\n",
       "        text-align: right;\n",
       "    }\n",
       "</style>\n",
       "<table border=\"1\" class=\"dataframe\">\n",
       "  <thead>\n",
       "    <tr style=\"text-align: right;\">\n",
       "      <th></th>\n",
       "      <th>pixel0</th>\n",
       "      <th>pixel1</th>\n",
       "      <th>pixel2</th>\n",
       "      <th>pixel3</th>\n",
       "      <th>pixel4</th>\n",
       "      <th>pixel5</th>\n",
       "      <th>pixel6</th>\n",
       "      <th>pixel7</th>\n",
       "      <th>pixel8</th>\n",
       "      <th>pixel9</th>\n",
       "      <th>...</th>\n",
       "      <th>pixel775</th>\n",
       "      <th>pixel776</th>\n",
       "      <th>pixel777</th>\n",
       "      <th>pixel778</th>\n",
       "      <th>pixel779</th>\n",
       "      <th>pixel780</th>\n",
       "      <th>pixel781</th>\n",
       "      <th>pixel782</th>\n",
       "      <th>pixel783</th>\n",
       "      <th>target</th>\n",
       "    </tr>\n",
       "  </thead>\n",
       "  <tbody>\n",
       "    <tr>\n",
       "      <th>0</th>\n",
       "      <td>0.0</td>\n",
       "      <td>0.0</td>\n",
       "      <td>0.0</td>\n",
       "      <td>0.0</td>\n",
       "      <td>0.0</td>\n",
       "      <td>0.000000</td>\n",
       "      <td>0.0</td>\n",
       "      <td>0.0</td>\n",
       "      <td>0.000000</td>\n",
       "      <td>0.000000</td>\n",
       "      <td>...</td>\n",
       "      <td>0.000000</td>\n",
       "      <td>0.000000</td>\n",
       "      <td>0.000000</td>\n",
       "      <td>0.0</td>\n",
       "      <td>0.0</td>\n",
       "      <td>0.0</td>\n",
       "      <td>0.0</td>\n",
       "      <td>0.0</td>\n",
       "      <td>0.0</td>\n",
       "      <td>4.0</td>\n",
       "    </tr>\n",
       "    <tr>\n",
       "      <th>1</th>\n",
       "      <td>0.0</td>\n",
       "      <td>0.0</td>\n",
       "      <td>0.0</td>\n",
       "      <td>0.0</td>\n",
       "      <td>0.0</td>\n",
       "      <td>0.003922</td>\n",
       "      <td>0.0</td>\n",
       "      <td>0.0</td>\n",
       "      <td>0.000000</td>\n",
       "      <td>0.000000</td>\n",
       "      <td>...</td>\n",
       "      <td>0.447059</td>\n",
       "      <td>0.509804</td>\n",
       "      <td>0.298039</td>\n",
       "      <td>0.0</td>\n",
       "      <td>0.0</td>\n",
       "      <td>0.0</td>\n",
       "      <td>0.0</td>\n",
       "      <td>0.0</td>\n",
       "      <td>0.0</td>\n",
       "      <td>1.0</td>\n",
       "    </tr>\n",
       "    <tr>\n",
       "      <th>2</th>\n",
       "      <td>0.0</td>\n",
       "      <td>0.0</td>\n",
       "      <td>0.0</td>\n",
       "      <td>0.0</td>\n",
       "      <td>0.0</td>\n",
       "      <td>0.000000</td>\n",
       "      <td>0.0</td>\n",
       "      <td>0.0</td>\n",
       "      <td>0.000000</td>\n",
       "      <td>0.086275</td>\n",
       "      <td>...</td>\n",
       "      <td>0.000000</td>\n",
       "      <td>0.003922</td>\n",
       "      <td>0.000000</td>\n",
       "      <td>0.0</td>\n",
       "      <td>0.0</td>\n",
       "      <td>0.0</td>\n",
       "      <td>0.0</td>\n",
       "      <td>0.0</td>\n",
       "      <td>0.0</td>\n",
       "      <td>0.0</td>\n",
       "    </tr>\n",
       "    <tr>\n",
       "      <th>3</th>\n",
       "      <td>0.0</td>\n",
       "      <td>0.0</td>\n",
       "      <td>0.0</td>\n",
       "      <td>0.0</td>\n",
       "      <td>0.0</td>\n",
       "      <td>0.000000</td>\n",
       "      <td>0.0</td>\n",
       "      <td>0.0</td>\n",
       "      <td>0.129412</td>\n",
       "      <td>0.376471</td>\n",
       "      <td>...</td>\n",
       "      <td>0.000000</td>\n",
       "      <td>0.000000</td>\n",
       "      <td>0.000000</td>\n",
       "      <td>0.0</td>\n",
       "      <td>0.0</td>\n",
       "      <td>0.0</td>\n",
       "      <td>0.0</td>\n",
       "      <td>0.0</td>\n",
       "      <td>0.0</td>\n",
       "      <td>1.0</td>\n",
       "    </tr>\n",
       "    <tr>\n",
       "      <th>4</th>\n",
       "      <td>0.0</td>\n",
       "      <td>0.0</td>\n",
       "      <td>0.0</td>\n",
       "      <td>0.0</td>\n",
       "      <td>0.0</td>\n",
       "      <td>0.000000</td>\n",
       "      <td>0.0</td>\n",
       "      <td>0.0</td>\n",
       "      <td>0.000000</td>\n",
       "      <td>0.000000</td>\n",
       "      <td>...</td>\n",
       "      <td>0.000000</td>\n",
       "      <td>0.000000</td>\n",
       "      <td>0.000000</td>\n",
       "      <td>0.0</td>\n",
       "      <td>0.0</td>\n",
       "      <td>0.0</td>\n",
       "      <td>0.0</td>\n",
       "      <td>0.0</td>\n",
       "      <td>0.0</td>\n",
       "      <td>0.0</td>\n",
       "    </tr>\n",
       "  </tbody>\n",
       "</table>\n",
       "<p>5 rows × 785 columns</p>\n",
       "</div>"
      ],
      "text/plain": [
       "   pixel0  pixel1  pixel2  pixel3  pixel4    pixel5  pixel6  pixel7    pixel8  \\\n",
       "0     0.0     0.0     0.0     0.0     0.0  0.000000     0.0     0.0  0.000000   \n",
       "1     0.0     0.0     0.0     0.0     0.0  0.003922     0.0     0.0  0.000000   \n",
       "2     0.0     0.0     0.0     0.0     0.0  0.000000     0.0     0.0  0.000000   \n",
       "3     0.0     0.0     0.0     0.0     0.0  0.000000     0.0     0.0  0.129412   \n",
       "4     0.0     0.0     0.0     0.0     0.0  0.000000     0.0     0.0  0.000000   \n",
       "\n",
       "     pixel9  ...  pixel775  pixel776  pixel777  pixel778  pixel779  pixel780  \\\n",
       "0  0.000000  ...  0.000000  0.000000  0.000000       0.0       0.0       0.0   \n",
       "1  0.000000  ...  0.447059  0.509804  0.298039       0.0       0.0       0.0   \n",
       "2  0.086275  ...  0.000000  0.003922  0.000000       0.0       0.0       0.0   \n",
       "3  0.376471  ...  0.000000  0.000000  0.000000       0.0       0.0       0.0   \n",
       "4  0.000000  ...  0.000000  0.000000  0.000000       0.0       0.0       0.0   \n",
       "\n",
       "   pixel781  pixel782  pixel783  target  \n",
       "0       0.0       0.0       0.0     4.0  \n",
       "1       0.0       0.0       0.0     1.0  \n",
       "2       0.0       0.0       0.0     0.0  \n",
       "3       0.0       0.0       0.0     1.0  \n",
       "4       0.0       0.0       0.0     0.0  \n",
       "\n",
       "[5 rows x 785 columns]"
      ]
     },
     "execution_count": 9,
     "metadata": {},
     "output_type": "execute_result"
    }
   ],
   "source": [
    "f1.head()"
   ]
  },
  {
   "cell_type": "code",
   "execution_count": 10,
   "id": "nearby-pasta",
   "metadata": {
    "execution": {
     "iopub.execute_input": "2021-04-26T04:07:30.545351Z",
     "iopub.status.busy": "2021-04-26T04:07:30.544581Z",
     "iopub.status.idle": "2021-04-26T04:07:30.551965Z",
     "shell.execute_reply": "2021-04-26T04:07:30.552435Z"
    },
    "papermill": {
     "duration": 0.064058,
     "end_time": "2021-04-26T04:07:30.552579",
     "exception": false,
     "start_time": "2021-04-26T04:07:30.488521",
     "status": "completed"
    },
    "tags": []
   },
   "outputs": [
    {
     "data": {
      "text/plain": [
       "1.0    12019\n",
       "2.0    12011\n",
       "3.0    11992\n",
       "0.0    11989\n",
       "4.0    11989\n",
       "Name: target, dtype: int64"
      ]
     },
     "execution_count": 10,
     "metadata": {},
     "output_type": "execute_result"
    }
   ],
   "source": [
    "f1['target'].value_counts()"
   ]
  },
  {
   "cell_type": "code",
   "execution_count": 11,
   "id": "premier-cemetery",
   "metadata": {
    "execution": {
     "iopub.execute_input": "2021-04-26T04:07:30.665837Z",
     "iopub.status.busy": "2021-04-26T04:07:30.664871Z",
     "iopub.status.idle": "2021-04-26T04:07:31.429492Z",
     "shell.execute_reply": "2021-04-26T04:07:31.429046Z"
    },
    "papermill": {
     "duration": 0.822692,
     "end_time": "2021-04-26T04:07:31.429618",
     "exception": false,
     "start_time": "2021-04-26T04:07:30.606926",
     "status": "completed"
    },
    "tags": []
   },
   "outputs": [
    {
     "data": {
      "text/plain": [
       "<seaborn.axisgrid.FacetGrid at 0x7f6cb5134090>"
      ]
     },
     "execution_count": 11,
     "metadata": {},
     "output_type": "execute_result"
    },
    {
     "data": {
      "image/png": "[encoded data removed]",
      "text/plain": [
       "<Figure size 324x216 with 1 Axes>"
      ]
     },
     "metadata": {
      "needs_background": "light"
     },
     "output_type": "display_data"
    }
   ],
   "source": [
    "import seaborn as sns\n",
    "sns.catplot(x='target', data=f1, kind='count', height=3, aspect= 1.5)"
   ]
  },
  {
   "cell_type": "markdown",
   "id": "accredited-jewelry",
   "metadata": {
    "papermill": {
     "duration": 0.053422,
     "end_time": "2021-04-26T04:07:31.536753",
     "exception": false,
     "start_time": "2021-04-26T04:07:31.483331",
     "status": "completed"
    },
    "tags": []
   },
   "source": [
    "#### 4.3.1 Fashion MNIST images with 10 labels \n",
    "![](https://www.researchgate.net/profile/Greeshma-K-V/publication/340299295/figure/fig1/AS:875121904476163@1585656729996/Fashion-MNIST-Dataset-Images-with-Labels-and-Description-II-LITERATURE-REVIEW-In-image.jpg)"
   ]
  },
  {
   "cell_type": "markdown",
   "id": "indie-alcohol",
   "metadata": {
    "papermill": {
     "duration": 0.052349,
     "end_time": "2021-04-26T04:07:31.652465",
     "exception": false,
     "start_time": "2021-04-26T04:07:31.600116",
     "status": "completed"
    },
    "tags": []
   },
   "source": [
    "## 4.4 Visualization of Dataset "
   ]
  },
  {
   "cell_type": "code",
   "execution_count": 12,
   "id": "removed-bidder",
   "metadata": {
    "execution": {
     "iopub.execute_input": "2021-04-26T04:07:31.762684Z",
     "iopub.status.busy": "2021-04-26T04:07:31.762155Z",
     "iopub.status.idle": "2021-04-26T04:07:31.765930Z",
     "shell.execute_reply": "2021-04-26T04:07:31.765440Z"
    },
    "papermill": {
     "duration": 0.060743,
     "end_time": "2021-04-26T04:07:31.766072",
     "exception": false,
     "start_time": "2021-04-26T04:07:31.705329",
     "status": "completed"
    },
    "tags": []
   },
   "outputs": [],
   "source": [
    "clothing = {0 : 'T-shirt/top/pants',\n",
    "            1 : 'coat/trouser',\n",
    "            2 : 'Dress',\n",
    "            3 : 'Sandal/Boot/pullover',\n",
    "            4 : 'Sneaker/Bag/Ankle Boots'}\n",
    "\n",
    "clothing2 = {0 : '1',\n",
    "            1 : '2',\n",
    "            2 : '3',\n",
    "            3 : '4',\n",
    "            4 : '5'}"
   ]
  },
  {
   "cell_type": "code",
   "execution_count": 13,
   "id": "specific-dodge",
   "metadata": {
    "execution": {
     "iopub.execute_input": "2021-04-26T04:07:31.950115Z",
     "iopub.status.busy": "2021-04-26T04:07:31.933991Z",
     "iopub.status.idle": "2021-04-26T04:07:34.510983Z",
     "shell.execute_reply": "2021-04-26T04:07:34.511414Z"
    },
    "papermill": {
     "duration": 2.691704,
     "end_time": "2021-04-26T04:07:34.511556",
     "exception": false,
     "start_time": "2021-04-26T04:07:31.819852",
     "status": "completed"
    },
    "tags": []
   },
   "outputs": [
    {
     "data": {
      "image/png": "[encoded data removed]",
      "text/plain": [
       "<Figure size 1080x1080 with 16 Axes>"
      ]
     },
     "metadata": {
      "needs_background": "light"
     },
     "output_type": "display_data"
    }
   ],
   "source": [
    "fig, axes = plt.subplots(4, 4, figsize = (15,15))\n",
    "for row in axes:\n",
    "    for axe in row:\n",
    "        index = np.random.randint(60000)\n",
    "        img = f1.drop('target', axis=1).values[index].reshape(28,28)\n",
    "        cloths = f1['target'][index]\n",
    "        axe.imshow(img, cmap='gray')\n",
    "        axe.set_title(clothing2[cloths])\n",
    "        axe.set_axis_off()"
   ]
  },
  {
   "cell_type": "markdown",
   "id": "listed-handle",
   "metadata": {
    "papermill": {
     "duration": 0.094937,
     "end_time": "2021-04-26T04:07:34.668147",
     "exception": false,
     "start_time": "2021-04-26T04:07:34.573210",
     "status": "completed"
    },
    "tags": []
   },
   "source": [
    "#### Analysis from dataset :\n",
    "\n",
    "- As from above plot we can see that there is mixed images in each target variable. Which may cause in performance while training neural networks and machine learning models.\n",
    "- Moreover using trial and error method, we identified that most of the shoes/sandal/ankle boots/bags are fall under target variable '4' and '5'. However some of them items are also fall under target variable '3'.\n",
    "- Cloth items are included in first 3 target variables but ditribution between first 3 variables are not clear."
   ]
  },
  {
   "cell_type": "markdown",
   "id": "billion-chosen",
   "metadata": {
    "papermill": {
     "duration": 0.088968,
     "end_time": "2021-04-26T04:07:34.846876",
     "exception": false,
     "start_time": "2021-04-26T04:07:34.757908",
     "status": "completed"
    },
    "tags": []
   },
   "source": [
    "### 4.5 Data Preprocessing\n",
    "\n",
    "#### 4.5.1 Setting Random Seeds for Reproducibilty.\n",
    "\n",
    "- In order to generate same random numbers on multiple executions of the code on the same machine or on different machines (for a specific seed value)."
   ]
  },
  {
   "cell_type": "code",
   "execution_count": 14,
   "id": "configured-defendant",
   "metadata": {
    "execution": {
     "iopub.execute_input": "2021-04-26T04:07:35.044593Z",
     "iopub.status.busy": "2021-04-26T04:07:35.043817Z",
     "iopub.status.idle": "2021-04-26T04:07:35.046341Z",
     "shell.execute_reply": "2021-04-26T04:07:35.046947Z"
    },
    "papermill": {
     "duration": 0.099519,
     "end_time": "2021-04-26T04:07:35.047160",
     "exception": false,
     "start_time": "2021-04-26T04:07:34.947641",
     "status": "completed"
    },
    "tags": []
   },
   "outputs": [],
   "source": [
    "seed = 66\n",
    "np.random.seed(seed)"
   ]
  },
  {
   "cell_type": "markdown",
   "id": "inside-kingdom",
   "metadata": {
    "papermill": {
     "duration": 0.092879,
     "end_time": "2021-04-26T04:07:35.328644",
     "exception": false,
     "start_time": "2021-04-26T04:07:35.235765",
     "status": "completed"
    },
    "tags": []
   },
   "source": [
    "#### 4.5.2 Splitting Data into Train and Validation Set\n",
    "\n",
    "- We are gonna split the training data into Train, Validation and Test Set. Train set is used for Training the model and Validation set is used for tuning parameters of our model and compute different Model's Performance on the Dataset. Test set to predict label and compute best Model's Performance.\n",
    "\n",
    "- This is achieved using the train_test_split method of scikit learn library.\n",
    "\n",
    "- We have split our dataset into 80% training, 10% validation and 10% for testing."
   ]
  },
  {
   "cell_type": "code",
   "execution_count": 15,
   "id": "exciting-julian",
   "metadata": {
    "execution": {
     "iopub.execute_input": "2021-04-26T04:07:35.585322Z",
     "iopub.status.busy": "2021-04-26T04:07:35.584568Z",
     "iopub.status.idle": "2021-04-26T04:07:36.045838Z",
     "shell.execute_reply": "2021-04-26T04:07:36.045230Z"
    },
    "papermill": {
     "duration": 0.636438,
     "end_time": "2021-04-26T04:07:36.045978",
     "exception": false,
     "start_time": "2021-04-26T04:07:35.409540",
     "status": "completed"
    },
    "tags": []
   },
   "outputs": [],
   "source": [
    "X = f1.iloc[:, :-1]\n",
    "Y = f1.iloc[:,784]\n",
    "x_train1, x_valtest, y_train, y_valtest = train_test_split(X, Y, test_size=0.2, random_state=seed)\n",
    "x_val1,x_test1,y_val,y_test = train_test_split(x_valtest, y_valtest, test_size=0.5, random_state=seed)"
   ]
  },
  {
   "cell_type": "code",
   "execution_count": 16,
   "id": "czech-thanks",
   "metadata": {
    "execution": {
     "iopub.execute_input": "2021-04-26T04:07:36.163771Z",
     "iopub.status.busy": "2021-04-26T04:07:36.162374Z",
     "iopub.status.idle": "2021-04-26T04:07:36.165663Z",
     "shell.execute_reply": "2021-04-26T04:07:36.166096Z"
    },
    "papermill": {
     "duration": 0.064274,
     "end_time": "2021-04-26T04:07:36.166239",
     "exception": false,
     "start_time": "2021-04-26T04:07:36.101965",
     "status": "completed"
    },
    "tags": []
   },
   "outputs": [
    {
     "name": "stdout",
     "output_type": "stream",
     "text": [
      "48000\n",
      "6000\n",
      "37632000\n",
      "4704000\n",
      "4704000\n"
     ]
    }
   ],
   "source": [
    "print(len(x_train1))\n",
    "print(len(x_test1))\n",
    "print(x_train1.size)\n",
    "print(x_test1.size)\n",
    "print(x_val1.size)"
   ]
  },
  {
   "cell_type": "markdown",
   "id": "protecting-aspect",
   "metadata": {
    "papermill": {
     "duration": 0.054336,
     "end_time": "2021-04-26T04:07:36.274902",
     "exception": false,
     "start_time": "2021-04-26T04:07:36.220566",
     "status": "completed"
    },
    "tags": []
   },
   "source": [
    "#### 4.5.3 Reshaping Image :\n",
    "\n",
    "- As we have each images as 1D vector each containing 784 pixels. Before we feed the data to the CNN we must reshape the data into (28x28x1) 3D matrices.\n",
    "- If dataset contains RGB images, there would have been 3 channels, but as dataset is gray scale it only uses one channel.\n",
    "- We have to reshape each images as Keras wants an Extra Dimension in the end, for channels.\n",
    "\n",
    "**Note :**\n",
    "\n",
    "- We are going to reshape x_train, x_val and x_test for neural networks during preprocessing.\n",
    "- As we also build a Machine Learning model we will use without reshaped values."
   ]
  },
  {
   "cell_type": "code",
   "execution_count": 17,
   "id": "olympic-blink",
   "metadata": {
    "execution": {
     "iopub.execute_input": "2021-04-26T04:07:36.391207Z",
     "iopub.status.busy": "2021-04-26T04:07:36.390460Z",
     "iopub.status.idle": "2021-04-26T04:07:36.392942Z",
     "shell.execute_reply": "2021-04-26T04:07:36.393362Z"
    },
    "papermill": {
     "duration": 0.062073,
     "end_time": "2021-04-26T04:07:36.393491",
     "exception": false,
     "start_time": "2021-04-26T04:07:36.331418",
     "status": "completed"
    },
    "tags": []
   },
   "outputs": [],
   "source": [
    "x_train = x_train1.values.reshape((-1, 28, 28, 1))\n",
    "x_val = x_val1.values.reshape((-1, 28, 28, 1))\n",
    "x_test = x_test1.values.reshape((-1, 28, 28, 1))"
   ]
  },
  {
   "cell_type": "markdown",
   "id": "serial-dialogue",
   "metadata": {
    "papermill": {
     "duration": 0.055029,
     "end_time": "2021-04-26T04:07:36.503640",
     "exception": false,
     "start_time": "2021-04-26T04:07:36.448611",
     "status": "completed"
    },
    "tags": []
   },
   "source": [
    "#### 4.5.4 Normalization ( Not required ) :\n",
    "\n",
    "- Sometimes the image pixel value are  stored as Integer Numbers in the range 0 to 255, the range that a single 8-bit byte.\n",
    "- They need to be scaled down to [0,1] in order for Optimization Algorithms to work much faster.\n",
    "- But in our dataset each image pixel values are already scaled down to [0,1] so we skipped this normalization step.\n",
    "- Using normalization we can acheive Zero Mean and Unit Variance.\n"
   ]
  },
  {
   "cell_type": "code",
   "execution_count": 18,
   "id": "organizational-maria",
   "metadata": {
    "execution": {
     "iopub.execute_input": "2021-04-26T04:07:36.619371Z",
     "iopub.status.busy": "2021-04-26T04:07:36.618577Z",
     "iopub.status.idle": "2021-04-26T04:07:36.621779Z",
     "shell.execute_reply": "2021-04-26T04:07:36.621319Z"
    },
    "papermill": {
     "duration": 0.061993,
     "end_time": "2021-04-26T04:07:36.621889",
     "exception": false,
     "start_time": "2021-04-26T04:07:36.559896",
     "status": "completed"
    },
    "tags": []
   },
   "outputs": [],
   "source": [
    "#x_train = x_train.astype(\"float32\")/255\n",
    "#x_test = x_test.astype(\"float32\")/255\n",
    "#x_val = x_val.astype(\"float32\")/255"
   ]
  },
  {
   "cell_type": "markdown",
   "id": "concrete-healing",
   "metadata": {
    "papermill": {
     "duration": 0.054797,
     "end_time": "2021-04-26T04:07:36.732113",
     "exception": false,
     "start_time": "2021-04-26T04:07:36.677316",
     "status": "completed"
    },
    "tags": []
   },
   "source": [
    "#### 4.5.5 One Hot Encoding :\n",
    "\n",
    "- A one hot encoding is a representation of categorical variables as binary vectors.\n",
    "- The labels are given as integers between 1-5. Which we then updated to 0-4 so that we can use to_categorical function.\n",
    "- We applied one hot encode them , Eg 3 [0, 0, 1, 0, 0].\n",
    "- As dataset have 5 labels so after One hot encoding we have the target variable with 5 classes. "
   ]
  },
  {
   "cell_type": "code",
   "execution_count": 19,
   "id": "compact-nightlife",
   "metadata": {
    "execution": {
     "iopub.execute_input": "2021-04-26T04:07:36.847346Z",
     "iopub.status.busy": "2021-04-26T04:07:36.846678Z",
     "iopub.status.idle": "2021-04-26T04:07:36.852592Z",
     "shell.execute_reply": "2021-04-26T04:07:36.852078Z"
    },
    "papermill": {
     "duration": 0.065515,
     "end_time": "2021-04-26T04:07:36.852707",
     "exception": false,
     "start_time": "2021-04-26T04:07:36.787192",
     "status": "completed"
    },
    "tags": []
   },
   "outputs": [],
   "source": [
    "from keras.utils.np_utils import to_categorical\n",
    "\n",
    "y_train = to_categorical(y_train, num_classes=5)\n",
    "y_val = to_categorical(y_val, num_classes=5)\n",
    "y_test = to_categorical(y_test, num_classes=5)"
   ]
  },
  {
   "cell_type": "code",
   "execution_count": 20,
   "id": "olive-messenger",
   "metadata": {
    "execution": {
     "iopub.execute_input": "2021-04-26T04:07:36.968203Z",
     "iopub.status.busy": "2021-04-26T04:07:36.967464Z",
     "iopub.status.idle": "2021-04-26T04:07:36.970685Z",
     "shell.execute_reply": "2021-04-26T04:07:36.971244Z"
    },
    "papermill": {
     "duration": 0.063506,
     "end_time": "2021-04-26T04:07:36.971390",
     "exception": false,
     "start_time": "2021-04-26T04:07:36.907884",
     "status": "completed"
    },
    "tags": []
   },
   "outputs": [
    {
     "name": "stdout",
     "output_type": "stream",
     "text": [
      "(48000, 5)\n",
      "(6000, 5)\n"
     ]
    }
   ],
   "source": [
    "print(y_train.shape)\n",
    "print(y_test.shape)"
   ]
  },
  {
   "cell_type": "markdown",
   "id": "first-franklin",
   "metadata": {
    "papermill": {
     "duration": 0.055939,
     "end_time": "2021-04-26T04:07:37.083826",
     "exception": false,
     "start_time": "2021-04-26T04:07:37.027887",
     "status": "completed"
    },
    "tags": []
   },
   "source": [
    "### 4.6 Training a Convolutional Neural Network ( Model 1 )\n",
    "\n",
    "#### 4.6.1 Building a ConvNet :\n",
    "\n",
    "\n",
    "**1) Conv2D :**\n",
    "- Notice at as our output spatial volume is decreasing our number of filters learned is increasing — this is a common practice in designing CNN architectures.\n",
    "\n",
    "**Conv2D  Parameters:**\n",
    "- **filters :** As far as choosing the appropriate number of filters , I nearly always recommend using powers of 2 as the values.\n",
    "- **kernel_size :** The kernel_size must be an odd integer as well.\n",
    "- **strides :** The strides parameter specifies the “step” of the convolution along the x and y axis of the input volume. We have select strides 1 which means : \n",
    "     1. A convolutional filter is applied to the current location of the input volume.\n",
    "     2. The filter takes a 1-pixel step to the right and again the filter is applied to the input volume.\n",
    "     3.This process is performed until we reach the far-right border of the volume in which we move our filter one pixel down and then start again from the far left.\n",
    "- **padding :** This parameter values are \"valid\" or \"same\". As we want to preserve the spatial dimensions of the volume such that the output volume size matches the input volume size we have selected \"same\". We will reduce spatial dimensions of our volume by Max pooling.\n",
    "- **data_format :** This parameter values are \"channels_last\" or \"channels_first\". The TensorFlow backend to Keras uses channels last ordering. We used \"channels_last\" in convolution network.\n",
    "\n",
    "\n",
    "<img src=https://pyimagesearch.com/wp-content/uploads/2018/12/keras_conv2d_channel_ordering.png width=\"250\">\n",
    "\n",
    "    \n",
    "**2) Maxpool :**\n",
    "- Max pooling is then used to reduce the spatial dimensions of the output volume.\n",
    "\n",
    "\n",
    "**Note :**\n",
    "-  we can use strides=2 to help reduce the size of the output volume."
   ]
  },
  {
   "cell_type": "markdown",
   "id": "operational-novelty",
   "metadata": {
    "papermill": {
     "duration": 0.05575,
     "end_time": "2021-04-26T04:07:37.194873",
     "exception": false,
     "start_time": "2021-04-26T04:07:37.139123",
     "status": "completed"
    },
    "tags": []
   },
   "source": [
    "#### 4.6.2  The design of Convolution neural networks definition : \n",
    "\n",
    "1) Firstly we used **Sequential Keras API** which is just a linear stack of layers.\n",
    "\n",
    "2) Then we include **Convolutional Layers**, this operation performs below operations :\n",
    "    1. Apply filters to extract features.\n",
    "    2. Apply activation function( in our case 'relu' ) on every every input value of feature maps.\n",
    "    3. Filters are composed of small kernels learned.\n",
    "\n",
    "3) Next we apply **Batch Normalization** to achieve zero mean and zero variance on image pixels after each convolution.\n",
    "\n",
    "4) Then we add **Max Pooling Layers**, which are used for Dimensionality Reduction or DownSampling the Input. These are used where we have lot of Input Features. It reduces the amount of Parameters and Computational power required drastically, thus reducing Overfitting. These along with Convolutional layers are able to learn more Complex features of the Image.\n",
    "\n",
    "5) We add **Dropout Layers** to avoid Overfitting. DropOut is a Regularization Technique, which Penalizes the Parameters. We DropOutRate to 0.25. Usually in general we can set this rate between 0.2-0.5.\n",
    "\n",
    "6) Then we include **Flatten layer** to map the input to a 1D vector. We then add Fully connected Layers after some convolutional/pooling layers.\n",
    "\n",
    "7) Lastly, we add the **Dense (Output) Layer**. It has units equal to the number of classes to be identified.Here, we use 'softmax' function since it is Multi-Class Classification. For binary classification we can use 'sigmoid' function.\n"
   ]
  },
  {
   "cell_type": "markdown",
   "id": "authentic-electronics",
   "metadata": {
    "papermill": {
     "duration": 0.054872,
     "end_time": "2021-04-26T04:07:37.305599",
     "exception": false,
     "start_time": "2021-04-26T04:07:37.250727",
     "status": "completed"
    },
    "tags": []
   },
   "source": [
    "#### Different Activation Function : \n",
    "\n",
    "1. **relu :**\n",
    "\n",
    "- ReLU (Rectified Linear Activation function) is a piecewise linear function that will output the input directly if it is positive, otherwise, it will output zero.\n",
    "- It has become the default activation function for many types of neural networks because a model that uses it is easier to train and often achieves better performance.\n",
    "- **Function :** g(z) = max{0, z}\n",
    "\n",
    "2. **sigmoid :**\n",
    "\n",
    "- The sigmoid activation function, also called the logistic function.\n",
    "- The input to the function is transformed into a value between 0.0 and 1.0. Inputs that are much larger than 1.0 are transformed to the value 1.0, similarly, values much smaller than 0.0 are snapped to 0.0.\n",
    "- The shape of the function for all possible inputs is an S-shape from zero up through 0.5 to 1.0.\n",
    "- **Function :** s(x) = 1/(1+e^(-x))\n",
    "\n",
    "\n",
    "\n",
    "3. **tanh :**\n",
    "\n",
    "- The hyperbolic tangent function, or tanh is a similar shaped nonlinear activation function that outputs values between -1.0 and 1.0.\n",
    "- - **Function :** tanh(x) = (e^x - e^(-x))/(e^x + e^(-x))\n",
    "\n",
    "\n",
    "4. **softmax :**\n",
    "\n",
    "- This function is used as the activation function in the output layer of neural network models that predict a multinomial probability distribution.\n",
    "- Softmax is used as the activation function for multi-class classification problems where class membership is required on more than two class labels. In this dataset we use this activation function in the output layer for each neural network.\n",
    "- **Function :**\n",
    "![](http://www.gstatic.com/education/formulas2/355397047/en/softmax_function.svg)\n",
    "\n",
    "\n",
    "#### Limitations of sigmoid and tanh :\n",
    "\n",
    "- A general problem with both the sigmoid and tanh functions is that these functions are saturate.\n",
    "- This means that large values snap to 1.0 and small values snap to -1 or 0 for tanh and sigmoid respectively.\n",
    "- Moreover these two functions are only really sensitive to changes around their mid-point of their input, such as 0.5 for sigmoid and 0.0 for tanh.\n",
    "\n",
    "\n",
    "\n",
    "**Note :**\n",
    "- Each activaton function 'sigmoid' and 'tanh' performance are included in CM6."
   ]
  },
  {
   "cell_type": "code",
   "execution_count": 21,
   "id": "congressional-charter",
   "metadata": {
    "execution": {
     "iopub.execute_input": "2021-04-26T04:07:37.426395Z",
     "iopub.status.busy": "2021-04-26T04:07:37.425857Z",
     "iopub.status.idle": "2021-04-26T04:07:40.501331Z",
     "shell.execute_reply": "2021-04-26T04:07:40.500277Z"
    },
    "papermill": {
     "duration": 3.140554,
     "end_time": "2021-04-26T04:07:40.501472",
     "exception": false,
     "start_time": "2021-04-26T04:07:37.360918",
     "status": "completed"
    },
    "tags": []
   },
   "outputs": [],
   "source": [
    "model = Sequential()\n",
    "model.add(Conv2D(filters=32, kernel_size=(3, 3), activation='relu', strides=1, padding='same', \n",
    "                 data_format='channels_last', input_shape=(28,28,1)))\n",
    "model.add(BatchNormalization())\n",
    "\n",
    "model.add(Conv2D(filters=32, kernel_size=(3, 3), activation='relu', strides=1, padding='same', \n",
    "                 data_format='channels_last'))\n",
    "model.add(BatchNormalization())\n",
    "model.add(Dropout(0.25))\n",
    "\n",
    "model.add(Conv2D(filters=64, kernel_size=(3, 3), activation='relu', strides=1, padding='same', \n",
    "                 data_format='channels_last'))\n",
    "model.add(MaxPooling2D(pool_size=(2, 2)))\n",
    "model.add(Dropout(0.25))\n",
    "    \n",
    "    \n",
    "model.add(Conv2D(filters=128, kernel_size=(3, 3), activation='relu', strides=1, padding='same', \n",
    "                 data_format='channels_last'))\n",
    "model.add(BatchNormalization())\n",
    "model.add(Dropout(0.25))\n",
    "\n",
    "model.add(Flatten())\n",
    "model.add(Dense(512, activation='relu'))\n",
    "model.add(BatchNormalization())\n",
    "model.add(Dropout(0.5))\n",
    "model.add(Dense(128, activation='relu'))\n",
    "model.add(BatchNormalization())\n",
    "model.add(Dropout(0.5))\n",
    "model.add(Dense(5, activation='softmax'))"
   ]
  },
  {
   "cell_type": "markdown",
   "id": "equipped-skiing",
   "metadata": {
    "papermill": {
     "duration": 0.055658,
     "end_time": "2021-04-26T04:07:40.617450",
     "exception": false,
     "start_time": "2021-04-26T04:07:40.561792",
     "status": "completed"
    },
    "tags": []
   },
   "source": [
    "#### 4.6.3 Optimizer of the model :\n",
    "\n",
    "- Before model compilation we need to set optimizer used by the model. We have multiple options for optimizer e.g ADAM, SGD, ADAGRAD, ADADELTA, RMSPROP.\n",
    "- **Parameters :** \n",
    "    - **learning rate :** the learning rate is a configurable hyperparameter used in the training of neural networks. The learning rate controls how quickly the model is adapted to the problem.\n",
    "    - **beta1 :** The exponential decay rate for the first moment estimates (e.g. 0.9).\n",
    "    - **beta2 :** The exponential decay rate for the second-moment estimates (e.g. 0.999).\n",
    "\n",
    "\n",
    "![](http://www.linkpicture.com/q/1_osB82GKHBOT8k1idLqiqA-99.png)\n",
    "\n",
    "\n",
    "**Learning rate adjustment :**\n",
    "- The learning rate controls how quickly the model is adapted to the problem.\n",
    "- Smaller learning rates require more training epochs given the smaller changes made to the weights each update.\n",
    "- Larger learning rates result in rapid changes and require fewer training epochs.\n",
    "\n",
    "**Problem with too large or small learning rate value :**\n",
    "* A learning rate that is too large can cause the model to converge too quickly to a suboptimal solution.\n",
    "* A learning rate that is too small can cause the process to get stuck.\n",
    "\n",
    "**Note :**\n",
    "- The learning rate is perhaps the ***most important hyperparameter***."
   ]
  },
  {
   "cell_type": "markdown",
   "id": "aboriginal-puzzle",
   "metadata": {
    "papermill": {
     "duration": 0.055705,
     "end_time": "2021-04-26T04:07:40.729530",
     "exception": false,
     "start_time": "2021-04-26T04:07:40.673825",
     "status": "completed"
    },
    "tags": []
   },
   "source": []
  },
  {
   "cell_type": "code",
   "execution_count": 22,
   "id": "statewide-vaccine",
   "metadata": {
    "execution": {
     "iopub.execute_input": "2021-04-26T04:07:40.849362Z",
     "iopub.status.busy": "2021-04-26T04:07:40.847581Z",
     "iopub.status.idle": "2021-04-26T04:07:40.850231Z",
     "shell.execute_reply": "2021-04-26T04:07:40.850837Z"
    },
    "papermill": {
     "duration": 0.064985,
     "end_time": "2021-04-26T04:07:40.850986",
     "exception": false,
     "start_time": "2021-04-26T04:07:40.786001",
     "status": "completed"
    },
    "tags": []
   },
   "outputs": [],
   "source": [
    "optimizer = tf.keras.optimizers.Adam(learning_rate=0.01, beta_1=0.9, beta_2=0.999)\n",
    "\n",
    "# SGD \n",
    "optimizer_sgd = tf.keras.optimizers.SGD(learning_rate=0.01)\n",
    "\n",
    "# RMSProp\n",
    "\n",
    "optimizer_rmsprop = tf.keras.optimizers.RMSprop(learning_rate=0.01)\n",
    "\n",
    "# Adagrad\n",
    "optimizer_adagrad = tf.keras.optimizers.Adagrad(learning_rate=0.01)\n",
    "\n",
    "# Adadelta\n",
    "optimizer_adadelta = tf.keras.optimizers.Adadelta(learning_rate=0.01)\n"
   ]
  },
  {
   "cell_type": "markdown",
   "id": "demanding-circulation",
   "metadata": {
    "papermill": {
     "duration": 0.056777,
     "end_time": "2021-04-26T04:07:40.963933",
     "exception": false,
     "start_time": "2021-04-26T04:07:40.907156",
     "status": "completed"
    },
    "tags": []
   },
   "source": [
    "#### 4.6.4 Model compilation :\n",
    "\n",
    "- During model compile we need to specify the **loss** function for the neural network which we want to minimize. For Multi-class Classification we use \"categorical_crossentropy\" and for Binary Classification we use \"binary_crossentropy\".\n",
    "- We need to specify the **metric** to evaluate our models performance. Here we used accuracy."
   ]
  },
  {
   "cell_type": "code",
   "execution_count": 23,
   "id": "maritime-exposure",
   "metadata": {
    "execution": {
     "iopub.execute_input": "2021-04-26T04:07:41.089544Z",
     "iopub.status.busy": "2021-04-26T04:07:41.088682Z",
     "iopub.status.idle": "2021-04-26T04:07:41.095312Z",
     "shell.execute_reply": "2021-04-26T04:07:41.094784Z"
    },
    "papermill": {
     "duration": 0.075193,
     "end_time": "2021-04-26T04:07:41.095426",
     "exception": false,
     "start_time": "2021-04-26T04:07:41.020233",
     "status": "completed"
    },
    "tags": []
   },
   "outputs": [],
   "source": [
    "model.compile(optimizer=optimizer, loss=\"categorical_crossentropy\", metrics=[\"accuracy\"])"
   ]
  },
  {
   "cell_type": "markdown",
   "id": "sharp-tracy",
   "metadata": {
    "papermill": {
     "duration": 0.057917,
     "end_time": "2021-04-26T04:07:41.210722",
     "exception": false,
     "start_time": "2021-04-26T04:07:41.152805",
     "status": "completed"
    },
    "tags": []
   },
   "source": [
    "#### 4.6.5 Model Summary :\n",
    "\n",
    "Summary shows below things of our model :\n",
    "\n",
    "- The layers and their order in the model.\n",
    "- The output shape of each layer.\n",
    "- The number of parameters (weights) in each layer.\n",
    "- The total number of parameters (weights) in the model."
   ]
  },
  {
   "cell_type": "code",
   "execution_count": 24,
   "id": "exterior-stock",
   "metadata": {
    "execution": {
     "iopub.execute_input": "2021-04-26T04:07:41.335216Z",
     "iopub.status.busy": "2021-04-26T04:07:41.332546Z",
     "iopub.status.idle": "2021-04-26T04:07:41.343933Z",
     "shell.execute_reply": "2021-04-26T04:07:41.344348Z"
    },
    "papermill": {
     "duration": 0.077931,
     "end_time": "2021-04-26T04:07:41.344489",
     "exception": false,
     "start_time": "2021-04-26T04:07:41.266558",
     "status": "completed"
    },
    "tags": []
   },
   "outputs": [
    {
     "name": "stdout",
     "output_type": "stream",
     "text": [
      "Model: \"sequential\"\n",
      "_________________________________________________________________\n",
      "Layer (type)                 Output Shape              Param #   \n",
      "=================================================================\n",
      "conv2d (Conv2D)              (None, 28, 28, 32)        320       \n",
      "_________________________________________________________________\n",
      "batch_normalization (BatchNo (None, 28, 28, 32)        128       \n",
      "_________________________________________________________________\n",
      "conv2d_1 (Conv2D)            (None, 28, 28, 32)        9248      \n",
      "_________________________________________________________________\n",
      "batch_normalization_1 (Batch (None, 28, 28, 32)        128       \n",
      "_________________________________________________________________\n",
      "dropout (Dropout)            (None, 28, 28, 32)        0         \n",
      "_________________________________________________________________\n",
      "conv2d_2 (Conv2D)            (None, 28, 28, 64)        18496     \n",
      "_________________________________________________________________\n",
      "max_pooling2d (MaxPooling2D) (None, 14, 14, 64)        0         \n",
      "_________________________________________________________________\n",
      "dropout_1 (Dropout)          (None, 14, 14, 64)        0         \n",
      "_________________________________________________________________\n",
      "conv2d_3 (Conv2D)            (None, 14, 14, 128)       73856     \n",
      "_________________________________________________________________\n",
      "batch_normalization_2 (Batch (None, 14, 14, 128)       512       \n",
      "_________________________________________________________________\n",
      "dropout_2 (Dropout)          (None, 14, 14, 128)       0         \n",
      "_________________________________________________________________\n",
      "flatten (Flatten)            (None, 25088)             0         \n",
      "_________________________________________________________________\n",
      "dense (Dense)                (None, 512)               12845568  \n",
      "_________________________________________________________________\n",
      "batch_normalization_3 (Batch (None, 512)               2048      \n",
      "_________________________________________________________________\n",
      "dropout_3 (Dropout)          (None, 512)               0         \n",
      "_________________________________________________________________\n",
      "dense_1 (Dense)              (None, 128)               65664     \n",
      "_________________________________________________________________\n",
      "batch_normalization_4 (Batch (None, 128)               512       \n",
      "_________________________________________________________________\n",
      "dropout_4 (Dropout)          (None, 128)               0         \n",
      "_________________________________________________________________\n",
      "dense_2 (Dense)              (None, 5)                 645       \n",
      "=================================================================\n",
      "Total params: 13,017,125\n",
      "Trainable params: 13,015,461\n",
      "Non-trainable params: 1,664\n",
      "_________________________________________________________________\n"
     ]
    }
   ],
   "source": [
    "model.summary()"
   ]
  },
  {
   "cell_type": "markdown",
   "id": "powerful-columbus",
   "metadata": {
    "papermill": {
     "duration": 0.056379,
     "end_time": "2021-04-26T04:07:41.459014",
     "exception": false,
     "start_time": "2021-04-26T04:07:41.402635",
     "status": "completed"
    },
    "tags": []
   },
   "source": [
    "#### 4.6.6 Learning Rate Decay :\n",
    "\n",
    "- We should tuned our learning so that it is not too high to take very large steps, neither it should be too small which not change weights and bias of the model.\n",
    "- We use **LearningRateScheduler** here, which takes the step decay function as argument and return the updated learning rates for use in optimzer at every epoch stage. \n",
    "- So at every epoch learning rate will be change by LearningRateScheduler."
   ]
  },
  {
   "cell_type": "code",
   "execution_count": 25,
   "id": "executed-agency",
   "metadata": {
    "execution": {
     "iopub.execute_input": "2021-04-26T04:07:41.698784Z",
     "iopub.status.busy": "2021-04-26T04:07:41.697980Z",
     "iopub.status.idle": "2021-04-26T04:07:41.700810Z",
     "shell.execute_reply": "2021-04-26T04:07:41.700312Z"
    },
    "papermill": {
     "duration": 0.063755,
     "end_time": "2021-04-26T04:07:41.700914",
     "exception": false,
     "start_time": "2021-04-26T04:07:41.637159",
     "status": "completed"
    },
    "tags": []
   },
   "outputs": [],
   "source": [
    "reduce_lr = LearningRateScheduler(lambda x: 1e-3 * 0.9 ** x)"
   ]
  },
  {
   "cell_type": "markdown",
   "id": "white-parts",
   "metadata": {
    "papermill": {
     "duration": 0.055948,
     "end_time": "2021-04-26T04:07:41.813280",
     "exception": false,
     "start_time": "2021-04-26T04:07:41.757332",
     "status": "completed"
    },
    "tags": []
   },
   "source": [
    "#### 4.6.7 Data Augmentation : \n",
    "\n",
    "- Data Augmentation is like adding a data and/or noise to a dataset, so that model can perform well in various patterns.\n",
    "- For example, what if our images will have object at some angle ? In that case mostly our model will fail to predict right label.\n",
    "- So using data augmentation our model will build with different variations so that model performance on variety of input will remain same.\n"
   ]
  },
  {
   "cell_type": "code",
   "execution_count": 26,
   "id": "employed-travel",
   "metadata": {
    "execution": {
     "iopub.execute_input": "2021-04-26T04:07:41.932115Z",
     "iopub.status.busy": "2021-04-26T04:07:41.931303Z",
     "iopub.status.idle": "2021-04-26T04:07:41.934175Z",
     "shell.execute_reply": "2021-04-26T04:07:41.933723Z"
    },
    "papermill": {
     "duration": 0.063599,
     "end_time": "2021-04-26T04:07:41.934292",
     "exception": false,
     "start_time": "2021-04-26T04:07:41.870693",
     "status": "completed"
    },
    "tags": []
   },
   "outputs": [],
   "source": [
    "datagen = ImageDataGenerator(\n",
    "        rotation_range = 8,  # randomly rotate images in the range (degrees, 0 to 180)\n",
    "        zoom_range = 0.1, # Randomly zoom image \n",
    "        shear_range = 0.3,# shear angle in counter-clockwise direction in degrees  \n",
    "        width_shift_range=0.08,  # randomly shift images horizontally (fraction of total width)\n",
    "        height_shift_range=0.08,  # randomly shift images vertically (fraction of total height)\n",
    "        vertical_flip=True)"
   ]
  },
  {
   "cell_type": "code",
   "execution_count": 27,
   "id": "independent-jimmy",
   "metadata": {
    "execution": {
     "iopub.execute_input": "2021-04-26T04:07:42.052742Z",
     "iopub.status.busy": "2021-04-26T04:07:42.051590Z",
     "iopub.status.idle": "2021-04-26T04:07:42.168213Z",
     "shell.execute_reply": "2021-04-26T04:07:42.167710Z"
    },
    "papermill": {
     "duration": 0.177111,
     "end_time": "2021-04-26T04:07:42.168337",
     "exception": false,
     "start_time": "2021-04-26T04:07:41.991226",
     "status": "completed"
    },
    "tags": []
   },
   "outputs": [],
   "source": [
    "datagen.fit(x_train)"
   ]
  },
  {
   "cell_type": "markdown",
   "id": "retained-landing",
   "metadata": {
    "papermill": {
     "duration": 0.05645,
     "end_time": "2021-04-26T04:07:42.281807",
     "exception": false,
     "start_time": "2021-04-26T04:07:42.225357",
     "status": "completed"
    },
    "tags": []
   },
   "source": [
    "#### 4.6.8 Model fitting :\n",
    "\n",
    "- **batch size :** The batch size is a hyperparameter that defines the number of samples to work through before updating the internal model parameters.\n",
    "- **epochs :** The number of epochs is a hyperparameter that defines the number times that the learning algorithm will work through the entire training dataset."
   ]
  },
  {
   "cell_type": "code",
   "execution_count": 28,
   "id": "sitting-shape",
   "metadata": {
    "execution": {
     "iopub.execute_input": "2021-04-26T04:07:42.399741Z",
     "iopub.status.busy": "2021-04-26T04:07:42.398975Z",
     "iopub.status.idle": "2021-04-26T04:07:42.401573Z",
     "shell.execute_reply": "2021-04-26T04:07:42.402102Z"
    },
    "papermill": {
     "duration": 0.06368,
     "end_time": "2021-04-26T04:07:42.402238",
     "exception": false,
     "start_time": "2021-04-26T04:07:42.338558",
     "status": "completed"
    },
    "tags": []
   },
   "outputs": [],
   "source": [
    "batch_size = 128\n",
    "epochs = 25"
   ]
  },
  {
   "cell_type": "code",
   "execution_count": 29,
   "id": "simplified-venezuela",
   "metadata": {
    "execution": {
     "iopub.execute_input": "2021-04-26T04:07:42.522085Z",
     "iopub.status.busy": "2021-04-26T04:07:42.520993Z",
     "iopub.status.idle": "2021-04-26T04:14:17.310524Z",
     "shell.execute_reply": "2021-04-26T04:14:17.309785Z"
    },
    "papermill": {
     "duration": 394.851669,
     "end_time": "2021-04-26T04:14:17.310653",
     "exception": false,
     "start_time": "2021-04-26T04:07:42.458984",
     "status": "completed"
    },
    "tags": []
   },
   "outputs": [
    {
     "name": "stdout",
     "output_type": "stream",
     "text": [
      "Epoch 1/25\n",
      "375/375 - 20s - loss: 0.8274 - accuracy: 0.6723 - val_loss: 2.9754 - val_accuracy: 0.2008\n",
      "Epoch 2/25\n",
      "375/375 - 15s - loss: 0.5895 - accuracy: 0.7612 - val_loss: 0.4538 - val_accuracy: 0.8080\n",
      "Epoch 3/25\n",
      "375/375 - 16s - loss: 0.5323 - accuracy: 0.7857 - val_loss: 0.4347 - val_accuracy: 0.8212\n",
      "Epoch 4/25\n",
      "375/375 - 15s - loss: 0.4911 - accuracy: 0.8027 - val_loss: 0.3714 - val_accuracy: 0.8467\n",
      "Epoch 5/25\n",
      "375/375 - 15s - loss: 0.4761 - accuracy: 0.8068 - val_loss: 0.3637 - val_accuracy: 0.8527\n",
      "Epoch 6/25\n",
      "375/375 - 15s - loss: 0.4538 - accuracy: 0.8177 - val_loss: 0.3515 - val_accuracy: 0.8530\n",
      "Epoch 7/25\n",
      "375/375 - 15s - loss: 0.4423 - accuracy: 0.8222 - val_loss: 0.3486 - val_accuracy: 0.8547\n",
      "Epoch 8/25\n",
      "375/375 - 16s - loss: 0.4239 - accuracy: 0.8292 - val_loss: 0.4026 - val_accuracy: 0.8233\n",
      "Epoch 9/25\n",
      "375/375 - 16s - loss: 0.4168 - accuracy: 0.8331 - val_loss: 0.4718 - val_accuracy: 0.8017\n",
      "Epoch 10/25\n",
      "375/375 - 17s - loss: 0.4086 - accuracy: 0.8378 - val_loss: 0.3330 - val_accuracy: 0.8668\n",
      "Epoch 11/25\n",
      "375/375 - 16s - loss: 0.4004 - accuracy: 0.8393 - val_loss: 0.3413 - val_accuracy: 0.8570\n",
      "Epoch 12/25\n",
      "375/375 - 17s - loss: 0.3906 - accuracy: 0.8433 - val_loss: 0.3206 - val_accuracy: 0.8628\n",
      "Epoch 13/25\n",
      "375/375 - 16s - loss: 0.3865 - accuracy: 0.8465 - val_loss: 0.3003 - val_accuracy: 0.8800\n",
      "Epoch 14/25\n",
      "375/375 - 17s - loss: 0.3812 - accuracy: 0.8481 - val_loss: 0.3494 - val_accuracy: 0.8538\n",
      "Epoch 15/25\n",
      "375/375 - 15s - loss: 0.3752 - accuracy: 0.8506 - val_loss: 0.3980 - val_accuracy: 0.8295\n",
      "Epoch 16/25\n",
      "375/375 - 15s - loss: 0.3700 - accuracy: 0.8531 - val_loss: 0.2949 - val_accuracy: 0.8785\n",
      "Epoch 17/25\n",
      "375/375 - 16s - loss: 0.3647 - accuracy: 0.8568 - val_loss: 0.3159 - val_accuracy: 0.8670\n",
      "Epoch 18/25\n",
      "375/375 - 15s - loss: 0.3613 - accuracy: 0.8566 - val_loss: 0.3928 - val_accuracy: 0.8300\n",
      "Epoch 19/25\n",
      "375/375 - 15s - loss: 0.3589 - accuracy: 0.8588 - val_loss: 0.3712 - val_accuracy: 0.8405\n",
      "Epoch 20/25\n",
      "375/375 - 15s - loss: 0.3559 - accuracy: 0.8603 - val_loss: 0.3456 - val_accuracy: 0.8517\n",
      "Epoch 21/25\n",
      "375/375 - 15s - loss: 0.3473 - accuracy: 0.8617 - val_loss: 0.3141 - val_accuracy: 0.8660\n",
      "Epoch 22/25\n",
      "375/375 - 16s - loss: 0.3448 - accuracy: 0.8637 - val_loss: 0.3062 - val_accuracy: 0.8710\n",
      "Epoch 23/25\n",
      "375/375 - 15s - loss: 0.3455 - accuracy: 0.8639 - val_loss: 0.3027 - val_accuracy: 0.8717\n",
      "Epoch 24/25\n",
      "375/375 - 16s - loss: 0.3406 - accuracy: 0.8649 - val_loss: 0.3374 - val_accuracy: 0.8527\n",
      "Epoch 25/25\n",
      "375/375 - 15s - loss: 0.3377 - accuracy: 0.8674 - val_loss: 0.2979 - val_accuracy: 0.8735\n"
     ]
    }
   ],
   "source": [
    "history = model.fit(datagen.flow(x_train, y_train, batch_size = batch_size), epochs = epochs, \n",
    "                              validation_data = (x_val, y_val), verbose=2, \n",
    "                              steps_per_epoch=x_train.shape[0] // batch_size,\n",
    "                              callbacks = [reduce_lr])"
   ]
  },
  {
   "cell_type": "markdown",
   "id": "saved-airline",
   "metadata": {
    "papermill": {
     "duration": 0.070296,
     "end_time": "2021-04-26T04:14:17.451976",
     "exception": false,
     "start_time": "2021-04-26T04:14:17.381680",
     "status": "completed"
    },
    "tags": []
   },
   "source": [
    "### 4.7 Model Evaluation : \n",
    "\n"
   ]
  },
  {
   "cell_type": "code",
   "execution_count": 30,
   "id": "enormous-punishment",
   "metadata": {
    "execution": {
     "iopub.execute_input": "2021-04-26T04:14:17.602265Z",
     "iopub.status.busy": "2021-04-26T04:14:17.601346Z",
     "iopub.status.idle": "2021-04-26T04:14:18.215585Z",
     "shell.execute_reply": "2021-04-26T04:14:18.214712Z"
    },
    "papermill": {
     "duration": 0.692773,
     "end_time": "2021-04-26T04:14:18.215731",
     "exception": false,
     "start_time": "2021-04-26T04:14:17.522958",
     "status": "completed"
    },
    "tags": []
   },
   "outputs": [
    {
     "name": "stdout",
     "output_type": "stream",
     "text": [
      "188/188 [==============================] - 1s 3ms/step - loss: 0.2979 - accuracy: 0.8735\n",
      "Loss: 0.2979\n",
      "Accuracy: 0.8735\n",
      "--- 0.6089019775390625 seconds ---\n"
     ]
    }
   ],
   "source": [
    "start_time = time.time() \n",
    "score = model.evaluate(x_val, y_val)\n",
    "\n",
    "print('Loss: {:.4f}'.format(score[0]))\n",
    "print('Accuracy: {:.4f}'.format(score[1]))\n",
    "print(\"--- %s seconds ---\" % (time.time() - start_time))"
   ]
  },
  {
   "cell_type": "markdown",
   "id": "thorough-subject",
   "metadata": {
    "papermill": {
     "duration": 0.074086,
     "end_time": "2021-04-26T04:14:18.363789",
     "exception": false,
     "start_time": "2021-04-26T04:14:18.289703",
     "status": "completed"
    },
    "tags": []
   },
   "source": [
    "### 4.8 Prediction on Test data :"
   ]
  },
  {
   "cell_type": "code",
   "execution_count": 31,
   "id": "material-geography",
   "metadata": {
    "execution": {
     "iopub.execute_input": "2021-04-26T04:14:18.530721Z",
     "iopub.status.busy": "2021-04-26T04:14:18.529724Z",
     "iopub.status.idle": "2021-04-26T04:14:19.125925Z",
     "shell.execute_reply": "2021-04-26T04:14:19.125511Z"
    },
    "papermill": {
     "duration": 0.682461,
     "end_time": "2021-04-26T04:14:19.126076",
     "exception": false,
     "start_time": "2021-04-26T04:14:18.443615",
     "status": "completed"
    },
    "tags": []
   },
   "outputs": [
    {
     "name": "stdout",
     "output_type": "stream",
     "text": [
      "188/188 [==============================] - 1s 3ms/step - loss: 0.2735 - accuracy: 0.8840\n",
      "Loss: 0.2735\n",
      "Accuracy: 0.8840\n"
     ]
    }
   ],
   "source": [
    "test_score = model.evaluate(x_test, y_test)\n",
    "print(\"Loss: {:.4f}\".format(test_score[0]))\n",
    "print(\"Accuracy: {:.4f}\".format(test_score[1]))"
   ]
  },
  {
   "cell_type": "markdown",
   "id": "eleven-grace",
   "metadata": {
    "papermill": {
     "duration": 0.076788,
     "end_time": "2021-04-26T04:14:19.281015",
     "exception": false,
     "start_time": "2021-04-26T04:14:19.204227",
     "status": "completed"
    },
    "tags": []
   },
   "source": [
    "### 4.8 Prediction on Test data ( Way 2 ) :\n",
    "\n",
    "- We can also predict using method calls predict_classes and then check accuracy. However this method in deprecated so we will not use on test dataset."
   ]
  },
  {
   "cell_type": "code",
   "execution_count": 32,
   "id": "private-means",
   "metadata": {
    "execution": {
     "iopub.execute_input": "2021-04-26T04:14:19.441447Z",
     "iopub.status.busy": "2021-04-26T04:14:19.439597Z",
     "iopub.status.idle": "2021-04-26T04:14:19.442009Z",
     "shell.execute_reply": "2021-04-26T04:14:19.442416Z"
    },
    "papermill": {
     "duration": 0.083889,
     "end_time": "2021-04-26T04:14:19.442553",
     "exception": false,
     "start_time": "2021-04-26T04:14:19.358664",
     "status": "completed"
    },
    "tags": []
   },
   "outputs": [],
   "source": [
    "#y_pred3=model.predict_classes(x_test)\n",
    "#y_true=np.argmax(y_test,axis=1)\n",
    "#model_acc = accuracy_score(y_true, y_pred3)\n",
    "#print('Accuracy Score of Model = ', model_acc)\n"
   ]
  },
  {
   "cell_type": "markdown",
   "id": "sporting-rebound",
   "metadata": {
    "papermill": {
     "duration": 0.076784,
     "end_time": "2021-04-26T04:14:19.596539",
     "exception": false,
     "start_time": "2021-04-26T04:14:19.519755",
     "status": "completed"
    },
    "tags": []
   },
   "source": [
    "## 4.9 Training and validation curves on loss vs epochs"
   ]
  },
  {
   "cell_type": "code",
   "execution_count": 33,
   "id": "noticed-knowing",
   "metadata": {
    "execution": {
     "iopub.execute_input": "2021-04-26T04:14:19.773619Z",
     "iopub.status.busy": "2021-04-26T04:14:19.772763Z",
     "iopub.status.idle": "2021-04-26T04:14:19.907746Z",
     "shell.execute_reply": "2021-04-26T04:14:19.907252Z"
    },
    "papermill": {
     "duration": 0.234862,
     "end_time": "2021-04-26T04:14:19.907866",
     "exception": false,
     "start_time": "2021-04-26T04:14:19.673004",
     "status": "completed"
    },
    "tags": []
   },
   "outputs": [
    {
     "data": {
      "image/png": "[encoded data removed]",
      "text/plain": [
       "<Figure size 432x288 with 1 Axes>"
      ]
     },
     "metadata": {
      "needs_background": "light"
     },
     "output_type": "display_data"
    },
    {
     "name": "stdout",
     "output_type": "stream",
     "text": [
      "--- 0.14694428443908691 seconds ---\n"
     ]
    }
   ],
   "source": [
    "start_time = time.time() \n",
    "plt.plot(history.history['loss'])\n",
    "plt.plot(history.history['val_loss'])\n",
    "plt.title(\"Model Loss\")\n",
    "plt.xlabel('Epochs')\n",
    "plt.ylabel('Loss')\n",
    "plt.legend(['Train', 'Validation'])\n",
    "plt.show()\n",
    "print(\"--- %s seconds ---\" % (time.time() - start_time))"
   ]
  },
  {
   "cell_type": "markdown",
   "id": "rental-asian",
   "metadata": {
    "papermill": {
     "duration": 0.078936,
     "end_time": "2021-04-26T04:14:20.067106",
     "exception": false,
     "start_time": "2021-04-26T04:14:19.988170",
     "status": "completed"
    },
    "tags": []
   },
   "source": [
    "## 4.10 Training and validation curves on accuracy vs epochs"
   ]
  },
  {
   "cell_type": "code",
   "execution_count": 34,
   "id": "finished-glass",
   "metadata": {
    "execution": {
     "iopub.execute_input": "2021-04-26T04:14:20.267367Z",
     "iopub.status.busy": "2021-04-26T04:14:20.266305Z",
     "iopub.status.idle": "2021-04-26T04:14:20.386773Z",
     "shell.execute_reply": "2021-04-26T04:14:20.386121Z"
    },
    "papermill": {
     "duration": 0.239986,
     "end_time": "2021-04-26T04:14:20.386933",
     "exception": false,
     "start_time": "2021-04-26T04:14:20.146947",
     "status": "completed"
    },
    "tags": []
   },
   "outputs": [
    {
     "data": {
      "image/png": "[encoded data removed]",
      "text/plain": [
       "<Figure size 432x288 with 1 Axes>"
      ]
     },
     "metadata": {
      "needs_background": "light"
     },
     "output_type": "display_data"
    },
    {
     "name": "stdout",
     "output_type": "stream",
     "text": [
      "--- 0.15070080757141113 seconds ---\n"
     ]
    }
   ],
   "source": [
    "start_time = time.time()\n",
    "plt.plot(history.history['accuracy'])\n",
    "plt.plot(history.history['val_accuracy'])\n",
    "plt.title(\"Model Accuracy\")\n",
    "plt.xlabel('Epochs')\n",
    "plt.ylabel('Accuracy')\n",
    "plt.legend(['Train', 'Validation'])\n",
    "plt.show()\n",
    "print(\"--- %s seconds ---\" % (time.time() - start_time))"
   ]
  },
  {
   "cell_type": "markdown",
   "id": "composite-presentation",
   "metadata": {
    "papermill": {
     "duration": 0.087703,
     "end_time": "2021-04-26T04:14:20.560516",
     "exception": false,
     "start_time": "2021-04-26T04:14:20.472813",
     "status": "completed"
    },
    "tags": []
   },
   "source": [
    "**Note :**\n",
    "- The Training and Validation Curves being close, we can conclude that the Model is not Overfitting the Data."
   ]
  },
  {
   "cell_type": "markdown",
   "id": "extreme-monitor",
   "metadata": {
    "papermill": {
     "duration": 0.081041,
     "end_time": "2021-04-26T04:14:20.728116",
     "exception": false,
     "start_time": "2021-04-26T04:14:20.647075",
     "status": "completed"
    },
    "tags": []
   },
   "source": [
    "## 4.11 Confusion Matrix :"
   ]
  },
  {
   "cell_type": "markdown",
   "id": "restricted-stick",
   "metadata": {
    "papermill": {
     "duration": 0.08003,
     "end_time": "2021-04-26T04:14:20.889074",
     "exception": false,
     "start_time": "2021-04-26T04:14:20.809044",
     "status": "completed"
    },
    "tags": []
   },
   "source": [
    "- A confusion matrix is a technique for summarizing the performance of a classification algorithm.\n",
    "- The matrix compares the actual target values with those predicted by the model."
   ]
  },
  {
   "cell_type": "code",
   "execution_count": 35,
   "id": "useful-italic",
   "metadata": {
    "execution": {
     "iopub.execute_input": "2021-04-26T04:14:21.061268Z",
     "iopub.status.busy": "2021-04-26T04:14:21.058992Z",
     "iopub.status.idle": "2021-04-26T04:14:21.061886Z",
     "shell.execute_reply": "2021-04-26T04:14:21.062343Z"
    },
    "papermill": {
     "duration": 0.093102,
     "end_time": "2021-04-26T04:14:21.062486",
     "exception": false,
     "start_time": "2021-04-26T04:14:20.969384",
     "status": "completed"
    },
    "tags": []
   },
   "outputs": [],
   "source": [
    "def plot_confusion_matrix(cm, classes,\n",
    "                          normalize=False,\n",
    "                          title='Confusion matrix',\n",
    "                          cmap=plt.cm.Blues):\n",
    "    \n",
    "    plt.imshow(cm, interpolation='nearest', cmap=cmap)\n",
    "    plt.title(title)\n",
    "    plt.colorbar()\n",
    "    tick_marks = np.arange(len(classes))\n",
    "    plt.xticks(tick_marks, classes, rotation=90)\n",
    "    plt.yticks(tick_marks, classes)\n",
    "\n",
    "    if normalize:\n",
    "        cm = cm.astype('float') / cm.sum(axis=1)[:, np.newaxis]\n",
    "\n",
    "    thresh = cm.max() / 2.\n",
    "    for i, j in itertools.product(range(cm.shape[0]), range(cm.shape[1])):\n",
    "        plt.text(j, i, cm[i, j],\n",
    "                 horizontalalignment=\"center\",\n",
    "                 color=\"white\" if cm[i, j] > thresh else \"black\")\n",
    "\n",
    "    plt.tight_layout()\n",
    "    plt.ylabel('True label')\n",
    "    plt.xlabel('Predicted label')"
   ]
  },
  {
   "cell_type": "code",
   "execution_count": 36,
   "id": "discrete-limit",
   "metadata": {
    "execution": {
     "iopub.execute_input": "2021-04-26T04:14:21.229243Z",
     "iopub.status.busy": "2021-04-26T04:14:21.228310Z",
     "iopub.status.idle": "2021-04-26T04:14:22.166302Z",
     "shell.execute_reply": "2021-04-26T04:14:22.166851Z"
    },
    "papermill": {
     "duration": 1.023855,
     "end_time": "2021-04-26T04:14:22.167012",
     "exception": false,
     "start_time": "2021-04-26T04:14:21.143157",
     "status": "completed"
    },
    "tags": []
   },
   "outputs": [
    {
     "data": {
      "image/png": "[encoded data removed]",
      "text/plain": [
       "<Figure size 432x288 with 2 Axes>"
      ]
     },
     "metadata": {
      "needs_background": "light"
     },
     "output_type": "display_data"
    }
   ],
   "source": [
    "# Predict the values from the validation dataset\n",
    "Y_pred = model.predict(x_test)\n",
    "# Convert predictions classes to one hot vectors \n",
    "Y_pred_classes = np.argmax(Y_pred,axis = 1) \n",
    "# Convert validation observations to one hot vectors\n",
    "Y_true = np.argmax(y_test,axis = 1) \n",
    "# compute the confusion matrix\n",
    "confusion_mtx = confusion_matrix(Y_true, Y_pred_classes) \n",
    "# plot the confusion matrix\n",
    "plot_confusion_matrix(confusion_mtx, \n",
    "            classes = ['1','2','3','4','5'])"
   ]
  },
  {
   "cell_type": "markdown",
   "id": "welcome-glory",
   "metadata": {
    "papermill": {
     "duration": 0.080528,
     "end_time": "2021-04-26T04:14:22.338010",
     "exception": false,
     "start_time": "2021-04-26T04:14:22.257482",
     "status": "completed"
    },
    "tags": []
   },
   "source": [
    "### Correctly predicted classes"
   ]
  },
  {
   "cell_type": "code",
   "execution_count": 37,
   "id": "dense-rachel",
   "metadata": {
    "execution": {
     "iopub.execute_input": "2021-04-26T04:14:22.512183Z",
     "iopub.status.busy": "2021-04-26T04:14:22.511283Z",
     "iopub.status.idle": "2021-04-26T04:14:22.774295Z",
     "shell.execute_reply": "2021-04-26T04:14:22.773503Z"
    },
    "papermill": {
     "duration": 0.352042,
     "end_time": "2021-04-26T04:14:22.774422",
     "exception": false,
     "start_time": "2021-04-26T04:14:22.422380",
     "status": "completed"
    },
    "tags": []
   },
   "outputs": [],
   "source": [
    "Y_pred = model.predict(x_test)\n",
    "# Convert predictions classes to one hot vectors \n",
    "Y_pred_classes = np.argmax(Y_pred,axis = 1) \n",
    "Y_true = np.argmax(y_test,axis = 1) \n"
   ]
  },
  {
   "cell_type": "code",
   "execution_count": 38,
   "id": "other-shopper",
   "metadata": {
    "execution": {
     "iopub.execute_input": "2021-04-26T04:14:22.988496Z",
     "iopub.status.busy": "2021-04-26T04:14:22.982854Z",
     "iopub.status.idle": "2021-04-26T04:14:23.595097Z",
     "shell.execute_reply": "2021-04-26T04:14:23.594632Z"
    },
    "papermill": {
     "duration": 0.739885,
     "end_time": "2021-04-26T04:14:23.595225",
     "exception": false,
     "start_time": "2021-04-26T04:14:22.855340",
     "status": "completed"
    },
    "tags": []
   },
   "outputs": [
    {
     "name": "stdout",
     "output_type": "stream",
     "text": [
      "--- 0.28609752655029297 seconds ---\n"
     ]
    },
    {
     "data": {
      "image/png": "[encoded data removed]",
      "text/plain": [
       "<Figure size 720x720 with 4 Axes>"
      ]
     },
     "metadata": {
      "needs_background": "light"
     },
     "output_type": "display_data"
    }
   ],
   "source": [
    "start_time = time.time()\n",
    "correct = []\n",
    "for i in range(len(y_test)):\n",
    "    if(Y_pred_classes[i] == Y_true[i]):\n",
    "        correct.append(i)\n",
    "    if(len(correct) == 4):\n",
    "        break\n",
    "        \n",
    "\n",
    "fig, ax = plt.subplots(2,2, figsize=(12,6))\n",
    "fig.set_size_inches(10,10)\n",
    "ax[0,0].imshow(x_test[correct[0]].reshape(28,28), cmap='gray')\n",
    "ax[0,0].set_title(\"Predicted Label : \" + str(clothing2[Y_pred_classes[correct[0]]]) + \"\\n\"+\"Actual Label : \" + \n",
    "                 str(clothing2[Y_true[correct[0]]]))\n",
    "ax[0,1].imshow(x_test[correct[1]].reshape(28,28), cmap='gray')\n",
    "ax[0,1].set_title(\"Predicted Label : \" + str(clothing2[Y_pred_classes[correct[1]]]) + \"\\n\"+\"Actual Label : \" + \n",
    "                 str(clothing2[Y_true[correct[1]]]))\n",
    "ax[1,0].imshow(x_test[correct[2]].reshape(28,28), cmap='gray')\n",
    "ax[1,0].set_title(\"Predicted Label : \" + str(clothing2[Y_pred_classes[correct[2]]]) + \"\\n\"+\"Actual Label : \" + \n",
    "                 str(clothing2[Y_true[correct[2]]]))\n",
    "ax[1,1].imshow(x_test[correct[3]].reshape(28,28), cmap='gray')\n",
    "ax[1,1].set_title(\"Predicted Label : \" + str(clothing2[Y_pred_classes[correct[3]]]) + \"\\n\"+\"Actual Label : \" + \n",
    "                 str(clothing2[Y_true[correct[3]]]))\n",
    "\n",
    "print(\"--- %s seconds ---\" % (time.time() - start_time))"
   ]
  },
  {
   "cell_type": "markdown",
   "id": "great-occupation",
   "metadata": {
    "papermill": {
     "duration": 0.08927,
     "end_time": "2021-04-26T04:14:23.769279",
     "exception": false,
     "start_time": "2021-04-26T04:14:23.680009",
     "status": "completed"
    },
    "tags": []
   },
   "source": [
    "### Incorrectly Predicted Classes"
   ]
  },
  {
   "cell_type": "code",
   "execution_count": 39,
   "id": "english-circle",
   "metadata": {
    "execution": {
     "iopub.execute_input": "2021-04-26T04:14:23.996077Z",
     "iopub.status.busy": "2021-04-26T04:14:23.994474Z",
     "iopub.status.idle": "2021-04-26T04:14:24.417837Z",
     "shell.execute_reply": "2021-04-26T04:14:24.417086Z"
    },
    "papermill": {
     "duration": 0.55502,
     "end_time": "2021-04-26T04:14:24.417966",
     "exception": false,
     "start_time": "2021-04-26T04:14:23.862946",
     "status": "completed"
    },
    "tags": []
   },
   "outputs": [
    {
     "name": "stdout",
     "output_type": "stream",
     "text": [
      "--- 0.08302950859069824 seconds ---\n"
     ]
    },
    {
     "data": {
      "image/png": "[encoded data removed]",
      "text/plain": [
       "<Figure size 720x720 with 4 Axes>"
      ]
     },
     "metadata": {
      "needs_background": "light"
     },
     "output_type": "display_data"
    }
   ],
   "source": [
    " start_time = time.time()\n",
    "incorrect = []\n",
    "for i in range(len(y_test)):\n",
    "    if(not Y_pred_classes[i] == Y_true[i]):\n",
    "        incorrect.append(i)\n",
    "    if(len(incorrect) == 4):\n",
    "        break\n",
    "        \n",
    "fig, ax = plt.subplots(2,2, figsize=(12,6))\n",
    "fig.set_size_inches(10,10)\n",
    "ax[0,0].imshow(x_test[incorrect[0]].reshape(28,28), cmap='gray')\n",
    "ax[0,0].set_title(\"Predicted Label : \" + str(clothing2[Y_pred_classes[incorrect[0]]]) + \"\\n\"+\"Actual Label : \" + \n",
    "                 str(clothing2[Y_true[incorrect[0]]]))\n",
    "ax[0,1].imshow(x_test[incorrect[1]].reshape(28,28), cmap='gray')\n",
    "ax[0,1].set_title(\"Predicted Label : \" + str(clothing2[Y_pred_classes[incorrect[1]]]) + \"\\n\"+\"Actual Label : \" + \n",
    "                 str(clothing2[Y_true[incorrect[1]]]))\n",
    "ax[1,0].imshow(x_test[incorrect[2]].reshape(28,28), cmap='gray')\n",
    "ax[1,0].set_title(\"Predicted Label : \" + str(clothing2[Y_pred_classes[incorrect[2]]]) + \"\\n\"+\"Actual Label : \" + \n",
    "                 str(clothing2[Y_true[incorrect[2]]]))\n",
    "ax[1,1].imshow(x_test[incorrect[3]].reshape(28,28), cmap='gray')\n",
    "ax[1,1].set_title(\"Predicted Label : \" + str(clothing2[Y_pred_classes[incorrect[3]]]) + \"\\n\"+\"Actual Label : \" + \n",
    "                 str(clothing2[Y_true[incorrect[3]]]))\n",
    "\n",
    "print(\"--- %s seconds ---\" % (time.time() - start_time))"
   ]
  },
  {
   "cell_type": "markdown",
   "id": "stable-clone",
   "metadata": {
    "papermill": {
     "duration": 0.084053,
     "end_time": "2021-04-26T04:14:24.587091",
     "exception": false,
     "start_time": "2021-04-26T04:14:24.503038",
     "status": "completed"
    },
    "tags": []
   },
   "source": []
  },
  {
   "cell_type": "markdown",
   "id": "activated-inside",
   "metadata": {
    "papermill": {
     "duration": 0.083947,
     "end_time": "2021-04-26T04:14:24.754042",
     "exception": false,
     "start_time": "2021-04-26T04:14:24.670095",
     "status": "completed"
    },
    "tags": []
   },
   "source": [
    "## 4.12 Classification Report\n",
    "\n",
    "The classification report visualizer displays the precision, recall, F1, and support scores for the model.\n",
    "\n",
    "1. Precision :\n",
    "    - Precision is the ability of a classiifer not to label an instance positive that is actually negative. \n",
    "    - Basically, it is defined as as the ratio of true positives to the sum of true and false positives. “For all instances classified positive, what percent was correct?”\n",
    "\n",
    "2. Recall :\n",
    "\n",
    "    - Recall is the ability of a classifier to find all positive instances. \n",
    "    - For each class it is defined as the ratio of true positives to the sum of true positives and false negatives. “For all instances that were actually positive, what percent was classified correctly?”\n",
    "\n",
    "3. F1 Score:\n",
    "\n",
    "    - The F1 score is a weighted harmonic mean of precision and recall such that the best score is 1.0 and the worst is 0.0 . \n",
    "    - Generally speaking, F1 scores are lower than accuracy measures as they embed precision and recall into their computation.\n",
    "\n",
    "4. Supprt :\n",
    "\n",
    "    - Support is the number of actual occurrences of the class in the specified dataset. \n",
    "    - Imbalanced support in the training data may indicate structural weaknesses in the reported scores of the classifier and could indicate the need for stratified sampling or rebalancing.\n",
    "\n",
    "\n",
    "\n",
    "\n"
   ]
  },
  {
   "cell_type": "markdown",
   "id": "continued-spyware",
   "metadata": {
    "papermill": {
     "duration": 0.08328,
     "end_time": "2021-04-26T04:14:24.922105",
     "exception": false,
     "start_time": "2021-04-26T04:14:24.838825",
     "status": "completed"
    },
    "tags": []
   },
   "source": []
  },
  {
   "cell_type": "code",
   "execution_count": 40,
   "id": "gross-attack",
   "metadata": {
    "execution": {
     "iopub.execute_input": "2021-04-26T04:14:25.094805Z",
     "iopub.status.busy": "2021-04-26T04:14:25.094277Z",
     "iopub.status.idle": "2021-04-26T04:14:25.112540Z",
     "shell.execute_reply": "2021-04-26T04:14:25.111699Z"
    },
    "papermill": {
     "duration": 0.105877,
     "end_time": "2021-04-26T04:14:25.112656",
     "exception": false,
     "start_time": "2021-04-26T04:14:25.006779",
     "status": "completed"
    },
    "tags": []
   },
   "outputs": [
    {
     "name": "stdout",
     "output_type": "stream",
     "text": [
      "              precision    recall  f1-score   support\n",
      "\n",
      "           1       0.91      0.91      0.91      1221\n",
      "           2       0.88      0.82      0.85      1197\n",
      "           3       0.82      0.81      0.82      1203\n",
      "           4       0.86      0.92      0.89      1225\n",
      "           5       0.94      0.97      0.95      1154\n",
      "\n",
      "    accuracy                           0.88      6000\n",
      "   macro avg       0.88      0.88      0.88      6000\n",
      "weighted avg       0.88      0.88      0.88      6000\n",
      "\n"
     ]
    }
   ],
   "source": [
    "classes = ['1','2','3','4','5']\n",
    "print(classification_report(Y_true, Y_pred_classes, target_names = classes,zero_division=1))"
   ]
  },
  {
   "cell_type": "markdown",
   "id": "progressive-pottery",
   "metadata": {
    "papermill": {
     "duration": 0.084676,
     "end_time": "2021-04-26T04:14:25.280847",
     "exception": false,
     "start_time": "2021-04-26T04:14:25.196171",
     "status": "completed"
    },
    "tags": []
   },
   "source": [
    "## 4.13 Other models :\n",
    "\n",
    "- Resnet Model (4.14)\n",
    "- ML model ( RandomForest ) (4.15)\n",
    "- Simple Neural Networks (4.16)"
   ]
  },
  {
   "cell_type": "markdown",
   "id": "recorded-playing",
   "metadata": {
    "papermill": {
     "duration": 0.083657,
     "end_time": "2021-04-26T04:14:25.449295",
     "exception": false,
     "start_time": "2021-04-26T04:14:25.365638",
     "status": "completed"
    },
    "tags": []
   },
   "source": [
    "## 4.14 Resnet Published Architecture\n",
    "\n",
    "**Disadvantages of CNN :**\n",
    "1. When we increase the number of layers in CNN, there is a common problem in deep learning associated with that called Vanishing/Exploding gradient.\n",
    "2. This causes the gradient to become 0 or too large. Thus when we increases number of layers, the training and test error rate also increases.\n",
    "\n",
    "**Solution : Residuals blocks**\n",
    "- In order to solve the problem of the vanishing/exploding gradient, this architecture introduced the concept called Residual Network.\n",
    "- Residuals network we use a technique called skip connections . The skip connection skips training from a few layers and connects directly to the output.\n",
    "\n",
    "![](https://miro.medium.com/max/477/0*sGlmENAXIZhSqyFZ)\n",
    "\n",
    "- The picture above is the most important thing to learn in Resnet Architecture.\n",
    "- We implemented this and test it out, the most important modification to understand is the ‘Skip Connection’, identity mapping.\n",
    "- The Skip Connections between layers add the outputs from previous layers to the outputs of stacked layers.This results in the ability to train much deeper networks than what was previously possible.\n",
    "- This identity mapping does not have any parameters and is just there to add the output from the previous layer to the layer ahead.\n",
    "\n",
    "\n",
    "**Identity mapping work in Resnet :**\n",
    "\n",
    "- During backpropagation, there are two pathways for the gradients to transit back to the input layer while traversing a residual block.\n",
    "    1. pathway-1 is the identity mapping way\n",
    "    2. pathway-2 is the residual mapping way.\n",
    "\n",
    "![](https://cdn-5f733ed3c1ac190fbc56ef88.closte.com/wp-content/uploads/2019/07/Grad_path.png)"
   ]
  },
  {
   "cell_type": "code",
   "execution_count": 41,
   "id": "sharing-azerbaijan",
   "metadata": {
    "execution": {
     "iopub.execute_input": "2021-04-26T04:14:25.632652Z",
     "iopub.status.busy": "2021-04-26T04:14:25.631815Z",
     "iopub.status.idle": "2021-04-26T04:14:25.984366Z",
     "shell.execute_reply": "2021-04-26T04:14:25.983569Z"
    },
    "papermill": {
     "duration": 0.452019,
     "end_time": "2021-04-26T04:14:25.984554",
     "exception": false,
     "start_time": "2021-04-26T04:14:25.532535",
     "status": "completed"
    },
    "tags": []
   },
   "outputs": [
    {
     "name": "stdout",
     "output_type": "stream",
     "text": [
      "Model: \"model\"\n",
      "__________________________________________________________________________________________________\n",
      "Layer (type)                    Output Shape         Param #     Connected to                     \n",
      "==================================================================================================\n",
      "input_1 (InputLayer)            [(None, 28, 28, 1)]  0                                            \n",
      "__________________________________________________________________________________________________\n",
      "conv2d_4 (Conv2D)               (None, 14, 14, 64)   3200        input_1[0][0]                    \n",
      "__________________________________________________________________________________________________\n",
      "batch_normalization_5 (BatchNor (None, 14, 14, 64)   256         conv2d_4[0][0]                   \n",
      "__________________________________________________________________________________________________\n",
      "activation (Activation)         (None, 14, 14, 64)   0           batch_normalization_5[0][0]      \n",
      "__________________________________________________________________________________________________\n",
      "conv2d_5 (Conv2D)               (None, 14, 14, 64)   36928       activation[0][0]                 \n",
      "__________________________________________________________________________________________________\n",
      "batch_normalization_6 (BatchNor (None, 14, 14, 64)   256         conv2d_5[0][0]                   \n",
      "__________________________________________________________________________________________________\n",
      "activation_1 (Activation)       (None, 14, 14, 64)   0           batch_normalization_6[0][0]      \n",
      "__________________________________________________________________________________________________\n",
      "conv2d_6 (Conv2D)               (None, 14, 14, 64)   36928       activation_1[0][0]               \n",
      "__________________________________________________________________________________________________\n",
      "batch_normalization_7 (BatchNor (None, 14, 14, 64)   256         conv2d_6[0][0]                   \n",
      "__________________________________________________________________________________________________\n",
      "add (Add)                       (None, 14, 14, 64)   0           activation[0][0]                 \n",
      "                                                                 batch_normalization_7[0][0]      \n",
      "__________________________________________________________________________________________________\n",
      "activation_2 (Activation)       (None, 14, 14, 64)   0           add[0][0]                        \n",
      "__________________________________________________________________________________________________\n",
      "conv2d_7 (Conv2D)               (None, 14, 14, 64)   36928       activation_2[0][0]               \n",
      "__________________________________________________________________________________________________\n",
      "batch_normalization_8 (BatchNor (None, 14, 14, 64)   256         conv2d_7[0][0]                   \n",
      "__________________________________________________________________________________________________\n",
      "activation_3 (Activation)       (None, 14, 14, 64)   0           batch_normalization_8[0][0]      \n",
      "__________________________________________________________________________________________________\n",
      "conv2d_8 (Conv2D)               (None, 14, 14, 64)   36928       activation_3[0][0]               \n",
      "__________________________________________________________________________________________________\n",
      "batch_normalization_9 (BatchNor (None, 14, 14, 64)   256         conv2d_8[0][0]                   \n",
      "__________________________________________________________________________________________________\n",
      "add_1 (Add)                     (None, 14, 14, 64)   0           activation_2[0][0]               \n",
      "                                                                 batch_normalization_9[0][0]      \n",
      "__________________________________________________________________________________________________\n",
      "activation_4 (Activation)       (None, 14, 14, 64)   0           add_1[0][0]                      \n",
      "__________________________________________________________________________________________________\n",
      "conv2d_9 (Conv2D)               (None, 7, 7, 128)    73856       activation_4[0][0]               \n",
      "__________________________________________________________________________________________________\n",
      "batch_normalization_10 (BatchNo (None, 7, 7, 128)    512         conv2d_9[0][0]                   \n",
      "__________________________________________________________________________________________________\n",
      "activation_5 (Activation)       (None, 7, 7, 128)    0           batch_normalization_10[0][0]     \n",
      "__________________________________________________________________________________________________\n",
      "conv2d_10 (Conv2D)              (None, 7, 7, 128)    147584      activation_5[0][0]               \n",
      "__________________________________________________________________________________________________\n",
      "conv2d_11 (Conv2D)              (None, 7, 7, 128)    8320        activation_4[0][0]               \n",
      "__________________________________________________________________________________________________\n",
      "batch_normalization_11 (BatchNo (None, 7, 7, 128)    512         conv2d_10[0][0]                  \n",
      "__________________________________________________________________________________________________\n",
      "add_2 (Add)                     (None, 7, 7, 128)    0           conv2d_11[0][0]                  \n",
      "                                                                 batch_normalization_11[0][0]     \n",
      "__________________________________________________________________________________________________\n",
      "activation_6 (Activation)       (None, 7, 7, 128)    0           add_2[0][0]                      \n",
      "__________________________________________________________________________________________________\n",
      "conv2d_12 (Conv2D)              (None, 7, 7, 128)    147584      activation_6[0][0]               \n",
      "__________________________________________________________________________________________________\n",
      "batch_normalization_12 (BatchNo (None, 7, 7, 128)    512         conv2d_12[0][0]                  \n",
      "__________________________________________________________________________________________________\n",
      "activation_7 (Activation)       (None, 7, 7, 128)    0           batch_normalization_12[0][0]     \n",
      "__________________________________________________________________________________________________\n",
      "conv2d_13 (Conv2D)              (None, 7, 7, 128)    147584      activation_7[0][0]               \n",
      "__________________________________________________________________________________________________\n",
      "batch_normalization_13 (BatchNo (None, 7, 7, 128)    512         conv2d_13[0][0]                  \n",
      "__________________________________________________________________________________________________\n",
      "add_3 (Add)                     (None, 7, 7, 128)    0           activation_6[0][0]               \n",
      "                                                                 batch_normalization_13[0][0]     \n",
      "__________________________________________________________________________________________________\n",
      "activation_8 (Activation)       (None, 7, 7, 128)    0           add_3[0][0]                      \n",
      "__________________________________________________________________________________________________\n",
      "conv2d_14 (Conv2D)              (None, 4, 4, 256)    295168      activation_8[0][0]               \n",
      "__________________________________________________________________________________________________\n",
      "batch_normalization_14 (BatchNo (None, 4, 4, 256)    1024        conv2d_14[0][0]                  \n",
      "__________________________________________________________________________________________________\n",
      "activation_9 (Activation)       (None, 4, 4, 256)    0           batch_normalization_14[0][0]     \n",
      "__________________________________________________________________________________________________\n",
      "conv2d_15 (Conv2D)              (None, 4, 4, 256)    590080      activation_9[0][0]               \n",
      "__________________________________________________________________________________________________\n",
      "conv2d_16 (Conv2D)              (None, 4, 4, 256)    33024       activation_8[0][0]               \n",
      "__________________________________________________________________________________________________\n",
      "batch_normalization_15 (BatchNo (None, 4, 4, 256)    1024        conv2d_15[0][0]                  \n",
      "__________________________________________________________________________________________________\n",
      "add_4 (Add)                     (None, 4, 4, 256)    0           conv2d_16[0][0]                  \n",
      "                                                                 batch_normalization_15[0][0]     \n",
      "__________________________________________________________________________________________________\n",
      "activation_10 (Activation)      (None, 4, 4, 256)    0           add_4[0][0]                      \n",
      "__________________________________________________________________________________________________\n",
      "conv2d_17 (Conv2D)              (None, 4, 4, 256)    590080      activation_10[0][0]              \n",
      "__________________________________________________________________________________________________\n",
      "batch_normalization_16 (BatchNo (None, 4, 4, 256)    1024        conv2d_17[0][0]                  \n",
      "__________________________________________________________________________________________________\n",
      "activation_11 (Activation)      (None, 4, 4, 256)    0           batch_normalization_16[0][0]     \n",
      "__________________________________________________________________________________________________\n",
      "conv2d_18 (Conv2D)              (None, 4, 4, 256)    590080      activation_11[0][0]              \n",
      "__________________________________________________________________________________________________\n",
      "batch_normalization_17 (BatchNo (None, 4, 4, 256)    1024        conv2d_18[0][0]                  \n",
      "__________________________________________________________________________________________________\n",
      "add_5 (Add)                     (None, 4, 4, 256)    0           activation_10[0][0]              \n",
      "                                                                 batch_normalization_17[0][0]     \n",
      "__________________________________________________________________________________________________\n",
      "activation_12 (Activation)      (None, 4, 4, 256)    0           add_5[0][0]                      \n",
      "__________________________________________________________________________________________________\n",
      "conv2d_19 (Conv2D)              (None, 2, 2, 512)    1180160     activation_12[0][0]              \n",
      "__________________________________________________________________________________________________\n",
      "batch_normalization_18 (BatchNo (None, 2, 2, 512)    2048        conv2d_19[0][0]                  \n",
      "__________________________________________________________________________________________________\n",
      "activation_13 (Activation)      (None, 2, 2, 512)    0           batch_normalization_18[0][0]     \n",
      "__________________________________________________________________________________________________\n",
      "conv2d_20 (Conv2D)              (None, 2, 2, 512)    2359808     activation_13[0][0]              \n",
      "__________________________________________________________________________________________________\n",
      "conv2d_21 (Conv2D)              (None, 2, 2, 512)    131584      activation_12[0][0]              \n",
      "__________________________________________________________________________________________________\n",
      "batch_normalization_19 (BatchNo (None, 2, 2, 512)    2048        conv2d_20[0][0]                  \n",
      "__________________________________________________________________________________________________\n",
      "add_6 (Add)                     (None, 2, 2, 512)    0           conv2d_21[0][0]                  \n",
      "                                                                 batch_normalization_19[0][0]     \n",
      "__________________________________________________________________________________________________\n",
      "activation_14 (Activation)      (None, 2, 2, 512)    0           add_6[0][0]                      \n",
      "__________________________________________________________________________________________________\n",
      "conv2d_22 (Conv2D)              (None, 2, 2, 512)    2359808     activation_14[0][0]              \n",
      "__________________________________________________________________________________________________\n",
      "batch_normalization_20 (BatchNo (None, 2, 2, 512)    2048        conv2d_22[0][0]                  \n",
      "__________________________________________________________________________________________________\n",
      "activation_15 (Activation)      (None, 2, 2, 512)    0           batch_normalization_20[0][0]     \n",
      "__________________________________________________________________________________________________\n",
      "conv2d_23 (Conv2D)              (None, 2, 2, 512)    2359808     activation_15[0][0]              \n",
      "__________________________________________________________________________________________________\n",
      "batch_normalization_21 (BatchNo (None, 2, 2, 512)    2048        conv2d_23[0][0]                  \n",
      "__________________________________________________________________________________________________\n",
      "add_7 (Add)                     (None, 2, 2, 512)    0           activation_14[0][0]              \n",
      "                                                                 batch_normalization_21[0][0]     \n",
      "__________________________________________________________________________________________________\n",
      "activation_16 (Activation)      (None, 2, 2, 512)    0           add_7[0][0]                      \n",
      "__________________________________________________________________________________________________\n",
      "average_pooling2d (AveragePooli (None, 1, 1, 512)    0           activation_16[0][0]              \n",
      "__________________________________________________________________________________________________\n",
      "flatten_1 (Flatten)             (None, 512)          0           average_pooling2d[0][0]          \n",
      "__________________________________________________________________________________________________\n",
      "dense_3 (Dense)                 (None, 5)            2565        flatten_1[0][0]                  \n",
      "==================================================================================================\n",
      "Total params: 11,183,621\n",
      "Trainable params: 11,175,813\n",
      "Non-trainable params: 7,808\n",
      "__________________________________________________________________________________________________\n"
     ]
    }
   ],
   "source": [
    "input_size = (28, 28,1)\n",
    "num_filters = 64\n",
    "use_max_pool = False\n",
    "num_blocks = 4\n",
    "num_sub_blocks = 2\n",
    "num_classes = 5\n",
    "inputs = Input(shape=input_size)\n",
    "con_x = Conv2D(num_filters, padding='same', \n",
    "           kernel_initializer='he_normal', \n",
    "           kernel_size=7, strides=2,\n",
    "           kernel_regularizer=l2(1e-4))(inputs)\n",
    "con_x = BatchNormalization()(con_x)\n",
    "con_x = Activation('relu')(con_x)\n",
    "\n",
    "#Check by applying max pooling later (setting it false as size of image is small i.e. 28x28)\n",
    "if use_max_pool:\n",
    "    con_x = MaxPooling2D(pool_size=3,padding='same', strides=2)(con_x)\n",
    "    num_blocks =3\n",
    "#Creating Conv base stack \n",
    "\n",
    "# Instantiate convolutional base (stack of blocks).\n",
    "for i in range(num_blocks):\n",
    "    for j in range(num_sub_blocks):\n",
    "        strides = 1\n",
    "        is_first_layer_but_not_first_block = j == 0 and i > 0\n",
    "        if is_first_layer_but_not_first_block:\n",
    "            strides = 2\n",
    "        #Creating residual mapping using y\n",
    "        con_y = Conv2D(num_filters,\n",
    "                   kernel_size=3,\n",
    "                   padding='same',\n",
    "                   strides=strides,\n",
    "                   kernel_initializer='he_normal',\n",
    "                   kernel_regularizer=l2(1e-4))(con_x)\n",
    "        con_y = BatchNormalization()(con_y)\n",
    "        con_y = Activation('relu')(con_y)\n",
    "        con_y = Conv2D(num_filters,\n",
    "                   kernel_size=3,\n",
    "                   padding='same',\n",
    "                   kernel_initializer='he_normal',\n",
    "                   kernel_regularizer=l2(1e-4))(con_y)\n",
    "        con_y = BatchNormalization()(con_y)\n",
    "        if is_first_layer_but_not_first_block:\n",
    "            con_x = Conv2D(num_filters,\n",
    "                       kernel_size=1,\n",
    "                       padding='same',\n",
    "                       strides=2,\n",
    "                       kernel_initializer='he_normal',\n",
    "                       kernel_regularizer=l2(1e-4))(con_x)\n",
    "        #Adding back residual mapping\n",
    "        con_x = keras.layers.add([con_x, con_y])\n",
    "        con_x = Activation('relu')(con_x)\n",
    "\n",
    "    num_filters = 2 * num_filters\n",
    "\n",
    "# Add classifier on top.\n",
    "con_x = AveragePooling2D()(con_x)\n",
    "con_y = Flatten()(con_x)\n",
    "outputs = Dense(num_classes,\n",
    "                activation='softmax',\n",
    "                kernel_initializer='he_normal')(con_y)\n",
    "\n",
    "# Instantiate and compile model.\n",
    "resmodel = Model(inputs=inputs, outputs=outputs)\n",
    "resmodel.compile(loss='categorical_crossentropy',\n",
    "              optimizer='adam',\n",
    "              metrics=['accuracy'])\n",
    "resmodel.summary()"
   ]
  },
  {
   "cell_type": "code",
   "execution_count": 42,
   "id": "clean-solution",
   "metadata": {
    "execution": {
     "iopub.execute_input": "2021-04-26T04:14:26.166182Z",
     "iopub.status.busy": "2021-04-26T04:14:26.165307Z",
     "iopub.status.idle": "2021-04-26T04:14:26.170363Z",
     "shell.execute_reply": "2021-04-26T04:14:26.169591Z"
    },
    "papermill": {
     "duration": 0.098693,
     "end_time": "2021-04-26T04:14:26.170528",
     "exception": false,
     "start_time": "2021-04-26T04:14:26.071835",
     "status": "completed"
    },
    "tags": []
   },
   "outputs": [
    {
     "name": "stdout",
     "output_type": "stream",
     "text": [
      "/kaggle/working/saved_model/fmnist_resnet_model.h5\n"
     ]
    }
   ],
   "source": [
    "save_dir = os.path.join(os.getcwd(), 'saved_model')\n",
    "model_name = 'fmnist_resnet_model.h5'\n",
    "if not os.path.isdir(save_dir):\n",
    "    os.makedirs(save_dir)\n",
    "filepath = os.path.join(save_dir,model_name)\n",
    "print(filepath)"
   ]
  },
  {
   "cell_type": "code",
   "execution_count": 43,
   "id": "preliminary-course",
   "metadata": {
    "execution": {
     "iopub.execute_input": "2021-04-26T04:14:26.348268Z",
     "iopub.status.busy": "2021-04-26T04:14:26.346569Z",
     "iopub.status.idle": "2021-04-26T04:14:26.348829Z",
     "shell.execute_reply": "2021-04-26T04:14:26.349249Z"
    },
    "papermill": {
     "duration": 0.092645,
     "end_time": "2021-04-26T04:14:26.349379",
     "exception": false,
     "start_time": "2021-04-26T04:14:26.256734",
     "status": "completed"
    },
    "tags": []
   },
   "outputs": [],
   "source": [
    "checkpoint = ModelCheckpoint(filepath=filepath,\n",
    "                             verbose=1,\n",
    "                             save_best_only=True)\n",
    "lr_reducer = ReduceLROnPlateau(factor=np.sqrt(0.1),\n",
    "                               cooldown=0,\n",
    "                               patience=5,\n",
    "                               min_lr=0.5e-6)\n",
    "callbacks = [checkpoint, lr_reducer]"
   ]
  },
  {
   "cell_type": "code",
   "execution_count": 44,
   "id": "polyphonic-armor",
   "metadata": {
    "execution": {
     "iopub.execute_input": "2021-04-26T04:14:26.525860Z",
     "iopub.status.busy": "2021-04-26T04:14:26.524972Z",
     "iopub.status.idle": "2021-04-26T04:19:18.489598Z",
     "shell.execute_reply": "2021-04-26T04:19:18.490281Z"
    },
    "papermill": {
     "duration": 292.055615,
     "end_time": "2021-04-26T04:19:18.490477",
     "exception": false,
     "start_time": "2021-04-26T04:14:26.434862",
     "status": "completed"
    },
    "tags": []
   },
   "outputs": [
    {
     "name": "stdout",
     "output_type": "stream",
     "text": [
      "Epoch 1/25\n",
      "375/375 [==============================] - 15s 32ms/step - loss: 1.6820 - accuracy: 0.7596 - val_loss: 1.2298 - val_accuracy: 0.8082\n",
      "\n",
      "Epoch 00001: val_loss improved from inf to 1.22979, saving model to /kaggle/working/saved_model/fmnist_resnet_model.h5\n",
      "Epoch 2/25\n",
      "375/375 [==============================] - 11s 30ms/step - loss: 1.0116 - accuracy: 0.8678 - val_loss: 0.8698 - val_accuracy: 0.8732\n",
      "\n",
      "Epoch 00002: val_loss improved from 1.22979 to 0.86977, saving model to /kaggle/working/saved_model/fmnist_resnet_model.h5\n",
      "Epoch 3/25\n",
      "375/375 [==============================] - 11s 30ms/step - loss: 0.7827 - accuracy: 0.8951 - val_loss: 0.7868 - val_accuracy: 0.8610\n",
      "\n",
      "Epoch 00003: val_loss improved from 0.86977 to 0.78685, saving model to /kaggle/working/saved_model/fmnist_resnet_model.h5\n",
      "Epoch 4/25\n",
      "375/375 [==============================] - 11s 30ms/step - loss: 0.6456 - accuracy: 0.9054 - val_loss: 0.6776 - val_accuracy: 0.8732\n",
      "\n",
      "Epoch 00004: val_loss improved from 0.78685 to 0.67758, saving model to /kaggle/working/saved_model/fmnist_resnet_model.h5\n",
      "Epoch 5/25\n",
      "375/375 [==============================] - 11s 30ms/step - loss: 0.5667 - accuracy: 0.9121 - val_loss: 0.6469 - val_accuracy: 0.8623\n",
      "\n",
      "Epoch 00005: val_loss improved from 0.67758 to 0.64695, saving model to /kaggle/working/saved_model/fmnist_resnet_model.h5\n",
      "Epoch 6/25\n",
      "375/375 [==============================] - 11s 30ms/step - loss: 0.4993 - accuracy: 0.9210 - val_loss: 0.6036 - val_accuracy: 0.8720\n",
      "\n",
      "Epoch 00006: val_loss improved from 0.64695 to 0.60361, saving model to /kaggle/working/saved_model/fmnist_resnet_model.h5\n",
      "Epoch 7/25\n",
      "375/375 [==============================] - 11s 30ms/step - loss: 0.4775 - accuracy: 0.9174 - val_loss: 0.6161 - val_accuracy: 0.8680\n",
      "\n",
      "Epoch 00007: val_loss did not improve from 0.60361\n",
      "Epoch 8/25\n",
      "375/375 [==============================] - 11s 30ms/step - loss: 0.4364 - accuracy: 0.9282 - val_loss: 0.5329 - val_accuracy: 0.8855\n",
      "\n",
      "Epoch 00008: val_loss improved from 0.60361 to 0.53287, saving model to /kaggle/working/saved_model/fmnist_resnet_model.h5\n",
      "Epoch 9/25\n",
      "375/375 [==============================] - 11s 30ms/step - loss: 0.4021 - accuracy: 0.9353 - val_loss: 0.5221 - val_accuracy: 0.8907\n",
      "\n",
      "Epoch 00009: val_loss improved from 0.53287 to 0.52208, saving model to /kaggle/working/saved_model/fmnist_resnet_model.h5\n",
      "Epoch 10/25\n",
      "375/375 [==============================] - 11s 30ms/step - loss: 0.3947 - accuracy: 0.9346 - val_loss: 0.6084 - val_accuracy: 0.8567\n",
      "\n",
      "Epoch 00010: val_loss did not improve from 0.52208\n",
      "Epoch 11/25\n",
      "375/375 [==============================] - 11s 30ms/step - loss: 0.3781 - accuracy: 0.9384 - val_loss: 0.5153 - val_accuracy: 0.8905\n",
      "\n",
      "Epoch 00011: val_loss improved from 0.52208 to 0.51527, saving model to /kaggle/working/saved_model/fmnist_resnet_model.h5\n",
      "Epoch 12/25\n",
      "375/375 [==============================] - 11s 30ms/step - loss: 0.3649 - accuracy: 0.9404 - val_loss: 0.5756 - val_accuracy: 0.8645\n",
      "\n",
      "Epoch 00012: val_loss did not improve from 0.51527\n",
      "Epoch 13/25\n",
      "375/375 [==============================] - 11s 30ms/step - loss: 0.3521 - accuracy: 0.9450 - val_loss: 0.5187 - val_accuracy: 0.8970\n",
      "\n",
      "Epoch 00013: val_loss did not improve from 0.51527\n",
      "Epoch 14/25\n",
      "375/375 [==============================] - 11s 30ms/step - loss: 0.3408 - accuracy: 0.9472 - val_loss: 0.5952 - val_accuracy: 0.8648\n",
      "\n",
      "Epoch 00014: val_loss did not improve from 0.51527\n",
      "Epoch 15/25\n",
      "375/375 [==============================] - 11s 30ms/step - loss: 0.3264 - accuracy: 0.9514 - val_loss: 0.5585 - val_accuracy: 0.8838\n",
      "\n",
      "Epoch 00015: val_loss did not improve from 0.51527\n",
      "Epoch 16/25\n",
      "375/375 [==============================] - 11s 30ms/step - loss: 0.3335 - accuracy: 0.9488 - val_loss: 0.5695 - val_accuracy: 0.8688\n",
      "\n",
      "Epoch 00016: val_loss did not improve from 0.51527\n",
      "Epoch 17/25\n",
      "375/375 [==============================] - 11s 30ms/step - loss: 0.2679 - accuracy: 0.9713 - val_loss: 0.5490 - val_accuracy: 0.8945\n",
      "\n",
      "Epoch 00017: val_loss did not improve from 0.51527\n",
      "Epoch 18/25\n",
      "375/375 [==============================] - 11s 30ms/step - loss: 0.2156 - accuracy: 0.9851 - val_loss: 0.5908 - val_accuracy: 0.8947\n",
      "\n",
      "Epoch 00018: val_loss did not improve from 0.51527\n",
      "Epoch 19/25\n",
      "375/375 [==============================] - 11s 30ms/step - loss: 0.2031 - accuracy: 0.9873 - val_loss: 0.5655 - val_accuracy: 0.9003\n",
      "\n",
      "Epoch 00019: val_loss did not improve from 0.51527\n",
      "Epoch 20/25\n",
      "375/375 [==============================] - 12s 31ms/step - loss: 0.1922 - accuracy: 0.9874 - val_loss: 0.5693 - val_accuracy: 0.8988\n",
      "\n",
      "Epoch 00020: val_loss did not improve from 0.51527\n",
      "Epoch 21/25\n",
      "375/375 [==============================] - 11s 30ms/step - loss: 0.1797 - accuracy: 0.9891 - val_loss: 0.6406 - val_accuracy: 0.8910\n",
      "\n",
      "Epoch 00021: val_loss did not improve from 0.51527\n",
      "Epoch 22/25\n",
      "375/375 [==============================] - 11s 31ms/step - loss: 0.1679 - accuracy: 0.9931 - val_loss: 0.5968 - val_accuracy: 0.9013\n",
      "\n",
      "Epoch 00022: val_loss did not improve from 0.51527\n",
      "Epoch 23/25\n",
      "375/375 [==============================] - 11s 30ms/step - loss: 0.1522 - accuracy: 0.9967 - val_loss: 0.5966 - val_accuracy: 0.9045\n",
      "\n",
      "Epoch 00023: val_loss did not improve from 0.51527\n",
      "Epoch 24/25\n",
      "375/375 [==============================] - 11s 30ms/step - loss: 0.1441 - accuracy: 0.9983 - val_loss: 0.6098 - val_accuracy: 0.9068\n",
      "\n",
      "Epoch 00024: val_loss did not improve from 0.51527\n",
      "Epoch 25/25\n",
      "375/375 [==============================] - 11s 31ms/step - loss: 0.1421 - accuracy: 0.9975 - val_loss: 0.6334 - val_accuracy: 0.9027\n",
      "\n",
      "Epoch 00025: val_loss did not improve from 0.51527\n",
      "--- 291.9615297317505 seconds ---\n"
     ]
    }
   ],
   "source": [
    "start_time = time.time()\n",
    "resmodel.fit(x_train, y_train, batch_size=batch_size,\n",
    "              epochs=epochs,\n",
    "              validation_data=(x_val, y_val),\n",
    "              shuffle=True,\n",
    "              callbacks=callbacks)\n",
    "print(\"--- %s seconds ---\" % (time.time() - start_time)) "
   ]
  },
  {
   "cell_type": "code",
   "execution_count": 45,
   "id": "heard-italian",
   "metadata": {
    "execution": {
     "iopub.execute_input": "2021-04-26T04:19:21.388933Z",
     "iopub.status.busy": "2021-04-26T04:19:21.388037Z",
     "iopub.status.idle": "2021-04-26T04:19:22.850332Z",
     "shell.execute_reply": "2021-04-26T04:19:22.849822Z"
    },
    "papermill": {
     "duration": 2.802726,
     "end_time": "2021-04-26T04:19:22.850458",
     "exception": false,
     "start_time": "2021-04-26T04:19:20.047732",
     "status": "completed"
    },
    "tags": []
   },
   "outputs": [
    {
     "name": "stdout",
     "output_type": "stream",
     "text": [
      "188/188 [==============================] - 1s 7ms/step - loss: 0.6334 - accuracy: 0.9027\n",
      "Loss: 0.6334\n",
      "Accuracy: 0.9027\n",
      "--- 1.459258794784546 seconds ---\n"
     ]
    }
   ],
   "source": [
    "start_time = time.time() \n",
    "score = resmodel.evaluate(x_val, y_val)\n",
    "\n",
    "print('Loss: {:.4f}'.format(score[0]))\n",
    "print('Accuracy: {:.4f}'.format(score[1]))\n",
    "print(\"--- %s seconds ---\" % (time.time() - start_time))"
   ]
  },
  {
   "cell_type": "code",
   "execution_count": 46,
   "id": "related-soviet",
   "metadata": {
    "execution": {
     "iopub.execute_input": "2021-04-26T04:19:26.031075Z",
     "iopub.status.busy": "2021-04-26T04:19:26.030170Z",
     "iopub.status.idle": "2021-04-26T04:19:27.364967Z",
     "shell.execute_reply": "2021-04-26T04:19:27.365570Z"
    },
    "papermill": {
     "duration": 3.198847,
     "end_time": "2021-04-26T04:19:27.365769",
     "exception": false,
     "start_time": "2021-04-26T04:19:24.166922",
     "status": "completed"
    },
    "tags": []
   },
   "outputs": [
    {
     "name": "stdout",
     "output_type": "stream",
     "text": [
      "188/188 [==============================] - 1s 7ms/step - loss: 0.6334 - accuracy: 0.9027\n",
      "Test loss: 0.633379340171814\n",
      "Test accuracy: 0.9026666879653931\n"
     ]
    }
   ],
   "source": [
    "scores = resmodel.evaluate(x_val, y_val, verbose=1)\n",
    "print('Test loss:', scores[0])\n",
    "print('Test accuracy:', scores[1])"
   ]
  },
  {
   "cell_type": "markdown",
   "id": "parental-fiction",
   "metadata": {
    "papermill": {
     "duration": 1.545326,
     "end_time": "2021-04-26T04:19:30.275611",
     "exception": false,
     "start_time": "2021-04-26T04:19:28.730285",
     "status": "completed"
    },
    "tags": []
   },
   "source": [
    "**Advantages of Resnet :**\n",
    "\n",
    "1. ResNet uses Batch Normalization at its core. The Batch Normalization adjusts the input layer to increase the performance of the network. \n",
    "2. ResNet makes use of the Identity Connection, which helps to protect the network from vanishing gradient problem.\n",
    "3. Deep Residual Network uses bottleneck residual block design to increase the performance of the network."
   ]
  },
  {
   "cell_type": "markdown",
   "id": "dramatic-december",
   "metadata": {
    "papermill": {
     "duration": 1.336231,
     "end_time": "2021-04-26T04:19:32.954826",
     "exception": false,
     "start_time": "2021-04-26T04:19:31.618595",
     "status": "completed"
    },
    "tags": []
   },
   "source": [
    "## 4.15 Machine Learning model (Random Forest with Gridsearch)"
   ]
  },
  {
   "cell_type": "markdown",
   "id": "regulation-overview",
   "metadata": {
    "papermill": {
     "duration": 1.342898,
     "end_time": "2021-04-26T04:19:35.671544",
     "exception": false,
     "start_time": "2021-04-26T04:19:34.328646",
     "status": "completed"
    },
    "tags": []
   },
   "source": [
    "- In this model we use **GridSearchCV** for tuning hyperparameter of the classifier to evaluate the best accuaracy for the best max_depth value from [3,5,10,None] and best number of trees from [5,10,50,150,200] (Which values we supposed to selected in previous assignment).\n",
    "- Here we use 3-fold validation else we are going to face MemoeryLeak or TimeOut error."
   ]
  },
  {
   "cell_type": "code",
   "execution_count": 47,
   "id": "opposed-contrary",
   "metadata": {
    "execution": {
     "iopub.execute_input": "2021-04-26T04:19:38.365951Z",
     "iopub.status.busy": "2021-04-26T04:19:38.364122Z",
     "iopub.status.idle": "2021-04-26T04:19:38.366529Z",
     "shell.execute_reply": "2021-04-26T04:19:38.366912Z"
    },
    "papermill": {
     "duration": 1.364932,
     "end_time": "2021-04-26T04:19:38.367067",
     "exception": false,
     "start_time": "2021-04-26T04:19:37.002135",
     "status": "completed"
    },
    "tags": []
   },
   "outputs": [],
   "source": [
    "param_grid = {\n",
    "    'bootstrap': [True],\n",
    "    'max_depth': [3,5,10, None],\n",
    "    'n_estimators': [5,10,50,150, 200]\n",
    "}\n",
    "# Create a based model\n",
    "rfc = RandomForestClassifier()\n",
    "# Instantiate the grid search model\n",
    "grid_search = GridSearchCV(estimator = rfc, param_grid = param_grid, \n",
    "                          cv = 3, n_jobs = -1, verbose = 2)"
   ]
  },
  {
   "cell_type": "code",
   "execution_count": 48,
   "id": "cloudy-throw",
   "metadata": {
    "execution": {
     "iopub.execute_input": "2021-04-26T04:19:41.338256Z",
     "iopub.status.busy": "2021-04-26T04:19:41.337498Z",
     "iopub.status.idle": "2021-04-26T04:38:34.162428Z",
     "shell.execute_reply": "2021-04-26T04:38:34.162910Z"
    },
    "papermill": {
     "duration": 1134.460502,
     "end_time": "2021-04-26T04:38:34.163191",
     "exception": false,
     "start_time": "2021-04-26T04:19:39.702689",
     "status": "completed"
    },
    "tags": []
   },
   "outputs": [
    {
     "name": "stdout",
     "output_type": "stream",
     "text": [
      "Fitting 3 folds for each of 20 candidates, totalling 60 fits\n"
     ]
    },
    {
     "data": {
      "text/plain": [
       "{'bootstrap': True, 'max_depth': None, 'n_estimators': 200}"
      ]
     },
     "execution_count": 48,
     "metadata": {},
     "output_type": "execute_result"
    }
   ],
   "source": [
    "grid_search.fit(x_train1,y_train)\n",
    "grid_search.best_params_"
   ]
  },
  {
   "cell_type": "markdown",
   "id": "lesser-falls",
   "metadata": {
    "papermill": {
     "duration": 1.339142,
     "end_time": "2021-04-26T04:38:36.853910",
     "exception": false,
     "start_time": "2021-04-26T04:38:35.514768",
     "status": "completed"
    },
    "tags": []
   },
   "source": [
    "**Note :** \n",
    "\n",
    "- We have test this model using different combinations of max_depth, n_ estimators and k-fold cross validation and encounter that we should make these values limited else we face below error of timeout/mermory leak :\n",
    "\n",
    "/opt/conda/lib/python3.7/site-packages/joblib/externals/loky/process_executor.py:691: UserWarning: A worker stopped while some jobs were given to the executor. This can be caused by a too short worker timeout or by a memory leak.\n",
    "  \"timeout or by a memory leak.\", UserWarning\n",
    "  "
   ]
  },
  {
   "cell_type": "code",
   "execution_count": 49,
   "id": "genetic-exhibit",
   "metadata": {
    "execution": {
     "iopub.execute_input": "2021-04-26T04:38:39.592420Z",
     "iopub.status.busy": "2021-04-26T04:38:39.591510Z",
     "iopub.status.idle": "2021-04-26T04:38:40.252189Z",
     "shell.execute_reply": "2021-04-26T04:38:40.251406Z"
    },
    "papermill": {
     "duration": 1.994756,
     "end_time": "2021-04-26T04:38:40.252323",
     "exception": false,
     "start_time": "2021-04-26T04:38:38.257567",
     "status": "completed"
    },
    "tags": []
   },
   "outputs": [],
   "source": [
    "y_pred_rf = grid_search.predict(x_val1)"
   ]
  },
  {
   "cell_type": "code",
   "execution_count": 50,
   "id": "piano-oasis",
   "metadata": {
    "execution": {
     "iopub.execute_input": "2021-04-26T04:38:42.939750Z",
     "iopub.status.busy": "2021-04-26T04:38:42.938981Z",
     "iopub.status.idle": "2021-04-26T04:38:42.946957Z",
     "shell.execute_reply": "2021-04-26T04:38:42.947482Z"
    },
    "papermill": {
     "duration": 1.34388,
     "end_time": "2021-04-26T04:38:42.947616",
     "exception": false,
     "start_time": "2021-04-26T04:38:41.603736",
     "status": "completed"
    },
    "tags": []
   },
   "outputs": [
    {
     "name": "stdout",
     "output_type": "stream",
     "text": [
      "Accuracy for random forest: 0.8116666666666666\n"
     ]
    }
   ],
   "source": [
    "print('Accuracy for random forest:',metrics.accuracy_score(y_val,y_pred_rf))"
   ]
  },
  {
   "cell_type": "markdown",
   "id": "smaller-tower",
   "metadata": {
    "papermill": {
     "duration": 1.598242,
     "end_time": "2021-04-26T04:38:45.882131",
     "exception": false,
     "start_time": "2021-04-26T04:38:44.283889",
     "status": "completed"
    },
    "tags": []
   },
   "source": [
    "#### Additional point in Machine Learning model about performance :\n",
    "We can achieve **more accuracy** in this model if we apply **dimensionality reduction techniques (e.g PCA )** on data as we have too many number of features available to predict labels."
   ]
  },
  {
   "cell_type": "markdown",
   "id": "wooden-singles",
   "metadata": {
    "papermill": {
     "duration": 1.325331,
     "end_time": "2021-04-26T04:38:49.005768",
     "exception": false,
     "start_time": "2021-04-26T04:38:47.680437",
     "status": "completed"
    },
    "tags": []
   },
   "source": [
    "## 4.16 Simple Neural Networks\n",
    "\n",
    "1) In our simple neural network model, we are not adding any convolutional, maxpooling, batch normalization or dropout layer.\n",
    "\n",
    "2) Firstly we used Sequential Keras API which is just a linear stack of layers.\n",
    "\n",
    "3) Then we include Flatten layer to map the input to a 1D vector.\n",
    "\n",
    "4) Lastly, we add the Dense (Output) Layer. It has units equal to the number of classes to be identified.Here, we use 'softmax' function since it is Multi-Class Classification. For binary classification we can use 'sigmoid' function."
   ]
  },
  {
   "cell_type": "code",
   "execution_count": 51,
   "id": "regulation-clark",
   "metadata": {
    "execution": {
     "iopub.execute_input": "2021-04-26T04:38:51.717095Z",
     "iopub.status.busy": "2021-04-26T04:38:51.714651Z",
     "iopub.status.idle": "2021-04-26T04:38:51.737833Z",
     "shell.execute_reply": "2021-04-26T04:38:51.737403Z"
    },
    "papermill": {
     "duration": 1.405981,
     "end_time": "2021-04-26T04:38:51.737953",
     "exception": false,
     "start_time": "2021-04-26T04:38:50.331972",
     "status": "completed"
    },
    "tags": []
   },
   "outputs": [],
   "source": [
    "from tensorflow import keras\n",
    "model3 = keras.Sequential([\n",
    "    keras.layers.Flatten(input_shape=(28, 28)),\n",
    "    keras.layers.Dense(128, activation='relu'),\n",
    "    keras.layers.Dense(5, activation='softmax')\n",
    "])"
   ]
  },
  {
   "cell_type": "code",
   "execution_count": 52,
   "id": "negative-liquid",
   "metadata": {
    "execution": {
     "iopub.execute_input": "2021-04-26T04:38:54.390699Z",
     "iopub.status.busy": "2021-04-26T04:38:54.389795Z",
     "iopub.status.idle": "2021-04-26T04:38:54.394877Z",
     "shell.execute_reply": "2021-04-26T04:38:54.394359Z"
    },
    "papermill": {
     "duration": 1.332225,
     "end_time": "2021-04-26T04:38:54.395004",
     "exception": false,
     "start_time": "2021-04-26T04:38:53.062779",
     "status": "completed"
    },
    "tags": []
   },
   "outputs": [
    {
     "name": "stdout",
     "output_type": "stream",
     "text": [
      "Model: \"sequential_1\"\n",
      "_________________________________________________________________\n",
      "Layer (type)                 Output Shape              Param #   \n",
      "=================================================================\n",
      "flatten_2 (Flatten)          (None, 784)               0         \n",
      "_________________________________________________________________\n",
      "dense_4 (Dense)              (None, 128)               100480    \n",
      "_________________________________________________________________\n",
      "dense_5 (Dense)              (None, 5)                 645       \n",
      "=================================================================\n",
      "Total params: 101,125\n",
      "Trainable params: 101,125\n",
      "Non-trainable params: 0\n",
      "_________________________________________________________________\n"
     ]
    }
   ],
   "source": [
    "model3.summary()"
   ]
  },
  {
   "cell_type": "code",
   "execution_count": 53,
   "id": "growing-color",
   "metadata": {
    "execution": {
     "iopub.execute_input": "2021-04-26T04:38:57.296679Z",
     "iopub.status.busy": "2021-04-26T04:38:57.295726Z",
     "iopub.status.idle": "2021-04-26T04:38:57.300592Z",
     "shell.execute_reply": "2021-04-26T04:38:57.300101Z"
    },
    "papermill": {
     "duration": 1.475527,
     "end_time": "2021-04-26T04:38:57.300704",
     "exception": false,
     "start_time": "2021-04-26T04:38:55.825177",
     "status": "completed"
    },
    "tags": []
   },
   "outputs": [],
   "source": [
    "model3.compile(optimizer='adam', loss=\"categorical_crossentropy\", metrics=[\"accuracy\"])"
   ]
  },
  {
   "cell_type": "code",
   "execution_count": 54,
   "id": "french-publication",
   "metadata": {
    "execution": {
     "iopub.execute_input": "2021-04-26T04:39:00.045988Z",
     "iopub.status.busy": "2021-04-26T04:39:00.044943Z",
     "iopub.status.idle": "2021-04-26T04:45:07.114331Z",
     "shell.execute_reply": "2021-04-26T04:45:07.115119Z"
    },
    "papermill": {
     "duration": 368.417514,
     "end_time": "2021-04-26T04:45:07.115327",
     "exception": false,
     "start_time": "2021-04-26T04:38:58.697813",
     "status": "completed"
    },
    "tags": []
   },
   "outputs": [
    {
     "name": "stdout",
     "output_type": "stream",
     "text": [
      "Epoch 1/25\n",
      "375/375 - 14s - loss: 0.9608 - accuracy: 0.5939 - val_loss: 0.7760 - val_accuracy: 0.6875\n",
      "Epoch 2/25\n",
      "375/375 - 15s - loss: 0.7777 - accuracy: 0.6824 - val_loss: 0.6751 - val_accuracy: 0.7293\n",
      "Epoch 3/25\n",
      "375/375 - 14s - loss: 0.7201 - accuracy: 0.7059 - val_loss: 0.6495 - val_accuracy: 0.7388\n",
      "Epoch 4/25\n",
      "375/375 - 15s - loss: 0.6873 - accuracy: 0.7221 - val_loss: 0.6172 - val_accuracy: 0.7490\n",
      "Epoch 5/25\n",
      "375/375 - 14s - loss: 0.6551 - accuracy: 0.7365 - val_loss: 0.6147 - val_accuracy: 0.7463\n",
      "Epoch 6/25\n",
      "375/375 - 15s - loss: 0.6466 - accuracy: 0.7386 - val_loss: 0.5981 - val_accuracy: 0.7545\n",
      "Epoch 7/25\n",
      "375/375 - 15s - loss: 0.6322 - accuracy: 0.7458 - val_loss: 0.5727 - val_accuracy: 0.7645\n",
      "Epoch 8/25\n",
      "375/375 - 14s - loss: 0.6202 - accuracy: 0.7533 - val_loss: 0.5832 - val_accuracy: 0.7555\n",
      "Epoch 9/25\n",
      "375/375 - 15s - loss: 0.6151 - accuracy: 0.7546 - val_loss: 0.5599 - val_accuracy: 0.7838\n",
      "Epoch 10/25\n",
      "375/375 - 15s - loss: 0.6064 - accuracy: 0.7580 - val_loss: 0.5552 - val_accuracy: 0.7782\n",
      "Epoch 11/25\n",
      "375/375 - 15s - loss: 0.5972 - accuracy: 0.7617 - val_loss: 0.5517 - val_accuracy: 0.7833\n",
      "Epoch 12/25\n",
      "375/375 - 14s - loss: 0.5950 - accuracy: 0.7645 - val_loss: 0.5424 - val_accuracy: 0.7827\n",
      "Epoch 13/25\n",
      "375/375 - 16s - loss: 0.5905 - accuracy: 0.7675 - val_loss: 0.5467 - val_accuracy: 0.7907\n",
      "Epoch 14/25\n",
      "375/375 - 14s - loss: 0.5878 - accuracy: 0.7677 - val_loss: 0.5513 - val_accuracy: 0.7898\n",
      "Epoch 15/25\n",
      "375/375 - 15s - loss: 0.5844 - accuracy: 0.7681 - val_loss: 0.5295 - val_accuracy: 0.7973\n",
      "Epoch 16/25\n",
      "375/375 - 15s - loss: 0.5758 - accuracy: 0.7729 - val_loss: 0.5360 - val_accuracy: 0.7855\n",
      "Epoch 17/25\n",
      "375/375 - 15s - loss: 0.5758 - accuracy: 0.7718 - val_loss: 0.5314 - val_accuracy: 0.8028\n",
      "Epoch 18/25\n",
      "375/375 - 14s - loss: 0.5719 - accuracy: 0.7733 - val_loss: 0.5263 - val_accuracy: 0.7845\n",
      "Epoch 19/25\n",
      "375/375 - 15s - loss: 0.5731 - accuracy: 0.7755 - val_loss: 0.5299 - val_accuracy: 0.7978\n",
      "Epoch 20/25\n",
      "375/375 - 15s - loss: 0.5692 - accuracy: 0.7750 - val_loss: 0.5184 - val_accuracy: 0.7997\n",
      "Epoch 21/25\n",
      "375/375 - 14s - loss: 0.5657 - accuracy: 0.7769 - val_loss: 0.5232 - val_accuracy: 0.8017\n",
      "Epoch 22/25\n",
      "375/375 - 16s - loss: 0.5640 - accuracy: 0.7792 - val_loss: 0.5152 - val_accuracy: 0.8022\n",
      "Epoch 23/25\n",
      "375/375 - 14s - loss: 0.5619 - accuracy: 0.7795 - val_loss: 0.5303 - val_accuracy: 0.7983\n",
      "Epoch 24/25\n",
      "375/375 - 14s - loss: 0.5611 - accuracy: 0.7778 - val_loss: 0.5115 - val_accuracy: 0.8067\n",
      "Epoch 25/25\n",
      "375/375 - 15s - loss: 0.5623 - accuracy: 0.7789 - val_loss: 0.5127 - val_accuracy: 0.8038\n"
     ]
    }
   ],
   "source": [
    "history3 = model3.fit(datagen.flow(x_train, y_train, batch_size = batch_size), epochs = epochs, \n",
    "                              validation_data = (x_val, y_val), verbose=2, \n",
    "                              steps_per_epoch=x_train.shape[0] // batch_size,\n",
    "                              callbacks = [reduce_lr])"
   ]
  },
  {
   "cell_type": "code",
   "execution_count": 55,
   "id": "ideal-union",
   "metadata": {
    "execution": {
     "iopub.execute_input": "2021-04-26T04:45:10.134501Z",
     "iopub.status.busy": "2021-04-26T04:45:10.133462Z",
     "iopub.status.idle": "2021-04-26T04:45:10.544242Z",
     "shell.execute_reply": "2021-04-26T04:45:10.543586Z"
    },
    "papermill": {
     "duration": 2.022165,
     "end_time": "2021-04-26T04:45:10.544411",
     "exception": false,
     "start_time": "2021-04-26T04:45:08.522246",
     "status": "completed"
    },
    "tags": []
   },
   "outputs": [
    {
     "name": "stdout",
     "output_type": "stream",
     "text": [
      "188/188 [==============================] - 0s 2ms/step - loss: 0.5127 - accuracy: 0.8038\n",
      "Loss: 0.5127\n",
      "Accuracy: 0.8038\n",
      "--- 0.40688180923461914 seconds ---\n"
     ]
    }
   ],
   "source": [
    "start_time = time.time() \n",
    "score = model3.evaluate(x_val, y_val)\n",
    "\n",
    "print('Loss: {:.4f}'.format(score[0]))\n",
    "print('Accuracy: {:.4f}'.format(score[1]))\n",
    "print(\"--- %s seconds ---\" % (time.time() - start_time))"
   ]
  },
  {
   "cell_type": "code",
   "execution_count": 56,
   "id": "dutch-review",
   "metadata": {
    "execution": {
     "iopub.execute_input": "2021-04-26T04:45:13.358852Z",
     "iopub.status.busy": "2021-04-26T04:45:13.325836Z",
     "iopub.status.idle": "2021-04-26T04:45:13.459285Z",
     "shell.execute_reply": "2021-04-26T04:45:13.458312Z"
    },
    "papermill": {
     "duration": 1.516213,
     "end_time": "2021-04-26T04:45:13.459412",
     "exception": false,
     "start_time": "2021-04-26T04:45:11.943199",
     "status": "completed"
    },
    "tags": []
   },
   "outputs": [
    {
     "data": {
      "image/png": "[encoded data removed]",
      "text/plain": [
       "<Figure size 432x288 with 1 Axes>"
      ]
     },
     "metadata": {
      "needs_background": "light"
     },
     "output_type": "display_data"
    },
    {
     "name": "stdout",
     "output_type": "stream",
     "text": [
      "--- 0.14399313926696777 seconds ---\n"
     ]
    }
   ],
   "source": [
    "start_time = time.time()\n",
    "plt.plot(history3.history['accuracy'])\n",
    "plt.plot(history3.history['val_accuracy'])\n",
    "plt.title(\"Model Accuracy\")\n",
    "plt.xlabel('Epochs')\n",
    "plt.ylabel('Accuracy')\n",
    "plt.legend(['Train', 'Test'])\n",
    "plt.show()\n",
    "print(\"--- %s seconds ---\" % (time.time() - start_time))"
   ]
  },
  {
   "cell_type": "markdown",
   "id": "pressed-lightning",
   "metadata": {
    "papermill": {
     "duration": 1.405613,
     "end_time": "2021-04-26T04:45:16.273909",
     "exception": false,
     "start_time": "2021-04-26T04:45:14.868296",
     "status": "completed"
    },
    "tags": []
   },
   "source": [
    "## 4.17 Analysis :\n",
    "\n",
    "- From above models it has been clear that we can achieve good accuracy on CNN and Resnet model.\n",
    "- However we can also achieve 80% on Machine Learning model. We can achieve more performance we use Dimensionality Reduction method before Random forest as we have 784 features (28*28).\n"
   ]
  }
 ],
 "metadata": {
  "kernelspec": {
   "display_name": "Python 3",
   "language": "python",
   "name": "python3"
  },
  "language_info": {
   "codemirror_mode": {
    "name": "ipython",
    "version": 3
   },
   "file_extension": ".py",
   "mimetype": "text/x-python",
   "name": "python",
   "nbconvert_exporter": "python",
   "pygments_lexer": "ipython3",
   "version": "3.9.1"
  },
  "papermill": {
   "default_parameters": {},
   "duration": 2287.16724,
   "end_time": "2021-04-26T04:45:21.209769",
   "environment_variables": {},
   "exception": null,
   "input_path": "__notebook__.ipynb",
   "output_path": "__notebook__.ipynb",
   "parameters": {},
   "start_time": "2021-04-26T04:07:14.042529",
   "version": "2.3.2"
  }
 },
 "nbformat": 4,
 "nbformat_minor": 5
}
