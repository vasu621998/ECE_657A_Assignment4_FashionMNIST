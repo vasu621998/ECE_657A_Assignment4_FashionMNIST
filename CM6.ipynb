{
 "cells": [
  {
   "cell_type": "markdown",
   "id": "united-estate",
   "metadata": {
    "papermill": {
     "duration": 0.056983,
     "end_time": "2021-04-25T14:14:11.459593",
     "exception": false,
     "start_time": "2021-04-25T14:14:11.402610",
     "status": "completed"
    },
    "tags": []
   },
   "source": [
    "# <div align=\"center\">CM6</div>\n",
    "\n",
    "## 6.1 Importing libraries"
   ]
  },
  {
   "cell_type": "code",
   "execution_count": 1,
   "id": "smooth-cosmetic",
   "metadata": {
    "execution": {
     "iopub.execute_input": "2021-04-25T14:14:11.582072Z",
     "iopub.status.busy": "2021-04-25T14:14:11.581505Z",
     "iopub.status.idle": "2021-04-25T14:14:19.189915Z",
     "shell.execute_reply": "2021-04-25T14:14:19.189340Z"
    },
    "papermill": {
     "duration": 7.676071,
     "end_time": "2021-04-25T14:14:19.190115",
     "exception": false,
     "start_time": "2021-04-25T14:14:11.514044",
     "status": "completed"
    },
    "tags": []
   },
   "outputs": [
    {
     "name": "stdout",
     "output_type": "stream",
     "text": [
      "/kaggle/input/mnist-train/fashion_mnist_dataset_train.npy\n"
     ]
    }
   ],
   "source": [
    "# Handle table-like data and matrices :\n",
    "import numpy as np \n",
    "import pandas as pd \n",
    "\n",
    "\n",
    "import os\n",
    "for dirname, _, filenames in os.walk('/kaggle/input'):\n",
    "    for filename in filenames:\n",
    "        print(os.path.join(dirname, filename))\n",
    "\n",
    "        \n",
    "# Modelling Helpers Libraries\n",
    "from sklearn.model_selection import train_test_split\n",
    "from sklearn.metrics import confusion_matrix, classification_report\n",
    "from sklearn.model_selection import GridSearchCV , KFold , cross_val_score\n",
    "\n",
    "# Deep Learning Libraries\n",
    "import tensorflow as tf\n",
    "from keras.utils import to_categorical\n",
    "from keras.models import Sequential, load_model\n",
    "from keras.layers import Dense, Dropout, Flatten\n",
    "from keras.layers import Conv2D, MaxPooling2D, BatchNormalization\n",
    "from keras.optimizers import Adam,SGD,Adagrad,Adadelta,RMSprop\n",
    "from keras.preprocessing.image import ImageDataGenerator\n",
    "from keras.callbacks import ReduceLROnPlateau, LearningRateScheduler\n",
    "\n",
    "# Resnet \n",
    "import keras\n",
    "from keras.layers import AveragePooling2D, Input, Flatten\n",
    "from keras.layers import Dense, Conv2D, BatchNormalization, Activation\n",
    "from keras.regularizers import l2\n",
    "from keras.models import Model\n",
    "import os\n",
    "from keras.callbacks import ModelCheckpoint, ReduceLROnPlateau\n",
    "\n",
    "# Machine Learning Model\n",
    "from sklearn.model_selection import GridSearchCV\n",
    "from sklearn.ensemble import RandomForestClassifier\n",
    "from sklearn import metrics\n",
    "\n",
    "# Visualisation\n",
    "import seaborn as sns\n",
    "import matplotlib.pyplot as plt\n",
    "\n",
    "# Time library\n",
    "import time \n",
    "\n",
    "\n",
    "# Classification\n",
    "from sklearn.metrics import accuracy_score,precision_score,recall_score,f1_score,confusion_matrix,classification_report\n",
    "import itertools"
   ]
  },
  {
   "cell_type": "markdown",
   "id": "insured-blind",
   "metadata": {
    "papermill": {
     "duration": 0.056277,
     "end_time": "2021-04-25T14:14:19.303470",
     "exception": false,
     "start_time": "2021-04-25T14:14:19.247193",
     "status": "completed"
    },
    "tags": []
   },
   "source": [
    "## 6.2 Dataset Extract"
   ]
  },
  {
   "cell_type": "code",
   "execution_count": 2,
   "id": "bridal-somalia",
   "metadata": {
    "execution": {
     "iopub.execute_input": "2021-04-25T14:14:19.420292Z",
     "iopub.status.busy": "2021-04-25T14:14:19.419703Z",
     "iopub.status.idle": "2021-04-25T14:14:24.254693Z",
     "shell.execute_reply": "2021-04-25T14:14:24.253626Z"
    },
    "papermill": {
     "duration": 4.895628,
     "end_time": "2021-04-25T14:14:24.254844",
     "exception": false,
     "start_time": "2021-04-25T14:14:19.359216",
     "status": "completed"
    },
    "tags": []
   },
   "outputs": [],
   "source": [
    "data = np.load('../input/mnist-train/fashion_mnist_dataset_train.npy', allow_pickle=True).item()\n",
    "data = np.array(data)\n",
    "my_dict = data[()]\n",
    "features = my_dict.get('features')\n",
    "target = my_dict.get('target')\n",
    "farray = features.reshape(features.shape[0], (features.shape[1]*features.shape[2]))"
   ]
  },
  {
   "cell_type": "code",
   "execution_count": 3,
   "id": "fundamental-privilege",
   "metadata": {
    "execution": {
     "iopub.execute_input": "2021-04-25T14:14:24.377480Z",
     "iopub.status.busy": "2021-04-25T14:14:24.376732Z",
     "iopub.status.idle": "2021-04-25T14:14:24.381001Z",
     "shell.execute_reply": "2021-04-25T14:14:24.380355Z"
    },
    "papermill": {
     "duration": 0.067664,
     "end_time": "2021-04-25T14:14:24.381323",
     "exception": false,
     "start_time": "2021-04-25T14:14:24.313659",
     "status": "completed"
    },
    "tags": []
   },
   "outputs": [],
   "source": [
    "column_names = []\n",
    "[column_names.append(\"pixel\"+str(x)) for x in range(0, 784)]\n",
    "f1 = pd.DataFrame(farray , columns = column_names)"
   ]
  },
  {
   "cell_type": "code",
   "execution_count": 4,
   "id": "separated-prior",
   "metadata": {
    "execution": {
     "iopub.execute_input": "2021-04-25T14:14:24.501479Z",
     "iopub.status.busy": "2021-04-25T14:14:24.499527Z",
     "iopub.status.idle": "2021-04-25T14:14:24.502256Z",
     "shell.execute_reply": "2021-04-25T14:14:24.502712Z"
    },
    "papermill": {
     "duration": 0.063841,
     "end_time": "2021-04-25T14:14:24.502851",
     "exception": false,
     "start_time": "2021-04-25T14:14:24.439010",
     "status": "completed"
    },
    "tags": []
   },
   "outputs": [],
   "source": [
    "column_names = ['target']\n",
    "t1  = pd.DataFrame(target , columns = column_names)"
   ]
  },
  {
   "cell_type": "code",
   "execution_count": 5,
   "id": "prostate-voluntary",
   "metadata": {
    "execution": {
     "iopub.execute_input": "2021-04-25T14:14:24.624702Z",
     "iopub.status.busy": "2021-04-25T14:14:24.623974Z",
     "iopub.status.idle": "2021-04-25T14:14:24.645330Z",
     "shell.execute_reply": "2021-04-25T14:14:24.644330Z"
    },
    "papermill": {
     "duration": 0.088341,
     "end_time": "2021-04-25T14:14:24.645463",
     "exception": false,
     "start_time": "2021-04-25T14:14:24.557122",
     "status": "completed"
    },
    "tags": []
   },
   "outputs": [],
   "source": [
    "f1['target'] = t1['target'] - 1"
   ]
  },
  {
   "cell_type": "code",
   "execution_count": 6,
   "id": "daily-england",
   "metadata": {
    "execution": {
     "iopub.execute_input": "2021-04-25T14:14:24.767000Z",
     "iopub.status.busy": "2021-04-25T14:14:24.766089Z",
     "iopub.status.idle": "2021-04-25T14:14:24.777654Z",
     "shell.execute_reply": "2021-04-25T14:14:24.778120Z"
    },
    "papermill": {
     "duration": 0.073707,
     "end_time": "2021-04-25T14:14:24.778271",
     "exception": false,
     "start_time": "2021-04-25T14:14:24.704564",
     "status": "completed"
    },
    "tags": []
   },
   "outputs": [
    {
     "data": {
      "text/plain": [
       "1.0    12019\n",
       "2.0    12011\n",
       "3.0    11992\n",
       "0.0    11989\n",
       "4.0    11989\n",
       "Name: target, dtype: int64"
      ]
     },
     "execution_count": 6,
     "metadata": {},
     "output_type": "execute_result"
    }
   ],
   "source": [
    "f1['target'].value_counts()"
   ]
  },
  {
   "cell_type": "markdown",
   "id": "separate-acting",
   "metadata": {
    "papermill": {
     "duration": 0.055685,
     "end_time": "2021-04-25T14:14:24.893086",
     "exception": false,
     "start_time": "2021-04-25T14:14:24.837401",
     "status": "completed"
    },
    "tags": []
   },
   "source": [
    "## 6.3 Data Preprocessing"
   ]
  },
  {
   "cell_type": "code",
   "execution_count": 7,
   "id": "ahead-revelation",
   "metadata": {
    "execution": {
     "iopub.execute_input": "2021-04-25T14:14:25.009637Z",
     "iopub.status.busy": "2021-04-25T14:14:25.008848Z",
     "iopub.status.idle": "2021-04-25T14:14:25.012824Z",
     "shell.execute_reply": "2021-04-25T14:14:25.012392Z"
    },
    "papermill": {
     "duration": 0.064688,
     "end_time": "2021-04-25T14:14:25.012933",
     "exception": false,
     "start_time": "2021-04-25T14:14:24.948245",
     "status": "completed"
    },
    "tags": []
   },
   "outputs": [],
   "source": [
    "seed = 66\n",
    "np.random.seed(seed)"
   ]
  },
  {
   "cell_type": "code",
   "execution_count": 8,
   "id": "exempt-entrepreneur",
   "metadata": {
    "execution": {
     "iopub.execute_input": "2021-04-25T14:14:25.168753Z",
     "iopub.status.busy": "2021-04-25T14:14:25.167843Z",
     "iopub.status.idle": "2021-04-25T14:14:25.549179Z",
     "shell.execute_reply": "2021-04-25T14:14:25.550251Z"
    },
    "papermill": {
     "duration": 0.479998,
     "end_time": "2021-04-25T14:14:25.550456",
     "exception": false,
     "start_time": "2021-04-25T14:14:25.070458",
     "status": "completed"
    },
    "tags": []
   },
   "outputs": [],
   "source": [
    "X = f1.iloc[:, :-1]\n",
    "Y = f1.iloc[:,784]\n",
    "x_train1, x_valtest, y_train, y_valtest = train_test_split(X, Y, test_size=0.2, random_state=seed)\n",
    "x_val1,x_test1,y_val,y_test = train_test_split(x_valtest, y_valtest, test_size=0.5, random_state=seed)"
   ]
  },
  {
   "cell_type": "code",
   "execution_count": 9,
   "id": "historical-observer",
   "metadata": {
    "execution": {
     "iopub.execute_input": "2021-04-25T14:14:25.747410Z",
     "iopub.status.busy": "2021-04-25T14:14:25.746397Z",
     "iopub.status.idle": "2021-04-25T14:14:25.749150Z",
     "shell.execute_reply": "2021-04-25T14:14:25.748281Z"
    },
    "papermill": {
     "duration": 0.104425,
     "end_time": "2021-04-25T14:14:25.749345",
     "exception": false,
     "start_time": "2021-04-25T14:14:25.644920",
     "status": "completed"
    },
    "tags": []
   },
   "outputs": [],
   "source": [
    "x_train = x_train1.values.reshape((-1, 28, 28, 1))\n",
    "x_val = x_val1.values.reshape((-1, 28, 28, 1))\n",
    "x_test = x_test1.values.reshape((-1, 28, 28, 1))"
   ]
  },
  {
   "cell_type": "code",
   "execution_count": 10,
   "id": "suited-lunch",
   "metadata": {
    "execution": {
     "iopub.execute_input": "2021-04-25T14:14:25.979480Z",
     "iopub.status.busy": "2021-04-25T14:14:25.978560Z",
     "iopub.status.idle": "2021-04-25T14:14:25.983041Z",
     "shell.execute_reply": "2021-04-25T14:14:25.984388Z"
    },
    "papermill": {
     "duration": 0.097852,
     "end_time": "2021-04-25T14:14:25.984595",
     "exception": false,
     "start_time": "2021-04-25T14:14:25.886743",
     "status": "completed"
    },
    "tags": []
   },
   "outputs": [],
   "source": [
    "from keras.utils.np_utils import to_categorical\n",
    "\n",
    "y_train = to_categorical(y_train, num_classes=5)\n",
    "y_val = to_categorical(y_val, num_classes=5)\n",
    "y_test = to_categorical(y_test, num_classes=5)"
   ]
  },
  {
   "cell_type": "markdown",
   "id": "directed-healthcare",
   "metadata": {
    "papermill": {
     "duration": 0.059418,
     "end_time": "2021-04-25T14:14:26.253241",
     "exception": false,
     "start_time": "2021-04-25T14:14:26.193823",
     "status": "completed"
    },
    "tags": []
   },
   "source": [
    "## 6.4 Model 1 ( CNN ) :"
   ]
  },
  {
   "cell_type": "code",
   "execution_count": 11,
   "id": "choice-nomination",
   "metadata": {
    "execution": {
     "iopub.execute_input": "2021-04-25T14:14:26.432120Z",
     "iopub.status.busy": "2021-04-25T14:14:26.431319Z",
     "iopub.status.idle": "2021-04-25T14:14:30.614875Z",
     "shell.execute_reply": "2021-04-25T14:14:30.614353Z"
    },
    "papermill": {
     "duration": 4.279868,
     "end_time": "2021-04-25T14:14:30.615025",
     "exception": false,
     "start_time": "2021-04-25T14:14:26.335157",
     "status": "completed"
    },
    "tags": []
   },
   "outputs": [],
   "source": [
    "model = Sequential()\n",
    "model.add(Conv2D(filters=32, kernel_size=(3, 3), activation='relu', strides=1, padding='same', \n",
    "                 data_format='channels_last', input_shape=(28,28,1)))\n",
    "model.add(BatchNormalization())\n",
    "\n",
    "model.add(Conv2D(filters=32, kernel_size=(3, 3), activation='relu', strides=1, padding='same', \n",
    "                 data_format='channels_last'))\n",
    "model.add(BatchNormalization())\n",
    "model.add(Dropout(0.25))\n",
    "\n",
    "model.add(Conv2D(filters=64, kernel_size=(3, 3), activation='relu', strides=1, padding='same', \n",
    "                 data_format='channels_last'))\n",
    "model.add(MaxPooling2D(pool_size=(2, 2)))\n",
    "model.add(Dropout(0.25))\n",
    "    \n",
    "    \n",
    "model.add(Conv2D(filters=128, kernel_size=(3, 3), activation='relu', strides=1, padding='same', \n",
    "                 data_format='channels_last'))\n",
    "model.add(BatchNormalization())\n",
    "model.add(Dropout(0.25))\n",
    "\n",
    "model.add(Flatten())\n",
    "model.add(Dense(512, activation='relu'))\n",
    "model.add(BatchNormalization())\n",
    "model.add(Dropout(0.5))\n",
    "model.add(Dense(128, activation='relu'))\n",
    "model.add(BatchNormalization())\n",
    "model.add(Dropout(0.5))\n",
    "model.add(Dense(5, activation='softmax'))"
   ]
  },
  {
   "cell_type": "code",
   "execution_count": 12,
   "id": "funny-creature",
   "metadata": {
    "execution": {
     "iopub.execute_input": "2021-04-25T14:14:30.737518Z",
     "iopub.status.busy": "2021-04-25T14:14:30.735656Z",
     "iopub.status.idle": "2021-04-25T14:14:30.738148Z",
     "shell.execute_reply": "2021-04-25T14:14:30.738596Z"
    },
    "papermill": {
     "duration": 0.067155,
     "end_time": "2021-04-25T14:14:30.738747",
     "exception": false,
     "start_time": "2021-04-25T14:14:30.671592",
     "status": "completed"
    },
    "tags": []
   },
   "outputs": [],
   "source": [
    "#Adam\n",
    "optimizer = tf.keras.optimizers.Adam(learning_rate=0.01, beta_1=0.9, beta_2=0.999)\n",
    "\n",
    "# SGD \n",
    "optimizer_sgd = tf.keras.optimizers.SGD(learning_rate=0.01)\n",
    "\n",
    "# RMSProp\n",
    "optimizer_rmsprop = tf.keras.optimizers.RMSprop(learning_rate=0.01)\n",
    "\n",
    "# Adagrad\n",
    "optimizer_adagrad = tf.keras.optimizers.Adagrad(learning_rate=0.01)\n",
    "\n",
    "# Adadelta\n",
    "optimizer_adadelta = tf.keras.optimizers.Adadelta(learning_rate=0.01)\n"
   ]
  },
  {
   "cell_type": "markdown",
   "id": "dried-literature",
   "metadata": {
    "papermill": {
     "duration": 0.057064,
     "end_time": "2021-04-25T14:14:30.853420",
     "exception": false,
     "start_time": "2021-04-25T14:14:30.796356",
     "status": "completed"
    },
    "tags": []
   },
   "source": [
    "### Comparision of different optimizer on Train data in model1:\n",
    "\n",
    "\n",
    "\n",
    "1. **AdamGrad ( Learning rate : 0.01 ) :**\n",
    "\n",
    "- Epoch 1/5\n",
    "375/375 - 254s - loss: 1.3776 - accuracy: 0.5393 - val_loss: 2.1717 - val_accuracy: 0.3278\n",
    "- Epoch 2/5\n",
    "375/375 - 249s - loss: 1.0766 - accuracy: 0.6093 - val_loss: 0.6624 - val_accuracy: 0.7432\n",
    "- Epoch 3/5\n",
    "375/375 - 247s - loss: 0.9727 - accuracy: 0.6331 - val_loss: 0.6141 - val_accuracy: 0.7528\n",
    "- Epoch 4/5\n",
    "375/375 - 246s - loss: 0.9331 - accuracy: 0.6477 - val_loss: 0.5946 - val_accuracy: 0.7560\n",
    "- Epoch 5/5\n",
    "375/375 - 246s - loss: 0.9002 - accuracy: 0.6537 - val_loss: 0.5834 - val_accuracy: 0.7535\n",
    "\n",
    "- 188/188 [==============================] - 8s 41ms/step - loss: 0.5530 - accuracy: 0.7613\n",
    "Loss: 0.5530\n",
    "Accuracy: 0.7613\n",
    "\n",
    "\n",
    "\n",
    "2. **Adam ( Learning rate : 0.01 ) :**\n",
    "\n",
    "- Epoch 1/5\n",
    "375/375 - 259s - loss: 0.8156 - accuracy: 0.6819 - val_loss: 1.8547 - val_accuracy: 0.4477\n",
    "- Epoch 2/5\n",
    "375/375 - 256s - loss: 0.5948 - accuracy: 0.7591 - val_loss: 0.5780 - val_accuracy: 0.7612\n",
    "- Epoch 3/5\n",
    "375/375 - 256s - loss: 0.5337 - accuracy: 0.7834 - val_loss: 0.6188 - val_accuracy: 0.7583\n",
    "- Epoch 4/5\n",
    "375/375 - 256s - loss: 0.4951 - accuracy: 0.7986 - val_loss: 0.3815 - val_accuracy: 0.8415\n",
    "- Epoch 5/5\n",
    "375/375 - 256s - loss: 0.4789 - accuracy: 0.8052 - val_loss: 0.4912 - val_accuracy: 0.7988\n",
    "\n",
    "\n",
    "- 188/188 [==============================] - 8s 43ms/step - loss: 0.4644 - accuracy: 0.8085\n",
    "Loss: 0.4644\n",
    "Accuracy: 0.8085\n",
    "\n",
    "======================================\n",
    "\n",
    "3. **SGD ( Learning rate : 0.01 ) :**\n",
    "\n",
    "- Epoch 1/5\n",
    "375/375 - 232s - loss: 1.6960 - accuracy: 0.4583 - val_loss: 3.2621 - val_accuracy: 0.2008\n",
    "- Epoch 2/5\n",
    "375/375 - 232s - loss: 1.3080 - accuracy: 0.5543 - val_loss: 0.8120 - val_accuracy: 0.6838\n",
    "- Epoch 3/5\n",
    "375/375 - 234s - loss: 1.1773 - accuracy: 0.5765 - val_loss: 0.7603 - val_accuracy: 0.6918\n",
    "- Epoch 4/5\n",
    "375/375 - 227s - loss: 1.0984 - accuracy: 0.5939 - val_loss: 0.7157 - val_accuracy: 0.7072\n",
    "- Epoch 5/5\n",
    "375/375 - 227s - loss: 1.0482 - accuracy: 0.6044 - val_loss: 0.6966 - val_accuracy: 0.7113\n",
    "\n",
    "- 188/188 [==============================] - 7s 37ms/step - loss: 0.6966 - accuracy: 0.7113\n",
    "Loss: 0.6966\n",
    "Accuracy: 0.7113\n",
    "\n",
    "\n",
    "4. **RMSProp ( Learning rate : 0.01 ) :**\n",
    "\n",
    "- Epoch 1/5\n",
    "375/375 - 278s - loss: 0.8272 - accuracy: 0.6795 - val_loss: 1.2462 - val_accuracy: 0.4917\n",
    "- Epoch 2/5\n",
    "375/375 - 268s - loss: 0.5720 - accuracy: 0.7679 - val_loss: 0.4691 - val_accuracy: 0.8070\n",
    "- Epoch 3/5\n",
    "375/375 - 266s - loss: 0.5047 - accuracy: 0.7982 - val_loss: 0.4190 - val_accuracy: 0.8362\n",
    "- Epoch 4/5\n",
    "375/375 - 269s - loss: 0.4752 - accuracy: 0.8092 - val_loss: 0.4911 - val_accuracy: 0.8118\n",
    "- Epoch 5/5\n",
    "375/375 - 271s - loss: 0.4527 - accuracy: 0.8188 - val_loss: 0.5517 - val_accuracy: 0.7843\n",
    "\n",
    "- 188/188 [==============================] - 8s 44ms/step - loss: 0.5517 - accuracy: 0.7843\n",
    "Loss: 0.5517\n",
    "Accuracy: 0.7843\n",
    "\n",
    "\n",
    "5. **Adadelta ( Learning rate : 0.01 ) :**\n",
    "\n",
    "- Epoch 1/5\n",
    "375/375 - 265s - loss: 2.2840 - accuracy: 0.2971 - val_loss: 2.6322 - val_accuracy: 0.2008\n",
    "- Epoch 2/5\n",
    "375/375 - 261s - loss: 1.9450 - accuracy: 0.3816 - val_loss: 1.2628 - val_accuracy: 0.5022\n",
    "- Epoch 3/5\n",
    "375/375 - 261s - loss: 1.7921 - accuracy: 0.4280 - val_loss: 1.0999 - val_accuracy: 0.5840\n",
    "- Epoch 4/5\n",
    "375/375 - 260s - loss: 1.7350 - accuracy: 0.4508 - val_loss: 1.0728 - val_accuracy: 0.5983\n",
    "- Epoch 5/5\n",
    "375/375 - 255s - loss: 1.6791 - accuracy: 0.4668 - val_loss: 1.0540 - val_accuracy: 0.6050\n",
    "\n",
    "- 188/188 [==============================] - 8s 43ms/step - loss: 1.0540 - accuracy: 0.6050\n",
    "Loss: 1.0540\n",
    "Accuracy: 0.6050\n",
    "\n",
    "**Note:** \n",
    "We restart session on each optimizer testing so that model not learn again on last session."
   ]
  },
  {
   "cell_type": "markdown",
   "id": "closing-number",
   "metadata": {
    "papermill": {
     "duration": 0.060534,
     "end_time": "2021-04-25T14:14:30.973260",
     "exception": false,
     "start_time": "2021-04-25T14:14:30.912726",
     "status": "completed"
    },
    "tags": []
   },
   "source": [
    " ### Analysis of optimizers :\n",
    "\n",
    "- From above result we can see that 'adam' optimizer achieve highest accuracy so for each CNN in this data we are going to use adam optimizer.\n",
    "\n",
    "**Parameters for Adam optimizer:**\n",
    "\n",
    "- learning rate : the learning rate is a configurable hyperparameter used in the training of neural networks. The learning rate controls how quickly the model is adapted to the problem.\n",
    "- beta1 : The exponential decay rate for the first moment estimates (e.g. 0.9).\n",
    "- beta2 : The exponential decay rate for the second-moment estimates (e.g. 0.999).\n",
    "\n",
    "![](http://miro.medium.com/max/660/1*_osB82GKHBOT8k1idLqiqA.gif)"
   ]
  },
  {
   "cell_type": "code",
   "execution_count": 13,
   "id": "enabling-hepatitis",
   "metadata": {
    "execution": {
     "iopub.execute_input": "2021-04-25T14:14:31.101424Z",
     "iopub.status.busy": "2021-04-25T14:14:31.100454Z",
     "iopub.status.idle": "2021-04-25T14:14:31.107327Z",
     "shell.execute_reply": "2021-04-25T14:14:31.106876Z"
    },
    "papermill": {
     "duration": 0.075624,
     "end_time": "2021-04-25T14:14:31.107448",
     "exception": false,
     "start_time": "2021-04-25T14:14:31.031824",
     "status": "completed"
    },
    "tags": []
   },
   "outputs": [],
   "source": [
    "model.compile(optimizer=optimizer, loss=\"categorical_crossentropy\", metrics=[\"accuracy\"])"
   ]
  },
  {
   "cell_type": "code",
   "execution_count": 14,
   "id": "jewish-college",
   "metadata": {
    "execution": {
     "iopub.execute_input": "2021-04-25T14:14:31.237822Z",
     "iopub.status.busy": "2021-04-25T14:14:31.234827Z",
     "iopub.status.idle": "2021-04-25T14:14:31.245076Z",
     "shell.execute_reply": "2021-04-25T14:14:31.244449Z"
    },
    "papermill": {
     "duration": 0.076523,
     "end_time": "2021-04-25T14:14:31.245227",
     "exception": false,
     "start_time": "2021-04-25T14:14:31.168704",
     "status": "completed"
    },
    "tags": []
   },
   "outputs": [
    {
     "name": "stdout",
     "output_type": "stream",
     "text": [
      "Model: \"sequential\"\n",
      "_________________________________________________________________\n",
      "Layer (type)                 Output Shape              Param #   \n",
      "=================================================================\n",
      "conv2d (Conv2D)              (None, 28, 28, 32)        320       \n",
      "_________________________________________________________________\n",
      "batch_normalization (BatchNo (None, 28, 28, 32)        128       \n",
      "_________________________________________________________________\n",
      "conv2d_1 (Conv2D)            (None, 28, 28, 32)        9248      \n",
      "_________________________________________________________________\n",
      "batch_normalization_1 (Batch (None, 28, 28, 32)        128       \n",
      "_________________________________________________________________\n",
      "dropout (Dropout)            (None, 28, 28, 32)        0         \n",
      "_________________________________________________________________\n",
      "conv2d_2 (Conv2D)            (None, 28, 28, 64)        18496     \n",
      "_________________________________________________________________\n",
      "max_pooling2d (MaxPooling2D) (None, 14, 14, 64)        0         \n",
      "_________________________________________________________________\n",
      "dropout_1 (Dropout)          (None, 14, 14, 64)        0         \n",
      "_________________________________________________________________\n",
      "conv2d_3 (Conv2D)            (None, 14, 14, 128)       73856     \n",
      "_________________________________________________________________\n",
      "batch_normalization_2 (Batch (None, 14, 14, 128)       512       \n",
      "_________________________________________________________________\n",
      "dropout_2 (Dropout)          (None, 14, 14, 128)       0         \n",
      "_________________________________________________________________\n",
      "flatten (Flatten)            (None, 25088)             0         \n",
      "_________________________________________________________________\n",
      "dense (Dense)                (None, 512)               12845568  \n",
      "_________________________________________________________________\n",
      "batch_normalization_3 (Batch (None, 512)               2048      \n",
      "_________________________________________________________________\n",
      "dropout_3 (Dropout)          (None, 512)               0         \n",
      "_________________________________________________________________\n",
      "dense_1 (Dense)              (None, 128)               65664     \n",
      "_________________________________________________________________\n",
      "batch_normalization_4 (Batch (None, 128)               512       \n",
      "_________________________________________________________________\n",
      "dropout_4 (Dropout)          (None, 128)               0         \n",
      "_________________________________________________________________\n",
      "dense_2 (Dense)              (None, 5)                 645       \n",
      "=================================================================\n",
      "Total params: 13,017,125\n",
      "Trainable params: 13,015,461\n",
      "Non-trainable params: 1,664\n",
      "_________________________________________________________________\n"
     ]
    }
   ],
   "source": [
    "model.summary()"
   ]
  },
  {
   "cell_type": "markdown",
   "id": "impressive-jacob",
   "metadata": {
    "papermill": {
     "duration": 0.056908,
     "end_time": "2021-04-25T14:14:31.360209",
     "exception": false,
     "start_time": "2021-04-25T14:14:31.303301",
     "status": "completed"
    },
    "tags": []
   },
   "source": [
    "### Comparision of LearningRateScheduler and ReduceLROnPlateau :\n",
    "\n",
    "**LearningRateScheduler :**\n",
    "- We should tuned our learning so that it is not too high to take very large steps, neither it should be too small which not change weights and bias of the model.\n",
    "- We use LearningRateScheduler here, which takes the step decay function as argument and return the updated learning rates for use in optimzer at every epoch stage.So at every epoch learning rate will be change by LearningRateScheduler.\n",
    "- LearningRateScheduler callback that allows us to specify a function that is called each epoch in order to adjust the learning rate.\n",
    "\n",
    "**ReduceLROnPlateau :**\n",
    "- As an alternate solution of LearningRateScheduler we can also use ReduceLROnPlateau.\n",
    "- The ReduceLROnPlateau that will adjust the learning rate when a plateau in model performance is detected.\n",
    "- This callback is designed to reduce the learning rate after the model stops improving with the hope of fine-tuning model weights.\n",
    "- ReduceLROnPlateau works like EarlyStopping, with three parameters: monitor, patience and mode.\n",
    "\n",
    "**We test both approach on model1 using train data, below is result :**\n",
    "\n",
    "#### LearningRateScheduler result :\n",
    "\n",
    "Epoch 1/10\n",
    "375/375 - 22s - loss: 0.8385 - accuracy: 0.6747 - val_loss: 2.2334 - val_accuracy: 0.3228\n",
    "\n",
    "Epoch 2/10\n",
    "375/375 - 16s - loss: 0.5952 - accuracy: 0.7586 - val_loss: 0.4966 - val_accuracy: 0.7923\n",
    "\n",
    "Epoch 3/10\n",
    "375/375 - 17s - loss: 0.5389 - accuracy: 0.7831 - val_loss: 0.3984 - val_accuracy: 0.8392\n",
    "\n",
    "Epoch 4/10\n",
    "375/375 - 16s - loss: 0.5076 - accuracy: 0.7933 - val_loss: 0.3561 - val_accuracy: 0.8537\n",
    "\n",
    "Epoch 5/10\n",
    "375/375 - 17s - loss: 0.4805 - accuracy: 0.8073 - val_loss: 0.4016 - val_accuracy: 0.8385\n",
    "\n",
    "Epoch 6/10\n",
    "375/375 - 16s - loss: 0.4586 - accuracy: 0.8132 - val_loss: 0.3974 - val_accuracy: 0.8353\n",
    "\n",
    "Epoch 7/10\n",
    "375/375 - 17s - loss: 0.4435 - accuracy: 0.8237 - val_loss: 0.3501 - val_accuracy: 0.8588\n",
    "\n",
    "Epoch 8/10\n",
    "375/375 - 16s - loss: 0.4259 - accuracy: 0.8298 - val_loss: 0.3469 - val_accuracy: 0.8550\n",
    "\n",
    "Epoch 9/10\n",
    "375/375 - 17s - loss: 0.4135 - accuracy: 0.8346 - val_loss: 0.5395 - val_accuracy: 0.7760\n",
    "\n",
    "Epoch 10/10\n",
    "375/375 - 16s - loss: 0.4111 - accuracy: 0.8370 - val_loss: 0.3105 - val_accuracy: **0.8717**\n",
    "\n",
    "#### ReduceLROnPlateau result :\n",
    "\n",
    "Epoch 1/10\n",
    "375/375 - 19s - loss: 0.7770 - accuracy: 0.6837 - val_loss: 1.3474 - val_accuracy: 0.5248\n",
    "\n",
    "Epoch 2/10\n",
    "375/375 - 14s - loss: 0.6540 - accuracy: 0.7333 - val_loss: 0.6390 - val_accuracy: 0.7378\n",
    "\n",
    "Epoch 3/10\n",
    "375/375 - 14s - loss: 0.5939 - accuracy: 0.7584 - val_loss: 2.8995 - val_accuracy: 0.5407\n",
    "\n",
    "Epoch 4/10\n",
    "375/375 - 14s - loss: 0.5605 - accuracy: 0.7715 - val_loss: 0.3914 - val_accuracy: 0.8387\n",
    "\n",
    "Epoch 5/10\n",
    "375/375 - 14s - loss: 0.5332 - accuracy: 0.7827 - val_loss: 4.3203 - val_accuracy: 0.3747\n",
    "\n",
    "Epoch 6/10\n",
    "375/375 - 14s - loss: 0.5202 - accuracy: 0.7917 - val_loss: 0.5354 - val_accuracy: 0.8003\n",
    "\n",
    "Epoch 7/10\n",
    "375/375 - 13s - loss: 0.4950 - accuracy: 0.7994 - val_loss: 0.5384 - val_accuracy: 0.7745\n",
    "\n",
    "Epoch 8/10\n",
    "375/375 - 15s - loss: 0.4846 - accuracy: 0.8050 - val_loss: 0.6269 - val_accuracy: 0.7897\n",
    "\n",
    "Epoch 9/10\n",
    "375/375 - 14s - loss: 0.4729 - accuracy: 0.8099 - val_loss: 0.4836 - val_accuracy: 0.8022\n",
    "\n",
    "Epoch 10/10\n",
    "375/375 - 14s - loss: 0.4363 - accuracy: 0.8248 - val_loss: 0.3205 - val_accuracy: **0.8705**\n",
    "\n",
    "\n",
    "**Note :**\n",
    "We restart a session on each testing for Learning rate decay."
   ]
  },
  {
   "cell_type": "markdown",
   "id": "failing-bridal",
   "metadata": {
    "papermill": {
     "duration": 0.061123,
     "end_time": "2021-04-25T14:14:31.480704",
     "exception": false,
     "start_time": "2021-04-25T14:14:31.419581",
     "status": "completed"
    },
    "tags": []
   },
   "source": [
    "#### Analysis of LearningRateSchedular and ReduceLROnPlateau :\n",
    "\n",
    "- From above result it can be seen that both works pretty same in terms of accuracy and loss but in ReduceLROnPlateau accuracy fluctuate more so we are going to use LearningRateSchedular on this model."
   ]
  },
  {
   "cell_type": "code",
   "execution_count": 15,
   "id": "excited-registrar",
   "metadata": {
    "execution": {
     "iopub.execute_input": "2021-04-25T14:14:31.610243Z",
     "iopub.status.busy": "2021-04-25T14:14:31.609441Z",
     "iopub.status.idle": "2021-04-25T14:14:31.612267Z",
     "shell.execute_reply": "2021-04-25T14:14:31.612693Z"
    },
    "papermill": {
     "duration": 0.069735,
     "end_time": "2021-04-25T14:14:31.612841",
     "exception": false,
     "start_time": "2021-04-25T14:14:31.543106",
     "status": "completed"
    },
    "tags": []
   },
   "outputs": [],
   "source": [
    "reduce_lr = LearningRateScheduler(lambda x: 1e-3 * 0.9 ** x)"
   ]
  },
  {
   "cell_type": "markdown",
   "id": "corrected-front",
   "metadata": {
    "papermill": {
     "duration": 0.061208,
     "end_time": "2021-04-25T14:14:31.734459",
     "exception": false,
     "start_time": "2021-04-25T14:14:31.673251",
     "status": "completed"
    },
    "tags": []
   },
   "source": []
  },
  {
   "cell_type": "code",
   "execution_count": 16,
   "id": "approximate-count",
   "metadata": {
    "execution": {
     "iopub.execute_input": "2021-04-25T14:14:31.861010Z",
     "iopub.status.busy": "2021-04-25T14:14:31.860099Z",
     "iopub.status.idle": "2021-04-25T14:14:31.863784Z",
     "shell.execute_reply": "2021-04-25T14:14:31.864417Z"
    },
    "papermill": {
     "duration": 0.069613,
     "end_time": "2021-04-25T14:14:31.864581",
     "exception": false,
     "start_time": "2021-04-25T14:14:31.794968",
     "status": "completed"
    },
    "tags": []
   },
   "outputs": [],
   "source": [
    "#Learning Rate Annealer\n",
    "lrr= ReduceLROnPlateau(monitor='val_accuracy', factor=.01,  patience=3, min_lr=1e-5) \n",
    "\n",
    "\n",
    "lr_reducer = ReduceLROnPlateau(factor=np.sqrt(0.1),\n",
    "                               cooldown=0,\n",
    "                               patience=5,\n",
    "                               min_lr=0.5e-6)"
   ]
  },
  {
   "cell_type": "markdown",
   "id": "intended-account",
   "metadata": {
    "papermill": {
     "duration": 0.061458,
     "end_time": "2021-04-25T14:14:31.988551",
     "exception": false,
     "start_time": "2021-04-25T14:14:31.927093",
     "status": "completed"
    },
    "tags": []
   },
   "source": [
    "#### Data Augmentation :\n",
    "\n",
    "- Data Augmentation is like adding a data and/or noise to a dataset, so that model can perform well in various patterns.\n",
    "- For example, what if our images will have object at some angle ? In that case mostly our model will fail to predict right label.\n",
    "- So using data augmentation our model will build with different variations so that model performance on variety of input will remain same."
   ]
  },
  {
   "cell_type": "code",
   "execution_count": 17,
   "id": "republican-playlist",
   "metadata": {
    "execution": {
     "iopub.execute_input": "2021-04-25T14:14:32.125903Z",
     "iopub.status.busy": "2021-04-25T14:14:32.124995Z",
     "iopub.status.idle": "2021-04-25T14:14:32.128143Z",
     "shell.execute_reply": "2021-04-25T14:14:32.127653Z"
    },
    "papermill": {
     "duration": 0.079573,
     "end_time": "2021-04-25T14:14:32.128260",
     "exception": false,
     "start_time": "2021-04-25T14:14:32.048687",
     "status": "completed"
    },
    "tags": []
   },
   "outputs": [],
   "source": [
    "datagen = ImageDataGenerator(\n",
    "        rotation_range = 8,  # randomly rotate images in the range (degrees, 0 to 180)\n",
    "        zoom_range = 0.1, # Randomly zoom image \n",
    "        shear_range = 0.3,# shear angle in counter-clockwise direction in degrees  \n",
    "        width_shift_range=0.08,  # randomly shift images horizontally (fraction of total width)\n",
    "        height_shift_range=0.08,  # randomly shift images vertically (fraction of total height)\n",
    "        vertical_flip=True)"
   ]
  },
  {
   "cell_type": "code",
   "execution_count": 18,
   "id": "chinese-reception",
   "metadata": {
    "execution": {
     "iopub.execute_input": "2021-04-25T14:14:32.254135Z",
     "iopub.status.busy": "2021-04-25T14:14:32.253037Z",
     "iopub.status.idle": "2021-04-25T14:14:32.372396Z",
     "shell.execute_reply": "2021-04-25T14:14:32.371854Z"
    },
    "papermill": {
     "duration": 0.182989,
     "end_time": "2021-04-25T14:14:32.372541",
     "exception": false,
     "start_time": "2021-04-25T14:14:32.189552",
     "status": "completed"
    },
    "tags": []
   },
   "outputs": [],
   "source": [
    "datagen.fit(x_train)"
   ]
  },
  {
   "cell_type": "markdown",
   "id": "worse-challenge",
   "metadata": {
    "papermill": {
     "duration": 0.060357,
     "end_time": "2021-04-25T14:14:32.493849",
     "exception": false,
     "start_time": "2021-04-25T14:14:32.433492",
     "status": "completed"
    },
    "tags": []
   },
   "source": [
    "#### Model fitting :\n",
    "- batch size : The batch size is a hyperparameter that defines the number of samples to work through before updating the internal model parameters.\n",
    "- epochs : The number of epochs is a hyperparameter that defines the number times that the learning algorithm will work through the entire training dataset."
   ]
  },
  {
   "cell_type": "code",
   "execution_count": 19,
   "id": "former-thesis",
   "metadata": {
    "execution": {
     "iopub.execute_input": "2021-04-25T14:14:32.618556Z",
     "iopub.status.busy": "2021-04-25T14:14:32.616814Z",
     "iopub.status.idle": "2021-04-25T14:14:32.619223Z",
     "shell.execute_reply": "2021-04-25T14:14:32.619690Z"
    },
    "papermill": {
     "duration": 0.065797,
     "end_time": "2021-04-25T14:14:32.619835",
     "exception": false,
     "start_time": "2021-04-25T14:14:32.554038",
     "status": "completed"
    },
    "tags": []
   },
   "outputs": [],
   "source": [
    "batch_size = 128\n",
    "epochs = 25"
   ]
  },
  {
   "cell_type": "code",
   "execution_count": 20,
   "id": "intelligent-transportation",
   "metadata": {
    "execution": {
     "iopub.execute_input": "2021-04-25T14:14:32.749740Z",
     "iopub.status.busy": "2021-04-25T14:14:32.748660Z",
     "iopub.status.idle": "2021-04-25T14:21:16.069406Z",
     "shell.execute_reply": "2021-04-25T14:21:16.068690Z"
    },
    "papermill": {
     "duration": 403.387267,
     "end_time": "2021-04-25T14:21:16.069575",
     "exception": false,
     "start_time": "2021-04-25T14:14:32.682308",
     "status": "completed"
    },
    "tags": []
   },
   "outputs": [
    {
     "name": "stdout",
     "output_type": "stream",
     "text": [
      "Epoch 1/25\n",
      "375/375 - 21s - loss: 0.8174 - accuracy: 0.6812 - val_loss: 1.4310 - val_accuracy: 0.3890\n",
      "Epoch 2/25\n",
      "375/375 - 17s - loss: 0.5886 - accuracy: 0.7617 - val_loss: 0.4809 - val_accuracy: 0.7988\n",
      "Epoch 3/25\n",
      "375/375 - 16s - loss: 0.5306 - accuracy: 0.7863 - val_loss: 0.5203 - val_accuracy: 0.7840\n",
      "Epoch 4/25\n",
      "375/375 - 17s - loss: 0.5002 - accuracy: 0.7967 - val_loss: 0.6418 - val_accuracy: 0.7638\n",
      "Epoch 5/25\n",
      "375/375 - 16s - loss: 0.4767 - accuracy: 0.8065 - val_loss: 0.3829 - val_accuracy: 0.8400\n",
      "Epoch 6/25\n",
      "375/375 - 16s - loss: 0.4544 - accuracy: 0.8167 - val_loss: 0.3477 - val_accuracy: 0.8613\n",
      "Epoch 7/25\n",
      "375/375 - 15s - loss: 0.4434 - accuracy: 0.8235 - val_loss: 0.3579 - val_accuracy: 0.8470\n",
      "Epoch 8/25\n",
      "375/375 - 16s - loss: 0.4309 - accuracy: 0.8288 - val_loss: 0.3356 - val_accuracy: 0.8640\n",
      "Epoch 9/25\n",
      "375/375 - 16s - loss: 0.4189 - accuracy: 0.8325 - val_loss: 0.3361 - val_accuracy: 0.8632\n",
      "Epoch 10/25\n",
      "375/375 - 16s - loss: 0.4081 - accuracy: 0.8375 - val_loss: 0.3611 - val_accuracy: 0.8492\n",
      "Epoch 11/25\n",
      "375/375 - 16s - loss: 0.4022 - accuracy: 0.8412 - val_loss: 0.5019 - val_accuracy: 0.7995\n",
      "Epoch 12/25\n",
      "375/375 - 16s - loss: 0.3919 - accuracy: 0.8443 - val_loss: 0.3263 - val_accuracy: 0.8632\n",
      "Epoch 13/25\n",
      "375/375 - 16s - loss: 0.3874 - accuracy: 0.8459 - val_loss: 0.3056 - val_accuracy: 0.8722\n",
      "Epoch 14/25\n",
      "375/375 - 17s - loss: 0.3812 - accuracy: 0.8479 - val_loss: 0.3062 - val_accuracy: 0.8727\n",
      "Epoch 15/25\n",
      "375/375 - 16s - loss: 0.3767 - accuracy: 0.8518 - val_loss: 0.3809 - val_accuracy: 0.8375\n",
      "Epoch 16/25\n",
      "375/375 - 16s - loss: 0.3707 - accuracy: 0.8504 - val_loss: 0.3551 - val_accuracy: 0.8477\n",
      "Epoch 17/25\n",
      "375/375 - 15s - loss: 0.3648 - accuracy: 0.8555 - val_loss: 0.3370 - val_accuracy: 0.8567\n",
      "Epoch 18/25\n",
      "375/375 - 15s - loss: 0.3602 - accuracy: 0.8571 - val_loss: 0.3126 - val_accuracy: 0.8730\n",
      "Epoch 19/25\n",
      "375/375 - 17s - loss: 0.3532 - accuracy: 0.8616 - val_loss: 0.3627 - val_accuracy: 0.8478\n",
      "Epoch 20/25\n",
      "375/375 - 15s - loss: 0.3537 - accuracy: 0.8615 - val_loss: 0.3348 - val_accuracy: 0.8605\n",
      "Epoch 21/25\n",
      "375/375 - 15s - loss: 0.3478 - accuracy: 0.8630 - val_loss: 0.3414 - val_accuracy: 0.8570\n",
      "Epoch 22/25\n",
      "375/375 - 15s - loss: 0.3470 - accuracy: 0.8624 - val_loss: 0.3961 - val_accuracy: 0.8330\n",
      "Epoch 23/25\n",
      "375/375 - 15s - loss: 0.3465 - accuracy: 0.8626 - val_loss: 0.4215 - val_accuracy: 0.8218\n",
      "Epoch 24/25\n",
      "375/375 - 15s - loss: 0.3406 - accuracy: 0.8646 - val_loss: 0.3983 - val_accuracy: 0.8342\n",
      "Epoch 25/25\n",
      "375/375 - 16s - loss: 0.3368 - accuracy: 0.8658 - val_loss: 0.3320 - val_accuracy: 0.8600\n",
      "---Total time in Model 1 : 403.25328826904297 seconds ---\n"
     ]
    }
   ],
   "source": [
    "start_time = time.time() \n",
    "history = model.fit(datagen.flow(x_train, y_train, batch_size = batch_size), epochs = epochs, \n",
    "                              validation_data = (x_val, y_val), verbose=2, \n",
    "                              steps_per_epoch=x_train.shape[0] // batch_size,\n",
    "                              callbacks = [reduce_lr])\n",
    "\n",
    "print(\"---Total time in Model 1 : %s seconds ---\" % (time.time() - start_time))"
   ]
  },
  {
   "cell_type": "markdown",
   "id": "legendary-christianity",
   "metadata": {
    "papermill": {
     "duration": 0.070153,
     "end_time": "2021-04-25T14:21:16.209710",
     "exception": false,
     "start_time": "2021-04-25T14:21:16.139557",
     "status": "completed"
    },
    "tags": []
   },
   "source": [
    "#### Model 1 Evaluation "
   ]
  },
  {
   "cell_type": "code",
   "execution_count": 21,
   "id": "designing-interface",
   "metadata": {
    "execution": {
     "iopub.execute_input": "2021-04-25T14:21:16.353820Z",
     "iopub.status.busy": "2021-04-25T14:21:16.352703Z",
     "iopub.status.idle": "2021-04-25T14:21:16.946908Z",
     "shell.execute_reply": "2021-04-25T14:21:16.946472Z"
    },
    "papermill": {
     "duration": 0.668904,
     "end_time": "2021-04-25T14:21:16.947053",
     "exception": false,
     "start_time": "2021-04-25T14:21:16.278149",
     "status": "completed"
    },
    "tags": []
   },
   "outputs": [
    {
     "name": "stdout",
     "output_type": "stream",
     "text": [
      "188/188 [==============================] - 1s 3ms/step - loss: 0.3320 - accuracy: 0.8600\n",
      "Loss: 0.3320\n",
      "Accuracy: 0.8600\n",
      "--- 0.5913808345794678 seconds ---\n"
     ]
    }
   ],
   "source": [
    "start_time = time.time() \n",
    "score = model.evaluate(x_val, y_val)\n",
    "print('Loss: {:.4f}'.format(score[0]))\n",
    "print('Accuracy: {:.4f}'.format(score[1]))\n",
    "print(\"--- %s seconds ---\" % (time.time() - start_time))"
   ]
  },
  {
   "cell_type": "markdown",
   "id": "blond-concern",
   "metadata": {
    "papermill": {
     "duration": 0.07196,
     "end_time": "2021-04-25T14:21:17.093297",
     "exception": false,
     "start_time": "2021-04-25T14:21:17.021337",
     "status": "completed"
    },
    "tags": []
   },
   "source": [
    "#### Model 1 loss vs no. of epochs"
   ]
  },
  {
   "cell_type": "code",
   "execution_count": 22,
   "id": "canadian-chassis",
   "metadata": {
    "execution": {
     "iopub.execute_input": "2021-04-25T14:21:17.293698Z",
     "iopub.status.busy": "2021-04-25T14:21:17.293030Z",
     "iopub.status.idle": "2021-04-25T14:21:17.421248Z",
     "shell.execute_reply": "2021-04-25T14:21:17.421715Z"
    },
    "papermill": {
     "duration": 0.256558,
     "end_time": "2021-04-25T14:21:17.421852",
     "exception": false,
     "start_time": "2021-04-25T14:21:17.165294",
     "status": "completed"
    },
    "tags": []
   },
   "outputs": [
    {
     "data": {
      "image/png": "[encoded data removed]",
      "text/plain": [
       "<Figure size 432x288 with 1 Axes>"
      ]
     },
     "metadata": {
      "needs_background": "light"
     },
     "output_type": "display_data"
    },
    {
     "name": "stdout",
     "output_type": "stream",
     "text": [
      "--- 0.17384552955627441 seconds ---\n"
     ]
    }
   ],
   "source": [
    "start_time = time.time() \n",
    "plt.plot(history.history['loss'])\n",
    "plt.plot(history.history['val_loss'])\n",
    "plt.title(\"Model Loss\")\n",
    "plt.xlabel('Epochs')\n",
    "plt.ylabel('Loss')\n",
    "plt.legend(['Train', 'Validation'])\n",
    "plt.show()\n",
    "print(\"--- %s seconds ---\" % (time.time() - start_time))"
   ]
  },
  {
   "cell_type": "markdown",
   "id": "friendly-milwaukee",
   "metadata": {
    "papermill": {
     "duration": 0.075452,
     "end_time": "2021-04-25T14:21:17.570993",
     "exception": false,
     "start_time": "2021-04-25T14:21:17.495541",
     "status": "completed"
    },
    "tags": []
   },
   "source": [
    "#### Model 1 accuracy vs no. of epochs"
   ]
  },
  {
   "cell_type": "code",
   "execution_count": 23,
   "id": "palestinian-socket",
   "metadata": {
    "execution": {
     "iopub.execute_input": "2021-04-25T14:21:17.736309Z",
     "iopub.status.busy": "2021-04-25T14:21:17.735320Z",
     "iopub.status.idle": "2021-04-25T14:21:17.864870Z",
     "shell.execute_reply": "2021-04-25T14:21:17.864254Z"
    },
    "papermill": {
     "duration": 0.220547,
     "end_time": "2021-04-25T14:21:17.865037",
     "exception": false,
     "start_time": "2021-04-25T14:21:17.644490",
     "status": "completed"
    },
    "tags": []
   },
   "outputs": [
    {
     "data": {
      "image/png": "[encoded data removed]",
      "text/plain": [
       "<Figure size 432x288 with 1 Axes>"
      ]
     },
     "metadata": {
      "needs_background": "light"
     },
     "output_type": "display_data"
    },
    {
     "name": "stdout",
     "output_type": "stream",
     "text": [
      "--- 0.1372518539428711 seconds ---\n"
     ]
    }
   ],
   "source": [
    "start_time = time.time()\n",
    "plt.plot(history.history['accuracy'])\n",
    "plt.plot(history.history['val_accuracy'])\n",
    "plt.title(\"Model Accuracy\")\n",
    "plt.xlabel('Epochs')\n",
    "plt.ylabel('Accuracy')\n",
    "plt.legend(['Train', 'Validation'])\n",
    "plt.show()\n",
    "print(\"--- %s seconds ---\" % (time.time() - start_time))"
   ]
  },
  {
   "cell_type": "markdown",
   "id": "powered-warren",
   "metadata": {
    "papermill": {
     "duration": 0.075881,
     "end_time": "2021-04-25T14:21:18.017407",
     "exception": false,
     "start_time": "2021-04-25T14:21:17.941526",
     "status": "completed"
    },
    "tags": []
   },
   "source": [
    "### 6.4.1 Same model with different Activation functions :\n",
    "\n",
    "i) \"Sigmoid\"\n",
    "\n",
    "ii) \"tanh\""
   ]
  },
  {
   "cell_type": "markdown",
   "id": "important-advisory",
   "metadata": {
    "papermill": {
     "duration": 0.077396,
     "end_time": "2021-04-25T14:21:18.172052",
     "exception": false,
     "start_time": "2021-04-25T14:21:18.094656",
     "status": "completed"
    },
    "tags": []
   },
   "source": [
    "### Sigmoid Model :"
   ]
  },
  {
   "cell_type": "code",
   "execution_count": 24,
   "id": "geological-firewall",
   "metadata": {
    "execution": {
     "iopub.execute_input": "2021-04-25T14:21:18.335575Z",
     "iopub.status.busy": "2021-04-25T14:21:18.331160Z",
     "iopub.status.idle": "2021-04-25T14:21:18.464845Z",
     "shell.execute_reply": "2021-04-25T14:21:18.464373Z"
    },
    "papermill": {
     "duration": 0.217425,
     "end_time": "2021-04-25T14:21:18.464990",
     "exception": false,
     "start_time": "2021-04-25T14:21:18.247565",
     "status": "completed"
    },
    "tags": []
   },
   "outputs": [],
   "source": [
    "model_sig = Sequential()\n",
    "model_sig.add(Conv2D(filters=32, kernel_size=(3, 3), activation='sigmoid', strides=1, padding='same', \n",
    "                 data_format='channels_last', input_shape=(28,28,1)))\n",
    "model_sig.add(BatchNormalization())\n",
    "\n",
    "model_sig.add(Conv2D(filters=32, kernel_size=(3, 3), activation='sigmoid', strides=1, padding='same', \n",
    "                 data_format='channels_last'))\n",
    "model_sig.add(BatchNormalization())\n",
    "model_sig.add(Dropout(0.25))\n",
    "\n",
    "model_sig.add(Conv2D(filters=64, kernel_size=(3, 3), activation='sigmoid', strides=1, padding='same', \n",
    "                 data_format='channels_last'))\n",
    "model_sig.add(MaxPooling2D(pool_size=(2, 2)))\n",
    "model_sig.add(Dropout(0.25))\n",
    "    \n",
    "    \n",
    "model_sig.add(Conv2D(filters=128, kernel_size=(3, 3), activation='sigmoid', strides=1, padding='same', \n",
    "                 data_format='channels_last'))\n",
    "model_sig.add(BatchNormalization())\n",
    "model_sig.add(Dropout(0.25))\n",
    "\n",
    "model_sig.add(Flatten())\n",
    "model_sig.add(Dense(512, activation='sigmoid'))\n",
    "model_sig.add(BatchNormalization())\n",
    "model_sig.add(Dropout(0.5))\n",
    "model_sig.add(Dense(128, activation='sigmoid'))\n",
    "model_sig.add(BatchNormalization())\n",
    "model_sig.add(Dropout(0.5))\n",
    "model_sig.add(Dense(5, activation='softmax'))\n",
    "model_sig.compile(optimizer=optimizer, loss=\"categorical_crossentropy\", metrics=[\"accuracy\"])"
   ]
  },
  {
   "cell_type": "code",
   "execution_count": 25,
   "id": "historical-action",
   "metadata": {
    "execution": {
     "iopub.execute_input": "2021-04-25T14:21:18.622658Z",
     "iopub.status.busy": "2021-04-25T14:21:18.621598Z",
     "iopub.status.idle": "2021-04-25T14:27:45.422000Z",
     "shell.execute_reply": "2021-04-25T14:27:45.421437Z"
    },
    "papermill": {
     "duration": 386.882329,
     "end_time": "2021-04-25T14:27:45.422126",
     "exception": false,
     "start_time": "2021-04-25T14:21:18.539797",
     "status": "completed"
    },
    "tags": []
   },
   "outputs": [
    {
     "name": "stdout",
     "output_type": "stream",
     "text": [
      "Epoch 1/25\n",
      "375/375 - 17s - loss: 0.9443 - accuracy: 0.6082 - val_loss: 2.2941 - val_accuracy: 0.2952\n",
      "Epoch 2/25\n",
      "375/375 - 16s - loss: 0.7909 - accuracy: 0.6705 - val_loss: 0.7399 - val_accuracy: 0.6860\n",
      "Epoch 3/25\n",
      "375/375 - 15s - loss: 0.7386 - accuracy: 0.6963 - val_loss: 0.7326 - val_accuracy: 0.7068\n",
      "Epoch 4/25\n",
      "375/375 - 16s - loss: 0.7130 - accuracy: 0.7074 - val_loss: 0.5870 - val_accuracy: 0.7622\n",
      "Epoch 5/25\n",
      "375/375 - 15s - loss: 0.6914 - accuracy: 0.7191 - val_loss: 0.5629 - val_accuracy: 0.7735\n",
      "Epoch 6/25\n",
      "375/375 - 15s - loss: 0.6711 - accuracy: 0.7265 - val_loss: 0.8373 - val_accuracy: 0.6285\n",
      "Epoch 7/25\n",
      "375/375 - 15s - loss: 0.6552 - accuracy: 0.7334 - val_loss: 0.7478 - val_accuracy: 0.6812\n",
      "Epoch 8/25\n",
      "375/375 - 15s - loss: 0.6454 - accuracy: 0.7398 - val_loss: 0.5399 - val_accuracy: 0.7773\n",
      "Epoch 9/25\n",
      "375/375 - 15s - loss: 0.6298 - accuracy: 0.7427 - val_loss: 0.6697 - val_accuracy: 0.7145\n",
      "Epoch 10/25\n",
      "375/375 - 16s - loss: 0.6237 - accuracy: 0.7470 - val_loss: 0.4623 - val_accuracy: 0.8118\n",
      "Epoch 11/25\n",
      "375/375 - 15s - loss: 0.6146 - accuracy: 0.7516 - val_loss: 0.4995 - val_accuracy: 0.7902\n",
      "Epoch 12/25\n",
      "375/375 - 15s - loss: 0.5974 - accuracy: 0.7604 - val_loss: 0.5919 - val_accuracy: 0.7672\n",
      "Epoch 13/25\n",
      "375/375 - 15s - loss: 0.5871 - accuracy: 0.7638 - val_loss: 0.4694 - val_accuracy: 0.8145\n",
      "Epoch 14/25\n",
      "375/375 - 15s - loss: 0.5813 - accuracy: 0.7666 - val_loss: 0.5499 - val_accuracy: 0.7613\n",
      "Epoch 15/25\n",
      "375/375 - 16s - loss: 0.5759 - accuracy: 0.7681 - val_loss: 0.4648 - val_accuracy: 0.8147\n",
      "Epoch 16/25\n",
      "375/375 - 15s - loss: 0.5616 - accuracy: 0.7771 - val_loss: 0.5080 - val_accuracy: 0.8005\n",
      "Epoch 17/25\n",
      "375/375 - 16s - loss: 0.5595 - accuracy: 0.7752 - val_loss: 0.4642 - val_accuracy: 0.8065\n",
      "Epoch 18/25\n",
      "375/375 - 15s - loss: 0.5536 - accuracy: 0.7786 - val_loss: 0.4430 - val_accuracy: 0.8213\n",
      "Epoch 19/25\n",
      "375/375 - 16s - loss: 0.5512 - accuracy: 0.7785 - val_loss: 0.4274 - val_accuracy: 0.8230\n",
      "Epoch 20/25\n",
      "375/375 - 15s - loss: 0.5447 - accuracy: 0.7813 - val_loss: 0.4139 - val_accuracy: 0.8295\n",
      "Epoch 21/25\n",
      "375/375 - 16s - loss: 0.5356 - accuracy: 0.7871 - val_loss: 0.4236 - val_accuracy: 0.8253\n",
      "Epoch 22/25\n",
      "375/375 - 16s - loss: 0.5344 - accuracy: 0.7888 - val_loss: 0.4295 - val_accuracy: 0.8245\n",
      "Epoch 23/25\n",
      "375/375 - 16s - loss: 0.5334 - accuracy: 0.7877 - val_loss: 0.4526 - val_accuracy: 0.8182\n",
      "Epoch 24/25\n",
      "375/375 - 16s - loss: 0.5305 - accuracy: 0.7901 - val_loss: 0.4114 - val_accuracy: 0.8298\n",
      "Epoch 25/25\n",
      "375/375 - 16s - loss: 0.5207 - accuracy: 0.7923 - val_loss: 0.4063 - val_accuracy: 0.8367\n",
      "---Total time in Model 1 : 386.71697974205017 seconds ---\n"
     ]
    }
   ],
   "source": [
    "start_time = time.time() \n",
    "history_sig = model_sig.fit(datagen.flow(x_train, y_train, batch_size = batch_size), epochs = epochs, \n",
    "                              validation_data = (x_val, y_val), verbose=2, \n",
    "                              steps_per_epoch=x_train.shape[0] // batch_size,\n",
    "                              callbacks = [reduce_lr])\n",
    "\n",
    "print(\"---Total time in Model 1 : %s seconds ---\" % (time.time() - start_time))"
   ]
  },
  {
   "cell_type": "markdown",
   "id": "gorgeous-minister",
   "metadata": {
    "papermill": {
     "duration": 0.08924,
     "end_time": "2021-04-25T14:27:45.603358",
     "exception": false,
     "start_time": "2021-04-25T14:27:45.514118",
     "status": "completed"
    },
    "tags": []
   },
   "source": [
    "### tanh model :"
   ]
  },
  {
   "cell_type": "code",
   "execution_count": 26,
   "id": "american-capacity",
   "metadata": {
    "execution": {
     "iopub.execute_input": "2021-04-25T14:27:45.796787Z",
     "iopub.status.busy": "2021-04-25T14:27:45.795898Z",
     "iopub.status.idle": "2021-04-25T14:27:45.926800Z",
     "shell.execute_reply": "2021-04-25T14:27:45.926324Z"
    },
    "papermill": {
     "duration": 0.233169,
     "end_time": "2021-04-25T14:27:45.926930",
     "exception": false,
     "start_time": "2021-04-25T14:27:45.693761",
     "status": "completed"
    },
    "tags": []
   },
   "outputs": [],
   "source": [
    "model_tan = Sequential()\n",
    "model_tan.add(Conv2D(filters=32, kernel_size=(3, 3), activation='tanh', strides=1, padding='same', \n",
    "                 data_format='channels_last', input_shape=(28,28,1)))\n",
    "model_tan.add(BatchNormalization())\n",
    "\n",
    "model_tan.add(Conv2D(filters=32, kernel_size=(3, 3), activation='tanh', strides=1, padding='same', \n",
    "                 data_format='channels_last'))\n",
    "model_tan.add(BatchNormalization())\n",
    "model_tan.add(Dropout(0.25))\n",
    "\n",
    "model_tan.add(Conv2D(filters=64, kernel_size=(3, 3), activation='tanh', strides=1, padding='same', \n",
    "                 data_format='channels_last'))\n",
    "model_tan.add(MaxPooling2D(pool_size=(2, 2)))\n",
    "model_tan.add(Dropout(0.25))\n",
    "    \n",
    "    \n",
    "model_tan.add(Conv2D(filters=128, kernel_size=(3, 3), activation='tanh', strides=1, padding='same', \n",
    "                 data_format='channels_last'))\n",
    "model_tan.add(BatchNormalization())\n",
    "model_tan.add(Dropout(0.25))\n",
    "\n",
    "model_tan.add(Flatten())\n",
    "model_tan.add(Dense(512, activation='tanh'))\n",
    "model_tan.add(BatchNormalization())\n",
    "model_tan.add(Dropout(0.5))\n",
    "model_tan.add(Dense(128, activation='tanh'))\n",
    "model_tan.add(BatchNormalization())\n",
    "model_tan.add(Dropout(0.5))\n",
    "model_tan.add(Dense(5, activation='softmax'))\n",
    "model_tan.compile(optimizer=optimizer, loss=\"categorical_crossentropy\", metrics=[\"accuracy\"])"
   ]
  },
  {
   "cell_type": "markdown",
   "id": "precious-privilege",
   "metadata": {
    "papermill": {
     "duration": 0.09137,
     "end_time": "2021-04-25T14:27:46.112811",
     "exception": false,
     "start_time": "2021-04-25T14:27:46.021441",
     "status": "completed"
    },
    "tags": []
   },
   "source": [
    "### Comparision of losses and Accuracy in different activation functions"
   ]
  },
  {
   "cell_type": "code",
   "execution_count": 27,
   "id": "rolled-marble",
   "metadata": {
    "execution": {
     "iopub.execute_input": "2021-04-25T14:27:46.300348Z",
     "iopub.status.busy": "2021-04-25T14:27:46.299224Z",
     "iopub.status.idle": "2021-04-25T14:34:30.182423Z",
     "shell.execute_reply": "2021-04-25T14:34:30.181926Z"
    },
    "papermill": {
     "duration": 403.979972,
     "end_time": "2021-04-25T14:34:30.182553",
     "exception": false,
     "start_time": "2021-04-25T14:27:46.202581",
     "status": "completed"
    },
    "tags": []
   },
   "outputs": [
    {
     "name": "stdout",
     "output_type": "stream",
     "text": [
      "Epoch 1/25\n",
      "375/375 - 17s - loss: 1.0515 - accuracy: 0.5420 - val_loss: 0.9276 - val_accuracy: 0.5535\n",
      "Epoch 2/25\n",
      "375/375 - 16s - loss: 0.8394 - accuracy: 0.6446 - val_loss: 1.0198 - val_accuracy: 0.5458\n",
      "Epoch 3/25\n",
      "375/375 - 15s - loss: 0.7761 - accuracy: 0.6758 - val_loss: 0.6459 - val_accuracy: 0.7285\n",
      "Epoch 4/25\n",
      "375/375 - 16s - loss: 0.7472 - accuracy: 0.6935 - val_loss: 0.5758 - val_accuracy: 0.7655\n",
      "Epoch 5/25\n",
      "375/375 - 15s - loss: 0.7211 - accuracy: 0.7030 - val_loss: 0.6207 - val_accuracy: 0.7455\n",
      "Epoch 6/25\n",
      "375/375 - 16s - loss: 0.7062 - accuracy: 0.7100 - val_loss: 0.5701 - val_accuracy: 0.7683\n",
      "Epoch 7/25\n",
      "375/375 - 16s - loss: 0.6968 - accuracy: 0.7131 - val_loss: 0.6632 - val_accuracy: 0.7270\n",
      "Epoch 8/25\n",
      "375/375 - 16s - loss: 0.6856 - accuracy: 0.7196 - val_loss: 0.5471 - val_accuracy: 0.7750\n",
      "Epoch 9/25\n",
      "375/375 - 15s - loss: 0.6646 - accuracy: 0.7311 - val_loss: 0.5987 - val_accuracy: 0.7523\n",
      "Epoch 10/25\n",
      "375/375 - 16s - loss: 0.6533 - accuracy: 0.7335 - val_loss: 0.5121 - val_accuracy: 0.7920\n",
      "Epoch 11/25\n",
      "375/375 - 15s - loss: 0.6477 - accuracy: 0.7385 - val_loss: 0.5176 - val_accuracy: 0.7905\n",
      "Epoch 12/25\n",
      "375/375 - 15s - loss: 0.6382 - accuracy: 0.7418 - val_loss: 0.6051 - val_accuracy: 0.7503\n",
      "Epoch 13/25\n",
      "375/375 - 16s - loss: 0.6275 - accuracy: 0.7460 - val_loss: 0.4886 - val_accuracy: 0.8107\n",
      "Epoch 14/25\n",
      "375/375 - 16s - loss: 0.6243 - accuracy: 0.7499 - val_loss: 0.5343 - val_accuracy: 0.7852\n",
      "Epoch 15/25\n",
      "375/375 - 18s - loss: 0.6119 - accuracy: 0.7535 - val_loss: 0.5096 - val_accuracy: 0.7945\n",
      "Epoch 16/25\n",
      "375/375 - 16s - loss: 0.6015 - accuracy: 0.7580 - val_loss: 0.4822 - val_accuracy: 0.8052\n",
      "Epoch 17/25\n",
      "375/375 - 16s - loss: 0.5992 - accuracy: 0.7600 - val_loss: 0.4825 - val_accuracy: 0.8123\n",
      "Epoch 18/25\n",
      "375/375 - 15s - loss: 0.5903 - accuracy: 0.7649 - val_loss: 0.4918 - val_accuracy: 0.8012\n",
      "Epoch 19/25\n",
      "375/375 - 17s - loss: 0.5874 - accuracy: 0.7657 - val_loss: 0.6496 - val_accuracy: 0.7450\n",
      "Epoch 20/25\n",
      "375/375 - 17s - loss: 0.5862 - accuracy: 0.7676 - val_loss: 0.4749 - val_accuracy: 0.8075\n",
      "Epoch 21/25\n",
      "375/375 - 18s - loss: 0.5755 - accuracy: 0.7720 - val_loss: 0.4822 - val_accuracy: 0.8073\n",
      "Epoch 22/25\n",
      "375/375 - 16s - loss: 0.5789 - accuracy: 0.7706 - val_loss: 0.5594 - val_accuracy: 0.7797\n",
      "Epoch 23/25\n",
      "375/375 - 16s - loss: 0.5741 - accuracy: 0.7728 - val_loss: 0.4890 - val_accuracy: 0.8033\n",
      "Epoch 24/25\n",
      "375/375 - 15s - loss: 0.5669 - accuracy: 0.7748 - val_loss: 0.4912 - val_accuracy: 0.8017\n",
      "Epoch 25/25\n",
      "375/375 - 17s - loss: 0.5703 - accuracy: 0.7744 - val_loss: 0.4941 - val_accuracy: 0.8008\n",
      "---Total time in Model 1 : 403.88015270233154 seconds ---\n"
     ]
    }
   ],
   "source": [
    "start_time = time.time() \n",
    "history_tan = model_tan.fit(datagen.flow(x_train, y_train, batch_size = batch_size), epochs = epochs, \n",
    "                              validation_data = (x_val, y_val), verbose=2, \n",
    "                              steps_per_epoch=x_train.shape[0] // batch_size,\n",
    "                              callbacks = [reduce_lr])\n",
    "\n",
    "print(\"---Total time in Model 1 : %s seconds ---\" % (time.time() - start_time))"
   ]
  },
  {
   "cell_type": "code",
   "execution_count": 28,
   "id": "productive-sixth",
   "metadata": {
    "execution": {
     "iopub.execute_input": "2021-04-25T14:34:30.417178Z",
     "iopub.status.busy": "2021-04-25T14:34:30.415806Z",
     "iopub.status.idle": "2021-04-25T14:34:30.596992Z",
     "shell.execute_reply": "2021-04-25T14:34:30.596354Z"
    },
    "papermill": {
     "duration": 0.309356,
     "end_time": "2021-04-25T14:34:30.597145",
     "exception": false,
     "start_time": "2021-04-25T14:34:30.287789",
     "status": "completed"
    },
    "tags": []
   },
   "outputs": [
    {
     "data": {
      "image/png": "[encoded data removed]",
      "text/plain": [
       "<Figure size 432x288 with 1 Axes>"
      ]
     },
     "metadata": {
      "needs_background": "light"
     },
     "output_type": "display_data"
    },
    {
     "name": "stdout",
     "output_type": "stream",
     "text": [
      "--- 404.2924921512604 seconds ---\n"
     ]
    }
   ],
   "source": [
    "plt.plot(history.history['loss'])\n",
    "plt.plot(history.history['val_loss'])\n",
    "plt.plot(history_sig.history['loss'])\n",
    "plt.plot(history_sig.history['val_loss'])\n",
    "plt.plot(history_tan.history['loss'])\n",
    "plt.plot(history_tan.history['val_loss'])\n",
    "plt.title(\"Model Loss\")\n",
    "plt.xlabel('Epochs')\n",
    "plt.ylabel('Loss')\n",
    "plt.legend(['Relu Train', ' Relu Validation', 'Sigmoid Train', ' Sigmoid Validation', 'Tanh Train', ' Tanh Validation'])\n",
    "plt.show()\n",
    "print(\"--- %s seconds ---\" % (time.time() - start_time))"
   ]
  },
  {
   "cell_type": "code",
   "execution_count": 29,
   "id": "graduate-archive",
   "metadata": {
    "execution": {
     "iopub.execute_input": "2021-04-25T14:34:30.829672Z",
     "iopub.status.busy": "2021-04-25T14:34:30.828764Z",
     "iopub.status.idle": "2021-04-25T14:34:31.023078Z",
     "shell.execute_reply": "2021-04-25T14:34:31.022601Z"
    },
    "papermill": {
     "duration": 0.319615,
     "end_time": "2021-04-25T14:34:31.023212",
     "exception": false,
     "start_time": "2021-04-25T14:34:30.703597",
     "status": "completed"
    },
    "tags": []
   },
   "outputs": [
    {
     "data": {
      "image/png": "[encoded data removed]",
      "text/plain": [
       "<Figure size 432x288 with 1 Axes>"
      ]
     },
     "metadata": {
      "needs_background": "light"
     },
     "output_type": "display_data"
    },
    {
     "name": "stdout",
     "output_type": "stream",
     "text": [
      "--- 404.71777868270874 seconds ---\n"
     ]
    }
   ],
   "source": [
    "plt.plot(history.history['accuracy'])\n",
    "plt.plot(history.history['val_accuracy'])\n",
    "plt.plot(history_sig.history['accuracy'])\n",
    "plt.plot(history_sig.history['val_accuracy'])\n",
    "plt.plot(history_tan.history['accuracy'])\n",
    "plt.plot(history_tan.history['val_accuracy'])\n",
    "plt.title(\"Model Accuracy\")\n",
    "plt.xlabel('Epochs')\n",
    "plt.ylabel('Accuracy')\n",
    "plt.legend(['Relu Train', ' Relu Validation', 'Sigmoid Train', ' Sigmoid Validation', 'Tanh Train', ' Tanh Validation'])\n",
    "plt.show()\n",
    "print(\"--- %s seconds ---\" % (time.time() - start_time))"
   ]
  },
  {
   "cell_type": "markdown",
   "id": "attempted-apollo",
   "metadata": {
    "papermill": {
     "duration": 0.108235,
     "end_time": "2021-04-25T14:34:31.239863",
     "exception": false,
     "start_time": "2021-04-25T14:34:31.131628",
     "status": "completed"
    },
    "tags": []
   },
   "source": [
    "## 6.5 Model 2 ( Resnet )"
   ]
  },
  {
   "cell_type": "code",
   "execution_count": 30,
   "id": "german-context",
   "metadata": {
    "execution": {
     "iopub.execute_input": "2021-04-25T14:34:31.474424Z",
     "iopub.status.busy": "2021-04-25T14:34:31.473519Z",
     "iopub.status.idle": "2021-04-25T14:34:31.848959Z",
     "shell.execute_reply": "2021-04-25T14:34:31.848244Z"
    },
    "papermill": {
     "duration": 0.499209,
     "end_time": "2021-04-25T14:34:31.849140",
     "exception": false,
     "start_time": "2021-04-25T14:34:31.349931",
     "status": "completed"
    },
    "tags": []
   },
   "outputs": [
    {
     "name": "stdout",
     "output_type": "stream",
     "text": [
      "Model: \"model\"\n",
      "__________________________________________________________________________________________________\n",
      "Layer (type)                    Output Shape         Param #     Connected to                     \n",
      "==================================================================================================\n",
      "input_1 (InputLayer)            [(None, 28, 28, 1)]  0                                            \n",
      "__________________________________________________________________________________________________\n",
      "conv2d_12 (Conv2D)              (None, 14, 14, 64)   3200        input_1[0][0]                    \n",
      "__________________________________________________________________________________________________\n",
      "batch_normalization_15 (BatchNo (None, 14, 14, 64)   256         conv2d_12[0][0]                  \n",
      "__________________________________________________________________________________________________\n",
      "activation (Activation)         (None, 14, 14, 64)   0           batch_normalization_15[0][0]     \n",
      "__________________________________________________________________________________________________\n",
      "conv2d_13 (Conv2D)              (None, 14, 14, 64)   36928       activation[0][0]                 \n",
      "__________________________________________________________________________________________________\n",
      "batch_normalization_16 (BatchNo (None, 14, 14, 64)   256         conv2d_13[0][0]                  \n",
      "__________________________________________________________________________________________________\n",
      "activation_1 (Activation)       (None, 14, 14, 64)   0           batch_normalization_16[0][0]     \n",
      "__________________________________________________________________________________________________\n",
      "conv2d_14 (Conv2D)              (None, 14, 14, 64)   36928       activation_1[0][0]               \n",
      "__________________________________________________________________________________________________\n",
      "batch_normalization_17 (BatchNo (None, 14, 14, 64)   256         conv2d_14[0][0]                  \n",
      "__________________________________________________________________________________________________\n",
      "add (Add)                       (None, 14, 14, 64)   0           activation[0][0]                 \n",
      "                                                                 batch_normalization_17[0][0]     \n",
      "__________________________________________________________________________________________________\n",
      "activation_2 (Activation)       (None, 14, 14, 64)   0           add[0][0]                        \n",
      "__________________________________________________________________________________________________\n",
      "conv2d_15 (Conv2D)              (None, 14, 14, 64)   36928       activation_2[0][0]               \n",
      "__________________________________________________________________________________________________\n",
      "batch_normalization_18 (BatchNo (None, 14, 14, 64)   256         conv2d_15[0][0]                  \n",
      "__________________________________________________________________________________________________\n",
      "activation_3 (Activation)       (None, 14, 14, 64)   0           batch_normalization_18[0][0]     \n",
      "__________________________________________________________________________________________________\n",
      "conv2d_16 (Conv2D)              (None, 14, 14, 64)   36928       activation_3[0][0]               \n",
      "__________________________________________________________________________________________________\n",
      "batch_normalization_19 (BatchNo (None, 14, 14, 64)   256         conv2d_16[0][0]                  \n",
      "__________________________________________________________________________________________________\n",
      "add_1 (Add)                     (None, 14, 14, 64)   0           activation_2[0][0]               \n",
      "                                                                 batch_normalization_19[0][0]     \n",
      "__________________________________________________________________________________________________\n",
      "activation_4 (Activation)       (None, 14, 14, 64)   0           add_1[0][0]                      \n",
      "__________________________________________________________________________________________________\n",
      "conv2d_17 (Conv2D)              (None, 7, 7, 128)    73856       activation_4[0][0]               \n",
      "__________________________________________________________________________________________________\n",
      "batch_normalization_20 (BatchNo (None, 7, 7, 128)    512         conv2d_17[0][0]                  \n",
      "__________________________________________________________________________________________________\n",
      "activation_5 (Activation)       (None, 7, 7, 128)    0           batch_normalization_20[0][0]     \n",
      "__________________________________________________________________________________________________\n",
      "conv2d_18 (Conv2D)              (None, 7, 7, 128)    147584      activation_5[0][0]               \n",
      "__________________________________________________________________________________________________\n",
      "conv2d_19 (Conv2D)              (None, 7, 7, 128)    8320        activation_4[0][0]               \n",
      "__________________________________________________________________________________________________\n",
      "batch_normalization_21 (BatchNo (None, 7, 7, 128)    512         conv2d_18[0][0]                  \n",
      "__________________________________________________________________________________________________\n",
      "add_2 (Add)                     (None, 7, 7, 128)    0           conv2d_19[0][0]                  \n",
      "                                                                 batch_normalization_21[0][0]     \n",
      "__________________________________________________________________________________________________\n",
      "activation_6 (Activation)       (None, 7, 7, 128)    0           add_2[0][0]                      \n",
      "__________________________________________________________________________________________________\n",
      "conv2d_20 (Conv2D)              (None, 7, 7, 128)    147584      activation_6[0][0]               \n",
      "__________________________________________________________________________________________________\n",
      "batch_normalization_22 (BatchNo (None, 7, 7, 128)    512         conv2d_20[0][0]                  \n",
      "__________________________________________________________________________________________________\n",
      "activation_7 (Activation)       (None, 7, 7, 128)    0           batch_normalization_22[0][0]     \n",
      "__________________________________________________________________________________________________\n",
      "conv2d_21 (Conv2D)              (None, 7, 7, 128)    147584      activation_7[0][0]               \n",
      "__________________________________________________________________________________________________\n",
      "batch_normalization_23 (BatchNo (None, 7, 7, 128)    512         conv2d_21[0][0]                  \n",
      "__________________________________________________________________________________________________\n",
      "add_3 (Add)                     (None, 7, 7, 128)    0           activation_6[0][0]               \n",
      "                                                                 batch_normalization_23[0][0]     \n",
      "__________________________________________________________________________________________________\n",
      "activation_8 (Activation)       (None, 7, 7, 128)    0           add_3[0][0]                      \n",
      "__________________________________________________________________________________________________\n",
      "conv2d_22 (Conv2D)              (None, 4, 4, 256)    295168      activation_8[0][0]               \n",
      "__________________________________________________________________________________________________\n",
      "batch_normalization_24 (BatchNo (None, 4, 4, 256)    1024        conv2d_22[0][0]                  \n",
      "__________________________________________________________________________________________________\n",
      "activation_9 (Activation)       (None, 4, 4, 256)    0           batch_normalization_24[0][0]     \n",
      "__________________________________________________________________________________________________\n",
      "conv2d_23 (Conv2D)              (None, 4, 4, 256)    590080      activation_9[0][0]               \n",
      "__________________________________________________________________________________________________\n",
      "conv2d_24 (Conv2D)              (None, 4, 4, 256)    33024       activation_8[0][0]               \n",
      "__________________________________________________________________________________________________\n",
      "batch_normalization_25 (BatchNo (None, 4, 4, 256)    1024        conv2d_23[0][0]                  \n",
      "__________________________________________________________________________________________________\n",
      "add_4 (Add)                     (None, 4, 4, 256)    0           conv2d_24[0][0]                  \n",
      "                                                                 batch_normalization_25[0][0]     \n",
      "__________________________________________________________________________________________________\n",
      "activation_10 (Activation)      (None, 4, 4, 256)    0           add_4[0][0]                      \n",
      "__________________________________________________________________________________________________\n",
      "conv2d_25 (Conv2D)              (None, 4, 4, 256)    590080      activation_10[0][0]              \n",
      "__________________________________________________________________________________________________\n",
      "batch_normalization_26 (BatchNo (None, 4, 4, 256)    1024        conv2d_25[0][0]                  \n",
      "__________________________________________________________________________________________________\n",
      "activation_11 (Activation)      (None, 4, 4, 256)    0           batch_normalization_26[0][0]     \n",
      "__________________________________________________________________________________________________\n",
      "conv2d_26 (Conv2D)              (None, 4, 4, 256)    590080      activation_11[0][0]              \n",
      "__________________________________________________________________________________________________\n",
      "batch_normalization_27 (BatchNo (None, 4, 4, 256)    1024        conv2d_26[0][0]                  \n",
      "__________________________________________________________________________________________________\n",
      "add_5 (Add)                     (None, 4, 4, 256)    0           activation_10[0][0]              \n",
      "                                                                 batch_normalization_27[0][0]     \n",
      "__________________________________________________________________________________________________\n",
      "activation_12 (Activation)      (None, 4, 4, 256)    0           add_5[0][0]                      \n",
      "__________________________________________________________________________________________________\n",
      "conv2d_27 (Conv2D)              (None, 2, 2, 512)    1180160     activation_12[0][0]              \n",
      "__________________________________________________________________________________________________\n",
      "batch_normalization_28 (BatchNo (None, 2, 2, 512)    2048        conv2d_27[0][0]                  \n",
      "__________________________________________________________________________________________________\n",
      "activation_13 (Activation)      (None, 2, 2, 512)    0           batch_normalization_28[0][0]     \n",
      "__________________________________________________________________________________________________\n",
      "conv2d_28 (Conv2D)              (None, 2, 2, 512)    2359808     activation_13[0][0]              \n",
      "__________________________________________________________________________________________________\n",
      "conv2d_29 (Conv2D)              (None, 2, 2, 512)    131584      activation_12[0][0]              \n",
      "__________________________________________________________________________________________________\n",
      "batch_normalization_29 (BatchNo (None, 2, 2, 512)    2048        conv2d_28[0][0]                  \n",
      "__________________________________________________________________________________________________\n",
      "add_6 (Add)                     (None, 2, 2, 512)    0           conv2d_29[0][0]                  \n",
      "                                                                 batch_normalization_29[0][0]     \n",
      "__________________________________________________________________________________________________\n",
      "activation_14 (Activation)      (None, 2, 2, 512)    0           add_6[0][0]                      \n",
      "__________________________________________________________________________________________________\n",
      "conv2d_30 (Conv2D)              (None, 2, 2, 512)    2359808     activation_14[0][0]              \n",
      "__________________________________________________________________________________________________\n",
      "batch_normalization_30 (BatchNo (None, 2, 2, 512)    2048        conv2d_30[0][0]                  \n",
      "__________________________________________________________________________________________________\n",
      "activation_15 (Activation)      (None, 2, 2, 512)    0           batch_normalization_30[0][0]     \n",
      "__________________________________________________________________________________________________\n",
      "conv2d_31 (Conv2D)              (None, 2, 2, 512)    2359808     activation_15[0][0]              \n",
      "__________________________________________________________________________________________________\n",
      "batch_normalization_31 (BatchNo (None, 2, 2, 512)    2048        conv2d_31[0][0]                  \n",
      "__________________________________________________________________________________________________\n",
      "add_7 (Add)                     (None, 2, 2, 512)    0           activation_14[0][0]              \n",
      "                                                                 batch_normalization_31[0][0]     \n",
      "__________________________________________________________________________________________________\n",
      "activation_16 (Activation)      (None, 2, 2, 512)    0           add_7[0][0]                      \n",
      "__________________________________________________________________________________________________\n",
      "average_pooling2d (AveragePooli (None, 1, 1, 512)    0           activation_16[0][0]              \n",
      "__________________________________________________________________________________________________\n",
      "flatten_3 (Flatten)             (None, 512)          0           average_pooling2d[0][0]          \n",
      "__________________________________________________________________________________________________\n",
      "dense_9 (Dense)                 (None, 5)            2565        flatten_3[0][0]                  \n",
      "==================================================================================================\n",
      "Total params: 11,183,621\n",
      "Trainable params: 11,175,813\n",
      "Non-trainable params: 7,808\n",
      "__________________________________________________________________________________________________\n"
     ]
    }
   ],
   "source": [
    "input_size = (28, 28,1)\n",
    "num_filters = 64\n",
    "use_max_pool = False\n",
    "num_blocks = 4\n",
    "num_sub_blocks = 2\n",
    "num_classes = 5\n",
    "inputs = Input(shape=input_size)\n",
    "con_x = Conv2D(num_filters, padding='same', \n",
    "           kernel_initializer='he_normal', \n",
    "           kernel_size=7, strides=2,\n",
    "           kernel_regularizer=l2(1e-4))(inputs)\n",
    "con_x = BatchNormalization()(con_x)\n",
    "con_x = Activation('relu')(con_x)\n",
    "\n",
    "#Check by applying max pooling later (setting it false as size of image is small i.e. 28x28)\n",
    "if use_max_pool:\n",
    "    con_x = MaxPooling2D(pool_size=3,padding='same', strides=2)(con_x)\n",
    "    num_blocks =3\n",
    "#Creating Conv base stack \n",
    "\n",
    "# Instantiate convolutional base (stack of blocks).\n",
    "for i in range(num_blocks):\n",
    "    for j in range(num_sub_blocks):\n",
    "        strides = 1\n",
    "        is_first_layer_but_not_first_block = j == 0 and i > 0\n",
    "        if is_first_layer_but_not_first_block:\n",
    "            strides = 2\n",
    "        #Creating residual mapping using y\n",
    "        con_y = Conv2D(num_filters,\n",
    "                   kernel_size=3,\n",
    "                   padding='same',\n",
    "                   strides=strides,\n",
    "                   kernel_initializer='he_normal',\n",
    "                   kernel_regularizer=l2(1e-4))(con_x)\n",
    "        con_y = BatchNormalization()(con_y)\n",
    "        con_y = Activation('relu')(con_y)\n",
    "        con_y = Conv2D(num_filters,\n",
    "                   kernel_size=3,\n",
    "                   padding='same',\n",
    "                   kernel_initializer='he_normal',\n",
    "                   kernel_regularizer=l2(1e-4))(con_y)\n",
    "        con_y = BatchNormalization()(con_y)\n",
    "        if is_first_layer_but_not_first_block:\n",
    "            con_x = Conv2D(num_filters,\n",
    "                       kernel_size=1,\n",
    "                       padding='same',\n",
    "                       strides=2,\n",
    "                       kernel_initializer='he_normal',\n",
    "                       kernel_regularizer=l2(1e-4))(con_x)\n",
    "        #Adding back residual mapping\n",
    "        con_x = keras.layers.add([con_x, con_y])\n",
    "        con_x = Activation('relu')(con_x)\n",
    "\n",
    "    num_filters = 2 * num_filters\n",
    "\n",
    "# Add classifier on top.\n",
    "con_x = AveragePooling2D()(con_x)\n",
    "con_y = Flatten()(con_x)\n",
    "outputs = Dense(num_classes,\n",
    "                activation='softmax',\n",
    "                kernel_initializer='he_normal')(con_y)\n",
    "\n",
    "# Instantiate and compile model.\n",
    "resmodel = Model(inputs=inputs, outputs=outputs)\n",
    "resmodel.compile(loss='categorical_crossentropy',\n",
    "              optimizer='adam',\n",
    "              metrics=['accuracy'])\n",
    "resmodel.summary()"
   ]
  },
  {
   "cell_type": "code",
   "execution_count": 31,
   "id": "signal-fever",
   "metadata": {
    "execution": {
     "iopub.execute_input": "2021-04-25T14:34:32.101821Z",
     "iopub.status.busy": "2021-04-25T14:34:32.100694Z",
     "iopub.status.idle": "2021-04-25T14:34:32.108654Z",
     "shell.execute_reply": "2021-04-25T14:34:32.107751Z"
    },
    "papermill": {
     "duration": 0.141571,
     "end_time": "2021-04-25T14:34:32.108854",
     "exception": false,
     "start_time": "2021-04-25T14:34:31.967283",
     "status": "completed"
    },
    "tags": []
   },
   "outputs": [
    {
     "name": "stdout",
     "output_type": "stream",
     "text": [
      "/kaggle/working/saved_model/fmnist_resnet_model.h5\n"
     ]
    }
   ],
   "source": [
    "import os\n",
    "save_dir = os.path.join(os.getcwd(), 'saved_model')\n",
    "model_name = 'fmnist_resnet_model.h5'\n",
    "if not os.path.isdir(save_dir):\n",
    "    os.makedirs(save_dir)\n",
    "filepath = os.path.join(save_dir,model_name)\n",
    "print(filepath)"
   ]
  },
  {
   "cell_type": "code",
   "execution_count": 32,
   "id": "liberal-antigua",
   "metadata": {
    "execution": {
     "iopub.execute_input": "2021-04-25T14:34:32.353371Z",
     "iopub.status.busy": "2021-04-25T14:34:32.351415Z",
     "iopub.status.idle": "2021-04-25T14:34:32.353914Z",
     "shell.execute_reply": "2021-04-25T14:34:32.354333Z"
    },
    "papermill": {
     "duration": 0.121115,
     "end_time": "2021-04-25T14:34:32.354461",
     "exception": false,
     "start_time": "2021-04-25T14:34:32.233346",
     "status": "completed"
    },
    "tags": []
   },
   "outputs": [],
   "source": [
    "from keras.callbacks import ModelCheckpoint, ReduceLROnPlateau\n",
    "checkpoint = ModelCheckpoint(filepath=filepath,\n",
    "                             verbose=1,\n",
    "                             save_best_only=True)\n",
    "lr_reducer = ReduceLROnPlateau(factor=np.sqrt(0.1),\n",
    "                               cooldown=0,\n",
    "                               patience=5,\n",
    "                               min_lr=0.5e-6)\n",
    "callbacks = [checkpoint, reduce_lr]"
   ]
  },
  {
   "cell_type": "code",
   "execution_count": 33,
   "id": "confident-chancellor",
   "metadata": {
    "execution": {
     "iopub.execute_input": "2021-04-25T14:34:32.592421Z",
     "iopub.status.busy": "2021-04-25T14:34:32.590988Z",
     "iopub.status.idle": "2021-04-25T14:39:27.573179Z",
     "shell.execute_reply": "2021-04-25T14:39:27.573756Z"
    },
    "papermill": {
     "duration": 295.1048,
     "end_time": "2021-04-25T14:39:27.573981",
     "exception": false,
     "start_time": "2021-04-25T14:34:32.469181",
     "status": "completed"
    },
    "tags": []
   },
   "outputs": [
    {
     "name": "stdout",
     "output_type": "stream",
     "text": [
      "Epoch 1/25\n",
      "375/375 [==============================] - 15s 32ms/step - loss: 1.6851 - accuracy: 0.7568 - val_loss: 1.1325 - val_accuracy: 0.8332\n",
      "\n",
      "Epoch 00001: val_loss improved from inf to 1.13249, saving model to /kaggle/working/saved_model/fmnist_resnet_model.h5\n",
      "Epoch 2/25\n",
      "375/375 [==============================] - 11s 30ms/step - loss: 0.9646 - accuracy: 0.8758 - val_loss: 0.8490 - val_accuracy: 0.8770\n",
      "\n",
      "Epoch 00002: val_loss improved from 1.13249 to 0.84898, saving model to /kaggle/working/saved_model/fmnist_resnet_model.h5\n",
      "Epoch 3/25\n",
      "375/375 [==============================] - 11s 31ms/step - loss: 0.7581 - accuracy: 0.8982 - val_loss: 0.8651 - val_accuracy: 0.8385\n",
      "\n",
      "Epoch 00003: val_loss did not improve from 0.84898\n",
      "Epoch 4/25\n",
      "375/375 [==============================] - 12s 31ms/step - loss: 0.6444 - accuracy: 0.9091 - val_loss: 0.7495 - val_accuracy: 0.8553\n",
      "\n",
      "Epoch 00004: val_loss improved from 0.84898 to 0.74947, saving model to /kaggle/working/saved_model/fmnist_resnet_model.h5\n",
      "Epoch 5/25\n",
      "375/375 [==============================] - 11s 31ms/step - loss: 0.5589 - accuracy: 0.9180 - val_loss: 0.6890 - val_accuracy: 0.8667\n",
      "\n",
      "Epoch 00005: val_loss improved from 0.74947 to 0.68900, saving model to /kaggle/working/saved_model/fmnist_resnet_model.h5\n",
      "Epoch 6/25\n",
      "375/375 [==============================] - 11s 30ms/step - loss: 0.4809 - accuracy: 0.9343 - val_loss: 0.5812 - val_accuracy: 0.8937\n",
      "\n",
      "Epoch 00006: val_loss improved from 0.68900 to 0.58117, saving model to /kaggle/working/saved_model/fmnist_resnet_model.h5\n",
      "Epoch 7/25\n",
      "375/375 [==============================] - 11s 31ms/step - loss: 0.4292 - accuracy: 0.9447 - val_loss: 0.5465 - val_accuracy: 0.9047\n",
      "\n",
      "Epoch 00007: val_loss improved from 0.58117 to 0.54649, saving model to /kaggle/working/saved_model/fmnist_resnet_model.h5\n",
      "Epoch 8/25\n",
      "375/375 [==============================] - 11s 30ms/step - loss: 0.3873 - accuracy: 0.9546 - val_loss: 0.5461 - val_accuracy: 0.8992\n",
      "\n",
      "Epoch 00008: val_loss improved from 0.54649 to 0.54610, saving model to /kaggle/working/saved_model/fmnist_resnet_model.h5\n",
      "Epoch 9/25\n",
      "375/375 [==============================] - 11s 30ms/step - loss: 0.3457 - accuracy: 0.9640 - val_loss: 0.6492 - val_accuracy: 0.8790\n",
      "\n",
      "Epoch 00009: val_loss did not improve from 0.54610\n",
      "Epoch 10/25\n",
      "375/375 [==============================] - 12s 31ms/step - loss: 0.3366 - accuracy: 0.9621 - val_loss: 0.5793 - val_accuracy: 0.8928\n",
      "\n",
      "Epoch 00010: val_loss did not improve from 0.54610\n",
      "Epoch 11/25\n",
      "375/375 [==============================] - 11s 30ms/step - loss: 0.3069 - accuracy: 0.9688 - val_loss: 0.6016 - val_accuracy: 0.8933\n",
      "\n",
      "Epoch 00011: val_loss did not improve from 0.54610\n",
      "Epoch 12/25\n",
      "375/375 [==============================] - 11s 30ms/step - loss: 0.2733 - accuracy: 0.9791 - val_loss: 0.6696 - val_accuracy: 0.8785\n",
      "\n",
      "Epoch 00012: val_loss did not improve from 0.54610\n",
      "Epoch 13/25\n",
      "375/375 [==============================] - 11s 31ms/step - loss: 0.2599 - accuracy: 0.9798 - val_loss: 0.6064 - val_accuracy: 0.8887\n",
      "\n",
      "Epoch 00013: val_loss did not improve from 0.54610\n",
      "Epoch 14/25\n",
      "375/375 [==============================] - 11s 31ms/step - loss: 0.2396 - accuracy: 0.9857 - val_loss: 0.6087 - val_accuracy: 0.9007\n",
      "\n",
      "Epoch 00014: val_loss did not improve from 0.54610\n",
      "Epoch 15/25\n",
      "375/375 [==============================] - 12s 31ms/step - loss: 0.2269 - accuracy: 0.9869 - val_loss: 0.6088 - val_accuracy: 0.8995\n",
      "\n",
      "Epoch 00015: val_loss did not improve from 0.54610\n",
      "Epoch 16/25\n",
      "375/375 [==============================] - 11s 31ms/step - loss: 0.2136 - accuracy: 0.9911 - val_loss: 0.6401 - val_accuracy: 0.8975\n",
      "\n",
      "Epoch 00016: val_loss did not improve from 0.54610\n",
      "Epoch 17/25\n",
      "375/375 [==============================] - 11s 30ms/step - loss: 0.2046 - accuracy: 0.9918 - val_loss: 0.7109 - val_accuracy: 0.8920\n",
      "\n",
      "Epoch 00017: val_loss did not improve from 0.54610\n",
      "Epoch 18/25\n",
      "375/375 [==============================] - 12s 31ms/step - loss: 0.1994 - accuracy: 0.9905 - val_loss: 0.6740 - val_accuracy: 0.8963\n",
      "\n",
      "Epoch 00018: val_loss did not improve from 0.54610\n",
      "Epoch 19/25\n",
      "375/375 [==============================] - 12s 31ms/step - loss: 0.1852 - accuracy: 0.9954 - val_loss: 0.6066 - val_accuracy: 0.9022\n",
      "\n",
      "Epoch 00019: val_loss did not improve from 0.54610\n",
      "Epoch 20/25\n",
      "375/375 [==============================] - 11s 31ms/step - loss: 0.1806 - accuracy: 0.9949 - val_loss: 0.6464 - val_accuracy: 0.8997\n",
      "\n",
      "Epoch 00020: val_loss did not improve from 0.54610\n",
      "Epoch 21/25\n",
      "375/375 [==============================] - 12s 31ms/step - loss: 0.1717 - accuracy: 0.9966 - val_loss: 0.6862 - val_accuracy: 0.9000\n",
      "\n",
      "Epoch 00021: val_loss did not improve from 0.54610\n",
      "Epoch 22/25\n",
      "375/375 [==============================] - 12s 31ms/step - loss: 0.1670 - accuracy: 0.9972 - val_loss: 0.6623 - val_accuracy: 0.9013\n",
      "\n",
      "Epoch 00022: val_loss did not improve from 0.54610\n",
      "Epoch 23/25\n",
      "375/375 [==============================] - 12s 31ms/step - loss: 0.1619 - accuracy: 0.9975 - val_loss: 0.6955 - val_accuracy: 0.9038\n",
      "\n",
      "Epoch 00023: val_loss did not improve from 0.54610\n",
      "Epoch 24/25\n",
      "375/375 [==============================] - 12s 31ms/step - loss: 0.1569 - accuracy: 0.9983 - val_loss: 0.7591 - val_accuracy: 0.8922\n",
      "\n",
      "Epoch 00024: val_loss did not improve from 0.54610\n",
      "Epoch 25/25\n",
      "375/375 [==============================] - 12s 31ms/step - loss: 0.1530 - accuracy: 0.9987 - val_loss: 0.6858 - val_accuracy: 0.8977\n",
      "\n",
      "Epoch 00025: val_loss did not improve from 0.54610\n",
      "--- 294.9793691635132 seconds ---\n"
     ]
    }
   ],
   "source": [
    "start_time = time.time() \n",
    "history2 =resmodel.fit(x_train, y_train, batch_size=batch_size,\n",
    "              epochs=epochs,\n",
    "              validation_data=(x_val, y_val),\n",
    "              shuffle=True,\n",
    "              callbacks=callbacks)\n",
    "print(\"--- %s seconds ---\" % (time.time() - start_time))"
   ]
  },
  {
   "cell_type": "markdown",
   "id": "theoretical-regard",
   "metadata": {
    "papermill": {
     "duration": 1.513189,
     "end_time": "2021-04-25T14:39:30.543615",
     "exception": false,
     "start_time": "2021-04-25T14:39:29.030426",
     "status": "completed"
    },
    "tags": []
   },
   "source": [
    "#### Model 2 Evaluation "
   ]
  },
  {
   "cell_type": "code",
   "execution_count": 34,
   "id": "thirty-teddy",
   "metadata": {
    "execution": {
     "iopub.execute_input": "2021-04-25T14:39:33.702591Z",
     "iopub.status.busy": "2021-04-25T14:39:33.701399Z",
     "iopub.status.idle": "2021-04-25T14:39:35.420777Z",
     "shell.execute_reply": "2021-04-25T14:39:35.422505Z"
    },
    "papermill": {
     "duration": 3.380054,
     "end_time": "2021-04-25T14:39:35.422703",
     "exception": false,
     "start_time": "2021-04-25T14:39:32.042649",
     "status": "completed"
    },
    "tags": []
   },
   "outputs": [
    {
     "name": "stdout",
     "output_type": "stream",
     "text": [
      "188/188 [==============================] - 2s 9ms/step - loss: 0.6858 - accuracy: 0.8977\n",
      "Loss: 0.6858\n",
      "Accuracy: 0.8977\n",
      "--- 1.7169296741485596 seconds ---\n",
      "---Total time in Model 2 : 1.7170186042785645 seconds ---\n"
     ]
    }
   ],
   "source": [
    "start_time = time.time() \n",
    "score = resmodel.evaluate(x_val, y_val)\n",
    "\n",
    "print('Loss: {:.4f}'.format(score[0]))\n",
    "print('Accuracy: {:.4f}'.format(score[1]))\n",
    "print(\"--- %s seconds ---\" % (time.time() - start_time))\n",
    "print(\"---Total time in Model 2 : %s seconds ---\" % (time.time() - start_time))"
   ]
  },
  {
   "cell_type": "markdown",
   "id": "written-egyptian",
   "metadata": {
    "papermill": {
     "duration": 1.383407,
     "end_time": "2021-04-25T14:39:38.248490",
     "exception": false,
     "start_time": "2021-04-25T14:39:36.865083",
     "status": "completed"
    },
    "tags": []
   },
   "source": [
    "#### Model 2 loss vs no. of epochs"
   ]
  },
  {
   "cell_type": "code",
   "execution_count": 35,
   "id": "similar-marshall",
   "metadata": {
    "execution": {
     "iopub.execute_input": "2021-04-25T14:39:41.085328Z",
     "iopub.status.busy": "2021-04-25T14:39:41.078503Z",
     "iopub.status.idle": "2021-04-25T14:39:41.202020Z",
     "shell.execute_reply": "2021-04-25T14:39:41.202563Z"
    },
    "papermill": {
     "duration": 1.537278,
     "end_time": "2021-04-25T14:39:41.202770",
     "exception": false,
     "start_time": "2021-04-25T14:39:39.665492",
     "status": "completed"
    },
    "tags": []
   },
   "outputs": [
    {
     "data": {
      "image/png": "[encoded data removed]",
      "text/plain": [
       "<Figure size 432x288 with 1 Axes>"
      ]
     },
     "metadata": {
      "needs_background": "light"
     },
     "output_type": "display_data"
    },
    {
     "name": "stdout",
     "output_type": "stream",
     "text": [
      "--- 0.14998102188110352 seconds ---\n"
     ]
    }
   ],
   "source": [
    "start_time = time.time() \n",
    "plt.plot(history2.history['loss'])\n",
    "plt.plot(history2.history['val_loss'])\n",
    "plt.title(\"Model Loss\")\n",
    "plt.xlabel('Epochs')\n",
    "plt.ylabel('Loss')\n",
    "plt.legend(['Resnet Train', 'Resnet Validation'])\n",
    "plt.show()\n",
    "print(\"--- %s seconds ---\" % (time.time() - start_time))"
   ]
  },
  {
   "cell_type": "markdown",
   "id": "executed-preservation",
   "metadata": {
    "papermill": {
     "duration": 1.625232,
     "end_time": "2021-04-25T14:39:44.218509",
     "exception": false,
     "start_time": "2021-04-25T14:39:42.593277",
     "status": "completed"
    },
    "tags": []
   },
   "source": [
    "#### Model 2 Accuracy vs no. of epochs"
   ]
  },
  {
   "cell_type": "code",
   "execution_count": 36,
   "id": "alike-confusion",
   "metadata": {
    "execution": {
     "iopub.execute_input": "2021-04-25T14:39:47.082896Z",
     "iopub.status.busy": "2021-04-25T14:39:47.081975Z",
     "iopub.status.idle": "2021-04-25T14:39:47.233248Z",
     "shell.execute_reply": "2021-04-25T14:39:47.232605Z"
    },
    "papermill": {
     "duration": 1.58841,
     "end_time": "2021-04-25T14:39:47.233411",
     "exception": false,
     "start_time": "2021-04-25T14:39:45.645001",
     "status": "completed"
    },
    "tags": []
   },
   "outputs": [
    {
     "data": {
      "image/png": "[encoded data removed]",
      "text/plain": [
       "<Figure size 432x288 with 1 Axes>"
      ]
     },
     "metadata": {
      "needs_background": "light"
     },
     "output_type": "display_data"
    },
    {
     "name": "stdout",
     "output_type": "stream",
     "text": [
      "--- 0.15931320190429688 seconds ---\n"
     ]
    }
   ],
   "source": [
    "start_time = time.time()\n",
    "plt.plot(history2.history['accuracy'])\n",
    "plt.plot(history2.history['val_accuracy'])\n",
    "plt.title(\"Model Accuracy\")\n",
    "plt.xlabel('Epochs')\n",
    "plt.ylabel('Accuracy')\n",
    "plt.legend(['Resnet Train', 'Resnet Validation'])\n",
    "plt.show()\n",
    "print(\"--- %s seconds ---\" % (time.time() - start_time))"
   ]
  },
  {
   "cell_type": "markdown",
   "id": "ethical-tobago",
   "metadata": {
    "papermill": {
     "duration": 1.373886,
     "end_time": "2021-04-25T14:39:49.989960",
     "exception": false,
     "start_time": "2021-04-25T14:39:48.616074",
     "status": "completed"
    },
    "tags": []
   },
   "source": [
    "## 6.6 Model 1 (CNN) vs Model 2 (Resnet)"
   ]
  },
  {
   "cell_type": "markdown",
   "id": "sufficient-insulin",
   "metadata": {
    "papermill": {
     "duration": 1.426784,
     "end_time": "2021-04-25T14:39:52.799013",
     "exception": false,
     "start_time": "2021-04-25T14:39:51.372229",
     "status": "completed"
    },
    "tags": []
   },
   "source": [
    "#### Loss vs no. of epochs"
   ]
  },
  {
   "cell_type": "code",
   "execution_count": 37,
   "id": "contrary-paragraph",
   "metadata": {
    "execution": {
     "iopub.execute_input": "2021-04-25T14:39:56.221584Z",
     "iopub.status.busy": "2021-04-25T14:39:56.214830Z",
     "iopub.status.idle": "2021-04-25T14:39:56.381275Z",
     "shell.execute_reply": "2021-04-25T14:39:56.380589Z"
    },
    "papermill": {
     "duration": 1.968325,
     "end_time": "2021-04-25T14:39:56.381493",
     "exception": false,
     "start_time": "2021-04-25T14:39:54.413168",
     "status": "completed"
    },
    "tags": []
   },
   "outputs": [
    {
     "data": {
      "image/png": "[encoded data removed]",
      "text/plain": [
       "<Figure size 432x288 with 1 Axes>"
      ]
     },
     "metadata": {
      "needs_background": "light"
     },
     "output_type": "display_data"
    },
    {
     "name": "stdout",
     "output_type": "stream",
     "text": [
      "--- 0.22343158721923828 seconds ---\n"
     ]
    }
   ],
   "source": [
    "start_time = time.time() \n",
    "plt.plot(history2.history['loss'])\n",
    "plt.plot(history2.history['val_loss'])\n",
    "plt.plot(history.history['loss'])\n",
    "plt.plot(history.history['val_loss'])\n",
    "plt.title(\"Model Loss\")\n",
    "plt.xlabel('Epochs')\n",
    "plt.ylabel('Loss')\n",
    "plt.legend(['Resnet Train', 'Resnet Validation', 'Model1 Train', 'Model1 Validation'])\n",
    "plt.show()\n",
    "print(\"--- %s seconds ---\" % (time.time() - start_time))"
   ]
  },
  {
   "cell_type": "markdown",
   "id": "compliant-philippines",
   "metadata": {
    "papermill": {
     "duration": 1.448211,
     "end_time": "2021-04-25T14:39:59.342288",
     "exception": false,
     "start_time": "2021-04-25T14:39:57.894077",
     "status": "completed"
    },
    "tags": []
   },
   "source": [
    "#### Accuracy vs no. of epochs"
   ]
  },
  {
   "cell_type": "code",
   "execution_count": 38,
   "id": "enclosed-momentum",
   "metadata": {
    "execution": {
     "iopub.execute_input": "2021-04-25T14:40:02.207435Z",
     "iopub.status.busy": "2021-04-25T14:40:02.206316Z",
     "iopub.status.idle": "2021-04-25T14:40:02.381972Z",
     "shell.execute_reply": "2021-04-25T14:40:02.381112Z"
    },
    "papermill": {
     "duration": 1.614944,
     "end_time": "2021-04-25T14:40:02.382171",
     "exception": false,
     "start_time": "2021-04-25T14:40:00.767227",
     "status": "completed"
    },
    "tags": []
   },
   "outputs": [
    {
     "data": {
      "image/png": "[encoded data removed]",
      "text/plain": [
       "<Figure size 432x288 with 1 Axes>"
      ]
     },
     "metadata": {
      "needs_background": "light"
     },
     "output_type": "display_data"
    },
    {
     "name": "stdout",
     "output_type": "stream",
     "text": [
      "--- 0.17314934730529785 seconds ---\n"
     ]
    }
   ],
   "source": [
    "start_time = time.time()\n",
    "plt.plot(history2.history['accuracy'])\n",
    "plt.plot(history2.history['val_accuracy'])\n",
    "plt.plot(history.history['accuracy'])\n",
    "plt.plot(history.history['val_accuracy'])\n",
    "plt.title(\"Model Accuracy\")\n",
    "plt.xlabel('Epochs')\n",
    "plt.ylabel('Accuracy')\n",
    "plt.legend(['Resnet Train', 'Resnet Validation', 'Model1 Train', 'Model1 Validation'])\n",
    "plt.show()\n",
    "print(\"--- %s seconds ---\" % (time.time() - start_time))"
   ]
  },
  {
   "cell_type": "markdown",
   "id": "english-novel",
   "metadata": {
    "papermill": {
     "duration": 1.519545,
     "end_time": "2021-04-25T14:40:05.324806",
     "exception": false,
     "start_time": "2021-04-25T14:40:03.805261",
     "status": "completed"
    },
    "tags": []
   },
   "source": [
    "#### Advantages of Resnet :\n",
    "1. ResNet uses Batch Normalization at its core. The Batch Normalization adjusts the input layer to increase the performance of the network.\n",
    "2. ResNet makes use of the Identity Connection, which helps to protect the network from vanishing gradient problem.\n",
    "3. Deep Residual Network uses bottleneck residual block design to increase the performance of the network."
   ]
  },
  {
   "cell_type": "markdown",
   "id": "preceding-beijing",
   "metadata": {
    "papermill": {
     "duration": 1.408952,
     "end_time": "2021-04-25T14:40:08.350933",
     "exception": false,
     "start_time": "2021-04-25T14:40:06.941981",
     "status": "completed"
    },
    "tags": []
   },
   "source": [
    "#### Limitations of Resnet :\n",
    "1. Increased complexity of architecture.\n",
    "2. Deeper network usually requires weeks for training, making it practically infeasible in real-world applications.\n",
    "3. Implementation of Batch normalization layers since ResNet heavily depends on it.\n",
    "4. The dimensionality between the different layers which can become a headache while adding skip connections in model.\n"
   ]
  },
  {
   "cell_type": "markdown",
   "id": "average-lindsay",
   "metadata": {
    "papermill": {
     "duration": 1.40261,
     "end_time": "2021-04-25T14:40:11.159601",
     "exception": false,
     "start_time": "2021-04-25T14:40:09.756991",
     "status": "completed"
    },
    "tags": []
   },
   "source": [
    "#### Resnet vs VGGNet :\n",
    "\n",
    "- Even though ResNet is much deeper than VGG16 and VGG19, the model size is actually substantially smaller due to the usage of global average pooling rather than fully-connected layers.\n",
    "- In a ResNet architecture, removing a couple of layers in a model doesn’t compromise its performance too much — the architecture has many independent effective paths and the majority of them remain intact after we remove a couple of layers.\n",
    "- In a VGG network has only one effective path, so removing a single layer compromises this one the only path. "
   ]
  },
  {
   "cell_type": "markdown",
   "id": "fabulous-acrylic",
   "metadata": {
    "papermill": {
     "duration": 1.405095,
     "end_time": "2021-04-25T14:40:14.498112",
     "exception": false,
     "start_time": "2021-04-25T14:40:13.093017",
     "status": "completed"
    },
    "tags": []
   },
   "source": [
    "## 6.7 Model 3 Machine Learning model (Random Forest with Gridsearch) :\n",
    "\n",
    "- In this model we use GridSearchCV for tuning hyperparameter of the classifier to evaluate the best accuaracy for the best max_depth value from [5,10,None] and best number of trees from [50,100,300]."
   ]
  },
  {
   "cell_type": "code",
   "execution_count": 39,
   "id": "received-concrete",
   "metadata": {
    "execution": {
     "iopub.execute_input": "2021-04-25T14:40:17.691157Z",
     "iopub.status.busy": "2021-04-25T14:40:17.689348Z",
     "iopub.status.idle": "2021-04-25T14:40:17.691812Z",
     "shell.execute_reply": "2021-04-25T14:40:17.692309Z"
    },
    "papermill": {
     "duration": 1.728963,
     "end_time": "2021-04-25T14:40:17.692457",
     "exception": false,
     "start_time": "2021-04-25T14:40:15.963494",
     "status": "completed"
    },
    "tags": []
   },
   "outputs": [],
   "source": [
    "# Create the parameter grid based on the results of random search \n",
    "param_grid = {\n",
    "    'bootstrap': [True],\n",
    "    'max_depth': [3,5,10,None],\n",
    "    'n_estimators': [5,10,50,150,200]\n",
    "}\n",
    "# Create a based model\n",
    "rfc = RandomForestClassifier()\n",
    "# Instantiate the grid search model\n",
    "grid_search = GridSearchCV(estimator = rfc, param_grid = param_grid, \n",
    "                          cv = 3, n_jobs = -1, verbose = 2)"
   ]
  },
  {
   "cell_type": "code",
   "execution_count": 40,
   "id": "precious-trance",
   "metadata": {
    "execution": {
     "iopub.execute_input": "2021-04-25T14:40:20.488443Z",
     "iopub.status.busy": "2021-04-25T14:40:20.487632Z",
     "iopub.status.idle": "2021-04-25T15:00:29.420408Z",
     "shell.execute_reply": "2021-04-25T15:00:29.420900Z"
    },
    "papermill": {
     "duration": 1210.353275,
     "end_time": "2021-04-25T15:00:29.421075",
     "exception": false,
     "start_time": "2021-04-25T14:40:19.067800",
     "status": "completed"
    },
    "tags": []
   },
   "outputs": [
    {
     "name": "stdout",
     "output_type": "stream",
     "text": [
      "Fitting 3 folds for each of 20 candidates, totalling 60 fits\n"
     ]
    },
    {
     "data": {
      "text/plain": [
       "{'bootstrap': True, 'max_depth': None, 'n_estimators': 200}"
      ]
     },
     "execution_count": 40,
     "metadata": {},
     "output_type": "execute_result"
    }
   ],
   "source": [
    "grid_search.fit(x_train1,y_train)\n",
    "grid_search.best_params_"
   ]
  },
  {
   "cell_type": "markdown",
   "id": "proof-strain",
   "metadata": {
    "papermill": {
     "duration": 1.397368,
     "end_time": "2021-04-25T15:00:32.199474",
     "exception": false,
     "start_time": "2021-04-25T15:00:30.802106",
     "status": "completed"
    },
    "tags": []
   },
   "source": [
    "**Note :**\n",
    "\n",
    "- We have test this model using different combinations of maxdepth, n estimators and k-fold cross validation and encounter that we should make these values limited else we face below error of timeout/mermory leak :\n",
    "\n",
    "/opt/conda/lib/python3.7/site-packages/joblib/externals/loky/process_executor.py:691: UserWarning: A worker stopped while some jobs were given to the executor. This can be caused by a too short worker timeout or by a memory leak. \"timeout or by a memory leak.\", UserWarning"
   ]
  },
  {
   "cell_type": "code",
   "execution_count": 41,
   "id": "concrete-photograph",
   "metadata": {
    "execution": {
     "iopub.execute_input": "2021-04-25T15:00:35.471923Z",
     "iopub.status.busy": "2021-04-25T15:00:35.470631Z",
     "iopub.status.idle": "2021-04-25T15:00:36.078065Z",
     "shell.execute_reply": "2021-04-25T15:00:36.076933Z"
    },
    "papermill": {
     "duration": 2.461152,
     "end_time": "2021-04-25T15:00:36.078507",
     "exception": false,
     "start_time": "2021-04-25T15:00:33.617355",
     "status": "completed"
    },
    "tags": []
   },
   "outputs": [],
   "source": [
    "y_pred_rf = grid_search.predict(x_val1)"
   ]
  },
  {
   "cell_type": "code",
   "execution_count": 42,
   "id": "cosmetic-compensation",
   "metadata": {
    "execution": {
     "iopub.execute_input": "2021-04-25T15:00:39.075902Z",
     "iopub.status.busy": "2021-04-25T15:00:39.075141Z",
     "iopub.status.idle": "2021-04-25T15:00:39.083585Z",
     "shell.execute_reply": "2021-04-25T15:00:39.083106Z"
    },
    "papermill": {
     "duration": 1.38666,
     "end_time": "2021-04-25T15:00:39.083710",
     "exception": false,
     "start_time": "2021-04-25T15:00:37.697050",
     "status": "completed"
    },
    "tags": []
   },
   "outputs": [
    {
     "name": "stdout",
     "output_type": "stream",
     "text": [
      "Accuracy for random forest: 0.8115\n"
     ]
    }
   ],
   "source": [
    "print('Accuracy for random forest:',metrics.accuracy_score(y_val,y_pred_rf))"
   ]
  },
  {
   "cell_type": "markdown",
   "id": "limiting-fight",
   "metadata": {
    "papermill": {
     "duration": 1.365203,
     "end_time": "2021-04-25T15:00:41.848257",
     "exception": false,
     "start_time": "2021-04-25T15:00:40.483054",
     "status": "completed"
    },
    "tags": []
   },
   "source": [
    "**Additional point in Machine Learning model about performance :**\n",
    "- We can achieve more accuracy in this model if we apply dimensionality reduction techniques (e.g PCA ) on data as we have too many number of features available to predict labels."
   ]
  },
  {
   "cell_type": "markdown",
   "id": "threaded-tucson",
   "metadata": {
    "papermill": {
     "duration": 1.360449,
     "end_time": "2021-04-25T15:00:44.582041",
     "exception": false,
     "start_time": "2021-04-25T15:00:43.221592",
     "status": "completed"
    },
    "tags": []
   },
   "source": [
    "## 6.8 Model 4 (Simple Neural Network) :\n",
    "\n",
    "- In this model we havn't use any convolution or max polling layer in model. We simply use Flatter and Dense in model and trained it with learning rate.\n",
    "\n",
    "- We try to create a model on paper below is an overview on a model :\n",
    "\n",
    "![](http://www.linkpicture.com/q/0001_33.jpg)"
   ]
  },
  {
   "cell_type": "code",
   "execution_count": 43,
   "id": "other-subsection",
   "metadata": {
    "execution": {
     "iopub.execute_input": "2021-04-25T15:00:47.379646Z",
     "iopub.status.busy": "2021-04-25T15:00:47.378769Z",
     "iopub.status.idle": "2021-04-25T15:00:47.401697Z",
     "shell.execute_reply": "2021-04-25T15:00:47.402247Z"
    },
    "papermill": {
     "duration": 1.445742,
     "end_time": "2021-04-25T15:00:47.402448",
     "exception": false,
     "start_time": "2021-04-25T15:00:45.956706",
     "status": "completed"
    },
    "tags": []
   },
   "outputs": [],
   "source": [
    "model4 = keras.Sequential([\n",
    "    keras.layers.Flatten(input_shape=(28, 28)),\n",
    "    keras.layers.Dense(128, activation='relu'),\n",
    "    keras.layers.Dense(5, activation='softmax')\n",
    "])"
   ]
  },
  {
   "cell_type": "code",
   "execution_count": 44,
   "id": "marked-clock",
   "metadata": {
    "execution": {
     "iopub.execute_input": "2021-04-25T15:00:50.423498Z",
     "iopub.status.busy": "2021-04-25T15:00:50.422596Z",
     "iopub.status.idle": "2021-04-25T15:00:50.428912Z",
     "shell.execute_reply": "2021-04-25T15:00:50.428134Z"
    },
    "papermill": {
     "duration": 1.396601,
     "end_time": "2021-04-25T15:00:50.429096",
     "exception": false,
     "start_time": "2021-04-25T15:00:49.032495",
     "status": "completed"
    },
    "tags": []
   },
   "outputs": [
    {
     "name": "stdout",
     "output_type": "stream",
     "text": [
      "Model: \"sequential_3\"\n",
      "_________________________________________________________________\n",
      "Layer (type)                 Output Shape              Param #   \n",
      "=================================================================\n",
      "flatten_4 (Flatten)          (None, 784)               0         \n",
      "_________________________________________________________________\n",
      "dense_10 (Dense)             (None, 128)               100480    \n",
      "_________________________________________________________________\n",
      "dense_11 (Dense)             (None, 5)                 645       \n",
      "=================================================================\n",
      "Total params: 101,125\n",
      "Trainable params: 101,125\n",
      "Non-trainable params: 0\n",
      "_________________________________________________________________\n"
     ]
    }
   ],
   "source": [
    "model4.summary()"
   ]
  },
  {
   "cell_type": "code",
   "execution_count": 45,
   "id": "corporate-document",
   "metadata": {
    "execution": {
     "iopub.execute_input": "2021-04-25T15:00:53.331006Z",
     "iopub.status.busy": "2021-04-25T15:00:53.330072Z",
     "iopub.status.idle": "2021-04-25T15:00:53.335732Z",
     "shell.execute_reply": "2021-04-25T15:00:53.335244Z"
    },
    "papermill": {
     "duration": 1.474632,
     "end_time": "2021-04-25T15:00:53.335850",
     "exception": false,
     "start_time": "2021-04-25T15:00:51.861218",
     "status": "completed"
    },
    "tags": []
   },
   "outputs": [],
   "source": [
    "model4.compile(optimizer='adam', loss=\"categorical_crossentropy\", metrics=[\"accuracy\"])"
   ]
  },
  {
   "cell_type": "code",
   "execution_count": 46,
   "id": "linear-export",
   "metadata": {
    "execution": {
     "iopub.execute_input": "2021-04-25T15:00:56.158471Z",
     "iopub.status.busy": "2021-04-25T15:00:56.157273Z",
     "iopub.status.idle": "2021-04-25T15:07:07.304020Z",
     "shell.execute_reply": "2021-04-25T15:07:07.303372Z"
    },
    "papermill": {
     "duration": 372.554841,
     "end_time": "2021-04-25T15:07:07.304174",
     "exception": false,
     "start_time": "2021-04-25T15:00:54.749333",
     "status": "completed"
    },
    "tags": []
   },
   "outputs": [
    {
     "name": "stdout",
     "output_type": "stream",
     "text": [
      "Epoch 1/25\n",
      "375/375 - 16s - loss: 0.9638 - accuracy: 0.5954 - val_loss: 0.7987 - val_accuracy: 0.6725\n",
      "Epoch 2/25\n",
      "375/375 - 14s - loss: 0.7897 - accuracy: 0.6775 - val_loss: 0.7196 - val_accuracy: 0.7055\n",
      "Epoch 3/25\n",
      "375/375 - 14s - loss: 0.7216 - accuracy: 0.7071 - val_loss: 0.6388 - val_accuracy: 0.7412\n",
      "Epoch 4/25\n",
      "375/375 - 16s - loss: 0.6840 - accuracy: 0.7222 - val_loss: 0.6423 - val_accuracy: 0.7298\n",
      "Epoch 5/25\n",
      "375/375 - 15s - loss: 0.6638 - accuracy: 0.7320 - val_loss: 0.6154 - val_accuracy: 0.7467\n",
      "Epoch 6/25\n",
      "375/375 - 15s - loss: 0.6482 - accuracy: 0.7386 - val_loss: 0.5929 - val_accuracy: 0.7587\n",
      "Epoch 7/25\n",
      "375/375 - 15s - loss: 0.6333 - accuracy: 0.7464 - val_loss: 0.5698 - val_accuracy: 0.7782\n",
      "Epoch 8/25\n",
      "375/375 - 14s - loss: 0.6237 - accuracy: 0.7496 - val_loss: 0.5572 - val_accuracy: 0.7822\n",
      "Epoch 9/25\n",
      "375/375 - 15s - loss: 0.6176 - accuracy: 0.7532 - val_loss: 0.5584 - val_accuracy: 0.7762\n",
      "Epoch 10/25\n",
      "375/375 - 16s - loss: 0.6052 - accuracy: 0.7596 - val_loss: 0.5474 - val_accuracy: 0.7922\n",
      "Epoch 11/25\n",
      "375/375 - 14s - loss: 0.5994 - accuracy: 0.7606 - val_loss: 0.5561 - val_accuracy: 0.7858\n",
      "Epoch 12/25\n",
      "375/375 - 14s - loss: 0.5964 - accuracy: 0.7647 - val_loss: 0.5418 - val_accuracy: 0.7867\n",
      "Epoch 13/25\n",
      "375/375 - 16s - loss: 0.5891 - accuracy: 0.7689 - val_loss: 0.5340 - val_accuracy: 0.7970\n",
      "Epoch 14/25\n",
      "375/375 - 14s - loss: 0.5889 - accuracy: 0.7674 - val_loss: 0.5406 - val_accuracy: 0.7975\n",
      "Epoch 15/25\n",
      "375/375 - 14s - loss: 0.5821 - accuracy: 0.7692 - val_loss: 0.5306 - val_accuracy: 0.8012\n",
      "Epoch 16/25\n",
      "375/375 - 15s - loss: 0.5793 - accuracy: 0.7723 - val_loss: 0.5264 - val_accuracy: 0.8040\n",
      "Epoch 17/25\n",
      "375/375 - 15s - loss: 0.5747 - accuracy: 0.7740 - val_loss: 0.5190 - val_accuracy: 0.7977\n",
      "Epoch 18/25\n",
      "375/375 - 14s - loss: 0.5738 - accuracy: 0.7722 - val_loss: 0.5150 - val_accuracy: 0.8073\n",
      "Epoch 19/25\n",
      "375/375 - 16s - loss: 0.5713 - accuracy: 0.7760 - val_loss: 0.5231 - val_accuracy: 0.8017\n",
      "Epoch 20/25\n",
      "375/375 - 14s - loss: 0.5681 - accuracy: 0.7769 - val_loss: 0.5151 - val_accuracy: 0.8018\n",
      "Epoch 21/25\n",
      "375/375 - 14s - loss: 0.5669 - accuracy: 0.7795 - val_loss: 0.5221 - val_accuracy: 0.8042\n",
      "Epoch 22/25\n",
      "375/375 - 16s - loss: 0.5656 - accuracy: 0.7778 - val_loss: 0.5186 - val_accuracy: 0.8080\n",
      "Epoch 23/25\n",
      "375/375 - 14s - loss: 0.5633 - accuracy: 0.7790 - val_loss: 0.5154 - val_accuracy: 0.8068\n",
      "Epoch 24/25\n",
      "375/375 - 15s - loss: 0.5598 - accuracy: 0.7800 - val_loss: 0.5160 - val_accuracy: 0.8077\n",
      "Epoch 25/25\n",
      "375/375 - 16s - loss: 0.5628 - accuracy: 0.7778 - val_loss: 0.5068 - val_accuracy: 0.8067\n",
      "--- 371.143522977829 seconds ---\n"
     ]
    }
   ],
   "source": [
    "start_time = time.time() \n",
    "history4 = model4.fit(datagen.flow(x_train, y_train, batch_size = batch_size), epochs = epochs, \n",
    "                              validation_data = (x_val, y_val), verbose=2, \n",
    "                              steps_per_epoch=x_train.shape[0] // batch_size,\n",
    "                              callbacks = [reduce_lr])\n",
    "print(\"--- %s seconds ---\" % (time.time() - start_time))"
   ]
  },
  {
   "cell_type": "markdown",
   "id": "balanced-fiction",
   "metadata": {
    "papermill": {
     "duration": 1.391288,
     "end_time": "2021-04-25T15:07:10.104975",
     "exception": false,
     "start_time": "2021-04-25T15:07:08.713687",
     "status": "completed"
    },
    "tags": []
   },
   "source": [
    "#### Model 4 Evaluation "
   ]
  },
  {
   "cell_type": "code",
   "execution_count": 47,
   "id": "upset-angle",
   "metadata": {
    "execution": {
     "iopub.execute_input": "2021-04-25T15:07:13.620167Z",
     "iopub.status.busy": "2021-04-25T15:07:13.619244Z",
     "iopub.status.idle": "2021-04-25T15:07:14.050227Z",
     "shell.execute_reply": "2021-04-25T15:07:14.050813Z"
    },
    "papermill": {
     "duration": 2.515469,
     "end_time": "2021-04-25T15:07:14.051028",
     "exception": false,
     "start_time": "2021-04-25T15:07:11.535559",
     "status": "completed"
    },
    "tags": []
   },
   "outputs": [
    {
     "name": "stdout",
     "output_type": "stream",
     "text": [
      "188/188 [==============================] - 0s 2ms/step - loss: 0.5068 - accuracy: 0.8067\n",
      "Loss: 0.5068\n",
      "Accuracy: 0.8067\n",
      "--- 0.428117036819458 seconds ---\n"
     ]
    }
   ],
   "source": [
    "start_time = time.time() \n",
    "score = model4.evaluate(x_val, y_val)\n",
    "\n",
    "print('Loss: {:.4f}'.format(score[0]))\n",
    "print('Accuracy: {:.4f}'.format(score[1]))\n",
    "print(\"--- %s seconds ---\" % (time.time() - start_time))"
   ]
  },
  {
   "cell_type": "markdown",
   "id": "upper-mississippi",
   "metadata": {
    "papermill": {
     "duration": 1.405649,
     "end_time": "2021-04-25T15:07:16.844490",
     "exception": false,
     "start_time": "2021-04-25T15:07:15.438841",
     "status": "completed"
    },
    "tags": []
   },
   "source": [
    "#### Model 4 loss vs no. of epochs"
   ]
  },
  {
   "cell_type": "code",
   "execution_count": 48,
   "id": "played-system",
   "metadata": {
    "execution": {
     "iopub.execute_input": "2021-04-25T15:07:19.648529Z",
     "iopub.status.busy": "2021-04-25T15:07:19.647568Z",
     "iopub.status.idle": "2021-04-25T15:07:19.781062Z",
     "shell.execute_reply": "2021-04-25T15:07:19.780223Z"
    },
    "papermill": {
     "duration": 1.544665,
     "end_time": "2021-04-25T15:07:19.781260",
     "exception": false,
     "start_time": "2021-04-25T15:07:18.236595",
     "status": "completed"
    },
    "tags": []
   },
   "outputs": [
    {
     "data": {
      "image/png": "[encoded data removed]",
      "text/plain": [
       "<Figure size 432x288 with 1 Axes>"
      ]
     },
     "metadata": {
      "needs_background": "light"
     },
     "output_type": "display_data"
    },
    {
     "name": "stdout",
     "output_type": "stream",
     "text": [
      "--- 0.1468501091003418 seconds ---\n"
     ]
    }
   ],
   "source": [
    "start_time = time.time() \n",
    "plt.plot(history4.history['loss'])\n",
    "plt.plot(history4.history['val_loss'])\n",
    "plt.title(\"Model 4 Loss\")\n",
    "plt.xlabel('Epochs')\n",
    "plt.ylabel('Loss')\n",
    "plt.legend(['Train', 'Validation'])\n",
    "plt.show()\n",
    "print(\"--- %s seconds ---\" % (time.time() - start_time))"
   ]
  },
  {
   "cell_type": "markdown",
   "id": "least-intellectual",
   "metadata": {
    "papermill": {
     "duration": 1.401272,
     "end_time": "2021-04-25T15:07:22.625160",
     "exception": false,
     "start_time": "2021-04-25T15:07:21.223888",
     "status": "completed"
    },
    "tags": []
   },
   "source": [
    "#### Model 4 Accuracy vs no. of epochs"
   ]
  },
  {
   "cell_type": "code",
   "execution_count": 49,
   "id": "efficient-thompson",
   "metadata": {
    "execution": {
     "iopub.execute_input": "2021-04-25T15:07:25.741883Z",
     "iopub.status.busy": "2021-04-25T15:07:25.711618Z",
     "iopub.status.idle": "2021-04-25T15:07:25.846859Z",
     "shell.execute_reply": "2021-04-25T15:07:25.847765Z"
    },
    "papermill": {
     "duration": 1.806593,
     "end_time": "2021-04-25T15:07:25.847933",
     "exception": false,
     "start_time": "2021-04-25T15:07:24.041340",
     "status": "completed"
    },
    "tags": []
   },
   "outputs": [
    {
     "data": {
      "image/png": "[encoded data removed]",
      "text/plain": [
       "<Figure size 432x288 with 1 Axes>"
      ]
     },
     "metadata": {
      "needs_background": "light"
     },
     "output_type": "display_data"
    },
    {
     "name": "stdout",
     "output_type": "stream",
     "text": [
      "--- 0.1431427001953125 seconds ---\n"
     ]
    }
   ],
   "source": [
    "start_time = time.time() \n",
    "plt.plot(history4.history['accuracy'])\n",
    "plt.plot(history4.history['val_accuracy'])\n",
    "plt.title(\"Model 4 Accuracy\")\n",
    "plt.xlabel('Epochs')\n",
    "plt.ylabel('Accuracy')\n",
    "plt.legend(['Train', 'Validation'])\n",
    "plt.show()\n",
    "print(\"--- %s seconds ---\" % (time.time() - start_time))"
   ]
  },
  {
   "cell_type": "markdown",
   "id": "binding-cross",
   "metadata": {
    "papermill": {
     "duration": 1.45802,
     "end_time": "2021-04-25T15:07:28.702825",
     "exception": false,
     "start_time": "2021-04-25T15:07:27.244805",
     "status": "completed"
    },
    "tags": []
   },
   "source": [
    "## 6.9 Model 1 (CNN) v/s Model 4 (Simple Neural Network)\n",
    "\n",
    "#### Loss v/s no. of epochs"
   ]
  },
  {
   "cell_type": "code",
   "execution_count": 50,
   "id": "standard-comment",
   "metadata": {
    "execution": {
     "iopub.execute_input": "2021-04-25T15:07:31.602595Z",
     "iopub.status.busy": "2021-04-25T15:07:31.574052Z",
     "iopub.status.idle": "2021-04-25T15:07:31.729268Z",
     "shell.execute_reply": "2021-04-25T15:07:31.729909Z"
    },
    "papermill": {
     "duration": 1.607241,
     "end_time": "2021-04-25T15:07:31.730131",
     "exception": false,
     "start_time": "2021-04-25T15:07:30.122890",
     "status": "completed"
    },
    "tags": []
   },
   "outputs": [
    {
     "data": {
      "image/png": "[encoded data removed]",
      "text/plain": [
       "<Figure size 432x288 with 1 Axes>"
      ]
     },
     "metadata": {
      "needs_background": "light"
     },
     "output_type": "display_data"
    },
    {
     "name": "stdout",
     "output_type": "stream",
     "text": [
      "--- 0.17621469497680664 seconds ---\n"
     ]
    }
   ],
   "source": [
    "start_time = time.time() \n",
    "plt.plot(history.history['loss'])\n",
    "plt.plot(history.history['val_loss'])\n",
    "plt.plot(history4.history['loss'])\n",
    "plt.plot(history4.history['val_loss'])\n",
    "plt.title(\"Model Loss\")\n",
    "plt.xlabel('Epochs')\n",
    "plt.ylabel('Loss')\n",
    "plt.legend(['CNN Train', 'CNN Validation', 'Model4 Train', 'Model4 Validation'])\n",
    "plt.show()\n",
    "print(\"--- %s seconds ---\" % (time.time() - start_time))"
   ]
  },
  {
   "cell_type": "markdown",
   "id": "dependent-northeast",
   "metadata": {
    "papermill": {
     "duration": 1.508922,
     "end_time": "2021-04-25T15:07:34.681496",
     "exception": false,
     "start_time": "2021-04-25T15:07:33.172574",
     "status": "completed"
    },
    "tags": []
   },
   "source": [
    "#### Accuracy v/s no. of epochs"
   ]
  },
  {
   "cell_type": "code",
   "execution_count": 51,
   "id": "protective-sarah",
   "metadata": {
    "execution": {
     "iopub.execute_input": "2021-04-25T15:07:37.930621Z",
     "iopub.status.busy": "2021-04-25T15:07:37.929613Z",
     "iopub.status.idle": "2021-04-25T15:07:38.097244Z",
     "shell.execute_reply": "2021-04-25T15:07:38.096468Z"
    },
    "papermill": {
     "duration": 1.656316,
     "end_time": "2021-04-25T15:07:38.097448",
     "exception": false,
     "start_time": "2021-04-25T15:07:36.441132",
     "status": "completed"
    },
    "tags": []
   },
   "outputs": [
    {
     "data": {
      "image/png": "[encoded data removed]",
      "text/plain": [
       "<Figure size 432x288 with 1 Axes>"
      ]
     },
     "metadata": {
      "needs_background": "light"
     },
     "output_type": "display_data"
    },
    {
     "name": "stdout",
     "output_type": "stream",
     "text": [
      "--- 0.17795944213867188 seconds ---\n"
     ]
    }
   ],
   "source": [
    "start_time = time.time() \n",
    "plt.plot(history.history['accuracy'])\n",
    "plt.plot(history.history['val_accuracy'])\n",
    "plt.plot(history4.history['accuracy'])\n",
    "plt.plot(history4.history['val_accuracy'])\n",
    "plt.title(\"Model Loss\")\n",
    "plt.xlabel('Epochs')\n",
    "plt.ylabel('Loss')\n",
    "plt.legend(['CNN Train', 'CNN Validation', 'Model4 Train', 'Model4 Validation'])\n",
    "plt.show()\n",
    "print(\"--- %s seconds ---\" % (time.time() - start_time))"
   ]
  },
  {
   "cell_type": "markdown",
   "id": "serious-inspection",
   "metadata": {
    "papermill": {
     "duration": 1.38556,
     "end_time": "2021-04-25T15:07:40.934374",
     "exception": false,
     "start_time": "2021-04-25T15:07:39.548814",
     "status": "completed"
    },
    "tags": []
   },
   "source": [
    "## 6.10 Model 2 (Resnet) v/s Model 4 (Simple Neural Network)"
   ]
  },
  {
   "cell_type": "markdown",
   "id": "caring-omega",
   "metadata": {
    "papermill": {
     "duration": 1.477683,
     "end_time": "2021-04-25T15:07:43.824354",
     "exception": false,
     "start_time": "2021-04-25T15:07:42.346671",
     "status": "completed"
    },
    "tags": []
   },
   "source": [
    "#### Loss v/s no. of epochs"
   ]
  },
  {
   "cell_type": "code",
   "execution_count": 52,
   "id": "banned-steps",
   "metadata": {
    "execution": {
     "iopub.execute_input": "2021-04-25T15:07:47.410067Z",
     "iopub.status.busy": "2021-04-25T15:07:47.387751Z",
     "iopub.status.idle": "2021-04-25T15:07:47.527265Z",
     "shell.execute_reply": "2021-04-25T15:07:47.527888Z"
    },
    "papermill": {
     "duration": 1.849164,
     "end_time": "2021-04-25T15:07:47.528096",
     "exception": false,
     "start_time": "2021-04-25T15:07:45.678932",
     "status": "completed"
    },
    "tags": []
   },
   "outputs": [
    {
     "data": {
      "image/png": "[encoded data removed]",
      "text/plain": [
       "<Figure size 432x288 with 1 Axes>"
      ]
     },
     "metadata": {
      "needs_background": "light"
     },
     "output_type": "display_data"
    },
    {
     "name": "stdout",
     "output_type": "stream",
     "text": [
      "--- 0.16688895225524902 seconds ---\n"
     ]
    }
   ],
   "source": [
    "start_time = time.time() \n",
    "plt.plot(history2.history['loss'])\n",
    "plt.plot(history2.history['val_loss'])\n",
    "plt.plot(history4.history['loss'])\n",
    "plt.plot(history4.history['val_loss'])\n",
    "plt.title(\"Model Loss\")\n",
    "plt.xlabel('Epochs')\n",
    "plt.ylabel('Loss')\n",
    "plt.legend(['Resnet Train', 'Resnet Validation', 'Model4 Train', 'Model4 Validation'])\n",
    "plt.show()\n",
    "print(\"--- %s seconds ---\" % (time.time() - start_time))"
   ]
  },
  {
   "cell_type": "markdown",
   "id": "pacific-front",
   "metadata": {
    "papermill": {
     "duration": 1.380052,
     "end_time": "2021-04-25T15:07:50.299202",
     "exception": false,
     "start_time": "2021-04-25T15:07:48.919150",
     "status": "completed"
    },
    "tags": []
   },
   "source": [
    "#### Accuracy v/s no. of epochs"
   ]
  },
  {
   "cell_type": "code",
   "execution_count": 53,
   "id": "incomplete-laugh",
   "metadata": {
    "execution": {
     "iopub.execute_input": "2021-04-25T15:07:53.221449Z",
     "iopub.status.busy": "2021-04-25T15:07:53.196579Z",
     "iopub.status.idle": "2021-04-25T15:07:53.361398Z",
     "shell.execute_reply": "2021-04-25T15:07:53.360896Z"
    },
    "papermill": {
     "duration": 1.633127,
     "end_time": "2021-04-25T15:07:53.361519",
     "exception": false,
     "start_time": "2021-04-25T15:07:51.728392",
     "status": "completed"
    },
    "tags": []
   },
   "outputs": [
    {
     "data": {
      "image/png": "[encoded data removed]",
      "text/plain": [
       "<Figure size 432x288 with 1 Axes>"
      ]
     },
     "metadata": {
      "needs_background": "light"
     },
     "output_type": "display_data"
    },
    {
     "name": "stdout",
     "output_type": "stream",
     "text": [
      "--- 0.19057846069335938 seconds ---\n"
     ]
    }
   ],
   "source": [
    "start_time = time.time() \n",
    "plt.plot(history2.history['accuracy'])\n",
    "plt.plot(history2.history['val_accuracy'])\n",
    "plt.plot(history4.history['accuracy'])\n",
    "plt.plot(history4.history['val_accuracy'])\n",
    "plt.title(\"Model Accuracy\")\n",
    "plt.xlabel('Epochs')\n",
    "plt.ylabel('Accuracy')\n",
    "plt.legend(['Resnet Train', 'Resnet Validation', 'Model4 Train', 'Model4 Validation'])\n",
    "plt.show()\n",
    "print(\"--- %s seconds ---\" % (time.time() - start_time))"
   ]
  },
  {
   "cell_type": "markdown",
   "id": "loaded-chain",
   "metadata": {
    "papermill": {
     "duration": 1.403455,
     "end_time": "2021-04-25T15:07:56.150249",
     "exception": false,
     "start_time": "2021-04-25T15:07:54.746794",
     "status": "completed"
    },
    "tags": []
   },
   "source": [
    "## 6.11 Model 1, Model 2 v/s Model 4 :\n",
    "\n",
    "#### Loss v/s no. of epochs"
   ]
  },
  {
   "cell_type": "code",
   "execution_count": 54,
   "id": "closing-rachel",
   "metadata": {
    "execution": {
     "iopub.execute_input": "2021-04-25T15:07:59.368715Z",
     "iopub.status.busy": "2021-04-25T15:07:59.367433Z",
     "iopub.status.idle": "2021-04-25T15:07:59.536928Z",
     "shell.execute_reply": "2021-04-25T15:07:59.536174Z"
    },
    "papermill": {
     "duration": 1.646844,
     "end_time": "2021-04-25T15:07:59.537109",
     "exception": false,
     "start_time": "2021-04-25T15:07:57.890265",
     "status": "completed"
    },
    "tags": []
   },
   "outputs": [
    {
     "data": {
      "image/png": "[encoded data removed]",
      "text/plain": [
       "<Figure size 432x288 with 1 Axes>"
      ]
     },
     "metadata": {
      "needs_background": "light"
     },
     "output_type": "display_data"
    },
    {
     "name": "stdout",
     "output_type": "stream",
     "text": [
      "--- 0.18545961380004883 seconds ---\n"
     ]
    }
   ],
   "source": [
    "start_time = time.time()\n",
    "plt.plot(history.history['loss'])\n",
    "plt.plot(history.history['val_loss'])\n",
    "plt.plot(history2.history['loss'])\n",
    "plt.plot(history2.history['val_loss'])\n",
    "plt.plot(history4.history['loss'])\n",
    "plt.plot(history4.history['val_loss'])\n",
    "plt.title(\"Model Loss\")\n",
    "plt.xlabel('Epochs')\n",
    "plt.ylabel('Loss')\n",
    "plt.legend(['Model 1 Train', 'Model1 Validation', 'Model2 Train', 'Model2 Validation', 'Model4 Train', 'Model4 Validation'])\n",
    "plt.show()\n",
    "print(\"--- %s seconds ---\" % (time.time() - start_time))"
   ]
  },
  {
   "cell_type": "markdown",
   "id": "mature-tackle",
   "metadata": {
    "papermill": {
     "duration": 1.471257,
     "end_time": "2021-04-25T15:08:02.485751",
     "exception": false,
     "start_time": "2021-04-25T15:08:01.014494",
     "status": "completed"
    },
    "tags": []
   },
   "source": [
    "#### Accuracy v/s no. of epochs"
   ]
  },
  {
   "cell_type": "code",
   "execution_count": 55,
   "id": "dirty-provider",
   "metadata": {
    "execution": {
     "iopub.execute_input": "2021-04-25T15:08:05.340449Z",
     "iopub.status.busy": "2021-04-25T15:08:05.339490Z",
     "iopub.status.idle": "2021-04-25T15:08:05.524833Z",
     "shell.execute_reply": "2021-04-25T15:08:05.525485Z"
    },
    "papermill": {
     "duration": 1.628613,
     "end_time": "2021-04-25T15:08:05.525700",
     "exception": false,
     "start_time": "2021-04-25T15:08:03.897087",
     "status": "completed"
    },
    "tags": []
   },
   "outputs": [
    {
     "data": {
      "image/png": "[encoded data removed]",
      "text/plain": [
       "<Figure size 432x288 with 1 Axes>"
      ]
     },
     "metadata": {
      "needs_background": "light"
     },
     "output_type": "display_data"
    },
    {
     "name": "stdout",
     "output_type": "stream",
     "text": [
      "--- 0.195587158203125 seconds ---\n"
     ]
    }
   ],
   "source": [
    "start_time = time.time() \n",
    "plt.plot(history.history['accuracy'])\n",
    "plt.plot(history.history['val_accuracy'])\n",
    "plt.plot(history2.history['accuracy'])\n",
    "plt.plot(history2.history['val_accuracy'])\n",
    "plt.plot(history4.history['accuracy'])\n",
    "plt.plot(history4.history['val_accuracy'])\n",
    "plt.title(\"Model Accuracy\")\n",
    "plt.xlabel('Epochs')\n",
    "plt.ylabel('Accuracy')\n",
    "plt.legend(['Model 1 Train', 'Model1 Validation', 'Model2 Train', 'Model2 Validation', 'Model4 Train', 'Model4 Validation'])\n",
    "plt.show()\n",
    "print(\"--- %s seconds ---\" % (time.time() - start_time))"
   ]
  },
  {
   "cell_type": "markdown",
   "id": "behind-cooperative",
   "metadata": {
    "papermill": {
     "duration": 1.66854,
     "end_time": "2021-04-25T15:08:08.679401",
     "exception": false,
     "start_time": "2021-04-25T15:08:07.010861",
     "status": "completed"
    },
    "tags": []
   },
   "source": [
    "## 6.12 Other Performance Matrix"
   ]
  },
  {
   "cell_type": "markdown",
   "id": "single-context",
   "metadata": {
    "papermill": {
     "duration": 1.387915,
     "end_time": "2021-04-25T15:08:11.507106",
     "exception": false,
     "start_time": "2021-04-25T15:08:10.119191",
     "status": "completed"
    },
    "tags": []
   },
   "source": [
    "### 1. Confusion Matrix for each model :\n",
    "- A confusion matrix is a technique for summarizing the performance of a classification algorithm.\n",
    "- The matrix compares the actual target values with those predicted by the model."
   ]
  },
  {
   "cell_type": "code",
   "execution_count": 56,
   "id": "standing-stuart",
   "metadata": {
    "execution": {
     "iopub.execute_input": "2021-04-25T15:08:14.359135Z",
     "iopub.status.busy": "2021-04-25T15:08:14.358344Z",
     "iopub.status.idle": "2021-04-25T15:08:14.361316Z",
     "shell.execute_reply": "2021-04-25T15:08:14.360852Z"
    },
    "papermill": {
     "duration": 1.446937,
     "end_time": "2021-04-25T15:08:14.361444",
     "exception": false,
     "start_time": "2021-04-25T15:08:12.914507",
     "status": "completed"
    },
    "tags": []
   },
   "outputs": [],
   "source": [
    "def plot_confusion_matrix(cm, classes,\n",
    "                          normalize=False,\n",
    "                          title='Confusion matrix',\n",
    "                          cmap=plt.cm.Blues):\n",
    "    \n",
    "    plt.imshow(cm, interpolation='nearest', cmap=cmap)\n",
    "    plt.title(title)\n",
    "    plt.colorbar()\n",
    "    tick_marks = np.arange(len(classes))\n",
    "    plt.xticks(tick_marks, classes, rotation=90)\n",
    "    plt.yticks(tick_marks, classes)\n",
    "\n",
    "    if normalize:\n",
    "        cm = cm.astype('float') / cm.sum(axis=1)[:, np.newaxis]\n",
    "\n",
    "    thresh = cm.max() / 2.\n",
    "    for i, j in itertools.product(range(cm.shape[0]), range(cm.shape[1])):\n",
    "        plt.text(j, i, cm[i, j],\n",
    "                 horizontalalignment=\"center\",\n",
    "                 color=\"white\" if cm[i, j] > thresh else \"black\")\n",
    "\n",
    "    plt.tight_layout()\n",
    "    plt.ylabel('True label')\n",
    "    plt.xlabel('Predicted label')"
   ]
  },
  {
   "cell_type": "markdown",
   "id": "enhanced-columbus",
   "metadata": {
    "papermill": {
     "duration": 1.77488,
     "end_time": "2021-04-25T15:08:17.667895",
     "exception": false,
     "start_time": "2021-04-25T15:08:15.893015",
     "status": "completed"
    },
    "tags": []
   },
   "source": [
    "#### Model 1:"
   ]
  },
  {
   "cell_type": "code",
   "execution_count": 57,
   "id": "ordinary-depth",
   "metadata": {
    "execution": {
     "iopub.execute_input": "2021-04-25T15:08:20.771103Z",
     "iopub.status.busy": "2021-04-25T15:08:20.770339Z",
     "iopub.status.idle": "2021-04-25T15:08:21.517284Z",
     "shell.execute_reply": "2021-04-25T15:08:21.516808Z"
    },
    "papermill": {
     "duration": 2.439885,
     "end_time": "2021-04-25T15:08:21.517425",
     "exception": false,
     "start_time": "2021-04-25T15:08:19.077540",
     "status": "completed"
    },
    "tags": []
   },
   "outputs": [
    {
     "data": {
      "image/png": "[encoded data removed]",
      "text/plain": [
       "<Figure size 432x288 with 2 Axes>"
      ]
     },
     "metadata": {
      "needs_background": "light"
     },
     "output_type": "display_data"
    }
   ],
   "source": [
    "# Predict the values from the validation dataset\n",
    "Y_pred = model.predict(x_test)\n",
    "# Convert predictions classes to one hot vectors \n",
    "Y_pred_classes1 = np.argmax(Y_pred,axis = 1) \n",
    "# Convert validation observations to one hot vectors\n",
    "Y_true = np.argmax(y_test,axis = 1) \n",
    "# compute the confusion matrix\n",
    "confusion_mtx = confusion_matrix(Y_true, Y_pred_classes1) \n",
    "# plot the confusion matrix\n",
    "plot_confusion_matrix(confusion_mtx, \n",
    "            classes = ['1','2','3','4','5'])"
   ]
  },
  {
   "cell_type": "markdown",
   "id": "aerial-pastor",
   "metadata": {
    "papermill": {
     "duration": 1.412383,
     "end_time": "2021-04-25T15:08:24.375531",
     "exception": false,
     "start_time": "2021-04-25T15:08:22.963148",
     "status": "completed"
    },
    "tags": []
   },
   "source": [
    "#### Model 2:"
   ]
  },
  {
   "cell_type": "code",
   "execution_count": 58,
   "id": "manufactured-calvin",
   "metadata": {
    "execution": {
     "iopub.execute_input": "2021-04-25T15:08:27.230458Z",
     "iopub.status.busy": "2021-04-25T15:08:27.229260Z",
     "iopub.status.idle": "2021-04-25T15:08:28.893198Z",
     "shell.execute_reply": "2021-04-25T15:08:28.892326Z"
    },
    "papermill": {
     "duration": 3.095183,
     "end_time": "2021-04-25T15:08:28.893345",
     "exception": false,
     "start_time": "2021-04-25T15:08:25.798162",
     "status": "completed"
    },
    "tags": []
   },
   "outputs": [
    {
     "data": {
      "image/png": "[encoded data removed]",
      "text/plain": [
       "<Figure size 432x288 with 2 Axes>"
      ]
     },
     "metadata": {
      "needs_background": "light"
     },
     "output_type": "display_data"
    }
   ],
   "source": [
    "# Predict the values from the validation dataset\n",
    "Y_pred = resmodel.predict(x_test)\n",
    "# Convert predictions classes to one hot vectors \n",
    "Y_pred_classes2 = np.argmax(Y_pred,axis = 1) \n",
    "# Convert validation observations to one hot vectors\n",
    "Y_true = np.argmax(y_test,axis = 1) \n",
    "# compute the confusion matrix\n",
    "confusion_mtx = confusion_matrix(Y_true, Y_pred_classes2) \n",
    "# plot the confusion matrix\n",
    "plot_confusion_matrix(confusion_mtx, \n",
    "            classes = ['1','2','3','4','5'])"
   ]
  },
  {
   "cell_type": "markdown",
   "id": "hispanic-milwaukee",
   "metadata": {
    "papermill": {
     "duration": 1.514449,
     "end_time": "2021-04-25T15:08:32.029237",
     "exception": false,
     "start_time": "2021-04-25T15:08:30.514788",
     "status": "completed"
    },
    "tags": []
   },
   "source": [
    "#### Model 4:"
   ]
  },
  {
   "cell_type": "code",
   "execution_count": 59,
   "id": "resistant-shuttle",
   "metadata": {
    "execution": {
     "iopub.execute_input": "2021-04-25T15:08:34.854400Z",
     "iopub.status.busy": "2021-04-25T15:08:34.853346Z",
     "iopub.status.idle": "2021-04-25T15:08:35.342883Z",
     "shell.execute_reply": "2021-04-25T15:08:35.341986Z"
    },
    "papermill": {
     "duration": 1.897982,
     "end_time": "2021-04-25T15:08:35.343029",
     "exception": false,
     "start_time": "2021-04-25T15:08:33.445047",
     "status": "completed"
    },
    "tags": []
   },
   "outputs": [
    {
     "data": {
      "image/png": "[encoded data removed]",
      "text/plain": [
       "<Figure size 432x288 with 2 Axes>"
      ]
     },
     "metadata": {
      "needs_background": "light"
     },
     "output_type": "display_data"
    }
   ],
   "source": [
    "# Predict the values from the validation dataset\n",
    "Y_pred = model4.predict(x_test)\n",
    "# Convert predictions classes to one hot vectors \n",
    "Y_pred_classes4 = np.argmax(Y_pred,axis = 1) \n",
    "# Convert validation observations to one hot vectors\n",
    "Y_true = np.argmax(y_test,axis = 1) \n",
    "# compute the confusion matrix\n",
    "confusion_mtx = confusion_matrix(Y_true, Y_pred_classes4) \n",
    "# plot the confusion matrix\n",
    "plot_confusion_matrix(confusion_mtx, \n",
    "            classes = ['1','2','3','4','5'])"
   ]
  },
  {
   "cell_type": "markdown",
   "id": "fewer-character",
   "metadata": {
    "papermill": {
     "duration": 1.391649,
     "end_time": "2021-04-25T15:08:38.129104",
     "exception": false,
     "start_time": "2021-04-25T15:08:36.737455",
     "status": "completed"
    },
    "tags": []
   },
   "source": [
    "### 2. Classification Report : "
   ]
  },
  {
   "cell_type": "markdown",
   "id": "played-devon",
   "metadata": {
    "papermill": {
     "duration": 1.390757,
     "end_time": "2021-04-25T15:08:40.964927",
     "exception": false,
     "start_time": "2021-04-25T15:08:39.574170",
     "status": "completed"
    },
    "tags": []
   },
   "source": [
    "The classification report visualizer displays the precision, recall, F1, and support scores for the model.\n",
    "\n",
    "1. Precision :\n",
    "    - Precision is the ability of a classiifer not to label an instance positive that is actually negative. \n",
    "    - Basically, it is defined as as the ratio of true positives to the sum of true and false positives. “For all instances classified positive, what percent was correct?”\n",
    "\n",
    "2. Recall :\n",
    "\n",
    "    - Recall is the ability of a classifier to find all positive instances. \n",
    "    - For each class it is defined as the ratio of true positives to the sum of true positives and false negatives. “For all instances that were actually positive, what percent was classified correctly?”\n",
    "\n",
    "3. F1 Score:\n",
    "\n",
    "    - The F1 score is a weighted harmonic mean of precision and recall such that the best score is 1.0 and the worst is 0.0 . \n",
    "    - Generally speaking, F1 scores are lower than accuracy measures as they embed precision and recall into their computation.\n",
    "\n",
    "4. Supprt :\n",
    "\n",
    "    - Support is the number of actual occurrences of the class in the specified dataset. \n",
    "    - Imbalanced support in the training data may indicate structural weaknesses in the reported scores of the classifier and could indicate the need for stratified sampling or rebalancing."
   ]
  },
  {
   "cell_type": "code",
   "execution_count": 60,
   "id": "appropriate-wayne",
   "metadata": {
    "execution": {
     "iopub.execute_input": "2021-04-25T15:08:44.038684Z",
     "iopub.status.busy": "2021-04-25T15:08:44.037783Z",
     "iopub.status.idle": "2021-04-25T15:08:44.055982Z",
     "shell.execute_reply": "2021-04-25T15:08:44.056428Z"
    },
    "papermill": {
     "duration": 1.424206,
     "end_time": "2021-04-25T15:08:44.056570",
     "exception": false,
     "start_time": "2021-04-25T15:08:42.632364",
     "status": "completed"
    },
    "tags": []
   },
   "outputs": [
    {
     "name": "stdout",
     "output_type": "stream",
     "text": [
      "              precision    recall  f1-score   support\n",
      "\n",
      "           1       0.94      0.86      0.90      1221\n",
      "           2       0.86      0.78      0.82      1197\n",
      "           3       0.78      0.82      0.80      1203\n",
      "           4       0.85      0.91      0.88      1225\n",
      "           5       0.92      0.98      0.95      1154\n",
      "\n",
      "    accuracy                           0.87      6000\n",
      "   macro avg       0.87      0.87      0.87      6000\n",
      "weighted avg       0.87      0.87      0.87      6000\n",
      "\n"
     ]
    }
   ],
   "source": [
    "classes = ['1','2','3','4','5']\n",
    "print(classification_report(Y_true, Y_pred_classes1, target_names = classes,zero_division=1))"
   ]
  },
  {
   "cell_type": "markdown",
   "id": "extraordinary-reference",
   "metadata": {
    "papermill": {
     "duration": 1.406846,
     "end_time": "2021-04-25T15:08:46.916129",
     "exception": false,
     "start_time": "2021-04-25T15:08:45.509283",
     "status": "completed"
    },
    "tags": []
   },
   "source": [
    "## 6.12 Predicting on the Test Data ( Whichever model gives best accuracy on train and validation data )"
   ]
  },
  {
   "cell_type": "code",
   "execution_count": 61,
   "id": "internal-enlargement",
   "metadata": {
    "execution": {
     "iopub.execute_input": "2021-04-25T15:08:50.211618Z",
     "iopub.status.busy": "2021-04-25T15:08:50.210432Z",
     "iopub.status.idle": "2021-04-25T15:08:50.837988Z",
     "shell.execute_reply": "2021-04-25T15:08:50.837461Z"
    },
    "papermill": {
     "duration": 2.087132,
     "end_time": "2021-04-25T15:08:50.838125",
     "exception": false,
     "start_time": "2021-04-25T15:08:48.750993",
     "status": "completed"
    },
    "tags": []
   },
   "outputs": [
    {
     "name": "stdout",
     "output_type": "stream",
     "text": [
      "188/188 [==============================] - 1s 3ms/step - loss: 0.3076 - accuracy: 0.8697\n",
      "Loss: 0.3076\n",
      "Accuracy: 0.8697\n"
     ]
    }
   ],
   "source": [
    "test_score = model.evaluate(x_test, y_test)\n",
    "#test_score_resnet = resmodel.evaluate(x_test, y_test) # For Resnet model ( Model 2)\n",
    "#test_score_simple = model4.evaluate(x_test, y_test) # For Simple Neural network ( Model 4)\n",
    "print(\"Loss: {:.4f}\".format(test_score[0]))\n",
    "print(\"Accuracy: {:.4f}\".format(test_score[1]))"
   ]
  },
  {
   "cell_type": "markdown",
   "id": "palestinian-exclusive",
   "metadata": {},
   "source": [
    "### Reference Links for Fashion MNIST :\n",
    "\n",
    "- https://www.kaggle.com/fuzzywizard/fashion-mnist-cnn-keras-accuracy-93\n",
    "- https://www.kaggle.com/girishgupta/fashion-mnist-using-resnet/data\n",
    "- https://cv-tricks.com/keras/understand-implement-resnets/\n",
    "- https://machinelearningmastery.com/adam-optimization-algorithm-for-deep-learning/\n"
   ]
  }
 ],
 "metadata": {
  "kernelspec": {
   "display_name": "Python 3",
   "language": "python",
   "name": "python3"
  },
  "language_info": {
   "codemirror_mode": {
    "name": "ipython",
    "version": 3
   },
   "file_extension": ".py",
   "mimetype": "text/x-python",
   "name": "python",
   "nbconvert_exporter": "python",
   "pygments_lexer": "ipython3",
   "version": "3.9.1"
  },
  "papermill": {
   "default_parameters": {},
   "duration": 3289.796604,
   "end_time": "2021-04-25T15:08:55.368881",
   "environment_variables": {},
   "exception": null,
   "input_path": "__notebook__.ipynb",
   "output_path": "__notebook__.ipynb",
   "parameters": {},
   "start_time": "2021-04-25T14:14:05.572277",
   "version": "2.3.2"
  }
 },
 "nbformat": 4,
 "nbformat_minor": 5
}
